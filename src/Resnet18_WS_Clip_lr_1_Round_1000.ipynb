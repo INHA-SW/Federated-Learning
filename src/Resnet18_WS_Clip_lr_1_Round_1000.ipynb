{
 "cells": [
  {
   "cell_type": "code",
   "execution_count": 1,
   "id": "multiple-closer",
   "metadata": {},
   "outputs": [],
   "source": [
    "import os\n",
    "import copy\n",
    "import time\n",
    "import pickle\n",
    "import numpy as np\n",
    "import easydict\n",
    "from tqdm import tqdm\n",
    "\n",
    "import torch\n",
    "from tensorboardX import SummaryWriter\n",
    "\n",
    "from options import args_parser\n",
    "from update import LocalUpdate, test_inference\n",
    "from models import MLP, CNNMnist, CNNFashion_Mnist, CNNCifar, CNNCifar_fedVC, CNNCifar_VCBN, CNNCifar_VCGN, CNNCifar_WS\n",
    "from utils import get_dataset, average_weights, exp_details, get_logger, check_norm\n",
    "from fed_cifar100 import load_partition_data_federated_cifar100\n",
    "from resnet_gn import resnet18\n",
    "from resnet import ResNet32_test\n",
    "from vgg import vgg11_bn, vgg11\n",
    "import random\n",
    "import logging\n",
    "import datetime\n",
    "from test import *\n"
   ]
  },
  {
   "cell_type": "code",
   "execution_count": 2,
   "id": "worse-guyana",
   "metadata": {
    "scrolled": true
   },
   "outputs": [
    {
     "name": "stderr",
     "output_type": "stream",
     "text": [
      "03/05 05:16:56 PM | {'model': 'resnet18_ws', 'dataset': 'cifar100', 'gpu': 0, 'iid': 2, 'epochs': 1000, 'optimizer': 'clip', 'seed': 0, 'norm': 'group_norm', 'num_users': 500, 'frac': 0.1, 'local_ep': 1, 'local_bs': 20, 'lr': 1, 'momentum': 0.9, 'kernel_num': 9, 'kernel_sizes': '3,4,5', 'num_channnels': '1', 'num_filters': 32, 'max_pool': 'True', 'num_classes': 100, 'unequal': 0, 'stopping_rounds': 10, 'verbose': 0, 'hold_normalize': 0}\n",
      "INFO:gal:{'model': 'resnet18_ws', 'dataset': 'cifar100', 'gpu': 0, 'iid': 2, 'epochs': 1000, 'optimizer': 'clip', 'seed': 0, 'norm': 'group_norm', 'num_users': 500, 'frac': 0.1, 'local_ep': 1, 'local_bs': 20, 'lr': 1, 'momentum': 0.9, 'kernel_num': 9, 'kernel_sizes': '3,4,5', 'num_channnels': '1', 'num_filters': 32, 'max_pool': 'True', 'num_classes': 100, 'unequal': 0, 'stopping_rounds': 10, 'verbose': 0, 'hold_normalize': 0}\n"
     ]
    },
    {
     "name": "stdout",
     "output_type": "stream",
     "text": [
      "{'model': 'resnet18_ws', 'dataset': 'cifar100', 'gpu': 0, 'iid': 2, 'epochs': 1000, 'optimizer': 'clip', 'seed': 0, 'norm': 'group_norm', 'num_users': 500, 'frac': 0.1, 'local_ep': 1, 'local_bs': 20, 'lr': 1, 'momentum': 0.9, 'kernel_num': 9, 'kernel_sizes': '3,4,5', 'num_channnels': '1', 'num_filters': 32, 'max_pool': 'True', 'num_classes': 100, 'unequal': 0, 'stopping_rounds': 10, 'verbose': 0, 'hold_normalize': 0}\n"
     ]
    },
    {
     "name": "stderr",
     "output_type": "stream",
     "text": [
      "03/05 05:17:23 PM | ResNet(\n",
      "  (conv1): Conv2d_stand(3, 64, kernel_size=(7, 7), stride=(2, 2), padding=(3, 3), bias=False)\n",
      "  (bn1): GroupNorm2d(2, eps=1e-05, momentum=0.1, affine=True, track_running_stats=False)\n",
      "  (relu): ReLU(inplace=True)\n",
      "  (maxpool): MaxPool2d(kernel_size=3, stride=2, padding=1, dilation=1, ceil_mode=False)\n",
      "  (layer1): Sequential(\n",
      "    (0): BasicBlock(\n",
      "      (conv1): Conv2d_stand(64, 64, kernel_size=(3, 3), stride=(1, 1), padding=(1, 1), bias=False)\n",
      "      (conv2): Conv2d_stand(64, 64, kernel_size=(3, 3), stride=(1, 1), padding=(1, 1), bias=False)\n",
      "      (bn1): GroupNorm2d(2, eps=1e-05, momentum=0.1, affine=True, track_running_stats=False)\n",
      "      (relu): ReLU(inplace=True)\n",
      "      (bn2): GroupNorm2d(2, eps=1e-05, momentum=0.1, affine=True, track_running_stats=False)\n",
      "    )\n",
      "    (1): BasicBlock(\n",
      "      (conv1): Conv2d_stand(64, 64, kernel_size=(3, 3), stride=(1, 1), padding=(1, 1), bias=False)\n",
      "      (conv2): Conv2d_stand(64, 64, kernel_size=(3, 3), stride=(1, 1), padding=(1, 1), bias=False)\n",
      "      (bn1): GroupNorm2d(2, eps=1e-05, momentum=0.1, affine=True, track_running_stats=False)\n",
      "      (relu): ReLU(inplace=True)\n",
      "      (bn2): GroupNorm2d(2, eps=1e-05, momentum=0.1, affine=True, track_running_stats=False)\n",
      "    )\n",
      "  )\n",
      "  (layer2): Sequential(\n",
      "    (0): BasicBlock(\n",
      "      (conv1): Conv2d_stand(64, 128, kernel_size=(3, 3), stride=(2, 2), padding=(1, 1), bias=False)\n",
      "      (conv2): Conv2d_stand(128, 128, kernel_size=(3, 3), stride=(1, 1), padding=(1, 1), bias=False)\n",
      "      (bn1): GroupNorm2d(2, eps=1e-05, momentum=0.1, affine=True, track_running_stats=False)\n",
      "      (relu): ReLU(inplace=True)\n",
      "      (bn2): GroupNorm2d(2, eps=1e-05, momentum=0.1, affine=True, track_running_stats=False)\n",
      "      (downsample): Sequential(\n",
      "        (0): Conv2d_stand(64, 128, kernel_size=(1, 1), stride=(2, 2), bias=False)\n",
      "        (1): GroupNorm2d(2, eps=1e-05, momentum=0.1, affine=True, track_running_stats=False)\n",
      "      )\n",
      "    )\n",
      "    (1): BasicBlock(\n",
      "      (conv1): Conv2d_stand(128, 128, kernel_size=(3, 3), stride=(1, 1), padding=(1, 1), bias=False)\n",
      "      (conv2): Conv2d_stand(128, 128, kernel_size=(3, 3), stride=(1, 1), padding=(1, 1), bias=False)\n",
      "      (bn1): GroupNorm2d(2, eps=1e-05, momentum=0.1, affine=True, track_running_stats=False)\n",
      "      (relu): ReLU(inplace=True)\n",
      "      (bn2): GroupNorm2d(2, eps=1e-05, momentum=0.1, affine=True, track_running_stats=False)\n",
      "    )\n",
      "  )\n",
      "  (layer3): Sequential(\n",
      "    (0): BasicBlock(\n",
      "      (conv1): Conv2d_stand(128, 256, kernel_size=(3, 3), stride=(2, 2), padding=(1, 1), bias=False)\n",
      "      (conv2): Conv2d_stand(256, 256, kernel_size=(3, 3), stride=(1, 1), padding=(1, 1), bias=False)\n",
      "      (bn1): GroupNorm2d(2, eps=1e-05, momentum=0.1, affine=True, track_running_stats=False)\n",
      "      (relu): ReLU(inplace=True)\n",
      "      (bn2): GroupNorm2d(2, eps=1e-05, momentum=0.1, affine=True, track_running_stats=False)\n",
      "      (downsample): Sequential(\n",
      "        (0): Conv2d_stand(128, 256, kernel_size=(1, 1), stride=(2, 2), bias=False)\n",
      "        (1): GroupNorm2d(2, eps=1e-05, momentum=0.1, affine=True, track_running_stats=False)\n",
      "      )\n",
      "    )\n",
      "    (1): BasicBlock(\n",
      "      (conv1): Conv2d_stand(256, 256, kernel_size=(3, 3), stride=(1, 1), padding=(1, 1), bias=False)\n",
      "      (conv2): Conv2d_stand(256, 256, kernel_size=(3, 3), stride=(1, 1), padding=(1, 1), bias=False)\n",
      "      (bn1): GroupNorm2d(2, eps=1e-05, momentum=0.1, affine=True, track_running_stats=False)\n",
      "      (relu): ReLU(inplace=True)\n",
      "      (bn2): GroupNorm2d(2, eps=1e-05, momentum=0.1, affine=True, track_running_stats=False)\n",
      "    )\n",
      "  )\n",
      "  (layer4): Sequential(\n",
      "    (0): BasicBlock(\n",
      "      (conv1): Conv2d_stand(256, 512, kernel_size=(3, 3), stride=(2, 2), padding=(1, 1), bias=False)\n",
      "      (conv2): Conv2d_stand(512, 512, kernel_size=(3, 3), stride=(1, 1), padding=(1, 1), bias=False)\n",
      "      (bn1): GroupNorm2d(2, eps=1e-05, momentum=0.1, affine=True, track_running_stats=False)\n",
      "      (relu): ReLU(inplace=True)\n",
      "      (bn2): GroupNorm2d(2, eps=1e-05, momentum=0.1, affine=True, track_running_stats=False)\n",
      "      (downsample): Sequential(\n",
      "        (0): Conv2d_stand(256, 512, kernel_size=(1, 1), stride=(2, 2), bias=False)\n",
      "        (1): GroupNorm2d(2, eps=1e-05, momentum=0.1, affine=True, track_running_stats=False)\n",
      "      )\n",
      "    )\n",
      "    (1): BasicBlock(\n",
      "      (conv1): Conv2d_stand(512, 512, kernel_size=(3, 3), stride=(1, 1), padding=(1, 1), bias=False)\n",
      "      (conv2): Conv2d_stand(512, 512, kernel_size=(3, 3), stride=(1, 1), padding=(1, 1), bias=False)\n",
      "      (bn1): GroupNorm2d(2, eps=1e-05, momentum=0.1, affine=True, track_running_stats=False)\n",
      "      (relu): ReLU(inplace=True)\n",
      "      (bn2): GroupNorm2d(2, eps=1e-05, momentum=0.1, affine=True, track_running_stats=False)\n",
      "    )\n",
      "  )\n",
      "  (avgpool): AdaptiveAvgPool2d(output_size=(1, 1))\n",
      "  (fc): Linear(in_features=512, out_features=100, bias=True)\n",
      ")\n",
      "INFO:gal:ResNet(\n",
      "  (conv1): Conv2d_stand(3, 64, kernel_size=(7, 7), stride=(2, 2), padding=(3, 3), bias=False)\n",
      "  (bn1): GroupNorm2d(2, eps=1e-05, momentum=0.1, affine=True, track_running_stats=False)\n",
      "  (relu): ReLU(inplace=True)\n",
      "  (maxpool): MaxPool2d(kernel_size=3, stride=2, padding=1, dilation=1, ceil_mode=False)\n",
      "  (layer1): Sequential(\n",
      "    (0): BasicBlock(\n",
      "      (conv1): Conv2d_stand(64, 64, kernel_size=(3, 3), stride=(1, 1), padding=(1, 1), bias=False)\n",
      "      (conv2): Conv2d_stand(64, 64, kernel_size=(3, 3), stride=(1, 1), padding=(1, 1), bias=False)\n",
      "      (bn1): GroupNorm2d(2, eps=1e-05, momentum=0.1, affine=True, track_running_stats=False)\n",
      "      (relu): ReLU(inplace=True)\n",
      "      (bn2): GroupNorm2d(2, eps=1e-05, momentum=0.1, affine=True, track_running_stats=False)\n",
      "    )\n",
      "    (1): BasicBlock(\n",
      "      (conv1): Conv2d_stand(64, 64, kernel_size=(3, 3), stride=(1, 1), padding=(1, 1), bias=False)\n",
      "      (conv2): Conv2d_stand(64, 64, kernel_size=(3, 3), stride=(1, 1), padding=(1, 1), bias=False)\n",
      "      (bn1): GroupNorm2d(2, eps=1e-05, momentum=0.1, affine=True, track_running_stats=False)\n",
      "      (relu): ReLU(inplace=True)\n",
      "      (bn2): GroupNorm2d(2, eps=1e-05, momentum=0.1, affine=True, track_running_stats=False)\n",
      "    )\n",
      "  )\n",
      "  (layer2): Sequential(\n",
      "    (0): BasicBlock(\n",
      "      (conv1): Conv2d_stand(64, 128, kernel_size=(3, 3), stride=(2, 2), padding=(1, 1), bias=False)\n",
      "      (conv2): Conv2d_stand(128, 128, kernel_size=(3, 3), stride=(1, 1), padding=(1, 1), bias=False)\n",
      "      (bn1): GroupNorm2d(2, eps=1e-05, momentum=0.1, affine=True, track_running_stats=False)\n",
      "      (relu): ReLU(inplace=True)\n",
      "      (bn2): GroupNorm2d(2, eps=1e-05, momentum=0.1, affine=True, track_running_stats=False)\n",
      "      (downsample): Sequential(\n",
      "        (0): Conv2d_stand(64, 128, kernel_size=(1, 1), stride=(2, 2), bias=False)\n",
      "        (1): GroupNorm2d(2, eps=1e-05, momentum=0.1, affine=True, track_running_stats=False)\n",
      "      )\n",
      "    )\n",
      "    (1): BasicBlock(\n",
      "      (conv1): Conv2d_stand(128, 128, kernel_size=(3, 3), stride=(1, 1), padding=(1, 1), bias=False)\n",
      "      (conv2): Conv2d_stand(128, 128, kernel_size=(3, 3), stride=(1, 1), padding=(1, 1), bias=False)\n",
      "      (bn1): GroupNorm2d(2, eps=1e-05, momentum=0.1, affine=True, track_running_stats=False)\n",
      "      (relu): ReLU(inplace=True)\n",
      "      (bn2): GroupNorm2d(2, eps=1e-05, momentum=0.1, affine=True, track_running_stats=False)\n",
      "    )\n",
      "  )\n",
      "  (layer3): Sequential(\n",
      "    (0): BasicBlock(\n",
      "      (conv1): Conv2d_stand(128, 256, kernel_size=(3, 3), stride=(2, 2), padding=(1, 1), bias=False)\n",
      "      (conv2): Conv2d_stand(256, 256, kernel_size=(3, 3), stride=(1, 1), padding=(1, 1), bias=False)\n",
      "      (bn1): GroupNorm2d(2, eps=1e-05, momentum=0.1, affine=True, track_running_stats=False)\n",
      "      (relu): ReLU(inplace=True)\n",
      "      (bn2): GroupNorm2d(2, eps=1e-05, momentum=0.1, affine=True, track_running_stats=False)\n",
      "      (downsample): Sequential(\n",
      "        (0): Conv2d_stand(128, 256, kernel_size=(1, 1), stride=(2, 2), bias=False)\n",
      "        (1): GroupNorm2d(2, eps=1e-05, momentum=0.1, affine=True, track_running_stats=False)\n",
      "      )\n",
      "    )\n",
      "    (1): BasicBlock(\n",
      "      (conv1): Conv2d_stand(256, 256, kernel_size=(3, 3), stride=(1, 1), padding=(1, 1), bias=False)\n",
      "      (conv2): Conv2d_stand(256, 256, kernel_size=(3, 3), stride=(1, 1), padding=(1, 1), bias=False)\n",
      "      (bn1): GroupNorm2d(2, eps=1e-05, momentum=0.1, affine=True, track_running_stats=False)\n",
      "      (relu): ReLU(inplace=True)\n",
      "      (bn2): GroupNorm2d(2, eps=1e-05, momentum=0.1, affine=True, track_running_stats=False)\n",
      "    )\n",
      "  )\n",
      "  (layer4): Sequential(\n",
      "    (0): BasicBlock(\n",
      "      (conv1): Conv2d_stand(256, 512, kernel_size=(3, 3), stride=(2, 2), padding=(1, 1), bias=False)\n",
      "      (conv2): Conv2d_stand(512, 512, kernel_size=(3, 3), stride=(1, 1), padding=(1, 1), bias=False)\n",
      "      (bn1): GroupNorm2d(2, eps=1e-05, momentum=0.1, affine=True, track_running_stats=False)\n",
      "      (relu): ReLU(inplace=True)\n",
      "      (bn2): GroupNorm2d(2, eps=1e-05, momentum=0.1, affine=True, track_running_stats=False)\n",
      "      (downsample): Sequential(\n",
      "        (0): Conv2d_stand(256, 512, kernel_size=(1, 1), stride=(2, 2), bias=False)\n",
      "        (1): GroupNorm2d(2, eps=1e-05, momentum=0.1, affine=True, track_running_stats=False)\n",
      "      )\n",
      "    )\n",
      "    (1): BasicBlock(\n",
      "      (conv1): Conv2d_stand(512, 512, kernel_size=(3, 3), stride=(1, 1), padding=(1, 1), bias=False)\n",
      "      (conv2): Conv2d_stand(512, 512, kernel_size=(3, 3), stride=(1, 1), padding=(1, 1), bias=False)\n",
      "      (bn1): GroupNorm2d(2, eps=1e-05, momentum=0.1, affine=True, track_running_stats=False)\n",
      "      (relu): ReLU(inplace=True)\n",
      "      (bn2): GroupNorm2d(2, eps=1e-05, momentum=0.1, affine=True, track_running_stats=False)\n",
      "    )\n",
      "  )\n",
      "  (avgpool): AdaptiveAvgPool2d(output_size=(1, 1))\n",
      "  (fc): Linear(in_features=512, out_features=100, bias=True)\n",
      ")\n"
     ]
    },
    {
     "name": "stdout",
     "output_type": "stream",
     "text": [
      "num_channels_per_group:32\n",
      "num_channels_per_group:32\n",
      "num_channels_per_group:32\n",
      "num_channels_per_group:32\n",
      "num_channels_per_group:32\n",
      "num_channels_per_group:64\n",
      "num_channels_per_group:64\n",
      "num_channels_per_group:64\n",
      "num_channels_per_group:64\n",
      "num_channels_per_group:64\n",
      "num_channels_per_group:128\n",
      "num_channels_per_group:128\n",
      "num_channels_per_group:128\n",
      "num_channels_per_group:128\n",
      "num_channels_per_group:128\n",
      "num_channels_per_group:256\n",
      "num_channels_per_group:256\n",
      "num_channels_per_group:256\n",
      "num_channels_per_group:256\n",
      "num_channels_per_group:256\n",
      "ResNet(\n",
      "  (conv1): Conv2d_stand(3, 64, kernel_size=(7, 7), stride=(2, 2), padding=(3, 3), bias=False)\n",
      "  (bn1): GroupNorm2d(2, eps=1e-05, momentum=0.1, affine=True, track_running_stats=False)\n",
      "  (relu): ReLU(inplace=True)\n",
      "  (maxpool): MaxPool2d(kernel_size=3, stride=2, padding=1, dilation=1, ceil_mode=False)\n",
      "  (layer1): Sequential(\n",
      "    (0): BasicBlock(\n",
      "      (conv1): Conv2d_stand(64, 64, kernel_size=(3, 3), stride=(1, 1), padding=(1, 1), bias=False)\n",
      "      (conv2): Conv2d_stand(64, 64, kernel_size=(3, 3), stride=(1, 1), padding=(1, 1), bias=False)\n",
      "      (bn1): GroupNorm2d(2, eps=1e-05, momentum=0.1, affine=True, track_running_stats=False)\n",
      "      (relu): ReLU(inplace=True)\n",
      "      (bn2): GroupNorm2d(2, eps=1e-05, momentum=0.1, affine=True, track_running_stats=False)\n",
      "    )\n",
      "    (1): BasicBlock(\n",
      "      (conv1): Conv2d_stand(64, 64, kernel_size=(3, 3), stride=(1, 1), padding=(1, 1), bias=False)\n",
      "      (conv2): Conv2d_stand(64, 64, kernel_size=(3, 3), stride=(1, 1), padding=(1, 1), bias=False)\n",
      "      (bn1): GroupNorm2d(2, eps=1e-05, momentum=0.1, affine=True, track_running_stats=False)\n",
      "      (relu): ReLU(inplace=True)\n",
      "      (bn2): GroupNorm2d(2, eps=1e-05, momentum=0.1, affine=True, track_running_stats=False)\n",
      "    )\n",
      "  )\n",
      "  (layer2): Sequential(\n",
      "    (0): BasicBlock(\n",
      "      (conv1): Conv2d_stand(64, 128, kernel_size=(3, 3), stride=(2, 2), padding=(1, 1), bias=False)\n",
      "      (conv2): Conv2d_stand(128, 128, kernel_size=(3, 3), stride=(1, 1), padding=(1, 1), bias=False)\n",
      "      (bn1): GroupNorm2d(2, eps=1e-05, momentum=0.1, affine=True, track_running_stats=False)\n",
      "      (relu): ReLU(inplace=True)\n",
      "      (bn2): GroupNorm2d(2, eps=1e-05, momentum=0.1, affine=True, track_running_stats=False)\n",
      "      (downsample): Sequential(\n",
      "        (0): Conv2d_stand(64, 128, kernel_size=(1, 1), stride=(2, 2), bias=False)\n",
      "        (1): GroupNorm2d(2, eps=1e-05, momentum=0.1, affine=True, track_running_stats=False)\n",
      "      )\n",
      "    )\n",
      "    (1): BasicBlock(\n",
      "      (conv1): Conv2d_stand(128, 128, kernel_size=(3, 3), stride=(1, 1), padding=(1, 1), bias=False)\n",
      "      (conv2): Conv2d_stand(128, 128, kernel_size=(3, 3), stride=(1, 1), padding=(1, 1), bias=False)\n",
      "      (bn1): GroupNorm2d(2, eps=1e-05, momentum=0.1, affine=True, track_running_stats=False)\n",
      "      (relu): ReLU(inplace=True)\n",
      "      (bn2): GroupNorm2d(2, eps=1e-05, momentum=0.1, affine=True, track_running_stats=False)\n",
      "    )\n",
      "  )\n",
      "  (layer3): Sequential(\n",
      "    (0): BasicBlock(\n",
      "      (conv1): Conv2d_stand(128, 256, kernel_size=(3, 3), stride=(2, 2), padding=(1, 1), bias=False)\n",
      "      (conv2): Conv2d_stand(256, 256, kernel_size=(3, 3), stride=(1, 1), padding=(1, 1), bias=False)\n",
      "      (bn1): GroupNorm2d(2, eps=1e-05, momentum=0.1, affine=True, track_running_stats=False)\n",
      "      (relu): ReLU(inplace=True)\n",
      "      (bn2): GroupNorm2d(2, eps=1e-05, momentum=0.1, affine=True, track_running_stats=False)\n",
      "      (downsample): Sequential(\n",
      "        (0): Conv2d_stand(128, 256, kernel_size=(1, 1), stride=(2, 2), bias=False)\n",
      "        (1): GroupNorm2d(2, eps=1e-05, momentum=0.1, affine=True, track_running_stats=False)\n",
      "      )\n",
      "    )\n",
      "    (1): BasicBlock(\n",
      "      (conv1): Conv2d_stand(256, 256, kernel_size=(3, 3), stride=(1, 1), padding=(1, 1), bias=False)\n",
      "      (conv2): Conv2d_stand(256, 256, kernel_size=(3, 3), stride=(1, 1), padding=(1, 1), bias=False)\n",
      "      (bn1): GroupNorm2d(2, eps=1e-05, momentum=0.1, affine=True, track_running_stats=False)\n",
      "      (relu): ReLU(inplace=True)\n",
      "      (bn2): GroupNorm2d(2, eps=1e-05, momentum=0.1, affine=True, track_running_stats=False)\n",
      "    )\n",
      "  )\n",
      "  (layer4): Sequential(\n",
      "    (0): BasicBlock(\n",
      "      (conv1): Conv2d_stand(256, 512, kernel_size=(3, 3), stride=(2, 2), padding=(1, 1), bias=False)\n",
      "      (conv2): Conv2d_stand(512, 512, kernel_size=(3, 3), stride=(1, 1), padding=(1, 1), bias=False)\n",
      "      (bn1): GroupNorm2d(2, eps=1e-05, momentum=0.1, affine=True, track_running_stats=False)\n",
      "      (relu): ReLU(inplace=True)\n",
      "      (bn2): GroupNorm2d(2, eps=1e-05, momentum=0.1, affine=True, track_running_stats=False)\n",
      "      (downsample): Sequential(\n",
      "        (0): Conv2d_stand(256, 512, kernel_size=(1, 1), stride=(2, 2), bias=False)\n",
      "        (1): GroupNorm2d(2, eps=1e-05, momentum=0.1, affine=True, track_running_stats=False)\n",
      "      )\n",
      "    )\n",
      "    (1): BasicBlock(\n",
      "      (conv1): Conv2d_stand(512, 512, kernel_size=(3, 3), stride=(1, 1), padding=(1, 1), bias=False)\n",
      "      (conv2): Conv2d_stand(512, 512, kernel_size=(3, 3), stride=(1, 1), padding=(1, 1), bias=False)\n",
      "      (bn1): GroupNorm2d(2, eps=1e-05, momentum=0.1, affine=True, track_running_stats=False)\n",
      "      (relu): ReLU(inplace=True)\n",
      "      (bn2): GroupNorm2d(2, eps=1e-05, momentum=0.1, affine=True, track_running_stats=False)\n",
      "    )\n",
      "  )\n",
      "  (avgpool): AdaptiveAvgPool2d(output_size=(1, 1))\n",
      "  (fc): Linear(in_features=512, out_features=100, bias=True)\n",
      ")\n"
     ]
    },
    {
     "name": "stderr",
     "output_type": "stream",
     "text": [
      "\r",
      "  0%|                                                                                         | 0/1000 [00:00<?, ?it/s]"
     ]
    },
    {
     "name": "stdout",
     "output_type": "stream",
     "text": [
      "\n",
      " | Global Training Round : 1 |\n",
      "\n"
     ]
    },
    {
     "name": "stderr",
     "output_type": "stream",
     "text": [
      "03/05 05:19:21 PM |  \n",
      "Avg Training Stats after 1 global rounds:\n",
      "INFO:gal: \n",
      "Avg Training Stats after 1 global rounds:\n",
      "03/05 05:19:21 PM | Training Loss : 4.010321720123292\n",
      "INFO:gal:Training Loss : 4.010321720123292\n",
      "03/05 05:19:21 PM | Train Accuracy: 1.69% \n",
      "\n",
      "INFO:gal:Train Accuracy: 1.69% \n",
      "\n",
      "  0%|                                                                             | 1/1000 [01:51<31:01:07, 111.78s/it]"
     ]
    },
    {
     "name": "stdout",
     "output_type": "stream",
     "text": [
      "\n",
      " | Global Training Round : 2 |\n",
      "\n"
     ]
    },
    {
     "name": "stderr",
     "output_type": "stream",
     "text": [
      "03/05 05:21:12 PM |  \n",
      "Avg Training Stats after 2 global rounds:\n",
      "INFO:gal: \n",
      "Avg Training Stats after 2 global rounds:\n",
      "03/05 05:21:12 PM | Training Loss : 3.9555999259948744\n",
      "INFO:gal:Training Loss : 3.9555999259948744\n",
      "03/05 05:21:12 PM | Train Accuracy: 1.69% \n",
      "\n",
      "INFO:gal:Train Accuracy: 1.69% \n",
      "\n",
      "  0%|▏                                                                            | 2/1000 [03:42<30:50:53, 111.28s/it]"
     ]
    },
    {
     "name": "stdout",
     "output_type": "stream",
     "text": [
      "\n",
      " | Global Training Round : 3 |\n",
      "\n"
     ]
    },
    {
     "name": "stderr",
     "output_type": "stream",
     "text": [
      "03/05 05:23:05 PM |  \n",
      "Avg Training Stats after 3 global rounds:\n",
      "INFO:gal: \n",
      "Avg Training Stats after 3 global rounds:\n",
      "03/05 05:23:05 PM | Training Loss : 3.956537664413452\n",
      "INFO:gal:Training Loss : 3.956537664413452\n",
      "03/05 05:23:05 PM | Train Accuracy: 2.42% \n",
      "\n",
      "INFO:gal:Train Accuracy: 2.42% \n",
      "\n",
      "  0%|▏                                                                            | 3/1000 [05:35<31:02:46, 112.10s/it]"
     ]
    },
    {
     "name": "stdout",
     "output_type": "stream",
     "text": [
      "\n",
      " | Global Training Round : 4 |\n",
      "\n"
     ]
    },
    {
     "name": "stderr",
     "output_type": "stream",
     "text": [
      "03/05 05:24:57 PM |  \n",
      "Avg Training Stats after 4 global rounds:\n",
      "INFO:gal: \n",
      "Avg Training Stats after 4 global rounds:\n",
      "03/05 05:24:57 PM | Training Loss : 3.883483785629272\n",
      "INFO:gal:Training Loss : 3.883483785629272\n",
      "03/05 05:24:57 PM | Train Accuracy: 2.76% \n",
      "\n",
      "INFO:gal:Train Accuracy: 2.76% \n",
      "\n",
      "  0%|▎                                                                            | 4/1000 [07:27<30:57:01, 111.87s/it]"
     ]
    },
    {
     "name": "stdout",
     "output_type": "stream",
     "text": [
      "\n",
      " | Global Training Round : 5 |\n",
      "\n"
     ]
    },
    {
     "name": "stderr",
     "output_type": "stream",
     "text": [
      "03/05 05:26:50 PM |  \n",
      "Avg Training Stats after 5 global rounds:\n",
      "INFO:gal: \n",
      "Avg Training Stats after 5 global rounds:\n",
      "03/05 05:26:50 PM | Training Loss : 3.8548274612426763\n",
      "INFO:gal:Training Loss : 3.8548274612426763\n",
      "03/05 05:26:50 PM | Train Accuracy: 3.11% \n",
      "\n",
      "INFO:gal:Train Accuracy: 3.11% \n",
      "\n",
      "  0%|▍                                                                            | 5/1000 [09:20<31:00:58, 112.22s/it]"
     ]
    },
    {
     "name": "stdout",
     "output_type": "stream",
     "text": [
      "\n",
      " | Global Training Round : 6 |\n",
      "\n"
     ]
    },
    {
     "name": "stderr",
     "output_type": "stream",
     "text": [
      "03/05 05:28:46 PM |  \n",
      "Avg Training Stats after 6 global rounds:\n",
      "INFO:gal: \n",
      "Avg Training Stats after 6 global rounds:\n",
      "03/05 05:28:46 PM | Training Loss : 3.813584297180176\n",
      "INFO:gal:Training Loss : 3.813584297180176\n",
      "03/05 05:28:46 PM | Train Accuracy: 2.84% \n",
      "\n",
      "INFO:gal:Train Accuracy: 2.84% \n",
      "\n",
      "  1%|▍                                                                            | 6/1000 [11:16<31:23:51, 113.71s/it]"
     ]
    },
    {
     "name": "stdout",
     "output_type": "stream",
     "text": [
      "\n",
      " | Global Training Round : 7 |\n",
      "\n"
     ]
    },
    {
     "name": "stderr",
     "output_type": "stream",
     "text": [
      "03/05 05:30:47 PM |  \n",
      "Avg Training Stats after 7 global rounds:\n",
      "INFO:gal: \n",
      "Avg Training Stats after 7 global rounds:\n",
      "03/05 05:30:47 PM | Training Loss : 3.79615200471878\n",
      "INFO:gal:Training Loss : 3.79615200471878\n",
      "03/05 05:30:47 PM | Train Accuracy: 2.81% \n",
      "\n",
      "INFO:gal:Train Accuracy: 2.81% \n",
      "\n",
      "  1%|▌                                                                            | 7/1000 [13:17<31:58:53, 115.95s/it]"
     ]
    },
    {
     "name": "stdout",
     "output_type": "stream",
     "text": [
      "\n",
      " | Global Training Round : 8 |\n",
      "\n"
     ]
    },
    {
     "name": "stderr",
     "output_type": "stream",
     "text": [
      "03/05 05:32:46 PM |  \n",
      "Avg Training Stats after 8 global rounds:\n",
      "INFO:gal: \n",
      "Avg Training Stats after 8 global rounds:\n",
      "03/05 05:32:46 PM | Training Loss : 3.8130255184173576\n",
      "INFO:gal:Training Loss : 3.8130255184173576\n",
      "03/05 05:32:46 PM | Train Accuracy: 3.53% \n",
      "\n",
      "INFO:gal:Train Accuracy: 3.53% \n",
      "\n",
      "  1%|▌                                                                            | 8/1000 [15:16<32:13:19, 116.93s/it]"
     ]
    },
    {
     "name": "stdout",
     "output_type": "stream",
     "text": [
      "\n",
      " | Global Training Round : 9 |\n",
      "\n"
     ]
    },
    {
     "name": "stderr",
     "output_type": "stream",
     "text": [
      "03/05 05:34:48 PM |  \n",
      "Avg Training Stats after 9 global rounds:\n",
      "INFO:gal: \n",
      "Avg Training Stats after 9 global rounds:\n",
      "03/05 05:34:48 PM | Training Loss : 3.830821270942687\n",
      "INFO:gal:Training Loss : 3.830821270942687\n",
      "03/05 05:34:48 PM | Train Accuracy: 3.51% \n",
      "\n",
      "INFO:gal:Train Accuracy: 3.51% \n",
      "\n",
      "  1%|▋                                                                            | 9/1000 [17:18<32:38:39, 118.59s/it]"
     ]
    },
    {
     "name": "stdout",
     "output_type": "stream",
     "text": [
      "\n",
      " | Global Training Round : 10 |\n",
      "\n"
     ]
    },
    {
     "name": "stderr",
     "output_type": "stream",
     "text": [
      "03/05 05:36:50 PM |  \n",
      "Avg Training Stats after 10 global rounds:\n",
      "INFO:gal: \n",
      "Avg Training Stats after 10 global rounds:\n",
      "03/05 05:36:50 PM | Training Loss : 3.776134456634521\n",
      "INFO:gal:Training Loss : 3.776134456634521\n",
      "03/05 05:36:50 PM | Train Accuracy: 4.33% \n",
      "\n",
      "INFO:gal:Train Accuracy: 4.33% \n",
      "\n",
      "  1%|▊                                                                           | 10/1000 [19:20<32:54:24, 119.66s/it]"
     ]
    },
    {
     "name": "stdout",
     "output_type": "stream",
     "text": [
      "\n",
      " | Global Training Round : 11 |\n",
      "\n"
     ]
    },
    {
     "name": "stderr",
     "output_type": "stream",
     "text": [
      "03/05 05:38:56 PM |  \n",
      "Avg Training Stats after 11 global rounds:\n",
      "INFO:gal: \n",
      "Avg Training Stats after 11 global rounds:\n",
      "03/05 05:38:56 PM | Training Loss : 3.774043971061707\n",
      "INFO:gal:Training Loss : 3.774043971061707\n",
      "03/05 05:38:56 PM | Train Accuracy: 4.20% \n",
      "\n",
      "INFO:gal:Train Accuracy: 4.20% \n",
      "\n",
      "  1%|▊                                                                           | 11/1000 [21:26<33:25:23, 121.66s/it]"
     ]
    },
    {
     "name": "stdout",
     "output_type": "stream",
     "text": [
      "\n",
      " | Global Training Round : 12 |\n",
      "\n"
     ]
    },
    {
     "name": "stderr",
     "output_type": "stream",
     "text": [
      "03/05 05:41:02 PM |  \n",
      "Avg Training Stats after 12 global rounds:\n",
      "INFO:gal: \n",
      "Avg Training Stats after 12 global rounds:\n",
      "03/05 05:41:02 PM | Training Loss : 3.7138685736656174\n",
      "INFO:gal:Training Loss : 3.7138685736656174\n",
      "03/05 05:41:02 PM | Train Accuracy: 3.51% \n",
      "\n",
      "INFO:gal:Train Accuracy: 3.51% \n",
      "\n",
      "  1%|▉                                                                           | 12/1000 [23:32<33:42:05, 122.80s/it]"
     ]
    },
    {
     "name": "stdout",
     "output_type": "stream",
     "text": [
      "\n",
      " | Global Training Round : 13 |\n",
      "\n"
     ]
    },
    {
     "name": "stderr",
     "output_type": "stream",
     "text": [
      "03/05 05:43:10 PM |  \n",
      "Avg Training Stats after 13 global rounds:\n",
      "INFO:gal: \n",
      "Avg Training Stats after 13 global rounds:\n",
      "03/05 05:43:10 PM | Training Loss : 3.720339721679689\n",
      "INFO:gal:Training Loss : 3.720339721679689\n",
      "03/05 05:43:10 PM | Train Accuracy: 4.48% \n",
      "\n",
      "INFO:gal:Train Accuracy: 4.48% \n",
      "\n",
      "  1%|▉                                                                           | 13/1000 [25:40<34:08:37, 124.54s/it]"
     ]
    },
    {
     "name": "stdout",
     "output_type": "stream",
     "text": [
      "\n",
      " | Global Training Round : 14 |\n",
      "\n"
     ]
    },
    {
     "name": "stderr",
     "output_type": "stream",
     "text": [
      "03/05 05:45:19 PM |  \n",
      "Avg Training Stats after 14 global rounds:\n",
      "INFO:gal: \n",
      "Avg Training Stats after 14 global rounds:\n",
      "03/05 05:45:19 PM | Training Loss : 3.6917834501266484\n",
      "INFO:gal:Training Loss : 3.6917834501266484\n",
      "03/05 05:45:19 PM | Train Accuracy: 4.71% \n",
      "\n",
      "INFO:gal:Train Accuracy: 4.71% \n",
      "\n",
      "  1%|█                                                                           | 14/1000 [27:49<34:29:21, 125.92s/it]"
     ]
    },
    {
     "name": "stdout",
     "output_type": "stream",
     "text": [
      "\n",
      " | Global Training Round : 15 |\n",
      "\n"
     ]
    },
    {
     "name": "stderr",
     "output_type": "stream",
     "text": [
      "03/05 05:47:30 PM |  \n",
      "Avg Training Stats after 15 global rounds:\n",
      "INFO:gal: \n",
      "Avg Training Stats after 15 global rounds:\n",
      "03/05 05:47:30 PM | Training Loss : 3.714824562072754\n",
      "INFO:gal:Training Loss : 3.714824562072754\n",
      "03/05 05:47:30 PM | Train Accuracy: 5.02% \n",
      "\n",
      "INFO:gal:Train Accuracy: 5.02% \n",
      "\n",
      "  2%|█▏                                                                          | 15/1000 [30:00<34:49:57, 127.31s/it]"
     ]
    },
    {
     "name": "stdout",
     "output_type": "stream",
     "text": [
      "\n",
      " | Global Training Round : 16 |\n",
      "\n"
     ]
    },
    {
     "name": "stderr",
     "output_type": "stream",
     "text": [
      "03/05 05:49:43 PM |  \n",
      "Avg Training Stats after 16 global rounds:\n",
      "INFO:gal: \n",
      "Avg Training Stats after 16 global rounds:\n",
      "03/05 05:49:43 PM | Training Loss : 3.6986168437004103\n",
      "INFO:gal:Training Loss : 3.6986168437004103\n",
      "03/05 05:49:43 PM | Train Accuracy: 4.51% \n",
      "\n",
      "INFO:gal:Train Accuracy: 4.51% \n",
      "\n",
      "  2%|█▏                                                                          | 16/1000 [32:13<35:17:43, 129.13s/it]"
     ]
    },
    {
     "name": "stdout",
     "output_type": "stream",
     "text": [
      "\n",
      " | Global Training Round : 17 |\n",
      "\n"
     ]
    },
    {
     "name": "stderr",
     "output_type": "stream",
     "text": [
      "03/05 05:51:56 PM |  \n",
      "Avg Training Stats after 17 global rounds:\n",
      "INFO:gal: \n",
      "Avg Training Stats after 17 global rounds:\n",
      "03/05 05:51:56 PM | Training Loss : 3.7101127738952653\n",
      "INFO:gal:Training Loss : 3.7101127738952653\n",
      "03/05 05:51:56 PM | Train Accuracy: 5.76% \n",
      "\n",
      "INFO:gal:Train Accuracy: 5.76% \n",
      "\n",
      "  2%|█▎                                                                          | 17/1000 [34:26<35:31:42, 130.11s/it]"
     ]
    },
    {
     "name": "stdout",
     "output_type": "stream",
     "text": [
      "\n",
      " | Global Training Round : 18 |\n",
      "\n"
     ]
    },
    {
     "name": "stderr",
     "output_type": "stream",
     "text": [
      "03/05 05:54:09 PM |  \n",
      "Avg Training Stats after 18 global rounds:\n",
      "INFO:gal: \n",
      "Avg Training Stats after 18 global rounds:\n",
      "03/05 05:54:09 PM | Training Loss : 3.6279364995956422\n",
      "INFO:gal:Training Loss : 3.6279364995956422\n",
      "03/05 05:54:09 PM | Train Accuracy: 5.08% \n",
      "\n",
      "INFO:gal:Train Accuracy: 5.08% \n",
      "\n",
      "  2%|█▎                                                                          | 18/1000 [36:38<35:42:36, 130.91s/it]"
     ]
    },
    {
     "name": "stdout",
     "output_type": "stream",
     "text": [
      "\n",
      " | Global Training Round : 19 |\n",
      "\n"
     ]
    },
    {
     "name": "stderr",
     "output_type": "stream",
     "text": [
      "03/05 05:56:27 PM |  \n",
      "Avg Training Stats after 19 global rounds:\n",
      "INFO:gal: \n",
      "Avg Training Stats after 19 global rounds:\n",
      "03/05 05:56:27 PM | Training Loss : 3.677352129459382\n",
      "INFO:gal:Training Loss : 3.677352129459382\n",
      "03/05 05:56:27 PM | Train Accuracy: 6.07% \n",
      "\n",
      "INFO:gal:Train Accuracy: 6.07% \n",
      "\n",
      "  2%|█▍                                                                          | 19/1000 [38:57<36:15:56, 133.08s/it]"
     ]
    },
    {
     "name": "stdout",
     "output_type": "stream",
     "text": [
      "\n",
      " | Global Training Round : 20 |\n",
      "\n"
     ]
    },
    {
     "name": "stderr",
     "output_type": "stream",
     "text": [
      "03/05 05:58:41 PM |  \n",
      "Avg Training Stats after 20 global rounds:\n",
      "INFO:gal: \n",
      "Avg Training Stats after 20 global rounds:\n",
      "03/05 05:58:41 PM | Training Loss : 3.659329683780671\n",
      "INFO:gal:Training Loss : 3.659329683780671\n",
      "03/05 05:58:41 PM | Train Accuracy: 5.64% \n",
      "\n",
      "INFO:gal:Train Accuracy: 5.64% \n",
      "\n",
      "  2%|█▌                                                                          | 20/1000 [41:11<36:21:38, 133.57s/it]"
     ]
    },
    {
     "name": "stdout",
     "output_type": "stream",
     "text": [
      "\n",
      " | Global Training Round : 21 |\n",
      "\n"
     ]
    },
    {
     "name": "stderr",
     "output_type": "stream",
     "text": [
      "03/05 06:00:54 PM |  \n",
      "Avg Training Stats after 21 global rounds:\n",
      "INFO:gal: \n",
      "Avg Training Stats after 21 global rounds:\n",
      "03/05 06:00:54 PM | Training Loss : 3.609975051879883\n",
      "INFO:gal:Training Loss : 3.609975051879883\n",
      "03/05 06:00:54 PM | Train Accuracy: 5.64% \n",
      "\n",
      "INFO:gal:Train Accuracy: 5.64% \n",
      "\n",
      "  2%|█▌                                                                          | 21/1000 [43:24<36:17:10, 133.43s/it]"
     ]
    },
    {
     "name": "stdout",
     "output_type": "stream",
     "text": [
      "\n",
      " | Global Training Round : 22 |\n",
      "\n"
     ]
    },
    {
     "name": "stderr",
     "output_type": "stream",
     "text": [
      "03/05 06:03:15 PM |  \n",
      "Avg Training Stats after 22 global rounds:\n",
      "INFO:gal: \n",
      "Avg Training Stats after 22 global rounds:\n",
      "03/05 06:03:15 PM | Training Loss : 3.576728680610657\n",
      "INFO:gal:Training Loss : 3.576728680610657\n",
      "03/05 06:03:15 PM | Train Accuracy: 6.84% \n",
      "\n",
      "INFO:gal:Train Accuracy: 6.84% \n",
      "\n",
      "  2%|█▋                                                                          | 22/1000 [45:45<36:50:30, 135.61s/it]"
     ]
    },
    {
     "name": "stdout",
     "output_type": "stream",
     "text": [
      "\n",
      " | Global Training Round : 23 |\n",
      "\n"
     ]
    },
    {
     "name": "stderr",
     "output_type": "stream",
     "text": [
      "03/05 06:05:29 PM |  \n",
      "Avg Training Stats after 23 global rounds:\n",
      "INFO:gal: \n",
      "Avg Training Stats after 23 global rounds:\n",
      "03/05 06:05:29 PM | Training Loss : 3.544947830200196\n",
      "INFO:gal:Training Loss : 3.544947830200196\n",
      "03/05 06:05:29 PM | Train Accuracy: 6.52% \n",
      "\n",
      "INFO:gal:Train Accuracy: 6.52% \n",
      "\n",
      "  2%|█▋                                                                          | 23/1000 [47:59<36:40:38, 135.15s/it]"
     ]
    },
    {
     "name": "stdout",
     "output_type": "stream",
     "text": [
      "\n",
      " | Global Training Round : 24 |\n",
      "\n"
     ]
    },
    {
     "name": "stderr",
     "output_type": "stream",
     "text": [
      "03/05 06:07:44 PM |  \n",
      "Avg Training Stats after 24 global rounds:\n",
      "INFO:gal: \n",
      "Avg Training Stats after 24 global rounds:\n",
      "03/05 06:07:44 PM | Training Loss : 3.5398054533004766\n",
      "INFO:gal:Training Loss : 3.5398054533004766\n",
      "03/05 06:07:44 PM | Train Accuracy: 7.36% \n",
      "\n",
      "INFO:gal:Train Accuracy: 7.36% \n",
      "\n",
      "  2%|█▊                                                                          | 24/1000 [50:14<36:37:10, 135.07s/it]"
     ]
    },
    {
     "name": "stdout",
     "output_type": "stream",
     "text": [
      "\n",
      " | Global Training Round : 25 |\n",
      "\n"
     ]
    },
    {
     "name": "stderr",
     "output_type": "stream",
     "text": [
      "03/05 06:10:00 PM |  \n",
      "Avg Training Stats after 25 global rounds:\n",
      "INFO:gal: \n",
      "Avg Training Stats after 25 global rounds:\n",
      "03/05 06:10:00 PM | Training Loss : 3.5120829062461847\n",
      "INFO:gal:Training Loss : 3.5120829062461847\n",
      "03/05 06:10:00 PM | Train Accuracy: 6.99% \n",
      "\n",
      "INFO:gal:Train Accuracy: 6.99% \n",
      "\n",
      "  2%|█▉                                                                          | 25/1000 [52:30<36:38:16, 135.28s/it]"
     ]
    },
    {
     "name": "stdout",
     "output_type": "stream",
     "text": [
      "\n",
      " | Global Training Round : 26 |\n",
      "\n"
     ]
    },
    {
     "name": "stderr",
     "output_type": "stream",
     "text": [
      "03/05 06:12:20 PM |  \n",
      "Avg Training Stats after 26 global rounds:\n",
      "INFO:gal: \n",
      "Avg Training Stats after 26 global rounds:\n",
      "03/05 06:12:20 PM | Training Loss : 3.5435100727081292\n",
      "INFO:gal:Training Loss : 3.5435100727081292\n",
      "03/05 06:12:20 PM | Train Accuracy: 5.95% \n",
      "\n",
      "INFO:gal:Train Accuracy: 5.95% \n",
      "\n",
      "  3%|█▉                                                                          | 26/1000 [54:50<36:59:15, 136.71s/it]"
     ]
    },
    {
     "name": "stdout",
     "output_type": "stream",
     "text": [
      "\n",
      " | Global Training Round : 27 |\n",
      "\n"
     ]
    },
    {
     "name": "stderr",
     "output_type": "stream",
     "text": [
      "03/05 06:14:40 PM |  \n",
      "Avg Training Stats after 27 global rounds:\n",
      "INFO:gal: \n",
      "Avg Training Stats after 27 global rounds:\n",
      "03/05 06:14:40 PM | Training Loss : 3.5166187348365785\n",
      "INFO:gal:Training Loss : 3.5166187348365785\n",
      "03/05 06:14:40 PM | Train Accuracy: 6.71% \n",
      "\n",
      "INFO:gal:Train Accuracy: 6.71% \n",
      "\n",
      "  3%|██                                                                          | 27/1000 [57:10<37:14:36, 137.80s/it]"
     ]
    },
    {
     "name": "stdout",
     "output_type": "stream",
     "text": [
      "\n",
      " | Global Training Round : 28 |\n",
      "\n"
     ]
    },
    {
     "name": "stderr",
     "output_type": "stream",
     "text": [
      "03/05 06:17:01 PM |  \n",
      "Avg Training Stats after 28 global rounds:\n",
      "INFO:gal: \n",
      "Avg Training Stats after 28 global rounds:\n",
      "03/05 06:17:01 PM | Training Loss : 3.430731697082519\n",
      "INFO:gal:Training Loss : 3.430731697082519\n",
      "03/05 06:17:01 PM | Train Accuracy: 7.73% \n",
      "\n",
      "INFO:gal:Train Accuracy: 7.73% \n",
      "\n",
      "  3%|██▏                                                                         | 28/1000 [59:30<37:24:17, 138.54s/it]"
     ]
    },
    {
     "name": "stdout",
     "output_type": "stream",
     "text": [
      "\n",
      " | Global Training Round : 29 |\n",
      "\n"
     ]
    },
    {
     "name": "stderr",
     "output_type": "stream",
     "text": [
      "03/05 06:19:29 PM |  \n",
      "Avg Training Stats after 29 global rounds:\n",
      "INFO:gal: \n",
      "Avg Training Stats after 29 global rounds:\n",
      "03/05 06:19:29 PM | Training Loss : 3.510529294490815\n",
      "INFO:gal:Training Loss : 3.510529294490815\n",
      "03/05 06:19:29 PM | Train Accuracy: 8.53% \n",
      "\n",
      "INFO:gal:Train Accuracy: 8.53% \n",
      "\n",
      "  3%|██▏                                                                       | 29/1000 [1:01:59<38:11:33, 141.60s/it]"
     ]
    },
    {
     "name": "stdout",
     "output_type": "stream",
     "text": [
      "\n",
      " | Global Training Round : 30 |\n",
      "\n"
     ]
    },
    {
     "name": "stderr",
     "output_type": "stream",
     "text": [
      "03/05 06:21:47 PM |  \n",
      "Avg Training Stats after 30 global rounds:\n",
      "INFO:gal: \n",
      "Avg Training Stats after 30 global rounds:\n",
      "03/05 06:21:47 PM | Training Loss : 3.539985034942627\n",
      "INFO:gal:Training Loss : 3.539985034942627\n",
      "03/05 06:21:47 PM | Train Accuracy: 8.83% \n",
      "\n",
      "INFO:gal:Train Accuracy: 8.83% \n",
      "\n",
      "  3%|██▏                                                                       | 30/1000 [1:04:17<37:50:41, 140.45s/it]"
     ]
    },
    {
     "name": "stdout",
     "output_type": "stream",
     "text": [
      "\n",
      " | Global Training Round : 31 |\n",
      "\n"
     ]
    },
    {
     "name": "stderr",
     "output_type": "stream",
     "text": [
      "03/05 06:24:06 PM |  \n",
      "Avg Training Stats after 31 global rounds:\n",
      "INFO:gal: \n",
      "Avg Training Stats after 31 global rounds:\n",
      "03/05 06:24:06 PM | Training Loss : 3.390098604679108\n",
      "INFO:gal:Training Loss : 3.390098604679108\n",
      "03/05 06:24:06 PM | Train Accuracy: 8.02% \n",
      "\n",
      "INFO:gal:Train Accuracy: 8.02% \n",
      "\n",
      "  3%|██▎                                                                       | 31/1000 [1:06:36<37:42:14, 140.08s/it]"
     ]
    },
    {
     "name": "stdout",
     "output_type": "stream",
     "text": [
      "\n",
      " | Global Training Round : 32 |\n",
      "\n"
     ]
    },
    {
     "name": "stderr",
     "output_type": "stream",
     "text": [
      "03/05 06:26:27 PM |  \n",
      "Avg Training Stats after 32 global rounds:\n",
      "INFO:gal: \n",
      "Avg Training Stats after 32 global rounds:\n",
      "03/05 06:26:27 PM | Training Loss : 3.4159031581878656\n",
      "INFO:gal:Training Loss : 3.4159031581878656\n",
      "03/05 06:26:27 PM | Train Accuracy: 7.20% \n",
      "\n",
      "INFO:gal:Train Accuracy: 7.20% \n",
      "\n",
      "  3%|██▎                                                                       | 32/1000 [1:08:57<37:41:52, 140.20s/it]"
     ]
    },
    {
     "name": "stdout",
     "output_type": "stream",
     "text": [
      "\n",
      " | Global Training Round : 33 |\n",
      "\n"
     ]
    },
    {
     "name": "stderr",
     "output_type": "stream",
     "text": [
      "03/05 06:28:48 PM |  \n",
      "Avg Training Stats after 33 global rounds:\n",
      "INFO:gal: \n",
      "Avg Training Stats after 33 global rounds:\n",
      "03/05 06:28:48 PM | Training Loss : 3.486638191699982\n",
      "INFO:gal:Training Loss : 3.486638191699982\n",
      "03/05 06:28:48 PM | Train Accuracy: 6.22% \n",
      "\n",
      "INFO:gal:Train Accuracy: 6.22% \n",
      "\n",
      "  3%|██▍                                                                       | 33/1000 [1:11:18<37:45:38, 140.58s/it]"
     ]
    },
    {
     "name": "stdout",
     "output_type": "stream",
     "text": [
      "\n",
      " | Global Training Round : 34 |\n",
      "\n"
     ]
    },
    {
     "name": "stderr",
     "output_type": "stream",
     "text": [
      "03/05 06:31:10 PM |  \n",
      "Avg Training Stats after 34 global rounds:\n",
      "INFO:gal: \n",
      "Avg Training Stats after 34 global rounds:\n",
      "03/05 06:31:10 PM | Training Loss : 3.45720399093628\n",
      "INFO:gal:Training Loss : 3.45720399093628\n",
      "03/05 06:31:10 PM | Train Accuracy: 7.92% \n",
      "\n",
      "INFO:gal:Train Accuracy: 7.92% \n",
      "\n",
      "  3%|██▌                                                                       | 34/1000 [1:13:40<37:48:29, 140.90s/it]"
     ]
    },
    {
     "name": "stdout",
     "output_type": "stream",
     "text": [
      "\n",
      " | Global Training Round : 35 |\n",
      "\n"
     ]
    },
    {
     "name": "stderr",
     "output_type": "stream",
     "text": [
      "03/05 06:33:35 PM |  \n",
      "Avg Training Stats after 35 global rounds:\n",
      "INFO:gal: \n",
      "Avg Training Stats after 35 global rounds:\n",
      "03/05 06:33:35 PM | Training Loss : 3.3862671899795522\n",
      "INFO:gal:Training Loss : 3.3862671899795522\n",
      "03/05 06:33:35 PM | Train Accuracy: 9.21% \n",
      "\n",
      "INFO:gal:Train Accuracy: 9.21% \n",
      "\n",
      "  4%|██▌                                                                       | 35/1000 [1:16:05<38:05:58, 142.13s/it]"
     ]
    },
    {
     "name": "stdout",
     "output_type": "stream",
     "text": [
      "\n",
      " | Global Training Round : 36 |\n",
      "\n"
     ]
    },
    {
     "name": "stderr",
     "output_type": "stream",
     "text": [
      "03/05 06:36:34 PM |  \n",
      "Avg Training Stats after 36 global rounds:\n",
      "INFO:gal: \n",
      "Avg Training Stats after 36 global rounds:\n",
      "03/05 06:36:34 PM | Training Loss : 3.4050667891502386\n",
      "INFO:gal:Training Loss : 3.4050667891502386\n",
      "03/05 06:36:34 PM | Train Accuracy: 9.55% \n",
      "\n",
      "INFO:gal:Train Accuracy: 9.55% \n",
      "\n",
      "  4%|██▋                                                                       | 36/1000 [1:19:04<41:03:37, 153.34s/it]"
     ]
    },
    {
     "name": "stdout",
     "output_type": "stream",
     "text": [
      "\n",
      " | Global Training Round : 37 |\n",
      "\n"
     ]
    },
    {
     "name": "stderr",
     "output_type": "stream",
     "text": [
      "03/05 06:39:12 PM |  \n",
      "Avg Training Stats after 37 global rounds:\n",
      "INFO:gal: \n",
      "Avg Training Stats after 37 global rounds:\n",
      "03/05 06:39:12 PM | Training Loss : 3.4430451660156245\n",
      "INFO:gal:Training Loss : 3.4430451660156245\n",
      "03/05 06:39:12 PM | Train Accuracy: 9.22% \n",
      "\n",
      "INFO:gal:Train Accuracy: 9.22% \n",
      "\n",
      "  4%|██▋                                                                       | 37/1000 [1:21:42<41:21:31, 154.61s/it]"
     ]
    },
    {
     "name": "stdout",
     "output_type": "stream",
     "text": [
      "\n",
      " | Global Training Round : 38 |\n",
      "\n"
     ]
    },
    {
     "name": "stderr",
     "output_type": "stream",
     "text": [
      "03/05 06:41:40 PM |  \n",
      "Avg Training Stats after 38 global rounds:\n",
      "INFO:gal: \n",
      "Avg Training Stats after 38 global rounds:\n",
      "03/05 06:41:40 PM | Training Loss : 3.331032255649567\n",
      "INFO:gal:Training Loss : 3.331032255649567\n",
      "03/05 06:41:40 PM | Train Accuracy: 9.39% \n",
      "\n",
      "INFO:gal:Train Accuracy: 9.39% \n",
      "\n",
      "  4%|██▊                                                                       | 38/1000 [1:24:10<40:48:10, 152.69s/it]"
     ]
    },
    {
     "name": "stdout",
     "output_type": "stream",
     "text": [
      "\n",
      " | Global Training Round : 39 |\n",
      "\n"
     ]
    },
    {
     "name": "stderr",
     "output_type": "stream",
     "text": [
      "03/05 06:44:04 PM |  \n",
      "Avg Training Stats after 39 global rounds:\n",
      "INFO:gal: \n",
      "Avg Training Stats after 39 global rounds:\n",
      "03/05 06:44:04 PM | Training Loss : 3.44738247871399\n",
      "INFO:gal:Training Loss : 3.44738247871399\n",
      "03/05 06:44:04 PM | Train Accuracy: 9.06% \n",
      "\n",
      "INFO:gal:Train Accuracy: 9.06% \n",
      "\n",
      "  4%|██▉                                                                       | 39/1000 [1:26:34<40:04:57, 150.15s/it]"
     ]
    },
    {
     "name": "stdout",
     "output_type": "stream",
     "text": [
      "\n",
      " | Global Training Round : 40 |\n",
      "\n"
     ]
    },
    {
     "name": "stderr",
     "output_type": "stream",
     "text": [
      "03/05 06:46:32 PM |  \n",
      "Avg Training Stats after 40 global rounds:\n",
      "INFO:gal: \n",
      "Avg Training Stats after 40 global rounds:\n",
      "03/05 06:46:32 PM | Training Loss : 3.383617376804352\n",
      "INFO:gal:Training Loss : 3.383617376804352\n",
      "03/05 06:46:32 PM | Train Accuracy: 8.51% \n",
      "\n",
      "INFO:gal:Train Accuracy: 8.51% \n",
      "\n",
      "  4%|██▉                                                                       | 40/1000 [1:29:02<39:48:43, 149.30s/it]"
     ]
    },
    {
     "name": "stdout",
     "output_type": "stream",
     "text": [
      "\n",
      " | Global Training Round : 41 |\n",
      "\n"
     ]
    },
    {
     "name": "stderr",
     "output_type": "stream",
     "text": [
      "03/05 06:48:59 PM |  \n",
      "Avg Training Stats after 41 global rounds:\n",
      "INFO:gal: \n",
      "Avg Training Stats after 41 global rounds:\n",
      "03/05 06:48:59 PM | Training Loss : 3.3927107119560236\n",
      "INFO:gal:Training Loss : 3.3927107119560236\n",
      "03/05 06:48:59 PM | Train Accuracy: 7.98% \n",
      "\n",
      "INFO:gal:Train Accuracy: 7.98% \n",
      "\n",
      "  4%|███                                                                       | 41/1000 [1:31:29<39:35:01, 148.59s/it]"
     ]
    },
    {
     "name": "stdout",
     "output_type": "stream",
     "text": [
      "\n",
      " | Global Training Round : 42 |\n",
      "\n"
     ]
    },
    {
     "name": "stderr",
     "output_type": "stream",
     "text": [
      "03/05 06:51:26 PM |  \n",
      "Avg Training Stats after 42 global rounds:\n",
      "INFO:gal: \n",
      "Avg Training Stats after 42 global rounds:\n",
      "03/05 06:51:26 PM | Training Loss : 3.351015800476074\n",
      "INFO:gal:Training Loss : 3.351015800476074\n",
      "03/05 06:51:26 PM | Train Accuracy: 9.25% \n",
      "\n",
      "INFO:gal:Train Accuracy: 9.25% \n",
      "\n",
      "  4%|███                                                                       | 42/1000 [1:33:56<39:27:32, 148.28s/it]"
     ]
    },
    {
     "name": "stdout",
     "output_type": "stream",
     "text": [
      "\n",
      " | Global Training Round : 43 |\n",
      "\n"
     ]
    },
    {
     "name": "stderr",
     "output_type": "stream",
     "text": [
      "03/05 06:53:54 PM |  \n",
      "Avg Training Stats after 43 global rounds:\n",
      "INFO:gal: \n",
      "Avg Training Stats after 43 global rounds:\n",
      "03/05 06:53:54 PM | Training Loss : 3.360036171913146\n",
      "INFO:gal:Training Loss : 3.360036171913146\n",
      "03/05 06:53:54 PM | Train Accuracy: 9.39% \n",
      "\n",
      "INFO:gal:Train Accuracy: 9.39% \n",
      "\n",
      "  4%|███▏                                                                      | 43/1000 [1:36:24<39:22:05, 148.09s/it]"
     ]
    },
    {
     "name": "stdout",
     "output_type": "stream",
     "text": [
      "\n",
      " | Global Training Round : 44 |\n",
      "\n"
     ]
    },
    {
     "name": "stderr",
     "output_type": "stream",
     "text": [
      "03/05 06:56:24 PM |  \n",
      "Avg Training Stats after 44 global rounds:\n",
      "INFO:gal: \n",
      "Avg Training Stats after 44 global rounds:\n",
      "03/05 06:56:24 PM | Training Loss : 3.314339361667633\n",
      "INFO:gal:Training Loss : 3.314339361667633\n",
      "03/05 06:56:24 PM | Train Accuracy: 10.56% \n",
      "\n",
      "INFO:gal:Train Accuracy: 10.56% \n",
      "\n",
      "  4%|███▎                                                                      | 44/1000 [1:38:54<39:28:30, 148.65s/it]"
     ]
    },
    {
     "name": "stdout",
     "output_type": "stream",
     "text": [
      "\n",
      " | Global Training Round : 45 |\n",
      "\n"
     ]
    },
    {
     "name": "stderr",
     "output_type": "stream",
     "text": [
      "03/05 06:58:59 PM |  \n",
      "Avg Training Stats after 45 global rounds:\n",
      "INFO:gal: \n",
      "Avg Training Stats after 45 global rounds:\n",
      "03/05 06:58:59 PM | Training Loss : 3.252293933868409\n",
      "INFO:gal:Training Loss : 3.252293933868409\n",
      "03/05 06:58:59 PM | Train Accuracy: 10.20% \n",
      "\n",
      "INFO:gal:Train Accuracy: 10.20% \n",
      "\n",
      "  4%|███▎                                                                      | 45/1000 [1:41:29<39:55:20, 150.49s/it]"
     ]
    },
    {
     "name": "stdout",
     "output_type": "stream",
     "text": [
      "\n",
      " | Global Training Round : 46 |\n",
      "\n"
     ]
    },
    {
     "name": "stderr",
     "output_type": "stream",
     "text": [
      "03/05 07:01:32 PM |  \n",
      "Avg Training Stats after 46 global rounds:\n",
      "INFO:gal: \n",
      "Avg Training Stats after 46 global rounds:\n",
      "03/05 07:01:32 PM | Training Loss : 3.2336735444068903\n",
      "INFO:gal:Training Loss : 3.2336735444068903\n",
      "03/05 07:01:32 PM | Train Accuracy: 10.89% \n",
      "\n",
      "INFO:gal:Train Accuracy: 10.89% \n",
      "\n",
      "  5%|███▍                                                                      | 46/1000 [1:44:02<40:07:25, 151.41s/it]"
     ]
    },
    {
     "name": "stdout",
     "output_type": "stream",
     "text": [
      "\n",
      " | Global Training Round : 47 |\n",
      "\n"
     ]
    },
    {
     "name": "stderr",
     "output_type": "stream",
     "text": [
      "03/05 07:04:17 PM |  \n",
      "Avg Training Stats after 47 global rounds:\n",
      "INFO:gal: \n",
      "Avg Training Stats after 47 global rounds:\n",
      "03/05 07:04:17 PM | Training Loss : 3.3099397978782656\n",
      "INFO:gal:Training Loss : 3.3099397978782656\n",
      "03/05 07:04:17 PM | Train Accuracy: 11.36% \n",
      "\n",
      "INFO:gal:Train Accuracy: 11.36% \n",
      "\n",
      "  5%|███▍                                                                      | 47/1000 [1:46:47<41:07:01, 155.32s/it]"
     ]
    },
    {
     "name": "stdout",
     "output_type": "stream",
     "text": [
      "\n",
      " | Global Training Round : 48 |\n",
      "\n"
     ]
    },
    {
     "name": "stderr",
     "output_type": "stream",
     "text": [
      "03/05 07:06:50 PM |  \n",
      "Avg Training Stats after 48 global rounds:\n",
      "INFO:gal: \n",
      "Avg Training Stats after 48 global rounds:\n",
      "03/05 07:06:50 PM | Training Loss : 3.2646342649459843\n",
      "INFO:gal:Training Loss : 3.2646342649459843\n",
      "03/05 07:06:50 PM | Train Accuracy: 10.49% \n",
      "\n",
      "INFO:gal:Train Accuracy: 10.49% \n",
      "\n",
      "  5%|███▌                                                                      | 48/1000 [1:49:20<40:54:02, 154.67s/it]"
     ]
    },
    {
     "name": "stdout",
     "output_type": "stream",
     "text": [
      "\n",
      " | Global Training Round : 49 |\n",
      "\n"
     ]
    },
    {
     "name": "stderr",
     "output_type": "stream",
     "text": [
      "03/05 07:09:21 PM |  \n",
      "Avg Training Stats after 49 global rounds:\n",
      "INFO:gal: \n",
      "Avg Training Stats after 49 global rounds:\n",
      "03/05 07:09:21 PM | Training Loss : 3.232913478374481\n",
      "INFO:gal:Training Loss : 3.232913478374481\n",
      "03/05 07:09:21 PM | Train Accuracy: 11.80% \n",
      "\n",
      "INFO:gal:Train Accuracy: 11.80% \n",
      "\n",
      "  5%|███▋                                                                      | 49/1000 [1:51:51<40:36:53, 153.75s/it]"
     ]
    },
    {
     "name": "stdout",
     "output_type": "stream",
     "text": [
      "\n",
      " | Global Training Round : 50 |\n",
      "\n"
     ]
    },
    {
     "name": "stderr",
     "output_type": "stream",
     "text": [
      "03/05 07:11:54 PM |  \n",
      "Avg Training Stats after 50 global rounds:\n",
      "INFO:gal: \n",
      "Avg Training Stats after 50 global rounds:\n",
      "03/05 07:11:54 PM | Training Loss : 3.3460008931159972\n",
      "INFO:gal:Training Loss : 3.3460008931159972\n",
      "03/05 07:11:54 PM | Train Accuracy: 10.76% \n",
      "\n",
      "INFO:gal:Train Accuracy: 10.76% \n",
      "\n",
      "  5%|███▋                                                                      | 50/1000 [1:54:24<40:29:11, 153.42s/it]"
     ]
    },
    {
     "name": "stdout",
     "output_type": "stream",
     "text": [
      "\n",
      " | Global Training Round : 51 |\n",
      "\n"
     ]
    },
    {
     "name": "stderr",
     "output_type": "stream",
     "text": [
      "03/05 07:14:26 PM |  \n",
      "Avg Training Stats after 51 global rounds:\n",
      "INFO:gal: \n",
      "Avg Training Stats after 51 global rounds:\n",
      "03/05 07:14:26 PM | Training Loss : 3.3268651957511897\n",
      "INFO:gal:Training Loss : 3.3268651957511897\n",
      "03/05 07:14:26 PM | Train Accuracy: 12.37% \n",
      "\n",
      "INFO:gal:Train Accuracy: 12.37% \n",
      "\n",
      "  5%|███▊                                                                      | 51/1000 [1:56:56<40:19:34, 152.98s/it]"
     ]
    },
    {
     "name": "stdout",
     "output_type": "stream",
     "text": [
      "\n",
      " | Global Training Round : 52 |\n",
      "\n"
     ]
    },
    {
     "name": "stderr",
     "output_type": "stream",
     "text": [
      "03/05 07:16:58 PM |  \n",
      "Avg Training Stats after 52 global rounds:\n",
      "INFO:gal: \n",
      "Avg Training Stats after 52 global rounds:\n",
      "03/05 07:16:58 PM | Training Loss : 3.2192960543632507\n",
      "INFO:gal:Training Loss : 3.2192960543632507\n",
      "03/05 07:16:58 PM | Train Accuracy: 11.17% \n",
      "\n",
      "INFO:gal:Train Accuracy: 11.17% \n",
      "\n",
      "  5%|███▊                                                                      | 52/1000 [1:59:28<40:14:55, 152.84s/it]"
     ]
    },
    {
     "name": "stdout",
     "output_type": "stream",
     "text": [
      "\n",
      " | Global Training Round : 53 |\n",
      "\n"
     ]
    },
    {
     "name": "stderr",
     "output_type": "stream",
     "text": [
      "03/05 07:19:31 PM |  \n",
      "Avg Training Stats after 53 global rounds:\n",
      "INFO:gal: \n",
      "Avg Training Stats after 53 global rounds:\n",
      "03/05 07:19:31 PM | Training Loss : 3.2992154045104978\n",
      "INFO:gal:Training Loss : 3.2992154045104978\n",
      "03/05 07:19:31 PM | Train Accuracy: 11.58% \n",
      "\n",
      "INFO:gal:Train Accuracy: 11.58% \n",
      "\n",
      "  5%|███▉                                                                      | 53/1000 [2:02:01<40:12:25, 152.85s/it]"
     ]
    },
    {
     "name": "stdout",
     "output_type": "stream",
     "text": [
      "\n",
      " | Global Training Round : 54 |\n",
      "\n"
     ]
    },
    {
     "name": "stderr",
     "output_type": "stream",
     "text": [
      "03/05 07:22:06 PM |  \n",
      "Avg Training Stats after 54 global rounds:\n",
      "INFO:gal: \n",
      "Avg Training Stats after 54 global rounds:\n",
      "03/05 07:22:06 PM | Training Loss : 3.2023117904663088\n",
      "INFO:gal:Training Loss : 3.2023117904663088\n",
      "03/05 07:22:06 PM | Train Accuracy: 12.41% \n",
      "\n",
      "INFO:gal:Train Accuracy: 12.41% \n",
      "\n",
      "  5%|███▉                                                                      | 54/1000 [2:04:36<40:20:37, 153.53s/it]"
     ]
    },
    {
     "name": "stdout",
     "output_type": "stream",
     "text": [
      "\n",
      " | Global Training Round : 55 |\n",
      "\n"
     ]
    },
    {
     "name": "stderr",
     "output_type": "stream",
     "text": [
      "03/05 07:24:48 PM |  \n",
      "Avg Training Stats after 55 global rounds:\n",
      "INFO:gal: \n",
      "Avg Training Stats after 55 global rounds:\n",
      "03/05 07:24:48 PM | Training Loss : 3.2508791518211364\n",
      "INFO:gal:Training Loss : 3.2508791518211364\n",
      "03/05 07:24:48 PM | Train Accuracy: 11.64% \n",
      "\n",
      "INFO:gal:Train Accuracy: 11.64% \n",
      "\n",
      "  6%|████                                                                      | 55/1000 [2:07:18<40:55:36, 155.91s/it]"
     ]
    },
    {
     "name": "stdout",
     "output_type": "stream",
     "text": [
      "\n",
      " | Global Training Round : 56 |\n",
      "\n"
     ]
    },
    {
     "name": "stderr",
     "output_type": "stream",
     "text": [
      "03/05 07:27:29 PM |  \n",
      "Avg Training Stats after 56 global rounds:\n",
      "INFO:gal: \n",
      "Avg Training Stats after 56 global rounds:\n",
      "03/05 07:27:29 PM | Training Loss : 3.2505170173645026\n",
      "INFO:gal:Training Loss : 3.2505170173645026\n",
      "03/05 07:27:29 PM | Train Accuracy: 12.60% \n",
      "\n",
      "INFO:gal:Train Accuracy: 12.60% \n",
      "\n",
      "  6%|████▏                                                                     | 56/1000 [2:09:59<41:18:08, 157.51s/it]"
     ]
    },
    {
     "name": "stdout",
     "output_type": "stream",
     "text": [
      "\n",
      " | Global Training Round : 57 |\n",
      "\n"
     ]
    },
    {
     "name": "stderr",
     "output_type": "stream",
     "text": [
      "03/05 07:30:09 PM |  \n",
      "Avg Training Stats after 57 global rounds:\n",
      "INFO:gal: \n",
      "Avg Training Stats after 57 global rounds:\n",
      "03/05 07:30:09 PM | Training Loss : 3.2720830760002144\n",
      "INFO:gal:Training Loss : 3.2720830760002144\n",
      "03/05 07:30:09 PM | Train Accuracy: 11.85% \n",
      "\n",
      "INFO:gal:Train Accuracy: 11.85% \n",
      "\n",
      "  6%|████▏                                                                     | 57/1000 [2:12:39<41:28:28, 158.33s/it]"
     ]
    },
    {
     "name": "stdout",
     "output_type": "stream",
     "text": [
      "\n",
      " | Global Training Round : 58 |\n",
      "\n"
     ]
    },
    {
     "name": "stderr",
     "output_type": "stream",
     "text": [
      "03/05 07:33:00 PM |  \n",
      "Avg Training Stats after 58 global rounds:\n",
      "INFO:gal: \n",
      "Avg Training Stats after 58 global rounds:\n",
      "03/05 07:33:01 PM | Training Loss : 3.1658066549301145\n",
      "INFO:gal:Training Loss : 3.1658066549301145\n",
      "03/05 07:33:01 PM | Train Accuracy: 13.34% \n",
      "\n",
      "INFO:gal:Train Accuracy: 13.34% \n",
      "\n",
      "  6%|████▎                                                                     | 58/1000 [2:15:30<42:25:59, 162.17s/it]"
     ]
    },
    {
     "name": "stdout",
     "output_type": "stream",
     "text": [
      "\n",
      " | Global Training Round : 59 |\n",
      "\n"
     ]
    },
    {
     "name": "stderr",
     "output_type": "stream",
     "text": [
      "03/05 07:35:41 PM |  \n",
      "Avg Training Stats after 59 global rounds:\n",
      "INFO:gal: \n",
      "Avg Training Stats after 59 global rounds:\n",
      "03/05 07:35:41 PM | Training Loss : 3.150056947231292\n",
      "INFO:gal:Training Loss : 3.150056947231292\n",
      "03/05 07:35:41 PM | Train Accuracy: 12.82% \n",
      "\n",
      "INFO:gal:Train Accuracy: 12.82% \n",
      "\n",
      "  6%|████▎                                                                     | 59/1000 [2:18:11<42:13:30, 161.54s/it]"
     ]
    },
    {
     "name": "stdout",
     "output_type": "stream",
     "text": [
      "\n",
      " | Global Training Round : 60 |\n",
      "\n"
     ]
    },
    {
     "name": "stderr",
     "output_type": "stream",
     "text": [
      "03/05 07:38:21 PM |  \n",
      "Avg Training Stats after 60 global rounds:\n",
      "INFO:gal: \n",
      "Avg Training Stats after 60 global rounds:\n",
      "03/05 07:38:21 PM | Training Loss : 3.152901754617691\n",
      "INFO:gal:Training Loss : 3.152901754617691\n",
      "03/05 07:38:21 PM | Train Accuracy: 13.69% \n",
      "\n",
      "INFO:gal:Train Accuracy: 13.69% \n",
      "\n",
      "  6%|████▍                                                                     | 60/1000 [2:20:51<42:06:40, 161.28s/it]"
     ]
    },
    {
     "name": "stdout",
     "output_type": "stream",
     "text": [
      "\n",
      " | Global Training Round : 61 |\n",
      "\n"
     ]
    },
    {
     "name": "stderr",
     "output_type": "stream",
     "text": [
      "03/05 07:41:05 PM |  \n",
      "Avg Training Stats after 61 global rounds:\n",
      "INFO:gal: \n",
      "Avg Training Stats after 61 global rounds:\n",
      "03/05 07:41:05 PM | Training Loss : 3.229326581478118\n",
      "INFO:gal:Training Loss : 3.229326581478118\n",
      "03/05 07:41:05 PM | Train Accuracy: 11.03% \n",
      "\n",
      "INFO:gal:Train Accuracy: 11.03% \n",
      "\n",
      "  6%|████▌                                                                     | 61/1000 [2:23:35<42:16:27, 162.07s/it]"
     ]
    },
    {
     "name": "stdout",
     "output_type": "stream",
     "text": [
      "\n",
      " | Global Training Round : 62 |\n",
      "\n"
     ]
    },
    {
     "name": "stderr",
     "output_type": "stream",
     "text": [
      "03/05 07:43:49 PM |  \n",
      "Avg Training Stats after 62 global rounds:\n",
      "INFO:gal: \n",
      "Avg Training Stats after 62 global rounds:\n",
      "03/05 07:43:49 PM | Training Loss : 3.250021032333373\n",
      "INFO:gal:Training Loss : 3.250021032333373\n",
      "03/05 07:43:49 PM | Train Accuracy: 12.93% \n",
      "\n",
      "INFO:gal:Train Accuracy: 12.93% \n",
      "\n",
      "  6%|████▌                                                                     | 62/1000 [2:26:19<42:20:23, 162.50s/it]"
     ]
    },
    {
     "name": "stdout",
     "output_type": "stream",
     "text": [
      "\n",
      " | Global Training Round : 63 |\n",
      "\n"
     ]
    },
    {
     "name": "stderr",
     "output_type": "stream",
     "text": [
      "03/05 07:46:33 PM |  \n",
      "Avg Training Stats after 63 global rounds:\n",
      "INFO:gal: \n",
      "Avg Training Stats after 63 global rounds:\n",
      "03/05 07:46:33 PM | Training Loss : 3.1828755402564997\n",
      "INFO:gal:Training Loss : 3.1828755402564997\n",
      "03/05 07:46:33 PM | Train Accuracy: 12.45% \n",
      "\n",
      "INFO:gal:Train Accuracy: 12.45% \n",
      "\n",
      "  6%|████▋                                                                     | 63/1000 [2:29:03<42:27:20, 163.12s/it]"
     ]
    },
    {
     "name": "stdout",
     "output_type": "stream",
     "text": [
      "\n",
      " | Global Training Round : 64 |\n",
      "\n"
     ]
    },
    {
     "name": "stderr",
     "output_type": "stream",
     "text": [
      "03/05 07:49:20 PM |  \n",
      "Avg Training Stats after 64 global rounds:\n",
      "INFO:gal: \n",
      "Avg Training Stats after 64 global rounds:\n",
      "03/05 07:49:20 PM | Training Loss : 3.2533076462745667\n",
      "INFO:gal:Training Loss : 3.2533076462745667\n",
      "03/05 07:49:20 PM | Train Accuracy: 12.08% \n",
      "\n",
      "INFO:gal:Train Accuracy: 12.08% \n",
      "\n",
      "  6%|████▋                                                                     | 64/1000 [2:31:50<42:41:48, 164.22s/it]"
     ]
    },
    {
     "name": "stdout",
     "output_type": "stream",
     "text": [
      "\n",
      " | Global Training Round : 65 |\n",
      "\n"
     ]
    },
    {
     "name": "stderr",
     "output_type": "stream",
     "text": [
      "03/05 07:52:05 PM |  \n",
      "Avg Training Stats after 65 global rounds:\n",
      "INFO:gal: \n",
      "Avg Training Stats after 65 global rounds:\n",
      "03/05 07:52:05 PM | Training Loss : 3.2240848970413207\n",
      "INFO:gal:Training Loss : 3.2240848970413207\n",
      "03/05 07:52:05 PM | Train Accuracy: 12.84% \n",
      "\n",
      "INFO:gal:Train Accuracy: 12.84% \n",
      "\n",
      "  6%|████▊                                                                     | 65/1000 [2:34:35<42:43:22, 164.50s/it]"
     ]
    },
    {
     "name": "stdout",
     "output_type": "stream",
     "text": [
      "\n",
      " | Global Training Round : 66 |\n",
      "\n"
     ]
    },
    {
     "name": "stderr",
     "output_type": "stream",
     "text": [
      "03/05 07:54:49 PM |  \n",
      "Avg Training Stats after 66 global rounds:\n",
      "INFO:gal: \n",
      "Avg Training Stats after 66 global rounds:\n",
      "03/05 07:54:49 PM | Training Loss : 3.209200877666472\n",
      "INFO:gal:Training Loss : 3.209200877666472\n",
      "03/05 07:54:49 PM | Train Accuracy: 14.10% \n",
      "\n",
      "INFO:gal:Train Accuracy: 14.10% \n",
      "\n",
      "  7%|████▉                                                                     | 66/1000 [2:37:19<42:37:57, 164.32s/it]"
     ]
    },
    {
     "name": "stdout",
     "output_type": "stream",
     "text": [
      "\n",
      " | Global Training Round : 67 |\n",
      "\n"
     ]
    },
    {
     "name": "stderr",
     "output_type": "stream",
     "text": [
      "03/05 07:57:36 PM |  \n",
      "Avg Training Stats after 67 global rounds:\n",
      "INFO:gal: \n",
      "Avg Training Stats after 67 global rounds:\n",
      "03/05 07:57:36 PM | Training Loss : 3.1328536405563354\n",
      "INFO:gal:Training Loss : 3.1328536405563354\n",
      "03/05 07:57:36 PM | Train Accuracy: 15.06% \n",
      "\n",
      "INFO:gal:Train Accuracy: 15.06% \n",
      "\n",
      "  7%|████▉                                                                     | 67/1000 [2:40:05<42:45:21, 164.97s/it]"
     ]
    },
    {
     "name": "stdout",
     "output_type": "stream",
     "text": [
      "\n",
      " | Global Training Round : 68 |\n",
      "\n"
     ]
    },
    {
     "name": "stderr",
     "output_type": "stream",
     "text": [
      "03/05 08:00:18 PM |  \n",
      "Avg Training Stats after 68 global rounds:\n",
      "INFO:gal: \n",
      "Avg Training Stats after 68 global rounds:\n",
      "03/05 08:00:18 PM | Training Loss : 3.201307580947877\n",
      "INFO:gal:Training Loss : 3.201307580947877\n",
      "03/05 08:00:18 PM | Train Accuracy: 14.08% \n",
      "\n",
      "INFO:gal:Train Accuracy: 14.08% \n",
      "\n",
      "  7%|█████                                                                     | 68/1000 [2:42:48<42:32:49, 164.34s/it]"
     ]
    },
    {
     "name": "stdout",
     "output_type": "stream",
     "text": [
      "\n",
      " | Global Training Round : 69 |\n",
      "\n"
     ]
    },
    {
     "name": "stderr",
     "output_type": "stream",
     "text": [
      "03/05 08:03:03 PM |  \n",
      "Avg Training Stats after 69 global rounds:\n",
      "INFO:gal: \n",
      "Avg Training Stats after 69 global rounds:\n",
      "03/05 08:03:03 PM | Training Loss : 3.1550485730171203\n",
      "INFO:gal:Training Loss : 3.1550485730171203\n",
      "03/05 08:03:03 PM | Train Accuracy: 13.77% \n",
      "\n",
      "INFO:gal:Train Accuracy: 13.77% \n",
      "\n",
      "  7%|█████                                                                     | 69/1000 [2:45:33<42:32:36, 164.51s/it]"
     ]
    },
    {
     "name": "stdout",
     "output_type": "stream",
     "text": [
      "\n",
      " | Global Training Round : 70 |\n",
      "\n"
     ]
    },
    {
     "name": "stderr",
     "output_type": "stream",
     "text": [
      "03/05 08:05:49 PM |  \n",
      "Avg Training Stats after 70 global rounds:\n",
      "INFO:gal: \n",
      "Avg Training Stats after 70 global rounds:\n",
      "03/05 08:05:49 PM | Training Loss : 3.2016477060318\n",
      "INFO:gal:Training Loss : 3.2016477060318\n",
      "03/05 08:05:49 PM | Train Accuracy: 14.03% \n",
      "\n",
      "INFO:gal:Train Accuracy: 14.03% \n",
      "\n",
      "  7%|█████▏                                                                    | 70/1000 [2:48:19<42:36:19, 164.92s/it]"
     ]
    },
    {
     "name": "stdout",
     "output_type": "stream",
     "text": [
      "\n",
      " | Global Training Round : 71 |\n",
      "\n"
     ]
    },
    {
     "name": "stderr",
     "output_type": "stream",
     "text": [
      "03/05 08:08:41 PM |  \n",
      "Avg Training Stats after 71 global rounds:\n",
      "INFO:gal: \n",
      "Avg Training Stats after 71 global rounds:\n",
      "03/05 08:08:41 PM | Training Loss : 3.1939023666381843\n",
      "INFO:gal:Training Loss : 3.1939023666381843\n",
      "03/05 08:08:41 PM | Train Accuracy: 12.77% \n",
      "\n",
      "INFO:gal:Train Accuracy: 12.77% \n",
      "\n",
      "  7%|█████▎                                                                    | 71/1000 [2:51:11<43:06:13, 167.03s/it]"
     ]
    },
    {
     "name": "stdout",
     "output_type": "stream",
     "text": [
      "\n",
      " | Global Training Round : 72 |\n",
      "\n"
     ]
    },
    {
     "name": "stderr",
     "output_type": "stream",
     "text": [
      "03/05 08:11:34 PM |  \n",
      "Avg Training Stats after 72 global rounds:\n",
      "INFO:gal: \n",
      "Avg Training Stats after 72 global rounds:\n",
      "03/05 08:11:34 PM | Training Loss : 3.106070740699768\n",
      "INFO:gal:Training Loss : 3.106070740699768\n",
      "03/05 08:11:34 PM | Train Accuracy: 12.61% \n",
      "\n",
      "INFO:gal:Train Accuracy: 12.61% \n",
      "\n",
      "  7%|█████▎                                                                    | 72/1000 [2:54:04<43:28:21, 168.64s/it]"
     ]
    },
    {
     "name": "stdout",
     "output_type": "stream",
     "text": [
      "\n",
      " | Global Training Round : 73 |\n",
      "\n"
     ]
    },
    {
     "name": "stderr",
     "output_type": "stream",
     "text": [
      "03/05 08:14:25 PM |  \n",
      "Avg Training Stats after 73 global rounds:\n",
      "INFO:gal: \n",
      "Avg Training Stats after 73 global rounds:\n",
      "03/05 08:14:25 PM | Training Loss : 3.2099293527603145\n",
      "INFO:gal:Training Loss : 3.2099293527603145\n",
      "03/05 08:14:25 PM | Train Accuracy: 15.19% \n",
      "\n",
      "INFO:gal:Train Accuracy: 15.19% \n",
      "\n",
      "  7%|█████▍                                                                    | 73/1000 [2:56:55<43:37:10, 169.40s/it]"
     ]
    },
    {
     "name": "stdout",
     "output_type": "stream",
     "text": [
      "\n",
      " | Global Training Round : 74 |\n",
      "\n"
     ]
    },
    {
     "name": "stderr",
     "output_type": "stream",
     "text": [
      "03/05 08:17:18 PM |  \n",
      "Avg Training Stats after 74 global rounds:\n",
      "INFO:gal: \n",
      "Avg Training Stats after 74 global rounds:\n",
      "03/05 08:17:18 PM | Training Loss : 3.16565962266922\n",
      "INFO:gal:Training Loss : 3.16565962266922\n",
      "03/05 08:17:18 PM | Train Accuracy: 13.32% \n",
      "\n",
      "INFO:gal:Train Accuracy: 13.32% \n",
      "\n",
      "  7%|█████▍                                                                    | 74/1000 [2:59:48<43:53:15, 170.62s/it]"
     ]
    },
    {
     "name": "stdout",
     "output_type": "stream",
     "text": [
      "\n",
      " | Global Training Round : 75 |\n",
      "\n"
     ]
    },
    {
     "name": "stderr",
     "output_type": "stream",
     "text": [
      "03/05 08:20:10 PM |  \n",
      "Avg Training Stats after 75 global rounds:\n",
      "INFO:gal: \n",
      "Avg Training Stats after 75 global rounds:\n",
      "03/05 08:20:10 PM | Training Loss : 3.1519248857498168\n",
      "INFO:gal:Training Loss : 3.1519248857498168\n",
      "03/05 08:20:10 PM | Train Accuracy: 14.73% \n",
      "\n",
      "INFO:gal:Train Accuracy: 14.73% \n",
      "\n",
      "  8%|█████▌                                                                    | 75/1000 [3:02:40<43:53:54, 170.85s/it]"
     ]
    },
    {
     "name": "stdout",
     "output_type": "stream",
     "text": [
      "\n",
      " | Global Training Round : 76 |\n",
      "\n"
     ]
    },
    {
     "name": "stderr",
     "output_type": "stream",
     "text": [
      "03/05 08:23:06 PM |  \n",
      "Avg Training Stats after 76 global rounds:\n",
      "INFO:gal: \n",
      "Avg Training Stats after 76 global rounds:\n",
      "03/05 08:23:06 PM | Training Loss : 3.0493145213127133\n",
      "INFO:gal:Training Loss : 3.0493145213127133\n",
      "03/05 08:23:06 PM | Train Accuracy: 15.43% \n",
      "\n",
      "INFO:gal:Train Accuracy: 15.43% \n",
      "\n",
      "  8%|█████▌                                                                    | 76/1000 [3:05:36<44:15:47, 172.45s/it]"
     ]
    },
    {
     "name": "stdout",
     "output_type": "stream",
     "text": [
      "\n",
      " | Global Training Round : 77 |\n",
      "\n"
     ]
    },
    {
     "name": "stderr",
     "output_type": "stream",
     "text": [
      "03/05 08:25:59 PM |  \n",
      "Avg Training Stats after 77 global rounds:\n",
      "INFO:gal: \n",
      "Avg Training Stats after 77 global rounds:\n",
      "03/05 08:25:59 PM | Training Loss : 3.068932360649109\n",
      "INFO:gal:Training Loss : 3.068932360649109\n",
      "03/05 08:25:59 PM | Train Accuracy: 14.16% \n",
      "\n",
      "INFO:gal:Train Accuracy: 14.16% \n",
      "\n",
      "  8%|█████▋                                                                    | 77/1000 [3:08:29<44:18:14, 172.80s/it]"
     ]
    },
    {
     "name": "stdout",
     "output_type": "stream",
     "text": [
      "\n",
      " | Global Training Round : 78 |\n",
      "\n"
     ]
    },
    {
     "name": "stderr",
     "output_type": "stream",
     "text": [
      "03/05 08:28:55 PM |  \n",
      "Avg Training Stats after 78 global rounds:\n",
      "INFO:gal: \n",
      "Avg Training Stats after 78 global rounds:\n",
      "03/05 08:28:55 PM | Training Loss : 3.0409564681053167\n",
      "INFO:gal:Training Loss : 3.0409564681053167\n",
      "03/05 08:28:55 PM | Train Accuracy: 14.73% \n",
      "\n",
      "INFO:gal:Train Accuracy: 14.73% \n",
      "\n",
      "  8%|█████▊                                                                    | 78/1000 [3:11:25<44:28:28, 173.65s/it]"
     ]
    },
    {
     "name": "stdout",
     "output_type": "stream",
     "text": [
      "\n",
      " | Global Training Round : 79 |\n",
      "\n"
     ]
    },
    {
     "name": "stderr",
     "output_type": "stream",
     "text": [
      "03/05 08:31:51 PM |  \n",
      "Avg Training Stats after 79 global rounds:\n",
      "INFO:gal: \n",
      "Avg Training Stats after 79 global rounds:\n",
      "03/05 08:31:51 PM | Training Loss : 3.119327620983124\n",
      "INFO:gal:Training Loss : 3.119327620983124\n",
      "03/05 08:31:51 PM | Train Accuracy: 15.52% \n",
      "\n",
      "INFO:gal:Train Accuracy: 15.52% \n",
      "\n",
      "  8%|█████▊                                                                    | 79/1000 [3:14:21<44:35:44, 174.32s/it]"
     ]
    },
    {
     "name": "stdout",
     "output_type": "stream",
     "text": [
      "\n",
      " | Global Training Round : 80 |\n",
      "\n"
     ]
    },
    {
     "name": "stderr",
     "output_type": "stream",
     "text": [
      "03/05 08:34:47 PM |  \n",
      "Avg Training Stats after 80 global rounds:\n",
      "INFO:gal: \n",
      "Avg Training Stats after 80 global rounds:\n",
      "03/05 08:34:47 PM | Training Loss : 3.1131387958526617\n",
      "INFO:gal:Training Loss : 3.1131387958526617\n",
      "03/05 08:34:47 PM | Train Accuracy: 15.85% \n",
      "\n",
      "INFO:gal:Train Accuracy: 15.85% \n",
      "\n",
      "  8%|█████▉                                                                    | 80/1000 [3:17:17<44:42:16, 174.93s/it]"
     ]
    },
    {
     "name": "stdout",
     "output_type": "stream",
     "text": [
      "\n",
      " | Global Training Round : 81 |\n",
      "\n"
     ]
    },
    {
     "name": "stderr",
     "output_type": "stream",
     "text": [
      "03/05 08:37:47 PM |  \n",
      "Avg Training Stats after 81 global rounds:\n",
      "INFO:gal: \n",
      "Avg Training Stats after 81 global rounds:\n",
      "03/05 08:37:47 PM | Training Loss : 2.9941094765663157\n",
      "INFO:gal:Training Loss : 2.9941094765663157\n",
      "03/05 08:37:47 PM | Train Accuracy: 16.48% \n",
      "\n",
      "INFO:gal:Train Accuracy: 16.48% \n",
      "\n",
      "  8%|█████▉                                                                    | 81/1000 [3:20:17<45:00:45, 176.33s/it]"
     ]
    },
    {
     "name": "stdout",
     "output_type": "stream",
     "text": [
      "\n",
      " | Global Training Round : 82 |\n",
      "\n"
     ]
    },
    {
     "name": "stderr",
     "output_type": "stream",
     "text": [
      "03/05 08:40:48 PM |  \n",
      "Avg Training Stats after 82 global rounds:\n",
      "INFO:gal: \n",
      "Avg Training Stats after 82 global rounds:\n",
      "03/05 08:40:48 PM | Training Loss : 3.055597370624542\n",
      "INFO:gal:Training Loss : 3.055597370624542\n",
      "03/05 08:40:48 PM | Train Accuracy: 15.04% \n",
      "\n",
      "INFO:gal:Train Accuracy: 15.04% \n",
      "\n",
      "  8%|██████                                                                    | 82/1000 [3:23:18<45:19:36, 177.75s/it]"
     ]
    },
    {
     "name": "stdout",
     "output_type": "stream",
     "text": [
      "\n",
      " | Global Training Round : 83 |\n",
      "\n"
     ]
    },
    {
     "name": "stderr",
     "output_type": "stream",
     "text": [
      "03/05 08:43:48 PM |  \n",
      "Avg Training Stats after 83 global rounds:\n",
      "INFO:gal: \n",
      "Avg Training Stats after 83 global rounds:\n",
      "03/05 08:43:48 PM | Training Loss : 3.103160871505738\n",
      "INFO:gal:Training Loss : 3.103160871505738\n",
      "03/05 08:43:48 PM | Train Accuracy: 12.46% \n",
      "\n",
      "INFO:gal:Train Accuracy: 12.46% \n",
      "\n",
      "  8%|██████▏                                                                   | 83/1000 [3:26:18<45:27:12, 178.44s/it]"
     ]
    },
    {
     "name": "stdout",
     "output_type": "stream",
     "text": [
      "\n",
      " | Global Training Round : 84 |\n",
      "\n"
     ]
    },
    {
     "name": "stderr",
     "output_type": "stream",
     "text": [
      "03/05 08:46:43 PM |  \n",
      "Avg Training Stats after 84 global rounds:\n",
      "INFO:gal: \n",
      "Avg Training Stats after 84 global rounds:\n",
      "03/05 08:46:43 PM | Training Loss : 3.1695930919647215\n",
      "INFO:gal:Training Loss : 3.1695930919647215\n",
      "03/05 08:46:43 PM | Train Accuracy: 14.41% \n",
      "\n",
      "INFO:gal:Train Accuracy: 14.41% \n",
      "\n",
      "  8%|██████▏                                                                   | 84/1000 [3:29:13<45:06:55, 177.31s/it]"
     ]
    },
    {
     "name": "stdout",
     "output_type": "stream",
     "text": [
      "\n",
      " | Global Training Round : 85 |\n",
      "\n"
     ]
    },
    {
     "name": "stderr",
     "output_type": "stream",
     "text": [
      "03/05 08:49:40 PM |  \n",
      "Avg Training Stats after 85 global rounds:\n",
      "INFO:gal: \n",
      "Avg Training Stats after 85 global rounds:\n",
      "03/05 08:49:40 PM | Training Loss : 3.0927771253585807\n",
      "INFO:gal:Training Loss : 3.0927771253585807\n",
      "03/05 08:49:40 PM | Train Accuracy: 15.41% \n",
      "\n",
      "INFO:gal:Train Accuracy: 15.41% \n",
      "\n",
      "  8%|██████▎                                                                   | 85/1000 [3:32:10<45:05:15, 177.39s/it]"
     ]
    },
    {
     "name": "stdout",
     "output_type": "stream",
     "text": [
      "\n",
      " | Global Training Round : 86 |\n",
      "\n"
     ]
    },
    {
     "name": "stderr",
     "output_type": "stream",
     "text": [
      "03/05 08:52:38 PM |  \n",
      "Avg Training Stats after 86 global rounds:\n",
      "INFO:gal: \n",
      "Avg Training Stats after 86 global rounds:\n",
      "03/05 08:52:38 PM | Training Loss : 3.12950053691864\n",
      "INFO:gal:Training Loss : 3.12950053691864\n",
      "03/05 08:52:38 PM | Train Accuracy: 15.47% \n",
      "\n",
      "INFO:gal:Train Accuracy: 15.47% \n",
      "\n",
      "  9%|██████▎                                                                   | 86/1000 [3:35:08<45:03:35, 177.48s/it]"
     ]
    },
    {
     "name": "stdout",
     "output_type": "stream",
     "text": [
      "\n",
      " | Global Training Round : 87 |\n",
      "\n"
     ]
    },
    {
     "name": "stderr",
     "output_type": "stream",
     "text": [
      "03/05 08:55:37 PM |  \n",
      "Avg Training Stats after 87 global rounds:\n",
      "INFO:gal: \n",
      "Avg Training Stats after 87 global rounds:\n",
      "03/05 08:55:37 PM | Training Loss : 3.025551462173461\n",
      "INFO:gal:Training Loss : 3.025551462173461\n",
      "03/05 08:55:37 PM | Train Accuracy: 16.64% \n",
      "\n",
      "INFO:gal:Train Accuracy: 16.64% \n",
      "\n",
      "  9%|██████▍                                                                   | 87/1000 [3:38:07<45:07:06, 177.90s/it]"
     ]
    },
    {
     "name": "stdout",
     "output_type": "stream",
     "text": [
      "\n",
      " | Global Training Round : 88 |\n",
      "\n"
     ]
    },
    {
     "name": "stderr",
     "output_type": "stream",
     "text": [
      "03/05 08:58:42 PM |  \n",
      "Avg Training Stats after 88 global rounds:\n",
      "INFO:gal: \n",
      "Avg Training Stats after 88 global rounds:\n",
      "03/05 08:58:42 PM | Training Loss : 3.0154796833992\n",
      "INFO:gal:Training Loss : 3.0154796833992\n",
      "03/05 08:58:42 PM | Train Accuracy: 16.31% \n",
      "\n",
      "INFO:gal:Train Accuracy: 16.31% \n",
      "\n",
      "  9%|██████▌                                                                   | 88/1000 [3:41:12<45:39:21, 180.22s/it]"
     ]
    },
    {
     "name": "stdout",
     "output_type": "stream",
     "text": [
      "\n",
      " | Global Training Round : 89 |\n",
      "\n"
     ]
    },
    {
     "name": "stderr",
     "output_type": "stream",
     "text": [
      "03/05 09:01:40 PM |  \n",
      "Avg Training Stats after 89 global rounds:\n",
      "INFO:gal: \n",
      "Avg Training Stats after 89 global rounds:\n",
      "03/05 09:01:40 PM | Training Loss : 2.9929011592864994\n",
      "INFO:gal:Training Loss : 2.9929011592864994\n",
      "03/05 09:01:40 PM | Train Accuracy: 17.23% \n",
      "\n",
      "INFO:gal:Train Accuracy: 17.23% \n",
      "\n",
      "  9%|██████▌                                                                   | 89/1000 [3:44:10<45:24:33, 179.44s/it]"
     ]
    },
    {
     "name": "stdout",
     "output_type": "stream",
     "text": [
      "\n",
      " | Global Training Round : 90 |\n",
      "\n"
     ]
    },
    {
     "name": "stderr",
     "output_type": "stream",
     "text": [
      "03/05 09:04:40 PM |  \n",
      "Avg Training Stats after 90 global rounds:\n",
      "INFO:gal: \n",
      "Avg Training Stats after 90 global rounds:\n",
      "03/05 09:04:40 PM | Training Loss : 3.053015654563903\n",
      "INFO:gal:Training Loss : 3.053015654563903\n",
      "03/05 09:04:40 PM | Train Accuracy: 16.58% \n",
      "\n",
      "INFO:gal:Train Accuracy: 16.58% \n",
      "\n",
      "  9%|██████▋                                                                   | 90/1000 [3:47:10<45:22:27, 179.50s/it]"
     ]
    },
    {
     "name": "stdout",
     "output_type": "stream",
     "text": [
      "\n",
      " | Global Training Round : 91 |\n",
      "\n"
     ]
    },
    {
     "name": "stderr",
     "output_type": "stream",
     "text": [
      "03/05 09:07:40 PM |  \n",
      "Avg Training Stats after 91 global rounds:\n",
      "INFO:gal: \n",
      "Avg Training Stats after 91 global rounds:\n",
      "03/05 09:07:40 PM | Training Loss : 2.9833959074020386\n",
      "INFO:gal:Training Loss : 2.9833959074020386\n",
      "03/05 09:07:40 PM | Train Accuracy: 16.95% \n",
      "\n",
      "INFO:gal:Train Accuracy: 16.95% \n",
      "\n",
      "  9%|██████▋                                                                   | 91/1000 [3:50:10<45:24:33, 179.84s/it]"
     ]
    },
    {
     "name": "stdout",
     "output_type": "stream",
     "text": [
      "\n",
      " | Global Training Round : 92 |\n",
      "\n"
     ]
    },
    {
     "name": "stderr",
     "output_type": "stream",
     "text": [
      "03/05 09:10:40 PM |  \n",
      "Avg Training Stats after 92 global rounds:\n",
      "INFO:gal: \n",
      "Avg Training Stats after 92 global rounds:\n",
      "03/05 09:10:40 PM | Training Loss : 2.9452032413482665\n",
      "INFO:gal:Training Loss : 2.9452032413482665\n",
      "03/05 09:10:40 PM | Train Accuracy: 16.39% \n",
      "\n",
      "INFO:gal:Train Accuracy: 16.39% \n",
      "\n",
      "  9%|██████▊                                                                   | 92/1000 [3:53:10<45:22:27, 179.90s/it]"
     ]
    },
    {
     "name": "stdout",
     "output_type": "stream",
     "text": [
      "\n",
      " | Global Training Round : 93 |\n",
      "\n"
     ]
    },
    {
     "name": "stderr",
     "output_type": "stream",
     "text": [
      "03/05 09:13:41 PM |  \n",
      "Avg Training Stats after 93 global rounds:\n",
      "INFO:gal: \n",
      "Avg Training Stats after 93 global rounds:\n",
      "03/05 09:13:41 PM | Training Loss : 3.021971847057342\n",
      "INFO:gal:Training Loss : 3.021971847057342\n",
      "03/05 09:13:41 PM | Train Accuracy: 16.63% \n",
      "\n",
      "INFO:gal:Train Accuracy: 16.63% \n",
      "\n",
      "  9%|██████▉                                                                   | 93/1000 [3:56:11<45:24:56, 180.26s/it]"
     ]
    },
    {
     "name": "stdout",
     "output_type": "stream",
     "text": [
      "\n",
      " | Global Training Round : 94 |\n",
      "\n"
     ]
    },
    {
     "name": "stderr",
     "output_type": "stream",
     "text": [
      "03/05 09:16:47 PM |  \n",
      "Avg Training Stats after 94 global rounds:\n",
      "INFO:gal: \n",
      "Avg Training Stats after 94 global rounds:\n",
      "03/05 09:16:47 PM | Training Loss : 3.0038158926963803\n",
      "INFO:gal:Training Loss : 3.0038158926963803\n",
      "03/05 09:16:47 PM | Train Accuracy: 17.13% \n",
      "\n",
      "INFO:gal:Train Accuracy: 17.13% \n",
      "\n",
      "  9%|██████▉                                                                   | 94/1000 [3:59:17<45:46:05, 181.86s/it]"
     ]
    },
    {
     "name": "stdout",
     "output_type": "stream",
     "text": [
      "\n",
      " | Global Training Round : 95 |\n",
      "\n"
     ]
    },
    {
     "name": "stderr",
     "output_type": "stream",
     "text": [
      "03/05 09:19:50 PM |  \n",
      "Avg Training Stats after 95 global rounds:\n",
      "INFO:gal: \n",
      "Avg Training Stats after 95 global rounds:\n",
      "03/05 09:19:50 PM | Training Loss : 3.024750092029572\n",
      "INFO:gal:Training Loss : 3.024750092029572\n",
      "03/05 09:19:50 PM | Train Accuracy: 17.40% \n",
      "\n",
      "INFO:gal:Train Accuracy: 17.40% \n",
      "\n",
      " 10%|███████                                                                   | 95/1000 [4:02:20<45:47:37, 182.16s/it]"
     ]
    },
    {
     "name": "stdout",
     "output_type": "stream",
     "text": [
      "\n",
      " | Global Training Round : 96 |\n",
      "\n"
     ]
    },
    {
     "name": "stderr",
     "output_type": "stream",
     "text": [
      "03/05 09:22:56 PM |  \n",
      "Avg Training Stats after 96 global rounds:\n",
      "INFO:gal: \n",
      "Avg Training Stats after 96 global rounds:\n",
      "03/05 09:22:56 PM | Training Loss : 3.0553260149955745\n",
      "INFO:gal:Training Loss : 3.0553260149955745\n",
      "03/05 09:22:56 PM | Train Accuracy: 17.12% \n",
      "\n",
      "INFO:gal:Train Accuracy: 17.12% \n",
      "\n",
      " 10%|███████                                                                   | 96/1000 [4:05:26<46:01:36, 183.29s/it]"
     ]
    },
    {
     "name": "stdout",
     "output_type": "stream",
     "text": [
      "\n",
      " | Global Training Round : 97 |\n",
      "\n"
     ]
    },
    {
     "name": "stderr",
     "output_type": "stream",
     "text": [
      "03/05 09:26:02 PM |  \n",
      "Avg Training Stats after 97 global rounds:\n",
      "INFO:gal: \n",
      "Avg Training Stats after 97 global rounds:\n",
      "03/05 09:26:02 PM | Training Loss : 2.9656887803077696\n",
      "INFO:gal:Training Loss : 2.9656887803077696\n",
      "03/05 09:26:02 PM | Train Accuracy: 15.01% \n",
      "\n",
      "INFO:gal:Train Accuracy: 15.01% \n",
      "\n",
      " 10%|███████▏                                                                  | 97/1000 [4:08:32<46:11:05, 184.13s/it]"
     ]
    },
    {
     "name": "stdout",
     "output_type": "stream",
     "text": [
      "\n",
      " | Global Training Round : 98 |\n",
      "\n"
     ]
    },
    {
     "name": "stderr",
     "output_type": "stream",
     "text": [
      "03/05 09:29:06 PM |  \n",
      "Avg Training Stats after 98 global rounds:\n",
      "INFO:gal: \n",
      "Avg Training Stats after 98 global rounds:\n",
      "03/05 09:29:06 PM | Training Loss : 3.030429440975189\n",
      "INFO:gal:Training Loss : 3.030429440975189\n",
      "03/05 09:29:06 PM | Train Accuracy: 16.07% \n",
      "\n",
      "INFO:gal:Train Accuracy: 16.07% \n",
      "\n",
      " 10%|███████▎                                                                  | 98/1000 [4:11:36<46:08:53, 184.18s/it]"
     ]
    },
    {
     "name": "stdout",
     "output_type": "stream",
     "text": [
      "\n",
      " | Global Training Round : 99 |\n",
      "\n"
     ]
    },
    {
     "name": "stderr",
     "output_type": "stream",
     "text": [
      "03/05 09:32:12 PM |  \n",
      "Avg Training Stats after 99 global rounds:\n",
      "INFO:gal: \n",
      "Avg Training Stats after 99 global rounds:\n",
      "03/05 09:32:12 PM | Training Loss : 3.020712199211121\n",
      "INFO:gal:Training Loss : 3.020712199211121\n",
      "03/05 09:32:12 PM | Train Accuracy: 16.81% \n",
      "\n",
      "INFO:gal:Train Accuracy: 16.81% \n",
      "\n",
      " 10%|███████▎                                                                  | 99/1000 [4:14:42<46:14:48, 184.78s/it]"
     ]
    },
    {
     "name": "stdout",
     "output_type": "stream",
     "text": [
      "\n",
      " | Global Training Round : 100 |\n",
      "\n"
     ]
    },
    {
     "name": "stderr",
     "output_type": "stream",
     "text": [
      "03/05 09:35:15 PM |  \n",
      "Avg Training Stats after 100 global rounds:\n",
      "INFO:gal: \n",
      "Avg Training Stats after 100 global rounds:\n",
      "03/05 09:35:15 PM | Training Loss : 3.0221990566253667\n",
      "INFO:gal:Training Loss : 3.0221990566253667\n",
      "03/05 09:35:15 PM | Train Accuracy: 18.19% \n",
      "\n",
      "INFO:gal:Train Accuracy: 18.19% \n",
      "\n",
      " 10%|███████▎                                                                 | 100/1000 [4:17:45<46:03:07, 184.21s/it]"
     ]
    },
    {
     "name": "stdout",
     "output_type": "stream",
     "text": [
      "\n",
      " | Global Training Round : 101 |\n",
      "\n"
     ]
    },
    {
     "name": "stderr",
     "output_type": "stream",
     "text": [
      "03/05 09:38:26 PM |  \n",
      "Avg Training Stats after 101 global rounds:\n",
      "INFO:gal: \n",
      "Avg Training Stats after 101 global rounds:\n",
      "03/05 09:38:26 PM | Training Loss : 2.963684670925141\n",
      "INFO:gal:Training Loss : 2.963684670925141\n",
      "03/05 09:38:26 PM | Train Accuracy: 18.64% \n",
      "\n",
      "INFO:gal:Train Accuracy: 18.64% \n",
      "\n",
      " 10%|███████▎                                                                 | 101/1000 [4:20:56<46:28:47, 186.13s/it]"
     ]
    },
    {
     "name": "stdout",
     "output_type": "stream",
     "text": [
      "\n",
      " | Global Training Round : 102 |\n",
      "\n"
     ]
    },
    {
     "name": "stderr",
     "output_type": "stream",
     "text": [
      "03/05 09:41:37 PM |  \n",
      "Avg Training Stats after 102 global rounds:\n",
      "INFO:gal: \n",
      "Avg Training Stats after 102 global rounds:\n",
      "03/05 09:41:37 PM | Training Loss : 2.9466618318557742\n",
      "INFO:gal:Training Loss : 2.9466618318557742\n",
      "03/05 09:41:37 PM | Train Accuracy: 17.07% \n",
      "\n",
      "INFO:gal:Train Accuracy: 17.07% \n",
      "\n",
      " 10%|███████▍                                                                 | 102/1000 [4:24:07<46:46:52, 187.54s/it]"
     ]
    },
    {
     "name": "stdout",
     "output_type": "stream",
     "text": [
      "\n",
      " | Global Training Round : 103 |\n",
      "\n"
     ]
    },
    {
     "name": "stderr",
     "output_type": "stream",
     "text": [
      "03/05 09:44:48 PM |  \n",
      "Avg Training Stats after 103 global rounds:\n",
      "INFO:gal: \n",
      "Avg Training Stats after 103 global rounds:\n",
      "03/05 09:44:48 PM | Training Loss : 3.0206162414550772\n",
      "INFO:gal:Training Loss : 3.0206162414550772\n",
      "03/05 09:44:48 PM | Train Accuracy: 17.12% \n",
      "\n",
      "INFO:gal:Train Accuracy: 17.12% \n",
      "\n",
      " 10%|███████▌                                                                 | 103/1000 [4:27:18<46:59:56, 188.62s/it]"
     ]
    },
    {
     "name": "stdout",
     "output_type": "stream",
     "text": [
      "\n",
      " | Global Training Round : 104 |\n",
      "\n"
     ]
    },
    {
     "name": "stderr",
     "output_type": "stream",
     "text": [
      "03/05 09:47:58 PM |  \n",
      "Avg Training Stats after 104 global rounds:\n",
      "INFO:gal: \n",
      "Avg Training Stats after 104 global rounds:\n",
      "03/05 09:47:58 PM | Training Loss : 2.977284342288972\n",
      "INFO:gal:Training Loss : 2.977284342288972\n",
      "03/05 09:47:58 PM | Train Accuracy: 16.20% \n",
      "\n",
      "INFO:gal:Train Accuracy: 16.20% \n",
      "\n",
      " 10%|███████▌                                                                 | 104/1000 [4:30:28<47:03:42, 189.09s/it]"
     ]
    },
    {
     "name": "stdout",
     "output_type": "stream",
     "text": [
      "\n",
      " | Global Training Round : 105 |\n",
      "\n"
     ]
    },
    {
     "name": "stderr",
     "output_type": "stream",
     "text": [
      "03/05 09:51:12 PM |  \n",
      "Avg Training Stats after 105 global rounds:\n",
      "INFO:gal: \n",
      "Avg Training Stats after 105 global rounds:\n",
      "03/05 09:51:12 PM | Training Loss : 2.9732278666496272\n",
      "INFO:gal:Training Loss : 2.9732278666496272\n",
      "03/05 09:51:13 PM | Train Accuracy: 16.79% \n",
      "\n",
      "INFO:gal:Train Accuracy: 16.79% \n",
      "\n",
      " 10%|███████▋                                                                 | 105/1000 [4:33:42<47:24:24, 190.69s/it]"
     ]
    },
    {
     "name": "stdout",
     "output_type": "stream",
     "text": [
      "\n",
      " | Global Training Round : 106 |\n",
      "\n"
     ]
    },
    {
     "name": "stderr",
     "output_type": "stream",
     "text": [
      "03/05 09:54:27 PM |  \n",
      "Avg Training Stats after 106 global rounds:\n",
      "INFO:gal: \n",
      "Avg Training Stats after 106 global rounds:\n",
      "03/05 09:54:27 PM | Training Loss : 2.9803950357437152\n",
      "INFO:gal:Training Loss : 2.9803950357437152\n",
      "03/05 09:54:27 PM | Train Accuracy: 18.39% \n",
      "\n",
      "INFO:gal:Train Accuracy: 18.39% \n",
      "\n",
      " 11%|███████▋                                                                 | 106/1000 [4:36:56<47:36:17, 191.70s/it]"
     ]
    },
    {
     "name": "stdout",
     "output_type": "stream",
     "text": [
      "\n",
      " | Global Training Round : 107 |\n",
      "\n"
     ]
    },
    {
     "name": "stderr",
     "output_type": "stream",
     "text": [
      "03/05 09:57:37 PM |  \n",
      "Avg Training Stats after 107 global rounds:\n",
      "INFO:gal: \n",
      "Avg Training Stats after 107 global rounds:\n",
      "03/05 09:57:37 PM | Training Loss : 2.924106495857239\n",
      "INFO:gal:Training Loss : 2.924106495857239\n",
      "03/05 09:57:37 PM | Train Accuracy: 16.39% \n",
      "\n",
      "INFO:gal:Train Accuracy: 16.39% \n",
      "\n",
      " 11%|███████▊                                                                 | 107/1000 [4:40:07<47:29:18, 191.44s/it]"
     ]
    },
    {
     "name": "stdout",
     "output_type": "stream",
     "text": [
      "\n",
      " | Global Training Round : 108 |\n",
      "\n"
     ]
    },
    {
     "name": "stderr",
     "output_type": "stream",
     "text": [
      "03/05 10:00:58 PM |  \n",
      "Avg Training Stats after 108 global rounds:\n",
      "INFO:gal: \n",
      "Avg Training Stats after 108 global rounds:\n",
      "03/05 10:00:58 PM | Training Loss : 2.9963072872161867\n",
      "INFO:gal:Training Loss : 2.9963072872161867\n",
      "03/05 10:00:58 PM | Train Accuracy: 19.17% \n",
      "\n",
      "INFO:gal:Train Accuracy: 19.17% \n",
      "\n",
      " 11%|███████▉                                                                 | 108/1000 [4:43:28<48:07:55, 194.26s/it]"
     ]
    },
    {
     "name": "stdout",
     "output_type": "stream",
     "text": [
      "\n",
      " | Global Training Round : 109 |\n",
      "\n"
     ]
    },
    {
     "name": "stderr",
     "output_type": "stream",
     "text": [
      "03/05 10:04:22 PM |  \n",
      "Avg Training Stats after 109 global rounds:\n",
      "INFO:gal: \n",
      "Avg Training Stats after 109 global rounds:\n",
      "03/05 10:04:22 PM | Training Loss : 2.984154564380647\n",
      "INFO:gal:Training Loss : 2.984154564380647\n",
      "03/05 10:04:22 PM | Train Accuracy: 18.72% \n",
      "\n",
      "INFO:gal:Train Accuracy: 18.72% \n",
      "\n",
      " 11%|███████▉                                                                 | 109/1000 [4:46:52<48:45:25, 197.00s/it]"
     ]
    },
    {
     "name": "stdout",
     "output_type": "stream",
     "text": [
      "\n",
      " | Global Training Round : 110 |\n",
      "\n"
     ]
    },
    {
     "name": "stderr",
     "output_type": "stream",
     "text": [
      "03/05 10:07:36 PM |  \n",
      "Avg Training Stats after 110 global rounds:\n",
      "INFO:gal: \n",
      "Avg Training Stats after 110 global rounds:\n",
      "03/05 10:07:36 PM | Training Loss : 2.9483235073089604\n",
      "INFO:gal:Training Loss : 2.9483235073089604\n",
      "03/05 10:07:36 PM | Train Accuracy: 19.76% \n",
      "\n",
      "INFO:gal:Train Accuracy: 19.76% \n",
      "\n",
      " 11%|████████                                                                 | 110/1000 [4:50:06<48:31:27, 196.28s/it]"
     ]
    },
    {
     "name": "stdout",
     "output_type": "stream",
     "text": [
      "\n",
      " | Global Training Round : 111 |\n",
      "\n"
     ]
    },
    {
     "name": "stderr",
     "output_type": "stream",
     "text": [
      "03/05 10:10:51 PM |  \n",
      "Avg Training Stats after 111 global rounds:\n",
      "INFO:gal: \n",
      "Avg Training Stats after 111 global rounds:\n",
      "03/05 10:10:51 PM | Training Loss : 2.943253578186035\n",
      "INFO:gal:Training Loss : 2.943253578186035\n",
      "03/05 10:10:51 PM | Train Accuracy: 18.77% \n",
      "\n",
      "INFO:gal:Train Accuracy: 18.77% \n",
      "\n",
      " 11%|████████                                                                 | 111/1000 [4:53:21<48:22:33, 195.90s/it]"
     ]
    },
    {
     "name": "stdout",
     "output_type": "stream",
     "text": [
      "\n",
      " | Global Training Round : 112 |\n",
      "\n"
     ]
    },
    {
     "name": "stderr",
     "output_type": "stream",
     "text": [
      "03/05 10:14:04 PM |  \n",
      "Avg Training Stats after 112 global rounds:\n",
      "INFO:gal: \n",
      "Avg Training Stats after 112 global rounds:\n",
      "03/05 10:14:04 PM | Training Loss : 2.931169926643372\n",
      "INFO:gal:Training Loss : 2.931169926643372\n",
      "03/05 10:14:04 PM | Train Accuracy: 18.21% \n",
      "\n",
      "INFO:gal:Train Accuracy: 18.21% \n",
      "\n",
      " 11%|████████▏                                                                | 112/1000 [4:56:34<48:07:26, 195.10s/it]"
     ]
    },
    {
     "name": "stdout",
     "output_type": "stream",
     "text": [
      "\n",
      " | Global Training Round : 113 |\n",
      "\n"
     ]
    },
    {
     "name": "stderr",
     "output_type": "stream",
     "text": [
      "03/05 10:17:22 PM |  \n",
      "Avg Training Stats after 113 global rounds:\n",
      "INFO:gal: \n",
      "Avg Training Stats after 113 global rounds:\n",
      "03/05 10:17:22 PM | Training Loss : 2.8375301237106316\n",
      "INFO:gal:Training Loss : 2.8375301237106316\n",
      "03/05 10:17:22 PM | Train Accuracy: 16.90% \n",
      "\n",
      "INFO:gal:Train Accuracy: 16.90% \n",
      "\n",
      " 11%|████████▏                                                                | 113/1000 [4:59:52<48:13:49, 195.75s/it]"
     ]
    },
    {
     "name": "stdout",
     "output_type": "stream",
     "text": [
      "\n",
      " | Global Training Round : 114 |\n",
      "\n"
     ]
    },
    {
     "name": "stderr",
     "output_type": "stream",
     "text": [
      "03/05 10:20:38 PM |  \n",
      "Avg Training Stats after 114 global rounds:\n",
      "INFO:gal: \n",
      "Avg Training Stats after 114 global rounds:\n",
      "03/05 10:20:38 PM | Training Loss : 2.9962881646156294\n",
      "INFO:gal:Training Loss : 2.9962881646156294\n",
      "03/05 10:20:38 PM | Train Accuracy: 18.57% \n",
      "\n",
      "INFO:gal:Train Accuracy: 18.57% \n",
      "\n",
      " 11%|████████▎                                                                | 114/1000 [5:03:08<48:14:28, 196.01s/it]"
     ]
    },
    {
     "name": "stdout",
     "output_type": "stream",
     "text": [
      "\n",
      " | Global Training Round : 115 |\n",
      "\n"
     ]
    },
    {
     "name": "stderr",
     "output_type": "stream",
     "text": [
      "03/05 10:24:00 PM |  \n",
      "Avg Training Stats after 115 global rounds:\n",
      "INFO:gal: \n",
      "Avg Training Stats after 115 global rounds:\n",
      "03/05 10:24:00 PM | Training Loss : 2.916647099018098\n",
      "INFO:gal:Training Loss : 2.916647099018098\n",
      "03/05 10:24:00 PM | Train Accuracy: 17.99% \n",
      "\n",
      "INFO:gal:Train Accuracy: 17.99% \n",
      "\n",
      " 12%|████████▍                                                                | 115/1000 [5:06:30<48:34:51, 197.62s/it]"
     ]
    },
    {
     "name": "stdout",
     "output_type": "stream",
     "text": [
      "\n",
      " | Global Training Round : 116 |\n",
      "\n"
     ]
    },
    {
     "name": "stderr",
     "output_type": "stream",
     "text": [
      "03/05 10:27:18 PM |  \n",
      "Avg Training Stats after 116 global rounds:\n",
      "INFO:gal: \n",
      "Avg Training Stats after 116 global rounds:\n",
      "03/05 10:27:18 PM | Training Loss : 2.9271579413414\n",
      "INFO:gal:Training Loss : 2.9271579413414\n",
      "03/05 10:27:18 PM | Train Accuracy: 17.81% \n",
      "\n",
      "INFO:gal:Train Accuracy: 17.81% \n",
      "\n",
      " 12%|████████▍                                                                | 116/1000 [5:09:48<48:32:39, 197.69s/it]"
     ]
    },
    {
     "name": "stdout",
     "output_type": "stream",
     "text": [
      "\n",
      " | Global Training Round : 117 |\n",
      "\n"
     ]
    },
    {
     "name": "stderr",
     "output_type": "stream",
     "text": [
      "03/05 10:30:34 PM |  \n",
      "Avg Training Stats after 117 global rounds:\n",
      "INFO:gal: \n",
      "Avg Training Stats after 117 global rounds:\n",
      "03/05 10:30:34 PM | Training Loss : 3.0286456379890443\n",
      "INFO:gal:Training Loss : 3.0286456379890443\n",
      "03/05 10:30:34 PM | Train Accuracy: 19.73% \n",
      "\n",
      "INFO:gal:Train Accuracy: 19.73% \n",
      "\n",
      " 12%|████████▌                                                                | 117/1000 [5:13:04<48:24:39, 197.37s/it]"
     ]
    },
    {
     "name": "stdout",
     "output_type": "stream",
     "text": [
      "\n",
      " | Global Training Round : 118 |\n",
      "\n"
     ]
    },
    {
     "name": "stderr",
     "output_type": "stream",
     "text": [
      "03/05 10:33:52 PM |  \n",
      "Avg Training Stats after 118 global rounds:\n",
      "INFO:gal: \n",
      "Avg Training Stats after 118 global rounds:\n",
      "03/05 10:33:52 PM | Training Loss : 2.9310353431701657\n",
      "INFO:gal:Training Loss : 2.9310353431701657\n",
      "03/05 10:33:52 PM | Train Accuracy: 19.37% \n",
      "\n",
      "INFO:gal:Train Accuracy: 19.37% \n",
      "\n",
      " 12%|████████▌                                                                | 118/1000 [5:16:22<48:24:04, 197.56s/it]"
     ]
    },
    {
     "name": "stdout",
     "output_type": "stream",
     "text": [
      "\n",
      " | Global Training Round : 119 |\n",
      "\n"
     ]
    },
    {
     "name": "stderr",
     "output_type": "stream",
     "text": [
      "03/05 10:37:17 PM |  \n",
      "Avg Training Stats after 119 global rounds:\n",
      "INFO:gal: \n",
      "Avg Training Stats after 119 global rounds:\n",
      "03/05 10:37:17 PM | Training Loss : 2.973424765110016\n",
      "INFO:gal:Training Loss : 2.973424765110016\n",
      "03/05 10:37:17 PM | Train Accuracy: 19.90% \n",
      "\n",
      "INFO:gal:Train Accuracy: 19.90% \n",
      "\n",
      " 12%|████████▋                                                                | 119/1000 [5:19:47<48:52:24, 199.71s/it]"
     ]
    },
    {
     "name": "stdout",
     "output_type": "stream",
     "text": [
      "\n",
      " | Global Training Round : 120 |\n",
      "\n"
     ]
    },
    {
     "name": "stderr",
     "output_type": "stream",
     "text": [
      "03/05 10:40:40 PM |  \n",
      "Avg Training Stats after 120 global rounds:\n",
      "INFO:gal: \n",
      "Avg Training Stats after 120 global rounds:\n",
      "03/05 10:40:41 PM | Training Loss : 2.8596367664337157\n",
      "INFO:gal:Training Loss : 2.8596367664337157\n",
      "03/05 10:40:41 PM | Train Accuracy: 17.99% \n",
      "\n",
      "INFO:gal:Train Accuracy: 17.99% \n",
      "\n",
      " 12%|████████▊                                                                | 120/1000 [5:23:10<49:06:11, 200.88s/it]"
     ]
    },
    {
     "name": "stdout",
     "output_type": "stream",
     "text": [
      "\n",
      " | Global Training Round : 121 |\n",
      "\n"
     ]
    },
    {
     "name": "stderr",
     "output_type": "stream",
     "text": [
      "03/05 10:44:07 PM |  \n",
      "Avg Training Stats after 121 global rounds:\n",
      "INFO:gal: \n",
      "Avg Training Stats after 121 global rounds:\n",
      "03/05 10:44:07 PM | Training Loss : 2.900985476016998\n",
      "INFO:gal:Training Loss : 2.900985476016998\n",
      "03/05 10:44:07 PM | Train Accuracy: 19.30% \n",
      "\n",
      "INFO:gal:Train Accuracy: 19.30% \n",
      "\n",
      " 12%|████████▊                                                                | 121/1000 [5:26:37<49:26:20, 202.48s/it]"
     ]
    },
    {
     "name": "stdout",
     "output_type": "stream",
     "text": [
      "\n",
      " | Global Training Round : 122 |\n",
      "\n"
     ]
    },
    {
     "name": "stderr",
     "output_type": "stream",
     "text": [
      "03/05 10:47:28 PM |  \n",
      "Avg Training Stats after 122 global rounds:\n",
      "INFO:gal: \n",
      "Avg Training Stats after 122 global rounds:\n",
      "03/05 10:47:28 PM | Training Loss : 2.8590171570777896\n",
      "INFO:gal:Training Loss : 2.8590171570777896\n",
      "03/05 10:47:28 PM | Train Accuracy: 18.51% \n",
      "\n",
      "INFO:gal:Train Accuracy: 18.51% \n",
      "\n",
      " 12%|████████▉                                                                | 122/1000 [5:29:58<49:18:41, 202.19s/it]"
     ]
    },
    {
     "name": "stdout",
     "output_type": "stream",
     "text": [
      "\n",
      " | Global Training Round : 123 |\n",
      "\n"
     ]
    },
    {
     "name": "stderr",
     "output_type": "stream",
     "text": [
      "03/05 10:50:53 PM |  \n",
      "Avg Training Stats after 123 global rounds:\n",
      "INFO:gal: \n",
      "Avg Training Stats after 123 global rounds:\n",
      "03/05 10:50:53 PM | Training Loss : 2.805657906532288\n",
      "INFO:gal:Training Loss : 2.805657906532288\n",
      "03/05 10:50:53 PM | Train Accuracy: 19.79% \n",
      "\n",
      "INFO:gal:Train Accuracy: 19.79% \n",
      "\n",
      " 12%|████████▉                                                                | 123/1000 [5:33:23<49:28:05, 203.06s/it]"
     ]
    },
    {
     "name": "stdout",
     "output_type": "stream",
     "text": [
      "\n",
      " | Global Training Round : 124 |\n",
      "\n"
     ]
    },
    {
     "name": "stderr",
     "output_type": "stream",
     "text": [
      "03/05 10:54:17 PM |  \n",
      "Avg Training Stats after 124 global rounds:\n",
      "INFO:gal: \n",
      "Avg Training Stats after 124 global rounds:\n",
      "03/05 10:54:17 PM | Training Loss : 2.8944665393829343\n",
      "INFO:gal:Training Loss : 2.8944665393829343\n",
      "03/05 10:54:17 PM | Train Accuracy: 20.14% \n",
      "\n",
      "INFO:gal:Train Accuracy: 20.14% \n",
      "\n",
      " 12%|█████████                                                                | 124/1000 [5:36:47<49:27:36, 203.26s/it]"
     ]
    },
    {
     "name": "stdout",
     "output_type": "stream",
     "text": [
      "\n",
      " | Global Training Round : 125 |\n",
      "\n"
     ]
    },
    {
     "name": "stderr",
     "output_type": "stream",
     "text": [
      "03/05 10:57:44 PM |  \n",
      "Avg Training Stats after 125 global rounds:\n",
      "INFO:gal: \n",
      "Avg Training Stats after 125 global rounds:\n",
      "03/05 10:57:44 PM | Training Loss : 2.849247578382492\n",
      "INFO:gal:Training Loss : 2.849247578382492\n",
      "03/05 10:57:44 PM | Train Accuracy: 19.68% \n",
      "\n",
      "INFO:gal:Train Accuracy: 19.68% \n",
      "\n",
      " 12%|█████████▏                                                               | 125/1000 [5:40:14<49:38:34, 204.25s/it]"
     ]
    },
    {
     "name": "stdout",
     "output_type": "stream",
     "text": [
      "\n",
      " | Global Training Round : 126 |\n",
      "\n"
     ]
    },
    {
     "name": "stderr",
     "output_type": "stream",
     "text": [
      "03/05 11:01:14 PM |  \n",
      "Avg Training Stats after 126 global rounds:\n",
      "INFO:gal: \n",
      "Avg Training Stats after 126 global rounds:\n",
      "03/05 11:01:14 PM | Training Loss : 2.9026987581253056\n",
      "INFO:gal:Training Loss : 2.9026987581253056\n",
      "03/05 11:01:14 PM | Train Accuracy: 19.14% \n",
      "\n",
      "INFO:gal:Train Accuracy: 19.14% \n",
      "\n",
      " 13%|█████████▏                                                               | 126/1000 [5:43:44<50:03:38, 206.20s/it]"
     ]
    },
    {
     "name": "stdout",
     "output_type": "stream",
     "text": [
      "\n",
      " | Global Training Round : 127 |\n",
      "\n"
     ]
    },
    {
     "name": "stderr",
     "output_type": "stream",
     "text": [
      "03/05 11:04:44 PM |  \n",
      "Avg Training Stats after 127 global rounds:\n",
      "INFO:gal: \n",
      "Avg Training Stats after 127 global rounds:\n",
      "03/05 11:04:44 PM | Training Loss : 2.888164319038392\n",
      "INFO:gal:Training Loss : 2.888164319038392\n",
      "03/05 11:04:44 PM | Train Accuracy: 17.96% \n",
      "\n",
      "INFO:gal:Train Accuracy: 17.96% \n",
      "\n",
      " 13%|█████████▎                                                               | 127/1000 [5:47:14<50:15:18, 207.24s/it]"
     ]
    },
    {
     "name": "stdout",
     "output_type": "stream",
     "text": [
      "\n",
      " | Global Training Round : 128 |\n",
      "\n"
     ]
    },
    {
     "name": "stderr",
     "output_type": "stream",
     "text": [
      "03/05 11:08:20 PM |  \n",
      "Avg Training Stats after 128 global rounds:\n",
      "INFO:gal: \n",
      "Avg Training Stats after 128 global rounds:\n",
      "03/05 11:08:20 PM | Training Loss : 2.8890699386596674\n",
      "INFO:gal:Training Loss : 2.8890699386596674\n",
      "03/05 11:08:20 PM | Train Accuracy: 20.76% \n",
      "\n",
      "INFO:gal:Train Accuracy: 20.76% \n",
      "\n",
      " 13%|█████████▎                                                               | 128/1000 [5:50:50<50:50:44, 209.91s/it]"
     ]
    },
    {
     "name": "stdout",
     "output_type": "stream",
     "text": [
      "\n",
      " | Global Training Round : 129 |\n",
      "\n"
     ]
    },
    {
     "name": "stderr",
     "output_type": "stream",
     "text": [
      "03/05 11:11:48 PM |  \n",
      "Avg Training Stats after 129 global rounds:\n",
      "INFO:gal: \n",
      "Avg Training Stats after 129 global rounds:\n",
      "03/05 11:11:48 PM | Training Loss : 2.889586923599243\n",
      "INFO:gal:Training Loss : 2.889586923599243\n",
      "03/05 11:11:48 PM | Train Accuracy: 19.84% \n",
      "\n",
      "INFO:gal:Train Accuracy: 19.84% \n",
      "\n",
      " 13%|█████████▍                                                               | 129/1000 [5:54:18<50:37:02, 209.21s/it]"
     ]
    },
    {
     "name": "stdout",
     "output_type": "stream",
     "text": [
      "\n",
      " | Global Training Round : 130 |\n",
      "\n"
     ]
    },
    {
     "name": "stderr",
     "output_type": "stream",
     "text": [
      "03/05 11:15:22 PM |  \n",
      "Avg Training Stats after 130 global rounds:\n",
      "INFO:gal: \n",
      "Avg Training Stats after 130 global rounds:\n",
      "03/05 11:15:22 PM | Training Loss : 2.9180143680572517\n",
      "INFO:gal:Training Loss : 2.9180143680572517\n",
      "03/05 11:15:22 PM | Train Accuracy: 19.71% \n",
      "\n",
      "INFO:gal:Train Accuracy: 19.71% \n",
      "\n",
      " 13%|█████████▍                                                               | 130/1000 [5:57:52<50:56:12, 210.77s/it]"
     ]
    },
    {
     "name": "stdout",
     "output_type": "stream",
     "text": [
      "\n",
      " | Global Training Round : 131 |\n",
      "\n"
     ]
    },
    {
     "name": "stderr",
     "output_type": "stream",
     "text": [
      "03/05 11:18:54 PM |  \n",
      "Avg Training Stats after 131 global rounds:\n",
      "INFO:gal: \n",
      "Avg Training Stats after 131 global rounds:\n",
      "03/05 11:18:54 PM | Training Loss : 2.8014685082435604\n",
      "INFO:gal:Training Loss : 2.8014685082435604\n",
      "03/05 11:18:54 PM | Train Accuracy: 20.38% \n",
      "\n",
      "INFO:gal:Train Accuracy: 20.38% \n",
      "\n",
      " 13%|█████████▌                                                               | 131/1000 [6:01:24<50:57:15, 211.09s/it]"
     ]
    },
    {
     "name": "stdout",
     "output_type": "stream",
     "text": [
      "\n",
      " | Global Training Round : 132 |\n",
      "\n"
     ]
    },
    {
     "name": "stderr",
     "output_type": "stream",
     "text": [
      "03/05 11:22:24 PM |  \n",
      "Avg Training Stats after 132 global rounds:\n",
      "INFO:gal: \n",
      "Avg Training Stats after 132 global rounds:\n",
      "03/05 11:22:24 PM | Training Loss : 2.816456721544266\n",
      "INFO:gal:Training Loss : 2.816456721544266\n",
      "03/05 11:22:24 PM | Train Accuracy: 21.07% \n",
      "\n",
      "INFO:gal:Train Accuracy: 21.07% \n",
      "\n",
      " 13%|█████████▋                                                               | 132/1000 [6:04:54<50:47:09, 210.63s/it]"
     ]
    },
    {
     "name": "stdout",
     "output_type": "stream",
     "text": [
      "\n",
      " | Global Training Round : 133 |\n",
      "\n"
     ]
    },
    {
     "name": "stderr",
     "output_type": "stream",
     "text": [
      "03/05 11:25:56 PM |  \n",
      "Avg Training Stats after 133 global rounds:\n",
      "INFO:gal: \n",
      "Avg Training Stats after 133 global rounds:\n",
      "03/05 11:25:56 PM | Training Loss : 2.9073400969505316\n",
      "INFO:gal:Training Loss : 2.9073400969505316\n",
      "03/05 11:25:56 PM | Train Accuracy: 21.21% \n",
      "\n",
      "INFO:gal:Train Accuracy: 21.21% \n",
      "\n",
      " 13%|█████████▋                                                               | 133/1000 [6:08:26<50:53:09, 211.29s/it]"
     ]
    },
    {
     "name": "stdout",
     "output_type": "stream",
     "text": [
      "\n",
      " | Global Training Round : 134 |\n",
      "\n"
     ]
    },
    {
     "name": "stderr",
     "output_type": "stream",
     "text": [
      "03/05 11:29:26 PM |  \n",
      "Avg Training Stats after 134 global rounds:\n",
      "INFO:gal: \n",
      "Avg Training Stats after 134 global rounds:\n",
      "03/05 11:29:26 PM | Training Loss : 2.8436217637062065\n",
      "INFO:gal:Training Loss : 2.8436217637062065\n",
      "03/05 11:29:26 PM | Train Accuracy: 20.29% \n",
      "\n",
      "INFO:gal:Train Accuracy: 20.29% \n",
      "\n",
      " 13%|█████████▊                                                               | 134/1000 [6:11:56<50:42:20, 210.79s/it]"
     ]
    },
    {
     "name": "stdout",
     "output_type": "stream",
     "text": [
      "\n",
      " | Global Training Round : 135 |\n",
      "\n"
     ]
    },
    {
     "name": "stderr",
     "output_type": "stream",
     "text": [
      "03/05 11:33:15 PM |  \n",
      "Avg Training Stats after 135 global rounds:\n",
      "INFO:gal: \n",
      "Avg Training Stats after 135 global rounds:\n",
      "03/05 11:33:15 PM | Training Loss : 2.8574883027076714\n",
      "INFO:gal:Training Loss : 2.8574883027076714\n",
      "03/05 11:33:15 PM | Train Accuracy: 18.94% \n",
      "\n",
      "INFO:gal:Train Accuracy: 18.94% \n",
      "\n",
      " 14%|█████████▊                                                               | 135/1000 [6:15:45<51:59:06, 216.35s/it]"
     ]
    },
    {
     "name": "stdout",
     "output_type": "stream",
     "text": [
      "\n",
      " | Global Training Round : 136 |\n",
      "\n"
     ]
    },
    {
     "name": "stderr",
     "output_type": "stream",
     "text": [
      "03/05 11:36:55 PM |  \n",
      "Avg Training Stats after 136 global rounds:\n",
      "INFO:gal: \n",
      "Avg Training Stats after 136 global rounds:\n",
      "03/05 11:36:55 PM | Training Loss : 2.9349244341850285\n",
      "INFO:gal:Training Loss : 2.9349244341850285\n",
      "03/05 11:36:55 PM | Train Accuracy: 21.00% \n",
      "\n",
      "INFO:gal:Train Accuracy: 21.00% \n",
      "\n",
      " 14%|█████████▉                                                               | 136/1000 [6:19:25<52:10:30, 217.40s/it]"
     ]
    },
    {
     "name": "stdout",
     "output_type": "stream",
     "text": [
      "\n",
      " | Global Training Round : 137 |\n",
      "\n"
     ]
    },
    {
     "name": "stderr",
     "output_type": "stream",
     "text": [
      "03/05 11:40:46 PM |  \n",
      "Avg Training Stats after 137 global rounds:\n",
      "INFO:gal: \n",
      "Avg Training Stats after 137 global rounds:\n",
      "03/05 11:40:46 PM | Training Loss : 2.863700964927672\n",
      "INFO:gal:Training Loss : 2.863700964927672\n",
      "03/05 11:40:46 PM | Train Accuracy: 21.62% \n",
      "\n",
      "INFO:gal:Train Accuracy: 21.62% \n",
      "\n",
      " 14%|██████████                                                               | 137/1000 [6:23:16<53:05:17, 221.46s/it]"
     ]
    },
    {
     "name": "stdout",
     "output_type": "stream",
     "text": [
      "\n",
      " | Global Training Round : 138 |\n",
      "\n"
     ]
    },
    {
     "name": "stderr",
     "output_type": "stream",
     "text": [
      "03/05 11:44:31 PM |  \n",
      "Avg Training Stats after 138 global rounds:\n",
      "INFO:gal: \n",
      "Avg Training Stats after 138 global rounds:\n",
      "03/05 11:44:31 PM | Training Loss : 2.8150607585906977\n",
      "INFO:gal:Training Loss : 2.8150607585906977\n",
      "03/05 11:44:31 PM | Train Accuracy: 22.11% \n",
      "\n",
      "INFO:gal:Train Accuracy: 22.11% \n",
      "\n",
      " 14%|██████████                                                               | 138/1000 [6:27:01<53:18:25, 222.63s/it]"
     ]
    },
    {
     "name": "stdout",
     "output_type": "stream",
     "text": [
      "\n",
      " | Global Training Round : 139 |\n",
      "\n"
     ]
    },
    {
     "name": "stderr",
     "output_type": "stream",
     "text": [
      "03/05 11:48:08 PM |  \n",
      "Avg Training Stats after 139 global rounds:\n",
      "INFO:gal: \n",
      "Avg Training Stats after 139 global rounds:\n",
      "03/05 11:48:08 PM | Training Loss : 2.8053931717872627\n",
      "INFO:gal:Training Loss : 2.8053931717872627\n",
      "03/05 11:48:08 PM | Train Accuracy: 20.59% \n",
      "\n",
      "INFO:gal:Train Accuracy: 20.59% \n",
      "\n",
      " 14%|██████████▏                                                              | 139/1000 [6:30:38<52:48:37, 220.81s/it]"
     ]
    },
    {
     "name": "stdout",
     "output_type": "stream",
     "text": [
      "\n",
      " | Global Training Round : 140 |\n",
      "\n"
     ]
    },
    {
     "name": "stderr",
     "output_type": "stream",
     "text": [
      "03/05 11:51:43 PM |  \n",
      "Avg Training Stats after 140 global rounds:\n",
      "INFO:gal: \n",
      "Avg Training Stats after 140 global rounds:\n",
      "03/05 11:51:43 PM | Training Loss : 2.7995062127113335\n",
      "INFO:gal:Training Loss : 2.7995062127113335\n",
      "03/05 11:51:43 PM | Train Accuracy: 20.56% \n",
      "\n",
      "INFO:gal:Train Accuracy: 20.56% \n",
      "\n",
      " 14%|██████████▏                                                              | 140/1000 [6:34:13<52:18:22, 218.96s/it]"
     ]
    },
    {
     "name": "stdout",
     "output_type": "stream",
     "text": [
      "\n",
      " | Global Training Round : 141 |\n",
      "\n"
     ]
    },
    {
     "name": "stderr",
     "output_type": "stream",
     "text": [
      "03/05 11:55:21 PM |  \n",
      "Avg Training Stats after 141 global rounds:\n",
      "INFO:gal: \n",
      "Avg Training Stats after 141 global rounds:\n",
      "03/05 11:55:21 PM | Training Loss : 2.8611352643966677\n",
      "INFO:gal:Training Loss : 2.8611352643966677\n",
      "03/05 11:55:21 PM | Train Accuracy: 19.85% \n",
      "\n",
      "INFO:gal:Train Accuracy: 19.85% \n",
      "\n",
      " 14%|██████████▎                                                              | 141/1000 [6:37:51<52:11:27, 218.73s/it]"
     ]
    },
    {
     "name": "stdout",
     "output_type": "stream",
     "text": [
      "\n",
      " | Global Training Round : 142 |\n",
      "\n"
     ]
    },
    {
     "name": "stderr",
     "output_type": "stream",
     "text": [
      "03/05 11:59:06 PM |  \n",
      "Avg Training Stats after 142 global rounds:\n",
      "INFO:gal: \n",
      "Avg Training Stats after 142 global rounds:\n",
      "03/05 11:59:06 PM | Training Loss : 2.8178234767913817\n",
      "INFO:gal:Training Loss : 2.8178234767913817\n",
      "03/05 11:59:06 PM | Train Accuracy: 19.96% \n",
      "\n",
      "INFO:gal:Train Accuracy: 19.96% \n",
      "\n",
      " 14%|██████████▎                                                              | 142/1000 [6:41:36<52:35:13, 220.65s/it]"
     ]
    },
    {
     "name": "stdout",
     "output_type": "stream",
     "text": [
      "\n",
      " | Global Training Round : 143 |\n",
      "\n"
     ]
    },
    {
     "name": "stderr",
     "output_type": "stream",
     "text": [
      "03/06 12:02:40 AM |  \n",
      "Avg Training Stats after 143 global rounds:\n",
      "INFO:gal: \n",
      "Avg Training Stats after 143 global rounds:\n",
      "03/06 12:02:40 AM | Training Loss : 2.856572997570038\n",
      "INFO:gal:Training Loss : 2.856572997570038\n",
      "03/06 12:02:40 AM | Train Accuracy: 20.27% \n",
      "\n",
      "INFO:gal:Train Accuracy: 20.27% \n",
      "\n",
      " 14%|██████████▍                                                              | 143/1000 [6:45:10<52:04:51, 218.78s/it]"
     ]
    },
    {
     "name": "stdout",
     "output_type": "stream",
     "text": [
      "\n",
      " | Global Training Round : 144 |\n",
      "\n"
     ]
    },
    {
     "name": "stderr",
     "output_type": "stream",
     "text": [
      "03/06 12:06:18 AM |  \n",
      "Avg Training Stats after 144 global rounds:\n",
      "INFO:gal: \n",
      "Avg Training Stats after 144 global rounds:\n",
      "03/06 12:06:18 AM | Training Loss : 2.8178038272857666\n",
      "INFO:gal:Training Loss : 2.8178038272857666\n",
      "03/06 12:06:18 AM | Train Accuracy: 21.07% \n",
      "\n",
      "INFO:gal:Train Accuracy: 21.07% \n",
      "\n",
      " 14%|██████████▌                                                              | 144/1000 [6:48:48<51:57:47, 218.54s/it]"
     ]
    },
    {
     "name": "stdout",
     "output_type": "stream",
     "text": [
      "\n",
      " | Global Training Round : 145 |\n",
      "\n"
     ]
    },
    {
     "name": "stderr",
     "output_type": "stream",
     "text": [
      "03/06 12:09:56 AM |  \n",
      "Avg Training Stats after 145 global rounds:\n",
      "INFO:gal: \n",
      "Avg Training Stats after 145 global rounds:\n",
      "03/06 12:09:56 AM | Training Loss : 2.8240861520767226\n",
      "INFO:gal:Training Loss : 2.8240861520767226\n",
      "03/06 12:09:56 AM | Train Accuracy: 21.32% \n",
      "\n",
      "INFO:gal:Train Accuracy: 21.32% \n",
      "\n",
      " 14%|██████████▌                                                              | 145/1000 [6:52:26<51:51:52, 218.38s/it]"
     ]
    },
    {
     "name": "stdout",
     "output_type": "stream",
     "text": [
      "\n",
      " | Global Training Round : 146 |\n",
      "\n"
     ]
    },
    {
     "name": "stderr",
     "output_type": "stream",
     "text": [
      "03/06 12:13:40 AM |  \n",
      "Avg Training Stats after 146 global rounds:\n",
      "INFO:gal: \n",
      "Avg Training Stats after 146 global rounds:\n",
      "03/06 12:13:40 AM | Training Loss : 2.8054591922760004\n",
      "INFO:gal:Training Loss : 2.8054591922760004\n",
      "03/06 12:13:40 AM | Train Accuracy: 22.51% \n",
      "\n",
      "INFO:gal:Train Accuracy: 22.51% \n",
      "\n",
      " 15%|██████████▋                                                              | 146/1000 [6:56:10<52:10:38, 219.95s/it]"
     ]
    },
    {
     "name": "stdout",
     "output_type": "stream",
     "text": [
      "\n",
      " | Global Training Round : 147 |\n",
      "\n"
     ]
    },
    {
     "name": "stderr",
     "output_type": "stream",
     "text": [
      "03/06 12:17:20 AM |  \n",
      "Avg Training Stats after 147 global rounds:\n",
      "INFO:gal: \n",
      "Avg Training Stats after 147 global rounds:\n",
      "03/06 12:17:20 AM | Training Loss : 2.819411484241486\n",
      "INFO:gal:Training Loss : 2.819411484241486\n",
      "03/06 12:17:20 AM | Train Accuracy: 23.75% \n",
      "\n",
      "INFO:gal:Train Accuracy: 23.75% \n",
      "\n",
      " 15%|██████████▋                                                              | 147/1000 [6:59:50<52:07:17, 219.97s/it]"
     ]
    },
    {
     "name": "stdout",
     "output_type": "stream",
     "text": [
      "\n",
      " | Global Training Round : 148 |\n",
      "\n"
     ]
    },
    {
     "name": "stderr",
     "output_type": "stream",
     "text": [
      "03/06 12:21:05 AM |  \n",
      "Avg Training Stats after 148 global rounds:\n",
      "INFO:gal: \n",
      "Avg Training Stats after 148 global rounds:\n",
      "03/06 12:21:05 AM | Training Loss : 2.7692667422294615\n",
      "INFO:gal:Training Loss : 2.7692667422294615\n",
      "03/06 12:21:05 AM | Train Accuracy: 22.63% \n",
      "\n",
      "INFO:gal:Train Accuracy: 22.63% \n",
      "\n",
      " 15%|██████████▊                                                              | 148/1000 [7:03:35<52:26:19, 221.57s/it]"
     ]
    },
    {
     "name": "stdout",
     "output_type": "stream",
     "text": [
      "\n",
      " | Global Training Round : 149 |\n",
      "\n"
     ]
    },
    {
     "name": "stderr",
     "output_type": "stream",
     "text": [
      "03/06 12:24:46 AM |  \n",
      "Avg Training Stats after 149 global rounds:\n",
      "INFO:gal: \n",
      "Avg Training Stats after 149 global rounds:\n",
      "03/06 12:24:46 AM | Training Loss : 2.719904218673706\n",
      "INFO:gal:Training Loss : 2.719904218673706\n",
      "03/06 12:24:46 AM | Train Accuracy: 21.68% \n",
      "\n",
      "INFO:gal:Train Accuracy: 21.68% \n",
      "\n",
      " 15%|██████████▉                                                              | 149/1000 [7:07:16<52:17:33, 221.21s/it]"
     ]
    },
    {
     "name": "stdout",
     "output_type": "stream",
     "text": [
      "\n",
      " | Global Training Round : 150 |\n",
      "\n"
     ]
    },
    {
     "name": "stderr",
     "output_type": "stream",
     "text": [
      "03/06 12:28:34 AM |  \n",
      "Avg Training Stats after 150 global rounds:\n",
      "INFO:gal: \n",
      "Avg Training Stats after 150 global rounds:\n",
      "03/06 12:28:34 AM | Training Loss : 2.8320656657218928\n",
      "INFO:gal:Training Loss : 2.8320656657218928\n",
      "03/06 12:28:34 AM | Train Accuracy: 21.67% \n",
      "\n",
      "INFO:gal:Train Accuracy: 21.67% \n",
      "\n",
      " 15%|██████████▉                                                              | 150/1000 [7:11:04<52:43:24, 223.30s/it]"
     ]
    },
    {
     "name": "stdout",
     "output_type": "stream",
     "text": [
      "\n",
      " | Global Training Round : 151 |\n",
      "\n"
     ]
    },
    {
     "name": "stderr",
     "output_type": "stream",
     "text": [
      "03/06 12:32:13 AM |  \n",
      "Avg Training Stats after 151 global rounds:\n",
      "INFO:gal: \n",
      "Avg Training Stats after 151 global rounds:\n",
      "03/06 12:32:13 AM | Training Loss : 2.740147197723388\n",
      "INFO:gal:Training Loss : 2.740147197723388\n",
      "03/06 12:32:13 AM | Train Accuracy: 23.24% \n",
      "\n",
      "INFO:gal:Train Accuracy: 23.24% \n",
      "\n",
      " 15%|███████████                                                              | 151/1000 [7:14:43<52:22:25, 222.08s/it]"
     ]
    },
    {
     "name": "stdout",
     "output_type": "stream",
     "text": [
      "\n",
      " | Global Training Round : 152 |\n",
      "\n"
     ]
    },
    {
     "name": "stderr",
     "output_type": "stream",
     "text": [
      "03/06 12:35:54 AM |  \n",
      "Avg Training Stats after 152 global rounds:\n",
      "INFO:gal: \n",
      "Avg Training Stats after 152 global rounds:\n",
      "03/06 12:35:54 AM | Training Loss : 2.8187092933654787\n",
      "INFO:gal:Training Loss : 2.8187092933654787\n",
      "03/06 12:35:54 AM | Train Accuracy: 21.42% \n",
      "\n",
      "INFO:gal:Train Accuracy: 21.42% \n",
      "\n",
      " 15%|███████████                                                              | 152/1000 [7:18:24<52:13:48, 221.73s/it]"
     ]
    },
    {
     "name": "stdout",
     "output_type": "stream",
     "text": [
      "\n",
      " | Global Training Round : 153 |\n",
      "\n"
     ]
    },
    {
     "name": "stderr",
     "output_type": "stream",
     "text": [
      "03/06 12:39:40 AM |  \n",
      "Avg Training Stats after 153 global rounds:\n",
      "INFO:gal: \n",
      "Avg Training Stats after 153 global rounds:\n",
      "03/06 12:39:40 AM | Training Loss : 2.7985516009330755\n",
      "INFO:gal:Training Loss : 2.7985516009330755\n",
      "03/06 12:39:40 AM | Train Accuracy: 22.74% \n",
      "\n",
      "INFO:gal:Train Accuracy: 22.74% \n",
      "\n",
      " 15%|███████████▏                                                             | 153/1000 [7:22:10<52:28:16, 223.02s/it]"
     ]
    },
    {
     "name": "stdout",
     "output_type": "stream",
     "text": [
      "\n",
      " | Global Training Round : 154 |\n",
      "\n"
     ]
    },
    {
     "name": "stderr",
     "output_type": "stream",
     "text": [
      "03/06 12:43:22 AM |  \n",
      "Avg Training Stats after 154 global rounds:\n",
      "INFO:gal: \n",
      "Avg Training Stats after 154 global rounds:\n",
      "03/06 12:43:22 AM | Training Loss : 2.7529442429542548\n",
      "INFO:gal:Training Loss : 2.7529442429542548\n",
      "03/06 12:43:22 AM | Train Accuracy: 22.78% \n",
      "\n",
      "INFO:gal:Train Accuracy: 22.78% \n",
      "\n",
      " 15%|███████████▏                                                             | 154/1000 [7:25:52<52:19:15, 222.64s/it]"
     ]
    },
    {
     "name": "stdout",
     "output_type": "stream",
     "text": [
      "\n",
      " | Global Training Round : 155 |\n",
      "\n"
     ]
    },
    {
     "name": "stderr",
     "output_type": "stream",
     "text": [
      "03/06 12:47:08 AM |  \n",
      "Avg Training Stats after 155 global rounds:\n",
      "INFO:gal: \n",
      "Avg Training Stats after 155 global rounds:\n",
      "03/06 12:47:08 AM | Training Loss : 2.7332478113174443\n",
      "INFO:gal:Training Loss : 2.7332478113174443\n",
      "03/06 12:47:08 AM | Train Accuracy: 22.24% \n",
      "\n",
      "INFO:gal:Train Accuracy: 22.24% \n",
      "\n",
      " 16%|███████████▎                                                             | 155/1000 [7:29:37<52:28:33, 223.57s/it]"
     ]
    },
    {
     "name": "stdout",
     "output_type": "stream",
     "text": [
      "\n",
      " | Global Training Round : 156 |\n",
      "\n"
     ]
    },
    {
     "name": "stderr",
     "output_type": "stream",
     "text": [
      "03/06 12:50:50 AM |  \n",
      "Avg Training Stats after 156 global rounds:\n",
      "INFO:gal: \n",
      "Avg Training Stats after 156 global rounds:\n",
      "03/06 12:50:50 AM | Training Loss : 2.80006403541565\n",
      "INFO:gal:Training Loss : 2.80006403541565\n",
      "03/06 12:50:50 AM | Train Accuracy: 23.53% \n",
      "\n",
      "INFO:gal:Train Accuracy: 23.53% \n",
      "\n",
      " 16%|███████████▍                                                             | 156/1000 [7:33:20<52:21:21, 223.32s/it]"
     ]
    },
    {
     "name": "stdout",
     "output_type": "stream",
     "text": [
      "\n",
      " | Global Training Round : 157 |\n",
      "\n"
     ]
    },
    {
     "name": "stderr",
     "output_type": "stream",
     "text": [
      "03/06 12:54:31 AM |  \n",
      "Avg Training Stats after 157 global rounds:\n",
      "INFO:gal: \n",
      "Avg Training Stats after 157 global rounds:\n",
      "03/06 12:54:31 AM | Training Loss : 2.752151203632353\n",
      "INFO:gal:Training Loss : 2.752151203632353\n",
      "03/06 12:54:31 AM | Train Accuracy: 22.91% \n",
      "\n",
      "INFO:gal:Train Accuracy: 22.91% \n",
      "\n",
      " 16%|███████████▍                                                             | 157/1000 [7:37:01<52:05:36, 222.46s/it]"
     ]
    },
    {
     "name": "stdout",
     "output_type": "stream",
     "text": [
      "\n",
      " | Global Training Round : 158 |\n",
      "\n"
     ]
    },
    {
     "name": "stderr",
     "output_type": "stream",
     "text": [
      "03/06 12:58:12 AM |  \n",
      "Avg Training Stats after 158 global rounds:\n",
      "INFO:gal: \n",
      "Avg Training Stats after 158 global rounds:\n",
      "03/06 12:58:12 AM | Training Loss : 2.7211370820999146\n",
      "INFO:gal:Training Loss : 2.7211370820999146\n",
      "03/06 12:58:12 AM | Train Accuracy: 23.63% \n",
      "\n",
      "INFO:gal:Train Accuracy: 23.63% \n",
      "\n",
      " 16%|███████████▌                                                             | 158/1000 [7:40:41<51:54:43, 221.95s/it]"
     ]
    },
    {
     "name": "stdout",
     "output_type": "stream",
     "text": [
      "\n",
      " | Global Training Round : 159 |\n",
      "\n"
     ]
    },
    {
     "name": "stderr",
     "output_type": "stream",
     "text": [
      "03/06 01:01:58 AM |  \n",
      "Avg Training Stats after 159 global rounds:\n",
      "INFO:gal: \n",
      "Avg Training Stats after 159 global rounds:\n",
      "03/06 01:01:59 AM | Training Loss : 2.739092370510101\n",
      "INFO:gal:Training Loss : 2.739092370510101\n",
      "03/06 01:01:59 AM | Train Accuracy: 21.43% \n",
      "\n",
      "INFO:gal:Train Accuracy: 21.43% \n",
      "\n",
      " 16%|███████████▌                                                             | 159/1000 [7:44:29<52:12:33, 223.49s/it]"
     ]
    },
    {
     "name": "stdout",
     "output_type": "stream",
     "text": [
      "\n",
      " | Global Training Round : 160 |\n",
      "\n"
     ]
    },
    {
     "name": "stderr",
     "output_type": "stream",
     "text": [
      "03/06 01:05:41 AM |  \n",
      "Avg Training Stats after 160 global rounds:\n",
      "INFO:gal: \n",
      "Avg Training Stats after 160 global rounds:\n",
      "03/06 01:05:41 AM | Training Loss : 2.715150453567505\n",
      "INFO:gal:Training Loss : 2.715150453567505\n",
      "03/06 01:05:41 AM | Train Accuracy: 21.82% \n",
      "\n",
      "INFO:gal:Train Accuracy: 21.82% \n",
      "\n",
      " 16%|███████████▋                                                             | 160/1000 [7:48:11<52:05:54, 223.28s/it]"
     ]
    },
    {
     "name": "stdout",
     "output_type": "stream",
     "text": [
      "\n",
      " | Global Training Round : 161 |\n",
      "\n"
     ]
    },
    {
     "name": "stderr",
     "output_type": "stream",
     "text": [
      "03/06 01:09:32 AM |  \n",
      "Avg Training Stats after 161 global rounds:\n",
      "INFO:gal: \n",
      "Avg Training Stats after 161 global rounds:\n",
      "03/06 01:09:32 AM | Training Loss : 2.7798326992988582\n",
      "INFO:gal:Training Loss : 2.7798326992988582\n",
      "03/06 01:09:32 AM | Train Accuracy: 21.65% \n",
      "\n",
      "INFO:gal:Train Accuracy: 21.65% \n",
      "\n",
      " 16%|███████████▊                                                             | 161/1000 [7:52:02<52:31:34, 225.38s/it]"
     ]
    },
    {
     "name": "stdout",
     "output_type": "stream",
     "text": [
      "\n",
      " | Global Training Round : 162 |\n",
      "\n"
     ]
    },
    {
     "name": "stderr",
     "output_type": "stream",
     "text": [
      "03/06 01:13:14 AM |  \n",
      "Avg Training Stats after 162 global rounds:\n",
      "INFO:gal: \n",
      "Avg Training Stats after 162 global rounds:\n",
      "03/06 01:13:14 AM | Training Loss : 2.7744094471931464\n",
      "INFO:gal:Training Loss : 2.7744094471931464\n",
      "03/06 01:13:14 AM | Train Accuracy: 21.60% \n",
      "\n",
      "INFO:gal:Train Accuracy: 21.60% \n",
      "\n",
      " 16%|███████████▊                                                             | 162/1000 [7:55:44<52:15:11, 224.48s/it]"
     ]
    },
    {
     "name": "stdout",
     "output_type": "stream",
     "text": [
      "\n",
      " | Global Training Round : 163 |\n",
      "\n"
     ]
    },
    {
     "name": "stderr",
     "output_type": "stream",
     "text": [
      "03/06 01:16:58 AM |  \n",
      "Avg Training Stats after 163 global rounds:\n",
      "INFO:gal: \n",
      "Avg Training Stats after 163 global rounds:\n",
      "03/06 01:16:58 AM | Training Loss : 2.6712179498672493\n",
      "INFO:gal:Training Loss : 2.6712179498672493\n",
      "03/06 01:16:58 AM | Train Accuracy: 22.02% \n",
      "\n",
      "INFO:gal:Train Accuracy: 22.02% \n",
      "\n",
      " 16%|███████████▉                                                             | 163/1000 [7:59:28<52:08:29, 224.26s/it]"
     ]
    },
    {
     "name": "stdout",
     "output_type": "stream",
     "text": [
      "\n",
      " | Global Training Round : 164 |\n",
      "\n"
     ]
    },
    {
     "name": "stderr",
     "output_type": "stream",
     "text": [
      "03/06 01:20:43 AM |  \n",
      "Avg Training Stats after 164 global rounds:\n",
      "INFO:gal: \n",
      "Avg Training Stats after 164 global rounds:\n",
      "03/06 01:20:43 AM | Training Loss : 2.7497177004814146\n",
      "INFO:gal:Training Loss : 2.7497177004814146\n",
      "03/06 01:20:43 AM | Train Accuracy: 23.97% \n",
      "\n",
      "INFO:gal:Train Accuracy: 23.97% \n",
      "\n",
      " 16%|███████████▉                                                             | 164/1000 [8:03:13<52:10:41, 224.69s/it]"
     ]
    },
    {
     "name": "stdout",
     "output_type": "stream",
     "text": [
      "\n",
      " | Global Training Round : 165 |\n",
      "\n"
     ]
    },
    {
     "name": "stderr",
     "output_type": "stream",
     "text": [
      "03/06 01:24:31 AM |  \n",
      "Avg Training Stats after 165 global rounds:\n",
      "INFO:gal: \n",
      "Avg Training Stats after 165 global rounds:\n",
      "03/06 01:24:31 AM | Training Loss : 2.7900509138107297\n",
      "INFO:gal:Training Loss : 2.7900509138107297\n",
      "03/06 01:24:31 AM | Train Accuracy: 22.26% \n",
      "\n",
      "INFO:gal:Train Accuracy: 22.26% \n",
      "\n",
      " 16%|████████████                                                             | 165/1000 [8:07:01<52:19:29, 225.59s/it]"
     ]
    },
    {
     "name": "stdout",
     "output_type": "stream",
     "text": [
      "\n",
      " | Global Training Round : 166 |\n",
      "\n"
     ]
    },
    {
     "name": "stderr",
     "output_type": "stream",
     "text": [
      "03/06 01:28:15 AM |  \n",
      "Avg Training Stats after 166 global rounds:\n",
      "INFO:gal: \n",
      "Avg Training Stats after 166 global rounds:\n",
      "03/06 01:28:15 AM | Training Loss : 2.6171923344135286\n",
      "INFO:gal:Training Loss : 2.6171923344135286\n",
      "03/06 01:28:15 AM | Train Accuracy: 24.19% \n",
      "\n",
      "INFO:gal:Train Accuracy: 24.19% \n",
      "\n",
      " 17%|████████████                                                             | 166/1000 [8:10:45<52:10:07, 225.19s/it]"
     ]
    },
    {
     "name": "stdout",
     "output_type": "stream",
     "text": [
      "\n",
      " | Global Training Round : 167 |\n",
      "\n"
     ]
    },
    {
     "name": "stderr",
     "output_type": "stream",
     "text": [
      "03/06 01:32:01 AM |  \n",
      "Avg Training Stats after 167 global rounds:\n",
      "INFO:gal: \n",
      "Avg Training Stats after 167 global rounds:\n",
      "03/06 01:32:01 AM | Training Loss : 2.677721422672271\n",
      "INFO:gal:Training Loss : 2.677721422672271\n",
      "03/06 01:32:01 AM | Train Accuracy: 24.10% \n",
      "\n",
      "INFO:gal:Train Accuracy: 24.10% \n",
      "\n",
      " 17%|████████████▏                                                            | 167/1000 [8:14:31<52:08:48, 225.36s/it]"
     ]
    },
    {
     "name": "stdout",
     "output_type": "stream",
     "text": [
      "\n",
      " | Global Training Round : 168 |\n",
      "\n"
     ]
    },
    {
     "name": "stderr",
     "output_type": "stream",
     "text": [
      "03/06 01:35:47 AM |  \n",
      "Avg Training Stats after 168 global rounds:\n",
      "INFO:gal: \n",
      "Avg Training Stats after 168 global rounds:\n",
      "03/06 01:35:47 AM | Training Loss : 2.6601711916923523\n",
      "INFO:gal:Training Loss : 2.6601711916923523\n",
      "03/06 01:35:47 AM | Train Accuracy: 23.18% \n",
      "\n",
      "INFO:gal:Train Accuracy: 23.18% \n",
      "\n",
      " 17%|████████████▎                                                            | 168/1000 [8:18:17<52:08:10, 225.59s/it]"
     ]
    },
    {
     "name": "stdout",
     "output_type": "stream",
     "text": [
      "\n",
      " | Global Training Round : 169 |\n",
      "\n"
     ]
    },
    {
     "name": "stderr",
     "output_type": "stream",
     "text": [
      "03/06 01:39:40 AM |  \n",
      "Avg Training Stats after 169 global rounds:\n",
      "INFO:gal: \n",
      "Avg Training Stats after 169 global rounds:\n",
      "03/06 01:39:40 AM | Training Loss : 2.80786662197113\n",
      "INFO:gal:Training Loss : 2.80786662197113\n",
      "03/06 01:39:40 AM | Train Accuracy: 24.88% \n",
      "\n",
      "INFO:gal:Train Accuracy: 24.88% \n",
      "\n",
      " 17%|████████████▎                                                            | 169/1000 [8:22:10<52:33:28, 227.69s/it]"
     ]
    },
    {
     "name": "stdout",
     "output_type": "stream",
     "text": [
      "\n",
      " | Global Training Round : 170 |\n",
      "\n"
     ]
    },
    {
     "name": "stderr",
     "output_type": "stream",
     "text": [
      "03/06 01:43:36 AM |  \n",
      "Avg Training Stats after 170 global rounds:\n",
      "INFO:gal: \n",
      "Avg Training Stats after 170 global rounds:\n",
      "03/06 01:43:36 AM | Training Loss : 2.623408638477325\n",
      "INFO:gal:Training Loss : 2.623408638477325\n",
      "03/06 01:43:36 AM | Train Accuracy: 23.23% \n",
      "\n",
      "INFO:gal:Train Accuracy: 23.23% \n",
      "\n",
      " 17%|████████████▍                                                            | 170/1000 [8:26:06<53:03:29, 230.13s/it]"
     ]
    },
    {
     "name": "stdout",
     "output_type": "stream",
     "text": [
      "\n",
      " | Global Training Round : 171 |\n",
      "\n"
     ]
    },
    {
     "name": "stderr",
     "output_type": "stream",
     "text": [
      "03/06 01:47:23 AM |  \n",
      "Avg Training Stats after 171 global rounds:\n",
      "INFO:gal: \n",
      "Avg Training Stats after 171 global rounds:\n",
      "03/06 01:47:23 AM | Training Loss : 2.7038564648628234\n",
      "INFO:gal:Training Loss : 2.7038564648628234\n",
      "03/06 01:47:23 AM | Train Accuracy: 23.64% \n",
      "\n",
      "INFO:gal:Train Accuracy: 23.64% \n",
      "\n",
      " 17%|████████████▍                                                            | 171/1000 [8:29:53<52:46:41, 229.19s/it]"
     ]
    },
    {
     "name": "stdout",
     "output_type": "stream",
     "text": [
      "\n",
      " | Global Training Round : 172 |\n",
      "\n"
     ]
    },
    {
     "name": "stderr",
     "output_type": "stream",
     "text": [
      "03/06 01:51:15 AM |  \n",
      "Avg Training Stats after 172 global rounds:\n",
      "INFO:gal: \n",
      "Avg Training Stats after 172 global rounds:\n",
      "03/06 01:51:15 AM | Training Loss : 2.7212854175567625\n",
      "INFO:gal:Training Loss : 2.7212854175567625\n",
      "03/06 01:51:15 AM | Train Accuracy: 21.73% \n",
      "\n",
      "INFO:gal:Train Accuracy: 21.73% \n",
      "\n",
      " 17%|████████████▌                                                            | 172/1000 [8:33:44<52:53:40, 229.98s/it]"
     ]
    },
    {
     "name": "stdout",
     "output_type": "stream",
     "text": [
      "\n",
      " | Global Training Round : 173 |\n",
      "\n"
     ]
    },
    {
     "name": "stderr",
     "output_type": "stream",
     "text": [
      "03/06 01:55:07 AM |  \n",
      "Avg Training Stats after 173 global rounds:\n",
      "INFO:gal: \n",
      "Avg Training Stats after 173 global rounds:\n",
      "03/06 01:55:07 AM | Training Loss : 2.7081099777221675\n",
      "INFO:gal:Training Loss : 2.7081099777221675\n",
      "03/06 01:55:07 AM | Train Accuracy: 21.33% \n",
      "\n",
      "INFO:gal:Train Accuracy: 21.33% \n",
      "\n",
      " 17%|████████████▋                                                            | 173/1000 [8:37:37<52:58:47, 230.63s/it]"
     ]
    },
    {
     "name": "stdout",
     "output_type": "stream",
     "text": [
      "\n",
      " | Global Training Round : 174 |\n",
      "\n"
     ]
    },
    {
     "name": "stderr",
     "output_type": "stream",
     "text": [
      "03/06 01:58:56 AM |  \n",
      "Avg Training Stats after 174 global rounds:\n",
      "INFO:gal: \n",
      "Avg Training Stats after 174 global rounds:\n",
      "03/06 01:58:56 AM | Training Loss : 2.7612942042350763\n",
      "INFO:gal:Training Loss : 2.7612942042350763\n",
      "03/06 01:58:56 AM | Train Accuracy: 23.12% \n",
      "\n",
      "INFO:gal:Train Accuracy: 23.12% \n",
      "\n",
      " 17%|████████████▋                                                            | 174/1000 [8:41:26<52:48:44, 230.17s/it]"
     ]
    },
    {
     "name": "stdout",
     "output_type": "stream",
     "text": [
      "\n",
      " | Global Training Round : 175 |\n",
      "\n"
     ]
    },
    {
     "name": "stderr",
     "output_type": "stream",
     "text": [
      "03/06 02:02:46 AM |  \n",
      "Avg Training Stats after 175 global rounds:\n",
      "INFO:gal: \n",
      "Avg Training Stats after 175 global rounds:\n",
      "03/06 02:02:46 AM | Training Loss : 2.73377503824234\n",
      "INFO:gal:Training Loss : 2.73377503824234\n",
      "03/06 02:02:46 AM | Train Accuracy: 23.28% \n",
      "\n",
      "INFO:gal:Train Accuracy: 23.28% \n",
      "\n",
      " 18%|████████████▊                                                            | 175/1000 [8:45:16<52:44:02, 230.11s/it]"
     ]
    },
    {
     "name": "stdout",
     "output_type": "stream",
     "text": [
      "\n",
      " | Global Training Round : 176 |\n",
      "\n"
     ]
    },
    {
     "name": "stderr",
     "output_type": "stream",
     "text": [
      "03/06 02:06:36 AM |  \n",
      "Avg Training Stats after 176 global rounds:\n",
      "INFO:gal: \n",
      "Avg Training Stats after 176 global rounds:\n",
      "03/06 02:06:36 AM | Training Loss : 2.703104859352111\n",
      "INFO:gal:Training Loss : 2.703104859352111\n",
      "03/06 02:06:36 AM | Train Accuracy: 22.60% \n",
      "\n",
      "INFO:gal:Train Accuracy: 22.60% \n",
      "\n",
      " 18%|████████████▊                                                            | 176/1000 [8:49:06<52:39:00, 230.02s/it]"
     ]
    },
    {
     "name": "stdout",
     "output_type": "stream",
     "text": [
      "\n",
      " | Global Training Round : 177 |\n",
      "\n"
     ]
    },
    {
     "name": "stderr",
     "output_type": "stream",
     "text": [
      "03/06 02:11:52 AM |  \n",
      "Avg Training Stats after 177 global rounds:\n",
      "INFO:gal: \n",
      "Avg Training Stats after 177 global rounds:\n",
      "03/06 02:11:52 AM | Training Loss : 2.716102987289429\n",
      "INFO:gal:Training Loss : 2.716102987289429\n",
      "03/06 02:11:52 AM | Train Accuracy: 22.29% \n",
      "\n",
      "INFO:gal:Train Accuracy: 22.29% \n",
      "\n",
      " 18%|████████████▉                                                            | 177/1000 [8:54:22<58:31:51, 256.03s/it]"
     ]
    },
    {
     "name": "stdout",
     "output_type": "stream",
     "text": [
      "\n",
      " | Global Training Round : 178 |\n",
      "\n"
     ]
    },
    {
     "name": "stderr",
     "output_type": "stream",
     "text": [
      "03/06 02:16:26 AM |  \n",
      "Avg Training Stats after 178 global rounds:\n",
      "INFO:gal: \n",
      "Avg Training Stats after 178 global rounds:\n",
      "03/06 02:16:26 AM | Training Loss : 2.6446891379356385\n",
      "INFO:gal:Training Loss : 2.6446891379356385\n",
      "03/06 02:16:26 AM | Train Accuracy: 23.81% \n",
      "\n",
      "INFO:gal:Train Accuracy: 23.81% \n",
      "\n",
      " 18%|████████████▉                                                            | 178/1000 [8:58:56<59:41:59, 261.46s/it]"
     ]
    },
    {
     "name": "stdout",
     "output_type": "stream",
     "text": [
      "\n",
      " | Global Training Round : 179 |\n",
      "\n"
     ]
    },
    {
     "name": "stderr",
     "output_type": "stream",
     "text": [
      "03/06 02:20:21 AM |  \n",
      "Avg Training Stats after 179 global rounds:\n",
      "INFO:gal: \n",
      "Avg Training Stats after 179 global rounds:\n",
      "03/06 02:20:21 AM | Training Loss : 2.6087695226669307\n",
      "INFO:gal:Training Loss : 2.6087695226669307\n",
      "03/06 02:20:21 AM | Train Accuracy: 25.09% \n",
      "\n",
      "INFO:gal:Train Accuracy: 25.09% \n",
      "\n",
      " 18%|█████████████                                                            | 179/1000 [9:02:51<57:48:35, 253.49s/it]"
     ]
    },
    {
     "name": "stdout",
     "output_type": "stream",
     "text": [
      "\n",
      " | Global Training Round : 180 |\n",
      "\n"
     ]
    },
    {
     "name": "stderr",
     "output_type": "stream",
     "text": [
      "03/06 02:24:16 AM |  \n",
      "Avg Training Stats after 180 global rounds:\n",
      "INFO:gal: \n",
      "Avg Training Stats after 180 global rounds:\n",
      "03/06 02:24:16 AM | Training Loss : 2.6315625624656667\n",
      "INFO:gal:Training Loss : 2.6315625624656667\n",
      "03/06 02:24:16 AM | Train Accuracy: 24.83% \n",
      "\n",
      "INFO:gal:Train Accuracy: 24.83% \n",
      "\n",
      " 18%|█████████████▏                                                           | 180/1000 [9:06:45<56:25:21, 247.71s/it]"
     ]
    },
    {
     "name": "stdout",
     "output_type": "stream",
     "text": [
      "\n",
      " | Global Training Round : 181 |\n",
      "\n"
     ]
    },
    {
     "name": "stderr",
     "output_type": "stream",
     "text": [
      "03/06 02:28:14 AM |  \n",
      "Avg Training Stats after 181 global rounds:\n",
      "INFO:gal: \n",
      "Avg Training Stats after 181 global rounds:\n",
      "03/06 02:28:14 AM | Training Loss : 2.6463612232208256\n",
      "INFO:gal:Training Loss : 2.6463612232208256\n",
      "03/06 02:28:14 AM | Train Accuracy: 23.60% \n",
      "\n",
      "INFO:gal:Train Accuracy: 23.60% \n",
      "\n",
      " 18%|█████████████▏                                                           | 181/1000 [9:10:44<55:41:56, 244.83s/it]"
     ]
    },
    {
     "name": "stdout",
     "output_type": "stream",
     "text": [
      "\n",
      " | Global Training Round : 182 |\n",
      "\n"
     ]
    },
    {
     "name": "stderr",
     "output_type": "stream",
     "text": [
      "03/06 02:32:14 AM |  \n",
      "Avg Training Stats after 182 global rounds:\n",
      "INFO:gal: \n",
      "Avg Training Stats after 182 global rounds:\n",
      "03/06 02:32:14 AM | Training Loss : 2.682156309127808\n",
      "INFO:gal:Training Loss : 2.682156309127808\n",
      "03/06 02:32:14 AM | Train Accuracy: 24.19% \n",
      "\n",
      "INFO:gal:Train Accuracy: 24.19% \n",
      "\n",
      " 18%|█████████████▎                                                           | 182/1000 [9:14:44<55:19:56, 243.52s/it]"
     ]
    },
    {
     "name": "stdout",
     "output_type": "stream",
     "text": [
      "\n",
      " | Global Training Round : 183 |\n",
      "\n"
     ]
    },
    {
     "name": "stderr",
     "output_type": "stream",
     "text": [
      "03/06 02:36:14 AM |  \n",
      "Avg Training Stats after 183 global rounds:\n",
      "INFO:gal: \n",
      "Avg Training Stats after 183 global rounds:\n",
      "03/06 02:36:14 AM | Training Loss : 2.6920371675491346\n",
      "INFO:gal:Training Loss : 2.6920371675491346\n",
      "03/06 02:36:14 AM | Train Accuracy: 24.67% \n",
      "\n",
      "INFO:gal:Train Accuracy: 24.67% \n",
      "\n",
      " 18%|█████████████▎                                                           | 183/1000 [9:18:44<55:02:39, 242.55s/it]"
     ]
    },
    {
     "name": "stdout",
     "output_type": "stream",
     "text": [
      "\n",
      " | Global Training Round : 184 |\n",
      "\n"
     ]
    },
    {
     "name": "stderr",
     "output_type": "stream",
     "text": [
      "03/06 02:40:15 AM |  \n",
      "Avg Training Stats after 184 global rounds:\n",
      "INFO:gal: \n",
      "Avg Training Stats after 184 global rounds:\n",
      "03/06 02:40:15 AM | Training Loss : 2.669068601608276\n",
      "INFO:gal:Training Loss : 2.669068601608276\n",
      "03/06 02:40:15 AM | Train Accuracy: 24.81% \n",
      "\n",
      "INFO:gal:Train Accuracy: 24.81% \n",
      "\n",
      " 18%|█████████████▍                                                           | 184/1000 [9:22:45<54:50:21, 241.94s/it]"
     ]
    },
    {
     "name": "stdout",
     "output_type": "stream",
     "text": [
      "\n",
      " | Global Training Round : 185 |\n",
      "\n"
     ]
    },
    {
     "name": "stderr",
     "output_type": "stream",
     "text": [
      "03/06 02:44:13 AM |  \n",
      "Avg Training Stats after 185 global rounds:\n",
      "INFO:gal: \n",
      "Avg Training Stats after 185 global rounds:\n",
      "03/06 02:44:13 AM | Training Loss : 2.5920184051990507\n",
      "INFO:gal:Training Loss : 2.5920184051990507\n",
      "03/06 02:44:13 AM | Train Accuracy: 22.23% \n",
      "\n",
      "INFO:gal:Train Accuracy: 22.23% \n",
      "\n",
      " 18%|█████████████▌                                                           | 185/1000 [9:26:43<54:30:02, 240.74s/it]"
     ]
    },
    {
     "name": "stdout",
     "output_type": "stream",
     "text": [
      "\n",
      " | Global Training Round : 186 |\n",
      "\n"
     ]
    },
    {
     "name": "stderr",
     "output_type": "stream",
     "text": [
      "03/06 02:48:21 AM |  \n",
      "Avg Training Stats after 186 global rounds:\n",
      "INFO:gal: \n",
      "Avg Training Stats after 186 global rounds:\n",
      "03/06 02:48:21 AM | Training Loss : 2.6452574591636666\n",
      "INFO:gal:Training Loss : 2.6452574591636666\n",
      "03/06 02:48:21 AM | Train Accuracy: 24.87% \n",
      "\n",
      "INFO:gal:Train Accuracy: 24.87% \n",
      "\n",
      " 19%|█████████████▌                                                           | 186/1000 [9:30:51<54:56:22, 242.98s/it]"
     ]
    },
    {
     "name": "stdout",
     "output_type": "stream",
     "text": [
      "\n",
      " | Global Training Round : 187 |\n",
      "\n"
     ]
    },
    {
     "name": "stderr",
     "output_type": "stream",
     "text": [
      "03/06 02:52:23 AM |  \n",
      "Avg Training Stats after 187 global rounds:\n",
      "INFO:gal: \n",
      "Avg Training Stats after 187 global rounds:\n",
      "03/06 02:52:23 AM | Training Loss : 2.6917431821823117\n",
      "INFO:gal:Training Loss : 2.6917431821823117\n",
      "03/06 02:52:23 AM | Train Accuracy: 23.39% \n",
      "\n",
      "INFO:gal:Train Accuracy: 23.39% \n",
      "\n",
      " 19%|█████████████▋                                                           | 187/1000 [9:34:53<54:49:26, 242.76s/it]"
     ]
    },
    {
     "name": "stdout",
     "output_type": "stream",
     "text": [
      "\n",
      " | Global Training Round : 188 |\n",
      "\n"
     ]
    },
    {
     "name": "stderr",
     "output_type": "stream",
     "text": [
      "03/06 02:56:31 AM |  \n",
      "Avg Training Stats after 188 global rounds:\n",
      "INFO:gal: \n",
      "Avg Training Stats after 188 global rounds:\n",
      "03/06 02:56:32 AM | Training Loss : 2.6098703360557556\n",
      "INFO:gal:Training Loss : 2.6098703360557556\n",
      "03/06 02:56:32 AM | Train Accuracy: 25.60% \n",
      "\n",
      "INFO:gal:Train Accuracy: 25.60% \n",
      "\n",
      " 19%|█████████████▋                                                           | 188/1000 [9:39:01<55:07:35, 244.40s/it]"
     ]
    },
    {
     "name": "stdout",
     "output_type": "stream",
     "text": [
      "\n",
      " | Global Training Round : 189 |\n",
      "\n"
     ]
    },
    {
     "name": "stderr",
     "output_type": "stream",
     "text": [
      "03/06 03:00:32 AM |  \n",
      "Avg Training Stats after 189 global rounds:\n",
      "INFO:gal: \n",
      "Avg Training Stats after 189 global rounds:\n",
      "03/06 03:00:32 AM | Training Loss : 2.5732209243774404\n",
      "INFO:gal:Training Loss : 2.5732209243774404\n",
      "03/06 03:00:32 AM | Train Accuracy: 26.32% \n",
      "\n",
      "INFO:gal:Train Accuracy: 26.32% \n",
      "\n",
      " 19%|█████████████▊                                                           | 189/1000 [9:43:02<54:48:47, 243.31s/it]"
     ]
    },
    {
     "name": "stdout",
     "output_type": "stream",
     "text": [
      "\n",
      " | Global Training Round : 190 |\n",
      "\n"
     ]
    },
    {
     "name": "stderr",
     "output_type": "stream",
     "text": [
      "03/06 03:04:32 AM |  \n",
      "Avg Training Stats after 190 global rounds:\n",
      "INFO:gal: \n",
      "Avg Training Stats after 190 global rounds:\n",
      "03/06 03:04:32 AM | Training Loss : 2.5086100192070013\n",
      "INFO:gal:Training Loss : 2.5086100192070013\n",
      "03/06 03:04:32 AM | Train Accuracy: 24.48% \n",
      "\n",
      "INFO:gal:Train Accuracy: 24.48% \n",
      "\n",
      " 19%|█████████████▊                                                           | 190/1000 [9:47:02<54:28:30, 242.11s/it]"
     ]
    },
    {
     "name": "stdout",
     "output_type": "stream",
     "text": [
      "\n",
      " | Global Training Round : 191 |\n",
      "\n"
     ]
    },
    {
     "name": "stderr",
     "output_type": "stream",
     "text": [
      "03/06 03:08:33 AM |  \n",
      "Avg Training Stats after 191 global rounds:\n",
      "INFO:gal: \n",
      "Avg Training Stats after 191 global rounds:\n",
      "03/06 03:08:33 AM | Training Loss : 2.5735584788322456\n",
      "INFO:gal:Training Loss : 2.5735584788322456\n",
      "03/06 03:08:33 AM | Train Accuracy: 26.62% \n",
      "\n",
      "INFO:gal:Train Accuracy: 26.62% \n",
      "\n",
      " 19%|█████████████▉                                                           | 191/1000 [9:51:03<54:21:43, 241.91s/it]"
     ]
    },
    {
     "name": "stdout",
     "output_type": "stream",
     "text": [
      "\n",
      " | Global Training Round : 192 |\n",
      "\n"
     ]
    },
    {
     "name": "stderr",
     "output_type": "stream",
     "text": [
      "03/06 03:12:35 AM |  \n",
      "Avg Training Stats after 192 global rounds:\n",
      "INFO:gal: \n",
      "Avg Training Stats after 192 global rounds:\n",
      "03/06 03:12:35 AM | Training Loss : 2.5570582680702216\n",
      "INFO:gal:Training Loss : 2.5570582680702216\n",
      "03/06 03:12:35 AM | Train Accuracy: 25.83% \n",
      "\n",
      "INFO:gal:Train Accuracy: 25.83% \n",
      "\n",
      " 19%|██████████████                                                           | 192/1000 [9:55:05<54:17:29, 241.89s/it]"
     ]
    },
    {
     "name": "stdout",
     "output_type": "stream",
     "text": [
      "\n",
      " | Global Training Round : 193 |\n",
      "\n"
     ]
    },
    {
     "name": "stderr",
     "output_type": "stream",
     "text": [
      "03/06 03:16:36 AM |  \n",
      "Avg Training Stats after 193 global rounds:\n",
      "INFO:gal: \n",
      "Avg Training Stats after 193 global rounds:\n",
      "03/06 03:16:36 AM | Training Loss : 2.618462424755096\n",
      "INFO:gal:Training Loss : 2.618462424755096\n",
      "03/06 03:16:36 AM | Train Accuracy: 25.53% \n",
      "\n",
      "INFO:gal:Train Accuracy: 25.53% \n",
      "\n",
      " 19%|██████████████                                                           | 193/1000 [9:59:06<54:12:08, 241.80s/it]"
     ]
    },
    {
     "name": "stdout",
     "output_type": "stream",
     "text": [
      "\n",
      " | Global Training Round : 194 |\n",
      "\n"
     ]
    },
    {
     "name": "stderr",
     "output_type": "stream",
     "text": [
      "03/06 03:20:40 AM |  \n",
      "Avg Training Stats after 194 global rounds:\n",
      "INFO:gal: \n",
      "Avg Training Stats after 194 global rounds:\n",
      "03/06 03:20:40 AM | Training Loss : 2.658505676269531\n",
      "INFO:gal:Training Loss : 2.658505676269531\n",
      "03/06 03:20:40 AM | Train Accuracy: 26.35% \n",
      "\n",
      "INFO:gal:Train Accuracy: 26.35% \n",
      "\n",
      " 19%|█████████████▉                                                          | 194/1000 [10:03:10<54:16:01, 242.38s/it]"
     ]
    },
    {
     "name": "stdout",
     "output_type": "stream",
     "text": [
      "\n",
      " | Global Training Round : 195 |\n",
      "\n"
     ]
    },
    {
     "name": "stderr",
     "output_type": "stream",
     "text": [
      "03/06 03:24:48 AM |  \n",
      "Avg Training Stats after 195 global rounds:\n",
      "INFO:gal: \n",
      "Avg Training Stats after 195 global rounds:\n",
      "03/06 03:24:48 AM | Training Loss : 2.598169109821319\n",
      "INFO:gal:Training Loss : 2.598169109821319\n",
      "03/06 03:24:48 AM | Train Accuracy: 25.79% \n",
      "\n",
      "INFO:gal:Train Accuracy: 25.79% \n",
      "\n",
      " 20%|██████████████                                                          | 195/1000 [10:07:18<54:33:51, 244.01s/it]"
     ]
    },
    {
     "name": "stdout",
     "output_type": "stream",
     "text": [
      "\n",
      " | Global Training Round : 196 |\n",
      "\n"
     ]
    },
    {
     "name": "stderr",
     "output_type": "stream",
     "text": [
      "03/06 03:28:57 AM |  \n",
      "Avg Training Stats after 196 global rounds:\n",
      "INFO:gal: \n",
      "Avg Training Stats after 196 global rounds:\n",
      "03/06 03:28:57 AM | Training Loss : 2.591423399448396\n",
      "INFO:gal:Training Loss : 2.591423399448396\n",
      "03/06 03:28:57 AM | Train Accuracy: 25.97% \n",
      "\n",
      "INFO:gal:Train Accuracy: 25.97% \n",
      "\n",
      " 20%|██████████████                                                          | 196/1000 [10:11:27<54:51:07, 245.61s/it]"
     ]
    },
    {
     "name": "stdout",
     "output_type": "stream",
     "text": [
      "\n",
      " | Global Training Round : 197 |\n",
      "\n"
     ]
    },
    {
     "name": "stderr",
     "output_type": "stream",
     "text": [
      "03/06 03:33:16 AM |  \n",
      "Avg Training Stats after 197 global rounds:\n",
      "INFO:gal: \n",
      "Avg Training Stats after 197 global rounds:\n",
      "03/06 03:33:16 AM | Training Loss : 2.560395819187164\n",
      "INFO:gal:Training Loss : 2.560395819187164\n",
      "03/06 03:33:16 AM | Train Accuracy: 24.61% \n",
      "\n",
      "INFO:gal:Train Accuracy: 24.61% \n",
      "\n",
      " 20%|██████████████▏                                                         | 197/1000 [10:15:46<55:38:04, 249.42s/it]"
     ]
    },
    {
     "name": "stdout",
     "output_type": "stream",
     "text": [
      "\n",
      " | Global Training Round : 198 |\n",
      "\n"
     ]
    },
    {
     "name": "stderr",
     "output_type": "stream",
     "text": [
      "03/06 03:37:21 AM |  \n",
      "Avg Training Stats after 198 global rounds:\n",
      "INFO:gal: \n",
      "Avg Training Stats after 198 global rounds:\n",
      "03/06 03:37:21 AM | Training Loss : 2.557482359409332\n",
      "INFO:gal:Training Loss : 2.557482359409332\n",
      "03/06 03:37:21 AM | Train Accuracy: 25.95% \n",
      "\n",
      "INFO:gal:Train Accuracy: 25.95% \n",
      "\n",
      " 20%|██████████████▎                                                         | 198/1000 [10:19:51<55:15:58, 248.08s/it]"
     ]
    },
    {
     "name": "stdout",
     "output_type": "stream",
     "text": [
      "\n",
      " | Global Training Round : 199 |\n",
      "\n"
     ]
    },
    {
     "name": "stderr",
     "output_type": "stream",
     "text": [
      "03/06 03:41:28 AM |  \n",
      "Avg Training Stats after 199 global rounds:\n",
      "INFO:gal: \n",
      "Avg Training Stats after 199 global rounds:\n",
      "03/06 03:41:28 AM | Training Loss : 2.6662649340629576\n",
      "INFO:gal:Training Loss : 2.6662649340629576\n",
      "03/06 03:41:28 AM | Train Accuracy: 25.03% \n",
      "\n",
      "INFO:gal:Train Accuracy: 25.03% \n",
      "\n",
      " 20%|██████████████▎                                                         | 199/1000 [10:23:58<55:08:57, 247.86s/it]"
     ]
    },
    {
     "name": "stdout",
     "output_type": "stream",
     "text": [
      "\n",
      " | Global Training Round : 200 |\n",
      "\n"
     ]
    },
    {
     "name": "stderr",
     "output_type": "stream",
     "text": [
      "03/06 03:45:35 AM |  \n",
      "Avg Training Stats after 200 global rounds:\n",
      "INFO:gal: \n",
      "Avg Training Stats after 200 global rounds:\n",
      "03/06 03:45:35 AM | Training Loss : 2.4874015431404115\n",
      "INFO:gal:Training Loss : 2.4874015431404115\n",
      "03/06 03:45:35 AM | Train Accuracy: 25.28% \n",
      "\n",
      "INFO:gal:Train Accuracy: 25.28% \n",
      "\n",
      " 20%|██████████████▍                                                         | 200/1000 [10:28:05<55:01:32, 247.62s/it]"
     ]
    },
    {
     "name": "stdout",
     "output_type": "stream",
     "text": [
      "\n",
      " | Global Training Round : 201 |\n",
      "\n"
     ]
    },
    {
     "name": "stderr",
     "output_type": "stream",
     "text": [
      "03/06 03:49:42 AM |  \n",
      "Avg Training Stats after 201 global rounds:\n",
      "INFO:gal: \n",
      "Avg Training Stats after 201 global rounds:\n",
      "03/06 03:49:42 AM | Training Loss : 2.5754949588775635\n",
      "INFO:gal:Training Loss : 2.5754949588775635\n",
      "03/06 03:49:42 AM | Train Accuracy: 25.69% \n",
      "\n",
      "INFO:gal:Train Accuracy: 25.69% \n",
      "\n",
      " 20%|██████████████▍                                                         | 201/1000 [10:32:12<54:54:57, 247.43s/it]"
     ]
    },
    {
     "name": "stdout",
     "output_type": "stream",
     "text": [
      "\n",
      " | Global Training Round : 202 |\n",
      "\n"
     ]
    },
    {
     "name": "stderr",
     "output_type": "stream",
     "text": [
      "03/06 03:53:48 AM |  \n",
      "Avg Training Stats after 202 global rounds:\n",
      "INFO:gal: \n",
      "Avg Training Stats after 202 global rounds:\n",
      "03/06 03:53:48 AM | Training Loss : 2.6104157795906064\n",
      "INFO:gal:Training Loss : 2.6104157795906064\n",
      "03/06 03:53:48 AM | Train Accuracy: 25.10% \n",
      "\n",
      "INFO:gal:Train Accuracy: 25.10% \n",
      "\n",
      " 20%|██████████████▌                                                         | 202/1000 [10:36:18<54:45:26, 247.03s/it]"
     ]
    },
    {
     "name": "stdout",
     "output_type": "stream",
     "text": [
      "\n",
      " | Global Training Round : 203 |\n",
      "\n"
     ]
    },
    {
     "name": "stderr",
     "output_type": "stream",
     "text": [
      "03/06 03:57:58 AM |  \n",
      "Avg Training Stats after 203 global rounds:\n",
      "INFO:gal: \n",
      "Avg Training Stats after 203 global rounds:\n",
      "03/06 03:57:58 AM | Training Loss : 2.6574201707839973\n",
      "INFO:gal:Training Loss : 2.6574201707839973\n",
      "03/06 03:57:58 AM | Train Accuracy: 24.55% \n",
      "\n",
      "INFO:gal:Train Accuracy: 24.55% \n",
      "\n",
      " 20%|██████████████▌                                                         | 203/1000 [10:40:28<54:53:58, 247.98s/it]"
     ]
    },
    {
     "name": "stdout",
     "output_type": "stream",
     "text": [
      "\n",
      " | Global Training Round : 204 |\n",
      "\n"
     ]
    },
    {
     "name": "stderr",
     "output_type": "stream",
     "text": [
      "03/06 04:02:11 AM |  \n",
      "Avg Training Stats after 204 global rounds:\n",
      "INFO:gal: \n",
      "Avg Training Stats after 204 global rounds:\n",
      "03/06 04:02:11 AM | Training Loss : 2.538596012115478\n",
      "INFO:gal:Training Loss : 2.538596012115478\n",
      "03/06 04:02:11 AM | Train Accuracy: 24.47% \n",
      "\n",
      "INFO:gal:Train Accuracy: 24.47% \n",
      "\n",
      " 20%|██████████████▋                                                         | 204/1000 [10:44:41<55:08:56, 249.42s/it]"
     ]
    },
    {
     "name": "stdout",
     "output_type": "stream",
     "text": [
      "\n",
      " | Global Training Round : 205 |\n",
      "\n"
     ]
    },
    {
     "name": "stderr",
     "output_type": "stream",
     "text": [
      "03/06 04:06:22 AM |  \n",
      "Avg Training Stats after 205 global rounds:\n",
      "INFO:gal: \n",
      "Avg Training Stats after 205 global rounds:\n",
      "03/06 04:06:22 AM | Training Loss : 2.58772184419632\n",
      "INFO:gal:Training Loss : 2.58772184419632\n",
      "03/06 04:06:22 AM | Train Accuracy: 25.25% \n",
      "\n",
      "INFO:gal:Train Accuracy: 25.25% \n",
      "\n",
      " 20%|██████████████▊                                                         | 205/1000 [10:48:52<55:10:36, 249.86s/it]"
     ]
    },
    {
     "name": "stdout",
     "output_type": "stream",
     "text": [
      "\n",
      " | Global Training Round : 206 |\n",
      "\n"
     ]
    },
    {
     "name": "stderr",
     "output_type": "stream",
     "text": [
      "03/06 04:10:43 AM |  \n",
      "Avg Training Stats after 206 global rounds:\n",
      "INFO:gal: \n",
      "Avg Training Stats after 206 global rounds:\n",
      "03/06 04:10:43 AM | Training Loss : 2.5903887662887577\n",
      "INFO:gal:Training Loss : 2.5903887662887577\n",
      "03/06 04:10:43 AM | Train Accuracy: 26.23% \n",
      "\n",
      "INFO:gal:Train Accuracy: 26.23% \n",
      "\n",
      " 21%|██████████████▊                                                         | 206/1000 [10:53:13<55:49:09, 253.08s/it]"
     ]
    },
    {
     "name": "stdout",
     "output_type": "stream",
     "text": [
      "\n",
      " | Global Training Round : 207 |\n",
      "\n"
     ]
    },
    {
     "name": "stderr",
     "output_type": "stream",
     "text": [
      "03/06 04:14:53 AM |  \n",
      "Avg Training Stats after 207 global rounds:\n",
      "INFO:gal: \n",
      "Avg Training Stats after 207 global rounds:\n",
      "03/06 04:14:53 AM | Training Loss : 2.643193853378296\n",
      "INFO:gal:Training Loss : 2.643193853378296\n",
      "03/06 04:14:53 AM | Train Accuracy: 25.78% \n",
      "\n",
      "INFO:gal:Train Accuracy: 25.78% \n",
      "\n",
      " 21%|██████████████▉                                                         | 207/1000 [10:57:23<55:35:54, 252.40s/it]"
     ]
    },
    {
     "name": "stdout",
     "output_type": "stream",
     "text": [
      "\n",
      " | Global Training Round : 208 |\n",
      "\n"
     ]
    },
    {
     "name": "stderr",
     "output_type": "stream",
     "text": [
      "03/06 04:19:05 AM |  \n",
      "Avg Training Stats after 208 global rounds:\n",
      "INFO:gal: \n",
      "Avg Training Stats after 208 global rounds:\n",
      "03/06 04:19:05 AM | Training Loss : 2.566792617321015\n",
      "INFO:gal:Training Loss : 2.566792617321015\n",
      "03/06 04:19:05 AM | Train Accuracy: 26.07% \n",
      "\n",
      "INFO:gal:Train Accuracy: 26.07% \n",
      "\n",
      " 21%|██████████████▉                                                         | 208/1000 [11:01:35<55:27:46, 252.10s/it]"
     ]
    },
    {
     "name": "stdout",
     "output_type": "stream",
     "text": [
      "\n",
      " | Global Training Round : 209 |\n",
      "\n"
     ]
    },
    {
     "name": "stderr",
     "output_type": "stream",
     "text": [
      "03/06 04:23:16 AM |  \n",
      "Avg Training Stats after 209 global rounds:\n",
      "INFO:gal: \n",
      "Avg Training Stats after 209 global rounds:\n",
      "03/06 04:23:16 AM | Training Loss : 2.594934614658357\n",
      "INFO:gal:Training Loss : 2.594934614658357\n",
      "03/06 04:23:16 AM | Train Accuracy: 26.96% \n",
      "\n",
      "INFO:gal:Train Accuracy: 26.96% \n",
      "\n",
      " 21%|███████████████                                                         | 209/1000 [11:05:46<55:20:56, 251.90s/it]"
     ]
    },
    {
     "name": "stdout",
     "output_type": "stream",
     "text": [
      "\n",
      " | Global Training Round : 210 |\n",
      "\n"
     ]
    },
    {
     "name": "stderr",
     "output_type": "stream",
     "text": [
      "03/06 04:27:33 AM |  \n",
      "Avg Training Stats after 210 global rounds:\n",
      "INFO:gal: \n",
      "Avg Training Stats after 210 global rounds:\n",
      "03/06 04:27:33 AM | Training Loss : 2.5253851866722115\n",
      "INFO:gal:Training Loss : 2.5253851866722115\n",
      "03/06 04:27:33 AM | Train Accuracy: 24.69% \n",
      "\n",
      "INFO:gal:Train Accuracy: 24.69% \n",
      "\n",
      " 21%|███████████████                                                         | 210/1000 [11:10:02<55:34:08, 253.23s/it]"
     ]
    },
    {
     "name": "stdout",
     "output_type": "stream",
     "text": [
      "\n",
      " | Global Training Round : 211 |\n",
      "\n"
     ]
    },
    {
     "name": "stderr",
     "output_type": "stream",
     "text": [
      "03/06 04:31:50 AM |  \n",
      "Avg Training Stats after 211 global rounds:\n",
      "INFO:gal: \n",
      "Avg Training Stats after 211 global rounds:\n",
      "03/06 04:31:50 AM | Training Loss : 2.460413136005401\n",
      "INFO:gal:Training Loss : 2.460413136005401\n",
      "03/06 04:31:50 AM | Train Accuracy: 26.09% \n",
      "\n",
      "INFO:gal:Train Accuracy: 26.09% \n",
      "\n",
      " 21%|███████████████▏                                                        | 211/1000 [11:14:20<55:45:31, 254.41s/it]"
     ]
    },
    {
     "name": "stdout",
     "output_type": "stream",
     "text": [
      "\n",
      " | Global Training Round : 212 |\n",
      "\n"
     ]
    },
    {
     "name": "stderr",
     "output_type": "stream",
     "text": [
      "03/06 04:36:08 AM |  \n",
      "Avg Training Stats after 212 global rounds:\n",
      "INFO:gal: \n",
      "Avg Training Stats after 212 global rounds:\n",
      "03/06 04:36:08 AM | Training Loss : 2.5420749616622924\n",
      "INFO:gal:Training Loss : 2.5420749616622924\n",
      "03/06 04:36:08 AM | Train Accuracy: 24.95% \n",
      "\n",
      "INFO:gal:Train Accuracy: 24.95% \n",
      "\n",
      " 21%|███████████████▎                                                        | 212/1000 [11:18:38<55:54:51, 255.45s/it]"
     ]
    },
    {
     "name": "stdout",
     "output_type": "stream",
     "text": [
      "\n",
      " | Global Training Round : 213 |\n",
      "\n"
     ]
    },
    {
     "name": "stderr",
     "output_type": "stream",
     "text": [
      "03/06 04:41:35 AM |  \n",
      "Avg Training Stats after 213 global rounds:\n",
      "INFO:gal: \n",
      "Avg Training Stats after 213 global rounds:\n",
      "03/06 04:41:35 AM | Training Loss : 2.589568355083466\n",
      "INFO:gal:Training Loss : 2.589568355083466\n",
      "03/06 04:41:35 AM | Train Accuracy: 22.85% \n",
      "\n",
      "INFO:gal:Train Accuracy: 22.85% \n",
      "\n",
      " 21%|███████████████▎                                                        | 213/1000 [11:24:05<60:34:17, 277.07s/it]"
     ]
    },
    {
     "name": "stdout",
     "output_type": "stream",
     "text": [
      "\n",
      " | Global Training Round : 214 |\n",
      "\n"
     ]
    },
    {
     "name": "stderr",
     "output_type": "stream",
     "text": [
      "03/06 04:45:52 AM |  \n",
      "Avg Training Stats after 214 global rounds:\n",
      "INFO:gal: \n",
      "Avg Training Stats after 214 global rounds:\n",
      "03/06 04:45:52 AM | Training Loss : 2.685214949131012\n",
      "INFO:gal:Training Loss : 2.685214949131012\n",
      "03/06 04:45:52 AM | Train Accuracy: 23.56% \n",
      "\n",
      "INFO:gal:Train Accuracy: 23.56% \n",
      "\n",
      " 21%|███████████████▍                                                        | 214/1000 [11:28:22<59:11:36, 271.12s/it]"
     ]
    },
    {
     "name": "stdout",
     "output_type": "stream",
     "text": [
      "\n",
      " | Global Training Round : 215 |\n",
      "\n"
     ]
    },
    {
     "name": "stderr",
     "output_type": "stream",
     "text": [
      "03/06 04:50:19 AM |  \n",
      "Avg Training Stats after 215 global rounds:\n",
      "INFO:gal: \n",
      "Avg Training Stats after 215 global rounds:\n",
      "03/06 04:50:19 AM | Training Loss : 2.584265194892883\n",
      "INFO:gal:Training Loss : 2.584265194892883\n",
      "03/06 04:50:19 AM | Train Accuracy: 25.64% \n",
      "\n",
      "INFO:gal:Train Accuracy: 25.64% \n",
      "\n",
      " 22%|███████████████▍                                                        | 215/1000 [11:32:49<58:48:20, 269.68s/it]"
     ]
    },
    {
     "name": "stdout",
     "output_type": "stream",
     "text": [
      "\n",
      " | Global Training Round : 216 |\n",
      "\n"
     ]
    },
    {
     "name": "stderr",
     "output_type": "stream",
     "text": [
      "03/06 04:54:35 AM |  \n",
      "Avg Training Stats after 216 global rounds:\n",
      "INFO:gal: \n",
      "Avg Training Stats after 216 global rounds:\n",
      "03/06 04:54:35 AM | Training Loss : 2.568209326267242\n",
      "INFO:gal:Training Loss : 2.568209326267242\n",
      "03/06 04:54:35 AM | Train Accuracy: 26.76% \n",
      "\n",
      "INFO:gal:Train Accuracy: 26.76% \n",
      "\n",
      " 22%|███████████████▌                                                        | 216/1000 [11:37:05<57:51:11, 265.65s/it]"
     ]
    },
    {
     "name": "stdout",
     "output_type": "stream",
     "text": [
      "\n",
      " | Global Training Round : 217 |\n",
      "\n"
     ]
    },
    {
     "name": "stderr",
     "output_type": "stream",
     "text": [
      "03/06 04:58:53 AM |  \n",
      "Avg Training Stats after 217 global rounds:\n",
      "INFO:gal: \n",
      "Avg Training Stats after 217 global rounds:\n",
      "03/06 04:58:54 AM | Training Loss : 2.5781517705917354\n",
      "INFO:gal:Training Loss : 2.5781517705917354\n",
      "03/06 04:58:54 AM | Train Accuracy: 26.81% \n",
      "\n",
      "INFO:gal:Train Accuracy: 26.81% \n",
      "\n",
      " 22%|███████████████▌                                                        | 217/1000 [11:41:23<57:19:00, 263.53s/it]"
     ]
    },
    {
     "name": "stdout",
     "output_type": "stream",
     "text": [
      "\n",
      " | Global Training Round : 218 |\n",
      "\n"
     ]
    },
    {
     "name": "stderr",
     "output_type": "stream",
     "text": [
      "03/06 05:03:11 AM |  \n",
      "Avg Training Stats after 218 global rounds:\n",
      "INFO:gal: \n",
      "Avg Training Stats after 218 global rounds:\n",
      "03/06 05:03:11 AM | Training Loss : 2.5017943487167353\n",
      "INFO:gal:Training Loss : 2.5017943487167353\n",
      "03/06 05:03:11 AM | Train Accuracy: 26.94% \n",
      "\n",
      "INFO:gal:Train Accuracy: 26.94% \n",
      "\n",
      " 22%|███████████████▋                                                        | 218/1000 [11:45:41<56:51:42, 261.77s/it]"
     ]
    },
    {
     "name": "stdout",
     "output_type": "stream",
     "text": [
      "\n",
      " | Global Training Round : 219 |\n",
      "\n"
     ]
    },
    {
     "name": "stderr",
     "output_type": "stream",
     "text": [
      "03/06 05:07:32 AM |  \n",
      "Avg Training Stats after 219 global rounds:\n",
      "INFO:gal: \n",
      "Avg Training Stats after 219 global rounds:\n",
      "03/06 05:07:32 AM | Training Loss : 2.507446790456772\n",
      "INFO:gal:Training Loss : 2.507446790456772\n",
      "03/06 05:07:32 AM | Train Accuracy: 26.57% \n",
      "\n",
      "INFO:gal:Train Accuracy: 26.57% \n",
      "\n",
      " 22%|███████████████▊                                                        | 219/1000 [11:50:02<56:44:55, 261.58s/it]"
     ]
    },
    {
     "name": "stdout",
     "output_type": "stream",
     "text": [
      "\n",
      " | Global Training Round : 220 |\n",
      "\n"
     ]
    },
    {
     "name": "stderr",
     "output_type": "stream",
     "text": [
      "03/06 05:11:52 AM |  \n",
      "Avg Training Stats after 220 global rounds:\n",
      "INFO:gal: \n",
      "Avg Training Stats after 220 global rounds:\n",
      "03/06 05:11:52 AM | Training Loss : 2.5234802930355067\n",
      "INFO:gal:Training Loss : 2.5234802930355067\n",
      "03/06 05:11:52 AM | Train Accuracy: 27.17% \n",
      "\n",
      "INFO:gal:Train Accuracy: 27.17% \n",
      "\n",
      " 22%|███████████████▊                                                        | 220/1000 [11:54:22<56:33:27, 261.04s/it]"
     ]
    },
    {
     "name": "stdout",
     "output_type": "stream",
     "text": [
      "\n",
      " | Global Training Round : 221 |\n",
      "\n"
     ]
    },
    {
     "name": "stderr",
     "output_type": "stream",
     "text": [
      "03/06 05:16:12 AM |  \n",
      "Avg Training Stats after 221 global rounds:\n",
      "INFO:gal: \n",
      "Avg Training Stats after 221 global rounds:\n",
      "03/06 05:16:12 AM | Training Loss : 2.5358762681484226\n",
      "INFO:gal:Training Loss : 2.5358762681484226\n",
      "03/06 05:16:12 AM | Train Accuracy: 27.81% \n",
      "\n",
      "INFO:gal:Train Accuracy: 27.81% \n",
      "\n",
      " 22%|███████████████▉                                                        | 221/1000 [11:58:42<56:24:12, 260.66s/it]"
     ]
    },
    {
     "name": "stdout",
     "output_type": "stream",
     "text": [
      "\n",
      " | Global Training Round : 222 |\n",
      "\n"
     ]
    },
    {
     "name": "stderr",
     "output_type": "stream",
     "text": [
      "03/06 05:20:35 AM |  \n",
      "Avg Training Stats after 222 global rounds:\n",
      "INFO:gal: \n",
      "Avg Training Stats after 222 global rounds:\n",
      "03/06 05:20:35 AM | Training Loss : 2.571963850498199\n",
      "INFO:gal:Training Loss : 2.571963850498199\n",
      "03/06 05:20:35 AM | Train Accuracy: 27.03% \n",
      "\n",
      "INFO:gal:Train Accuracy: 27.03% \n",
      "\n",
      " 22%|███████████████▉                                                        | 222/1000 [12:03:05<56:31:23, 261.55s/it]"
     ]
    },
    {
     "name": "stdout",
     "output_type": "stream",
     "text": [
      "\n",
      " | Global Training Round : 223 |\n",
      "\n"
     ]
    },
    {
     "name": "stderr",
     "output_type": "stream",
     "text": [
      "03/06 05:25:00 AM |  \n",
      "Avg Training Stats after 223 global rounds:\n",
      "INFO:gal: \n",
      "Avg Training Stats after 223 global rounds:\n",
      "03/06 05:25:00 AM | Training Loss : 2.5712875666618347\n",
      "INFO:gal:Training Loss : 2.5712875666618347\n",
      "03/06 05:25:00 AM | Train Accuracy: 27.67% \n",
      "\n",
      "INFO:gal:Train Accuracy: 27.67% \n",
      "\n",
      " 22%|████████████████                                                        | 223/1000 [12:07:30<56:38:06, 262.40s/it]"
     ]
    },
    {
     "name": "stdout",
     "output_type": "stream",
     "text": [
      "\n",
      " | Global Training Round : 224 |\n",
      "\n"
     ]
    },
    {
     "name": "stderr",
     "output_type": "stream",
     "text": [
      "03/06 05:29:25 AM |  \n",
      "Avg Training Stats after 224 global rounds:\n",
      "INFO:gal: \n",
      "Avg Training Stats after 224 global rounds:\n",
      "03/06 05:29:25 AM | Training Loss : 2.5058254103660587\n",
      "INFO:gal:Training Loss : 2.5058254103660587\n",
      "03/06 05:29:25 AM | Train Accuracy: 27.06% \n",
      "\n",
      "INFO:gal:Train Accuracy: 27.06% \n",
      "\n",
      " 22%|████████████████▏                                                       | 224/1000 [12:11:55<56:45:26, 263.31s/it]"
     ]
    },
    {
     "name": "stdout",
     "output_type": "stream",
     "text": [
      "\n",
      " | Global Training Round : 225 |\n",
      "\n"
     ]
    },
    {
     "name": "stderr",
     "output_type": "stream",
     "text": [
      "03/06 05:33:59 AM |  \n",
      "Avg Training Stats after 225 global rounds:\n",
      "INFO:gal: \n",
      "Avg Training Stats after 225 global rounds:\n",
      "03/06 05:33:59 AM | Training Loss : 2.5517586023807524\n",
      "INFO:gal:Training Loss : 2.5517586023807524\n",
      "03/06 05:33:59 AM | Train Accuracy: 27.22% \n",
      "\n",
      "INFO:gal:Train Accuracy: 27.22% \n",
      "\n",
      " 22%|████████████████▏                                                       | 225/1000 [12:16:29<57:22:10, 266.49s/it]"
     ]
    },
    {
     "name": "stdout",
     "output_type": "stream",
     "text": [
      "\n",
      " | Global Training Round : 226 |\n",
      "\n"
     ]
    },
    {
     "name": "stderr",
     "output_type": "stream",
     "text": [
      "03/06 05:38:23 AM |  \n",
      "Avg Training Stats after 226 global rounds:\n",
      "INFO:gal: \n",
      "Avg Training Stats after 226 global rounds:\n",
      "03/06 05:38:23 AM | Training Loss : 2.576378520011902\n",
      "INFO:gal:Training Loss : 2.576378520011902\n",
      "03/06 05:38:23 AM | Train Accuracy: 27.17% \n",
      "\n",
      "INFO:gal:Train Accuracy: 27.17% \n",
      "\n",
      " 23%|████████████████▎                                                       | 226/1000 [12:20:53<57:07:01, 265.66s/it]"
     ]
    },
    {
     "name": "stdout",
     "output_type": "stream",
     "text": [
      "\n",
      " | Global Training Round : 227 |\n",
      "\n"
     ]
    },
    {
     "name": "stderr",
     "output_type": "stream",
     "text": [
      "03/06 05:42:46 AM |  \n",
      "Avg Training Stats after 227 global rounds:\n",
      "INFO:gal: \n",
      "Avg Training Stats after 227 global rounds:\n",
      "03/06 05:42:46 AM | Training Loss : 2.5067056016922002\n",
      "INFO:gal:Training Loss : 2.5067056016922002\n",
      "03/06 05:42:46 AM | Train Accuracy: 25.24% \n",
      "\n",
      "INFO:gal:Train Accuracy: 25.24% \n",
      "\n",
      " 23%|████████████████▎                                                       | 227/1000 [12:25:16<56:51:14, 264.78s/it]"
     ]
    },
    {
     "name": "stdout",
     "output_type": "stream",
     "text": [
      "\n",
      " | Global Training Round : 228 |\n",
      "\n"
     ]
    },
    {
     "name": "stderr",
     "output_type": "stream",
     "text": [
      "03/06 05:47:09 AM |  \n",
      "Avg Training Stats after 228 global rounds:\n",
      "INFO:gal: \n",
      "Avg Training Stats after 228 global rounds:\n",
      "03/06 05:47:09 AM | Training Loss : 2.5342056081295015\n",
      "INFO:gal:Training Loss : 2.5342056081295015\n",
      "03/06 05:47:09 AM | Train Accuracy: 25.16% \n",
      "\n",
      "INFO:gal:Train Accuracy: 25.16% \n",
      "\n",
      " 23%|████████████████▍                                                       | 228/1000 [12:29:39<56:41:23, 264.36s/it]"
     ]
    },
    {
     "name": "stdout",
     "output_type": "stream",
     "text": [
      "\n",
      " | Global Training Round : 229 |\n",
      "\n"
     ]
    },
    {
     "name": "stderr",
     "output_type": "stream",
     "text": [
      "03/06 05:51:37 AM |  \n",
      "Avg Training Stats after 229 global rounds:\n",
      "INFO:gal: \n",
      "Avg Training Stats after 229 global rounds:\n",
      "03/06 05:51:37 AM | Training Loss : 2.467600615501403\n",
      "INFO:gal:Training Loss : 2.467600615501403\n",
      "03/06 05:51:37 AM | Train Accuracy: 27.54% \n",
      "\n",
      "INFO:gal:Train Accuracy: 27.54% \n",
      "\n",
      " 23%|████████████████▍                                                       | 229/1000 [12:34:07<56:51:21, 265.48s/it]"
     ]
    },
    {
     "name": "stdout",
     "output_type": "stream",
     "text": [
      "\n",
      " | Global Training Round : 230 |\n",
      "\n"
     ]
    },
    {
     "name": "stderr",
     "output_type": "stream",
     "text": [
      "03/06 05:56:06 AM |  \n",
      "Avg Training Stats after 230 global rounds:\n",
      "INFO:gal: \n",
      "Avg Training Stats after 230 global rounds:\n",
      "03/06 05:56:06 AM | Training Loss : 2.501851107120514\n",
      "INFO:gal:Training Loss : 2.501851107120514\n",
      "03/06 05:56:06 AM | Train Accuracy: 24.08% \n",
      "\n",
      "INFO:gal:Train Accuracy: 24.08% \n",
      "\n",
      " 23%|████████████████▌                                                       | 230/1000 [12:38:36<57:00:12, 266.51s/it]"
     ]
    },
    {
     "name": "stdout",
     "output_type": "stream",
     "text": [
      "\n",
      " | Global Training Round : 231 |\n",
      "\n"
     ]
    },
    {
     "name": "stderr",
     "output_type": "stream",
     "text": [
      "03/06 06:00:35 AM |  \n",
      "Avg Training Stats after 231 global rounds:\n",
      "INFO:gal: \n",
      "Avg Training Stats after 231 global rounds:\n",
      "03/06 06:00:35 AM | Training Loss : 2.528934738159179\n",
      "INFO:gal:Training Loss : 2.528934738159179\n",
      "03/06 06:00:35 AM | Train Accuracy: 25.03% \n",
      "\n",
      "INFO:gal:Train Accuracy: 25.03% \n",
      "\n",
      " 23%|████████████████▋                                                       | 231/1000 [12:43:05<57:05:02, 267.23s/it]"
     ]
    },
    {
     "name": "stdout",
     "output_type": "stream",
     "text": [
      "\n",
      " | Global Training Round : 232 |\n",
      "\n"
     ]
    },
    {
     "name": "stderr",
     "output_type": "stream",
     "text": [
      "03/06 06:05:03 AM |  \n",
      "Avg Training Stats after 232 global rounds:\n",
      "INFO:gal: \n",
      "Avg Training Stats after 232 global rounds:\n",
      "03/06 06:05:03 AM | Training Loss : 2.5231050877571106\n",
      "INFO:gal:Training Loss : 2.5231050877571106\n",
      "03/06 06:05:03 AM | Train Accuracy: 24.61% \n",
      "\n",
      "INFO:gal:Train Accuracy: 24.61% \n",
      "\n",
      " 23%|████████████████▋                                                       | 232/1000 [12:47:33<57:04:50, 267.57s/it]"
     ]
    },
    {
     "name": "stdout",
     "output_type": "stream",
     "text": [
      "\n",
      " | Global Training Round : 233 |\n",
      "\n"
     ]
    },
    {
     "name": "stderr",
     "output_type": "stream",
     "text": [
      "03/06 06:09:40 AM |  \n",
      "Avg Training Stats after 233 global rounds:\n",
      "INFO:gal: \n",
      "Avg Training Stats after 233 global rounds:\n",
      "03/06 06:09:40 AM | Training Loss : 2.4062099180221557\n",
      "INFO:gal:Training Loss : 2.4062099180221557\n",
      "03/06 06:09:40 AM | Train Accuracy: 25.92% \n",
      "\n",
      "INFO:gal:Train Accuracy: 25.92% \n",
      "\n",
      " 23%|████████████████▊                                                       | 233/1000 [12:52:10<57:34:48, 270.26s/it]"
     ]
    },
    {
     "name": "stdout",
     "output_type": "stream",
     "text": [
      "\n",
      " | Global Training Round : 234 |\n",
      "\n"
     ]
    },
    {
     "name": "stderr",
     "output_type": "stream",
     "text": [
      "03/06 06:14:13 AM |  \n",
      "Avg Training Stats after 234 global rounds:\n",
      "INFO:gal: \n",
      "Avg Training Stats after 234 global rounds:\n",
      "03/06 06:14:13 AM | Training Loss : 2.572955836296081\n",
      "INFO:gal:Training Loss : 2.572955836296081\n",
      "03/06 06:14:13 AM | Train Accuracy: 26.85% \n",
      "\n",
      "INFO:gal:Train Accuracy: 26.85% \n",
      "\n",
      " 23%|████████████████▊                                                       | 234/1000 [12:56:43<57:40:58, 271.09s/it]"
     ]
    },
    {
     "name": "stdout",
     "output_type": "stream",
     "text": [
      "\n",
      " | Global Training Round : 235 |\n",
      "\n"
     ]
    },
    {
     "name": "stderr",
     "output_type": "stream",
     "text": [
      "03/06 06:18:44 AM |  \n",
      "Avg Training Stats after 235 global rounds:\n",
      "INFO:gal: \n",
      "Avg Training Stats after 235 global rounds:\n",
      "03/06 06:18:44 AM | Training Loss : 2.5250868835449216\n",
      "INFO:gal:Training Loss : 2.5250868835449216\n",
      "03/06 06:18:44 AM | Train Accuracy: 27.38% \n",
      "\n",
      "INFO:gal:Train Accuracy: 27.38% \n",
      "\n",
      " 24%|████████████████▉                                                       | 235/1000 [13:01:14<57:36:12, 271.07s/it]"
     ]
    },
    {
     "name": "stdout",
     "output_type": "stream",
     "text": [
      "\n",
      " | Global Training Round : 236 |\n",
      "\n"
     ]
    },
    {
     "name": "stderr",
     "output_type": "stream",
     "text": [
      "03/06 06:23:11 AM |  \n",
      "Avg Training Stats after 236 global rounds:\n",
      "INFO:gal: \n",
      "Avg Training Stats after 236 global rounds:\n",
      "03/06 06:23:11 AM | Training Loss : 2.5344148864746088\n",
      "INFO:gal:Training Loss : 2.5344148864746088\n",
      "03/06 06:23:11 AM | Train Accuracy: 25.76% \n",
      "\n",
      "INFO:gal:Train Accuracy: 25.76% \n",
      "\n",
      " 24%|████████████████▉                                                       | 236/1000 [13:05:41<57:15:37, 269.81s/it]"
     ]
    },
    {
     "name": "stdout",
     "output_type": "stream",
     "text": [
      "\n",
      " | Global Training Round : 237 |\n",
      "\n"
     ]
    },
    {
     "name": "stderr",
     "output_type": "stream",
     "text": [
      "03/06 06:27:38 AM |  \n",
      "Avg Training Stats after 237 global rounds:\n",
      "INFO:gal: \n",
      "Avg Training Stats after 237 global rounds:\n",
      "03/06 06:27:38 AM | Training Loss : 2.4489580583572383\n",
      "INFO:gal:Training Loss : 2.4489580583572383\n",
      "03/06 06:27:38 AM | Train Accuracy: 25.68% \n",
      "\n",
      "INFO:gal:Train Accuracy: 25.68% \n",
      "\n",
      " 24%|█████████████████                                                       | 237/1000 [13:10:08<57:01:19, 269.04s/it]"
     ]
    },
    {
     "name": "stdout",
     "output_type": "stream",
     "text": [
      "\n",
      " | Global Training Round : 238 |\n",
      "\n"
     ]
    },
    {
     "name": "stderr",
     "output_type": "stream",
     "text": [
      "03/06 06:32:07 AM |  \n",
      "Avg Training Stats after 238 global rounds:\n",
      "INFO:gal: \n",
      "Avg Training Stats after 238 global rounds:\n",
      "03/06 06:32:07 AM | Training Loss : 2.4756696043014528\n",
      "INFO:gal:Training Loss : 2.4756696043014528\n",
      "03/06 06:32:07 AM | Train Accuracy: 27.32% \n",
      "\n",
      "INFO:gal:Train Accuracy: 27.32% \n",
      "\n",
      " 24%|█████████████████▏                                                      | 238/1000 [13:14:37<56:55:58, 268.97s/it]"
     ]
    },
    {
     "name": "stdout",
     "output_type": "stream",
     "text": [
      "\n",
      " | Global Training Round : 239 |\n",
      "\n"
     ]
    },
    {
     "name": "stderr",
     "output_type": "stream",
     "text": [
      "03/06 06:36:34 AM |  \n",
      "Avg Training Stats after 239 global rounds:\n",
      "INFO:gal: \n",
      "Avg Training Stats after 239 global rounds:\n",
      "03/06 06:36:34 AM | Training Loss : 2.47187273311615\n",
      "INFO:gal:Training Loss : 2.47187273311615\n",
      "03/06 06:36:34 AM | Train Accuracy: 24.70% \n",
      "\n",
      "INFO:gal:Train Accuracy: 24.70% \n",
      "\n",
      " 24%|█████████████████▏                                                      | 239/1000 [13:19:04<56:43:46, 268.37s/it]"
     ]
    },
    {
     "name": "stdout",
     "output_type": "stream",
     "text": [
      "\n",
      " | Global Training Round : 240 |\n",
      "\n"
     ]
    },
    {
     "name": "stderr",
     "output_type": "stream",
     "text": [
      "03/06 06:41:03 AM |  \n",
      "Avg Training Stats after 240 global rounds:\n",
      "INFO:gal: \n",
      "Avg Training Stats after 240 global rounds:\n",
      "03/06 06:41:03 AM | Training Loss : 2.4557672755718216\n",
      "INFO:gal:Training Loss : 2.4557672755718216\n",
      "03/06 06:41:03 AM | Train Accuracy: 25.26% \n",
      "\n",
      "INFO:gal:Train Accuracy: 25.26% \n",
      "\n",
      " 24%|█████████████████▎                                                      | 240/1000 [13:23:33<56:41:08, 268.51s/it]"
     ]
    },
    {
     "name": "stdout",
     "output_type": "stream",
     "text": [
      "\n",
      " | Global Training Round : 241 |\n",
      "\n"
     ]
    },
    {
     "name": "stderr",
     "output_type": "stream",
     "text": [
      "03/06 06:45:36 AM |  \n",
      "Avg Training Stats after 241 global rounds:\n",
      "INFO:gal: \n",
      "Avg Training Stats after 241 global rounds:\n",
      "03/06 06:45:36 AM | Training Loss : 2.5445623536109916\n",
      "INFO:gal:Training Loss : 2.5445623536109916\n",
      "03/06 06:45:36 AM | Train Accuracy: 26.35% \n",
      "\n",
      "INFO:gal:Train Accuracy: 26.35% \n",
      "\n",
      " 24%|█████████████████▎                                                      | 241/1000 [13:28:06<56:54:34, 269.93s/it]"
     ]
    },
    {
     "name": "stdout",
     "output_type": "stream",
     "text": [
      "\n",
      " | Global Training Round : 242 |\n",
      "\n"
     ]
    },
    {
     "name": "stderr",
     "output_type": "stream",
     "text": [
      "03/06 06:50:03 AM |  \n",
      "Avg Training Stats after 242 global rounds:\n",
      "INFO:gal: \n",
      "Avg Training Stats after 242 global rounds:\n",
      "03/06 06:50:03 AM | Training Loss : 2.484524302959442\n",
      "INFO:gal:Training Loss : 2.484524302959442\n",
      "03/06 06:50:03 AM | Train Accuracy: 26.56% \n",
      "\n",
      "INFO:gal:Train Accuracy: 26.56% \n",
      "\n",
      " 24%|█████████████████▍                                                      | 242/1000 [13:32:33<56:38:32, 269.01s/it]"
     ]
    },
    {
     "name": "stdout",
     "output_type": "stream",
     "text": [
      "\n",
      " | Global Training Round : 243 |\n",
      "\n"
     ]
    },
    {
     "name": "stderr",
     "output_type": "stream",
     "text": [
      "03/06 06:54:32 AM |  \n",
      "Avg Training Stats after 243 global rounds:\n",
      "INFO:gal: \n",
      "Avg Training Stats after 243 global rounds:\n",
      "03/06 06:54:32 AM | Training Loss : 2.58349984407425\n",
      "INFO:gal:Training Loss : 2.58349984407425\n",
      "03/06 06:54:32 AM | Train Accuracy: 28.02% \n",
      "\n",
      "INFO:gal:Train Accuracy: 28.02% \n",
      "\n",
      " 24%|█████████████████▍                                                      | 243/1000 [13:37:02<56:36:38, 269.22s/it]"
     ]
    },
    {
     "name": "stdout",
     "output_type": "stream",
     "text": [
      "\n",
      " | Global Training Round : 244 |\n",
      "\n"
     ]
    },
    {
     "name": "stderr",
     "output_type": "stream",
     "text": [
      "03/06 06:59:00 AM |  \n",
      "Avg Training Stats after 244 global rounds:\n",
      "INFO:gal: \n",
      "Avg Training Stats after 244 global rounds:\n",
      "03/06 06:59:00 AM | Training Loss : 2.4584485981464392\n",
      "INFO:gal:Training Loss : 2.4584485981464392\n",
      "03/06 06:59:00 AM | Train Accuracy: 27.90% \n",
      "\n",
      "INFO:gal:Train Accuracy: 27.90% \n",
      "\n",
      " 24%|█████████████████▌                                                      | 244/1000 [13:41:30<56:24:22, 268.60s/it]"
     ]
    },
    {
     "name": "stdout",
     "output_type": "stream",
     "text": [
      "\n",
      " | Global Training Round : 245 |\n",
      "\n"
     ]
    },
    {
     "name": "stderr",
     "output_type": "stream",
     "text": [
      "03/06 07:03:24 AM |  \n",
      "Avg Training Stats after 245 global rounds:\n",
      "INFO:gal: \n",
      "Avg Training Stats after 245 global rounds:\n",
      "03/06 07:03:24 AM | Training Loss : 2.4118789844512944\n",
      "INFO:gal:Training Loss : 2.4118789844512944\n",
      "03/06 07:03:24 AM | Train Accuracy: 26.88% \n",
      "\n",
      "INFO:gal:Train Accuracy: 26.88% \n",
      "\n",
      " 24%|█████████████████▋                                                      | 245/1000 [13:45:54<56:05:25, 267.45s/it]"
     ]
    },
    {
     "name": "stdout",
     "output_type": "stream",
     "text": [
      "\n",
      " | Global Training Round : 246 |\n",
      "\n"
     ]
    },
    {
     "name": "stderr",
     "output_type": "stream",
     "text": [
      "03/06 07:07:48 AM |  \n",
      "Avg Training Stats after 246 global rounds:\n",
      "INFO:gal: \n",
      "Avg Training Stats after 246 global rounds:\n",
      "03/06 07:07:48 AM | Training Loss : 2.465041132450104\n",
      "INFO:gal:Training Loss : 2.465041132450104\n",
      "03/06 07:07:49 AM | Train Accuracy: 26.91% \n",
      "\n",
      "INFO:gal:Train Accuracy: 26.91% \n",
      "\n",
      " 25%|█████████████████▋                                                      | 246/1000 [13:50:18<55:48:30, 266.46s/it]"
     ]
    },
    {
     "name": "stdout",
     "output_type": "stream",
     "text": [
      "\n",
      " | Global Training Round : 247 |\n",
      "\n"
     ]
    },
    {
     "name": "stderr",
     "output_type": "stream",
     "text": [
      "03/06 07:12:11 AM |  \n",
      "Avg Training Stats after 247 global rounds:\n",
      "INFO:gal: \n",
      "Avg Training Stats after 247 global rounds:\n",
      "03/06 07:12:11 AM | Training Loss : 2.45267950296402\n",
      "INFO:gal:Training Loss : 2.45267950296402\n",
      "03/06 07:12:11 AM | Train Accuracy: 24.88% \n",
      "\n",
      "INFO:gal:Train Accuracy: 24.88% \n",
      "\n",
      " 25%|█████████████████▊                                                      | 247/1000 [13:54:41<55:27:54, 265.17s/it]"
     ]
    },
    {
     "name": "stdout",
     "output_type": "stream",
     "text": [
      "\n",
      " | Global Training Round : 248 |\n",
      "\n"
     ]
    },
    {
     "name": "stderr",
     "output_type": "stream",
     "text": [
      "03/06 07:16:31 AM |  \n",
      "Avg Training Stats after 248 global rounds:\n",
      "INFO:gal: \n",
      "Avg Training Stats after 248 global rounds:\n",
      "03/06 07:16:31 AM | Training Loss : 2.5038438448905946\n",
      "INFO:gal:Training Loss : 2.5038438448905946\n",
      "03/06 07:16:31 AM | Train Accuracy: 27.28% \n",
      "\n",
      "INFO:gal:Train Accuracy: 27.28% \n",
      "\n",
      " 25%|█████████████████▊                                                      | 248/1000 [13:59:01<55:06:29, 263.82s/it]"
     ]
    },
    {
     "name": "stdout",
     "output_type": "stream",
     "text": [
      "\n",
      " | Global Training Round : 249 |\n",
      "\n"
     ]
    },
    {
     "name": "stderr",
     "output_type": "stream",
     "text": [
      "03/06 07:20:56 AM |  \n",
      "Avg Training Stats after 249 global rounds:\n",
      "INFO:gal: \n",
      "Avg Training Stats after 249 global rounds:\n",
      "03/06 07:20:56 AM | Training Loss : 2.494513453483582\n",
      "INFO:gal:Training Loss : 2.494513453483582\n",
      "03/06 07:20:57 AM | Train Accuracy: 27.96% \n",
      "\n",
      "INFO:gal:Train Accuracy: 27.96% \n",
      "\n",
      " 25%|█████████████████▉                                                      | 249/1000 [14:03:26<55:07:09, 264.22s/it]"
     ]
    },
    {
     "name": "stdout",
     "output_type": "stream",
     "text": [
      "\n",
      " | Global Training Round : 250 |\n",
      "\n"
     ]
    },
    {
     "name": "stderr",
     "output_type": "stream",
     "text": [
      "03/06 07:25:25 AM |  \n",
      "Avg Training Stats after 250 global rounds:\n",
      "INFO:gal: \n",
      "Avg Training Stats after 250 global rounds:\n",
      "03/06 07:25:25 AM | Training Loss : 2.416245559453964\n",
      "INFO:gal:Training Loss : 2.416245559453964\n",
      "03/06 07:25:25 AM | Train Accuracy: 28.60% \n",
      "\n",
      "INFO:gal:Train Accuracy: 28.60% \n",
      "\n",
      " 25%|██████████████████                                                      | 250/1000 [14:07:55<55:17:49, 265.43s/it]"
     ]
    },
    {
     "name": "stdout",
     "output_type": "stream",
     "text": [
      "\n",
      " | Global Training Round : 251 |\n",
      "\n"
     ]
    },
    {
     "name": "stderr",
     "output_type": "stream",
     "text": [
      "03/06 07:30:08 AM |  \n",
      "Avg Training Stats after 251 global rounds:\n",
      "INFO:gal: \n",
      "Avg Training Stats after 251 global rounds:\n",
      "03/06 07:30:08 AM | Training Loss : 2.4228953518867495\n",
      "INFO:gal:Training Loss : 2.4228953518867495\n",
      "03/06 07:30:08 AM | Train Accuracy: 27.68% \n",
      "\n",
      "INFO:gal:Train Accuracy: 27.68% \n",
      "\n",
      " 25%|██████████████████                                                      | 251/1000 [14:12:38<56:21:12, 270.86s/it]"
     ]
    },
    {
     "name": "stdout",
     "output_type": "stream",
     "text": [
      "\n",
      " | Global Training Round : 252 |\n",
      "\n"
     ]
    },
    {
     "name": "stderr",
     "output_type": "stream",
     "text": [
      "03/06 07:34:38 AM |  \n",
      "Avg Training Stats after 252 global rounds:\n",
      "INFO:gal: \n",
      "Avg Training Stats after 252 global rounds:\n",
      "03/06 07:34:38 AM | Training Loss : 2.4548388943672177\n",
      "INFO:gal:Training Loss : 2.4548388943672177\n",
      "03/06 07:34:38 AM | Train Accuracy: 26.73% \n",
      "\n",
      "INFO:gal:Train Accuracy: 26.73% \n",
      "\n",
      " 25%|██████████████████▏                                                     | 252/1000 [14:17:08<56:13:42, 270.62s/it]"
     ]
    },
    {
     "name": "stdout",
     "output_type": "stream",
     "text": [
      "\n",
      " | Global Training Round : 253 |\n",
      "\n"
     ]
    },
    {
     "name": "stderr",
     "output_type": "stream",
     "text": [
      "03/06 07:39:08 AM |  \n",
      "Avg Training Stats after 253 global rounds:\n",
      "INFO:gal: \n",
      "Avg Training Stats after 253 global rounds:\n",
      "03/06 07:39:08 AM | Training Loss : 2.3829357628822323\n",
      "INFO:gal:Training Loss : 2.3829357628822323\n",
      "03/06 07:39:08 AM | Train Accuracy: 28.68% \n",
      "\n",
      "INFO:gal:Train Accuracy: 28.68% \n",
      "\n",
      " 25%|██████████████████▏                                                     | 253/1000 [14:21:38<56:05:35, 270.33s/it]"
     ]
    },
    {
     "name": "stdout",
     "output_type": "stream",
     "text": [
      "\n",
      " | Global Training Round : 254 |\n",
      "\n"
     ]
    },
    {
     "name": "stderr",
     "output_type": "stream",
     "text": [
      "03/06 07:43:35 AM |  \n",
      "Avg Training Stats after 254 global rounds:\n",
      "INFO:gal: \n",
      "Avg Training Stats after 254 global rounds:\n",
      "03/06 07:43:35 AM | Training Loss : 2.4097271137237546\n",
      "INFO:gal:Training Loss : 2.4097271137237546\n",
      "03/06 07:43:35 AM | Train Accuracy: 27.65% \n",
      "\n",
      "INFO:gal:Train Accuracy: 27.65% \n",
      "\n",
      " 25%|██████████████████▎                                                     | 254/1000 [14:26:05<55:48:12, 269.29s/it]"
     ]
    },
    {
     "name": "stdout",
     "output_type": "stream",
     "text": [
      "\n",
      " | Global Training Round : 255 |\n",
      "\n"
     ]
    },
    {
     "name": "stderr",
     "output_type": "stream",
     "text": [
      "03/06 07:48:05 AM |  \n",
      "Avg Training Stats after 255 global rounds:\n",
      "INFO:gal: \n",
      "Avg Training Stats after 255 global rounds:\n",
      "03/06 07:48:05 AM | Training Loss : 2.438332695960999\n",
      "INFO:gal:Training Loss : 2.438332695960999\n",
      "03/06 07:48:05 AM | Train Accuracy: 29.11% \n",
      "\n",
      "INFO:gal:Train Accuracy: 29.11% \n",
      "\n",
      " 26%|██████████████████▎                                                     | 255/1000 [14:30:35<55:47:49, 269.62s/it]"
     ]
    },
    {
     "name": "stdout",
     "output_type": "stream",
     "text": [
      "\n",
      " | Global Training Round : 256 |\n",
      "\n"
     ]
    },
    {
     "name": "stderr",
     "output_type": "stream",
     "text": [
      "03/06 07:52:35 AM |  \n",
      "Avg Training Stats after 256 global rounds:\n",
      "INFO:gal: \n",
      "Avg Training Stats after 256 global rounds:\n",
      "03/06 07:52:35 AM | Training Loss : 2.383517661571503\n",
      "INFO:gal:Training Loss : 2.383517661571503\n",
      "03/06 07:52:35 AM | Train Accuracy: 27.75% \n",
      "\n",
      "INFO:gal:Train Accuracy: 27.75% \n",
      "\n",
      " 26%|██████████████████▍                                                     | 256/1000 [14:35:05<55:43:57, 269.67s/it]"
     ]
    },
    {
     "name": "stdout",
     "output_type": "stream",
     "text": [
      "\n",
      " | Global Training Round : 257 |\n",
      "\n"
     ]
    },
    {
     "name": "stderr",
     "output_type": "stream",
     "text": [
      "03/06 07:57:05 AM |  \n",
      "Avg Training Stats after 257 global rounds:\n",
      "INFO:gal: \n",
      "Avg Training Stats after 257 global rounds:\n",
      "03/06 07:57:05 AM | Training Loss : 2.388831250429153\n",
      "INFO:gal:Training Loss : 2.388831250429153\n",
      "03/06 07:57:05 AM | Train Accuracy: 27.98% \n",
      "\n",
      "INFO:gal:Train Accuracy: 27.98% \n",
      "\n",
      " 26%|██████████████████▌                                                     | 257/1000 [14:39:35<55:40:11, 269.73s/it]"
     ]
    },
    {
     "name": "stdout",
     "output_type": "stream",
     "text": [
      "\n",
      " | Global Training Round : 258 |\n",
      "\n"
     ]
    },
    {
     "name": "stderr",
     "output_type": "stream",
     "text": [
      "03/06 08:01:44 AM |  \n",
      "Avg Training Stats after 258 global rounds:\n",
      "INFO:gal: \n",
      "Avg Training Stats after 258 global rounds:\n",
      "03/06 08:01:44 AM | Training Loss : 2.4070071420669557\n",
      "INFO:gal:Training Loss : 2.4070071420669557\n",
      "03/06 08:01:44 AM | Train Accuracy: 28.67% \n",
      "\n",
      "INFO:gal:Train Accuracy: 28.67% \n",
      "\n",
      " 26%|██████████████████▌                                                     | 258/1000 [14:44:14<56:10:00, 272.51s/it]"
     ]
    },
    {
     "name": "stdout",
     "output_type": "stream",
     "text": [
      "\n",
      " | Global Training Round : 259 |\n",
      "\n"
     ]
    },
    {
     "name": "stderr",
     "output_type": "stream",
     "text": [
      "03/06 08:06:20 AM |  \n",
      "Avg Training Stats after 259 global rounds:\n",
      "INFO:gal: \n",
      "Avg Training Stats after 259 global rounds:\n",
      "03/06 08:06:20 AM | Training Loss : 2.48948846411705\n",
      "INFO:gal:Training Loss : 2.48948846411705\n",
      "03/06 08:06:21 AM | Train Accuracy: 26.10% \n",
      "\n",
      "INFO:gal:Train Accuracy: 26.10% \n",
      "\n",
      " 26%|██████████████████▋                                                     | 259/1000 [14:48:51<56:20:52, 273.76s/it]"
     ]
    },
    {
     "name": "stdout",
     "output_type": "stream",
     "text": [
      "\n",
      " | Global Training Round : 260 |\n",
      "\n"
     ]
    },
    {
     "name": "stderr",
     "output_type": "stream",
     "text": [
      "03/06 08:11:09 AM |  \n",
      "Avg Training Stats after 260 global rounds:\n",
      "INFO:gal: \n",
      "Avg Training Stats after 260 global rounds:\n",
      "03/06 08:11:09 AM | Training Loss : 2.451524700641632\n",
      "INFO:gal:Training Loss : 2.451524700641632\n",
      "03/06 08:11:09 AM | Train Accuracy: 27.63% \n",
      "\n",
      "INFO:gal:Train Accuracy: 27.63% \n",
      "\n",
      " 26%|██████████████████▋                                                     | 260/1000 [14:53:39<57:09:55, 278.10s/it]"
     ]
    },
    {
     "name": "stdout",
     "output_type": "stream",
     "text": [
      "\n",
      " | Global Training Round : 261 |\n",
      "\n"
     ]
    },
    {
     "name": "stderr",
     "output_type": "stream",
     "text": [
      "03/06 08:15:46 AM |  \n",
      "Avg Training Stats after 261 global rounds:\n",
      "INFO:gal: \n",
      "Avg Training Stats after 261 global rounds:\n",
      "03/06 08:15:46 AM | Training Loss : 2.4732454953193668\n",
      "INFO:gal:Training Loss : 2.4732454953193668\n",
      "03/06 08:15:46 AM | Train Accuracy: 27.65% \n",
      "\n",
      "INFO:gal:Train Accuracy: 27.65% \n",
      "\n",
      " 26%|██████████████████▊                                                     | 261/1000 [14:58:16<57:02:26, 277.87s/it]"
     ]
    },
    {
     "name": "stdout",
     "output_type": "stream",
     "text": [
      "\n",
      " | Global Training Round : 262 |\n",
      "\n"
     ]
    },
    {
     "name": "stderr",
     "output_type": "stream",
     "text": [
      "03/06 08:20:23 AM |  \n",
      "Avg Training Stats after 262 global rounds:\n",
      "INFO:gal: \n",
      "Avg Training Stats after 262 global rounds:\n",
      "03/06 08:20:23 AM | Training Loss : 2.47429391670227\n",
      "INFO:gal:Training Loss : 2.47429391670227\n",
      "03/06 08:20:23 AM | Train Accuracy: 26.61% \n",
      "\n",
      "INFO:gal:Train Accuracy: 26.61% \n",
      "\n",
      " 26%|██████████████████▊                                                     | 262/1000 [15:02:53<56:54:58, 277.64s/it]"
     ]
    },
    {
     "name": "stdout",
     "output_type": "stream",
     "text": [
      "\n",
      " | Global Training Round : 263 |\n",
      "\n"
     ]
    },
    {
     "name": "stderr",
     "output_type": "stream",
     "text": [
      "03/06 08:24:58 AM |  \n",
      "Avg Training Stats after 263 global rounds:\n",
      "INFO:gal: \n",
      "Avg Training Stats after 263 global rounds:\n",
      "03/06 08:24:58 AM | Training Loss : 2.4904581239223473\n",
      "INFO:gal:Training Loss : 2.4904581239223473\n",
      "03/06 08:24:58 AM | Train Accuracy: 25.67% \n",
      "\n",
      "INFO:gal:Train Accuracy: 25.67% \n",
      "\n",
      " 26%|██████████████████▉                                                     | 263/1000 [15:07:28<56:39:35, 276.77s/it]"
     ]
    },
    {
     "name": "stdout",
     "output_type": "stream",
     "text": [
      "\n",
      " | Global Training Round : 264 |\n",
      "\n"
     ]
    },
    {
     "name": "stderr",
     "output_type": "stream",
     "text": [
      "03/06 08:29:36 AM |  \n",
      "Avg Training Stats after 264 global rounds:\n",
      "INFO:gal: \n",
      "Avg Training Stats after 264 global rounds:\n",
      "03/06 08:29:36 AM | Training Loss : 2.4716329236030585\n",
      "INFO:gal:Training Loss : 2.4716329236030585\n",
      "03/06 08:29:36 AM | Train Accuracy: 26.98% \n",
      "\n",
      "INFO:gal:Train Accuracy: 26.98% \n",
      "\n",
      " 26%|███████████████████                                                     | 264/1000 [15:12:06<56:40:38, 277.23s/it]"
     ]
    },
    {
     "name": "stdout",
     "output_type": "stream",
     "text": [
      "\n",
      " | Global Training Round : 265 |\n",
      "\n"
     ]
    },
    {
     "name": "stderr",
     "output_type": "stream",
     "text": [
      "03/06 08:34:15 AM |  \n",
      "Avg Training Stats after 265 global rounds:\n",
      "INFO:gal: \n",
      "Avg Training Stats after 265 global rounds:\n",
      "03/06 08:34:15 AM | Training Loss : 2.3796427044868467\n",
      "INFO:gal:Training Loss : 2.3796427044868467\n",
      "03/06 08:34:15 AM | Train Accuracy: 28.36% \n",
      "\n",
      "INFO:gal:Train Accuracy: 28.36% \n",
      "\n",
      " 26%|███████████████████                                                     | 265/1000 [15:16:45<56:41:47, 277.70s/it]"
     ]
    },
    {
     "name": "stdout",
     "output_type": "stream",
     "text": [
      "\n",
      " | Global Training Round : 266 |\n",
      "\n"
     ]
    },
    {
     "name": "stderr",
     "output_type": "stream",
     "text": [
      "03/06 08:38:53 AM |  \n",
      "Avg Training Stats after 266 global rounds:\n",
      "INFO:gal: \n",
      "Avg Training Stats after 266 global rounds:\n",
      "03/06 08:38:53 AM | Training Loss : 2.4022447404861453\n",
      "INFO:gal:Training Loss : 2.4022447404861453\n",
      "03/06 08:38:53 AM | Train Accuracy: 27.77% \n",
      "\n",
      "INFO:gal:Train Accuracy: 27.77% \n",
      "\n",
      " 27%|███████████████████▏                                                    | 266/1000 [15:21:23<56:36:35, 277.65s/it]"
     ]
    },
    {
     "name": "stdout",
     "output_type": "stream",
     "text": [
      "\n",
      " | Global Training Round : 267 |\n",
      "\n"
     ]
    },
    {
     "name": "stderr",
     "output_type": "stream",
     "text": [
      "03/06 08:43:37 AM |  \n",
      "Avg Training Stats after 267 global rounds:\n",
      "INFO:gal: \n",
      "Avg Training Stats after 267 global rounds:\n",
      "03/06 08:43:37 AM | Training Loss : 2.336284736633301\n",
      "INFO:gal:Training Loss : 2.336284736633301\n",
      "03/06 08:43:37 AM | Train Accuracy: 28.11% \n",
      "\n",
      "INFO:gal:Train Accuracy: 28.11% \n",
      "\n",
      " 27%|███████████████████▏                                                    | 267/1000 [15:26:07<56:55:26, 279.57s/it]"
     ]
    },
    {
     "name": "stdout",
     "output_type": "stream",
     "text": [
      "\n",
      " | Global Training Round : 268 |\n",
      "\n"
     ]
    },
    {
     "name": "stderr",
     "output_type": "stream",
     "text": [
      "03/06 08:48:28 AM |  \n",
      "Avg Training Stats after 268 global rounds:\n",
      "INFO:gal: \n",
      "Avg Training Stats after 268 global rounds:\n",
      "03/06 08:48:28 AM | Training Loss : 2.471910722970963\n",
      "INFO:gal:Training Loss : 2.471910722970963\n",
      "03/06 08:48:28 AM | Train Accuracy: 28.59% \n",
      "\n",
      "INFO:gal:Train Accuracy: 28.59% \n",
      "\n",
      " 27%|███████████████████▎                                                    | 268/1000 [15:30:58<57:32:28, 282.99s/it]"
     ]
    },
    {
     "name": "stdout",
     "output_type": "stream",
     "text": [
      "\n",
      " | Global Training Round : 269 |\n",
      "\n"
     ]
    },
    {
     "name": "stderr",
     "output_type": "stream",
     "text": [
      "03/06 08:53:09 AM |  \n",
      "Avg Training Stats after 269 global rounds:\n",
      "INFO:gal: \n",
      "Avg Training Stats after 269 global rounds:\n",
      "03/06 08:53:09 AM | Training Loss : 2.2594409630298613\n",
      "INFO:gal:Training Loss : 2.2594409630298613\n",
      "03/06 08:53:09 AM | Train Accuracy: 28.28% \n",
      "\n",
      "INFO:gal:Train Accuracy: 28.28% \n",
      "\n",
      " 27%|███████████████████▎                                                    | 269/1000 [15:35:39<57:21:01, 282.44s/it]"
     ]
    },
    {
     "name": "stdout",
     "output_type": "stream",
     "text": [
      "\n",
      " | Global Training Round : 270 |\n",
      "\n"
     ]
    },
    {
     "name": "stderr",
     "output_type": "stream",
     "text": [
      "03/06 08:57:55 AM |  \n",
      "Avg Training Stats after 270 global rounds:\n",
      "INFO:gal: \n",
      "Avg Training Stats after 270 global rounds:\n",
      "03/06 08:57:55 AM | Training Loss : 2.337943537712097\n",
      "INFO:gal:Training Loss : 2.337943537712097\n",
      "03/06 08:57:55 AM | Train Accuracy: 28.55% \n",
      "\n",
      "INFO:gal:Train Accuracy: 28.55% \n",
      "\n",
      " 27%|███████████████████▍                                                    | 270/1000 [15:40:25<57:30:44, 283.62s/it]"
     ]
    },
    {
     "name": "stdout",
     "output_type": "stream",
     "text": [
      "\n",
      " | Global Training Round : 271 |\n",
      "\n"
     ]
    },
    {
     "name": "stderr",
     "output_type": "stream",
     "text": [
      "03/06 09:02:37 AM |  \n",
      "Avg Training Stats after 271 global rounds:\n",
      "INFO:gal: \n",
      "Avg Training Stats after 271 global rounds:\n",
      "03/06 09:02:37 AM | Training Loss : 2.4359904599189766\n",
      "INFO:gal:Training Loss : 2.4359904599189766\n",
      "03/06 09:02:37 AM | Train Accuracy: 26.97% \n",
      "\n",
      "INFO:gal:Train Accuracy: 26.97% \n",
      "\n",
      " 27%|███████████████████▌                                                    | 271/1000 [15:45:07<57:18:58, 283.04s/it]"
     ]
    },
    {
     "name": "stdout",
     "output_type": "stream",
     "text": [
      "\n",
      " | Global Training Round : 272 |\n",
      "\n"
     ]
    },
    {
     "name": "stderr",
     "output_type": "stream",
     "text": [
      "03/06 09:07:16 AM |  \n",
      "Avg Training Stats after 272 global rounds:\n",
      "INFO:gal: \n",
      "Avg Training Stats after 272 global rounds:\n",
      "03/06 09:07:17 AM | Training Loss : 2.4079873118400577\n",
      "INFO:gal:Training Loss : 2.4079873118400577\n",
      "03/06 09:07:17 AM | Train Accuracy: 28.00% \n",
      "\n",
      "INFO:gal:Train Accuracy: 28.00% \n",
      "\n",
      " 27%|███████████████████▌                                                    | 272/1000 [15:49:46<57:02:05, 282.04s/it]"
     ]
    },
    {
     "name": "stdout",
     "output_type": "stream",
     "text": [
      "\n",
      " | Global Training Round : 273 |\n",
      "\n"
     ]
    },
    {
     "name": "stderr",
     "output_type": "stream",
     "text": [
      "03/06 09:12:00 AM |  \n",
      "Avg Training Stats after 273 global rounds:\n",
      "INFO:gal: \n",
      "Avg Training Stats after 273 global rounds:\n",
      "03/06 09:12:00 AM | Training Loss : 2.379347898960113\n",
      "INFO:gal:Training Loss : 2.379347898960113\n",
      "03/06 09:12:00 AM | Train Accuracy: 29.30% \n",
      "\n",
      "INFO:gal:Train Accuracy: 29.30% \n",
      "\n",
      " 27%|███████████████████▋                                                    | 273/1000 [15:54:29<57:00:53, 282.33s/it]"
     ]
    },
    {
     "name": "stdout",
     "output_type": "stream",
     "text": [
      "\n",
      " | Global Training Round : 274 |\n",
      "\n"
     ]
    },
    {
     "name": "stderr",
     "output_type": "stream",
     "text": [
      "03/06 09:16:42 AM |  \n",
      "Avg Training Stats after 274 global rounds:\n",
      "INFO:gal: \n",
      "Avg Training Stats after 274 global rounds:\n",
      "03/06 09:16:42 AM | Training Loss : 2.321723707199097\n",
      "INFO:gal:Training Loss : 2.321723707199097\n",
      "03/06 09:16:42 AM | Train Accuracy: 27.25% \n",
      "\n",
      "INFO:gal:Train Accuracy: 27.25% \n",
      "\n",
      " 27%|███████████████████▋                                                    | 274/1000 [15:59:12<56:56:25, 282.35s/it]"
     ]
    },
    {
     "name": "stdout",
     "output_type": "stream",
     "text": [
      "\n",
      " | Global Training Round : 275 |\n",
      "\n"
     ]
    },
    {
     "name": "stderr",
     "output_type": "stream",
     "text": [
      "03/06 09:21:35 AM |  \n",
      "Avg Training Stats after 275 global rounds:\n",
      "INFO:gal: \n",
      "Avg Training Stats after 275 global rounds:\n",
      "03/06 09:21:35 AM | Training Loss : 2.457364849567413\n",
      "INFO:gal:Training Loss : 2.457364849567413\n",
      "03/06 09:21:35 AM | Train Accuracy: 28.70% \n",
      "\n",
      "INFO:gal:Train Accuracy: 28.70% \n",
      "\n",
      " 28%|███████████████████▊                                                    | 275/1000 [16:04:05<57:32:16, 285.71s/it]"
     ]
    },
    {
     "name": "stdout",
     "output_type": "stream",
     "text": [
      "\n",
      " | Global Training Round : 276 |\n",
      "\n"
     ]
    },
    {
     "name": "stderr",
     "output_type": "stream",
     "text": [
      "03/06 09:26:24 AM |  \n",
      "Avg Training Stats after 276 global rounds:\n",
      "INFO:gal: \n",
      "Avg Training Stats after 276 global rounds:\n",
      "03/06 09:26:24 AM | Training Loss : 2.4048198013305675\n",
      "INFO:gal:Training Loss : 2.4048198013305675\n",
      "03/06 09:26:24 AM | Train Accuracy: 28.24% \n",
      "\n",
      "INFO:gal:Train Accuracy: 28.24% \n",
      "\n",
      " 28%|███████████████████▊                                                    | 276/1000 [16:08:54<57:38:30, 286.62s/it]"
     ]
    },
    {
     "name": "stdout",
     "output_type": "stream",
     "text": [
      "\n",
      " | Global Training Round : 277 |\n",
      "\n"
     ]
    },
    {
     "name": "stderr",
     "output_type": "stream",
     "text": [
      "03/06 09:31:13 AM |  \n",
      "Avg Training Stats after 277 global rounds:\n",
      "INFO:gal: \n",
      "Avg Training Stats after 277 global rounds:\n",
      "03/06 09:31:13 AM | Training Loss : 2.3626818490028385\n",
      "INFO:gal:Training Loss : 2.3626818490028385\n",
      "03/06 09:31:13 AM | Train Accuracy: 28.09% \n",
      "\n",
      "INFO:gal:Train Accuracy: 28.09% \n",
      "\n",
      " 28%|███████████████████▉                                                    | 277/1000 [16:13:43<57:41:40, 287.28s/it]"
     ]
    },
    {
     "name": "stdout",
     "output_type": "stream",
     "text": [
      "\n",
      " | Global Training Round : 278 |\n",
      "\n"
     ]
    },
    {
     "name": "stderr",
     "output_type": "stream",
     "text": [
      "03/06 09:36:13 AM |  \n",
      "Avg Training Stats after 278 global rounds:\n",
      "INFO:gal: \n",
      "Avg Training Stats after 278 global rounds:\n",
      "03/06 09:36:13 AM | Training Loss : 2.3298568215370183\n",
      "INFO:gal:Training Loss : 2.3298568215370183\n",
      "03/06 09:36:13 AM | Train Accuracy: 28.40% \n",
      "\n",
      "INFO:gal:Train Accuracy: 28.40% \n",
      "\n",
      " 28%|████████████████████                                                    | 278/1000 [16:18:43<58:24:19, 291.22s/it]"
     ]
    },
    {
     "name": "stdout",
     "output_type": "stream",
     "text": [
      "\n",
      " | Global Training Round : 279 |\n",
      "\n"
     ]
    },
    {
     "name": "stderr",
     "output_type": "stream",
     "text": [
      "03/06 09:41:05 AM |  \n",
      "Avg Training Stats after 279 global rounds:\n",
      "INFO:gal: \n",
      "Avg Training Stats after 279 global rounds:\n",
      "03/06 09:41:05 AM | Training Loss : 2.3067870674133304\n",
      "INFO:gal:Training Loss : 2.3067870674133304\n",
      "03/06 09:41:05 AM | Train Accuracy: 27.34% \n",
      "\n",
      "INFO:gal:Train Accuracy: 27.34% \n",
      "\n",
      " 28%|████████████████████                                                    | 279/1000 [16:23:35<58:20:09, 291.28s/it]"
     ]
    },
    {
     "name": "stdout",
     "output_type": "stream",
     "text": [
      "\n",
      " | Global Training Round : 280 |\n",
      "\n"
     ]
    },
    {
     "name": "stderr",
     "output_type": "stream",
     "text": [
      "03/06 09:45:53 AM |  \n",
      "Avg Training Stats after 280 global rounds:\n",
      "INFO:gal: \n",
      "Avg Training Stats after 280 global rounds:\n",
      "03/06 09:45:53 AM | Training Loss : 2.2478616476058955\n",
      "INFO:gal:Training Loss : 2.2478616476058955\n",
      "03/06 09:45:53 AM | Train Accuracy: 28.67% \n",
      "\n",
      "INFO:gal:Train Accuracy: 28.67% \n",
      "\n",
      " 28%|████████████████████▏                                                   | 280/1000 [16:28:23<58:04:52, 290.41s/it]"
     ]
    },
    {
     "name": "stdout",
     "output_type": "stream",
     "text": [
      "\n",
      " | Global Training Round : 281 |\n",
      "\n"
     ]
    },
    {
     "name": "stderr",
     "output_type": "stream",
     "text": [
      "03/06 09:50:42 AM |  \n",
      "Avg Training Stats after 281 global rounds:\n",
      "INFO:gal: \n",
      "Avg Training Stats after 281 global rounds:\n",
      "03/06 09:50:42 AM | Training Loss : 2.2976476771831513\n",
      "INFO:gal:Training Loss : 2.2976476771831513\n",
      "03/06 09:50:42 AM | Train Accuracy: 28.63% \n",
      "\n",
      "INFO:gal:Train Accuracy: 28.63% \n",
      "\n",
      " 28%|████████████████████▏                                                   | 281/1000 [16:33:12<57:53:30, 289.86s/it]"
     ]
    },
    {
     "name": "stdout",
     "output_type": "stream",
     "text": [
      "\n",
      " | Global Training Round : 282 |\n",
      "\n"
     ]
    },
    {
     "name": "stderr",
     "output_type": "stream",
     "text": [
      "03/06 09:55:31 AM |  \n",
      "Avg Training Stats after 282 global rounds:\n",
      "INFO:gal: \n",
      "Avg Training Stats after 282 global rounds:\n",
      "03/06 09:55:31 AM | Training Loss : 2.3120227997303013\n",
      "INFO:gal:Training Loss : 2.3120227997303013\n",
      "03/06 09:55:31 AM | Train Accuracy: 27.91% \n",
      "\n",
      "INFO:gal:Train Accuracy: 27.91% \n",
      "\n",
      " 28%|████████████████████▎                                                   | 282/1000 [16:38:01<57:44:41, 289.53s/it]"
     ]
    },
    {
     "name": "stdout",
     "output_type": "stream",
     "text": [
      "\n",
      " | Global Training Round : 283 |\n",
      "\n"
     ]
    },
    {
     "name": "stderr",
     "output_type": "stream",
     "text": [
      "03/06 10:00:24 AM |  \n",
      "Avg Training Stats after 283 global rounds:\n",
      "INFO:gal: \n",
      "Avg Training Stats after 283 global rounds:\n",
      "03/06 10:00:24 AM | Training Loss : 2.3836112437248236\n",
      "INFO:gal:Training Loss : 2.3836112437248236\n",
      "03/06 10:00:24 AM | Train Accuracy: 27.44% \n",
      "\n",
      "INFO:gal:Train Accuracy: 27.44% \n",
      "\n",
      " 28%|████████████████████▍                                                   | 283/1000 [16:42:54<57:55:13, 290.81s/it]"
     ]
    },
    {
     "name": "stdout",
     "output_type": "stream",
     "text": [
      "\n",
      " | Global Training Round : 284 |\n",
      "\n"
     ]
    },
    {
     "name": "stderr",
     "output_type": "stream",
     "text": [
      "03/06 10:05:16 AM |  \n",
      "Avg Training Stats after 284 global rounds:\n",
      "INFO:gal: \n",
      "Avg Training Stats after 284 global rounds:\n",
      "03/06 10:05:16 AM | Training Loss : 2.4408457651138304\n",
      "INFO:gal:Training Loss : 2.4408457651138304\n",
      "03/06 10:05:16 AM | Train Accuracy: 28.19% \n",
      "\n",
      "INFO:gal:Train Accuracy: 28.19% \n",
      "\n",
      " 28%|████████████████████▍                                                   | 284/1000 [16:47:46<57:54:01, 291.12s/it]"
     ]
    },
    {
     "name": "stdout",
     "output_type": "stream",
     "text": [
      "\n",
      " | Global Training Round : 285 |\n",
      "\n"
     ]
    },
    {
     "name": "stderr",
     "output_type": "stream",
     "text": [
      "03/06 10:10:11 AM |  \n",
      "Avg Training Stats after 285 global rounds:\n",
      "INFO:gal: \n",
      "Avg Training Stats after 285 global rounds:\n",
      "03/06 10:10:11 AM | Training Loss : 2.3962860350608826\n",
      "INFO:gal:Training Loss : 2.3962860350608826\n",
      "03/06 10:10:11 AM | Train Accuracy: 28.58% \n",
      "\n",
      "INFO:gal:Train Accuracy: 28.58% \n",
      "\n",
      " 28%|████████████████████▌                                                   | 285/1000 [16:52:41<58:02:07, 292.21s/it]"
     ]
    },
    {
     "name": "stdout",
     "output_type": "stream",
     "text": [
      "\n",
      " | Global Training Round : 286 |\n",
      "\n"
     ]
    },
    {
     "name": "stderr",
     "output_type": "stream",
     "text": [
      "03/06 10:15:11 AM |  \n",
      "Avg Training Stats after 286 global rounds:\n",
      "INFO:gal: \n",
      "Avg Training Stats after 286 global rounds:\n",
      "03/06 10:15:11 AM | Training Loss : 2.425867818832397\n",
      "INFO:gal:Training Loss : 2.425867818832397\n",
      "03/06 10:15:11 AM | Train Accuracy: 28.57% \n",
      "\n",
      "INFO:gal:Train Accuracy: 28.57% \n",
      "\n",
      " 29%|████████████████████▌                                                   | 286/1000 [16:57:41<58:23:58, 294.45s/it]"
     ]
    },
    {
     "name": "stdout",
     "output_type": "stream",
     "text": [
      "\n",
      " | Global Training Round : 287 |\n",
      "\n"
     ]
    },
    {
     "name": "stderr",
     "output_type": "stream",
     "text": [
      "03/06 10:20:04 AM |  \n",
      "Avg Training Stats after 287 global rounds:\n",
      "INFO:gal: \n",
      "Avg Training Stats after 287 global rounds:\n",
      "03/06 10:20:04 AM | Training Loss : 2.312667753458023\n",
      "INFO:gal:Training Loss : 2.312667753458023\n",
      "03/06 10:20:04 AM | Train Accuracy: 27.88% \n",
      "\n",
      "INFO:gal:Train Accuracy: 27.88% \n",
      "\n",
      " 29%|████████████████████▋                                                   | 287/1000 [17:02:34<58:16:17, 294.22s/it]"
     ]
    },
    {
     "name": "stdout",
     "output_type": "stream",
     "text": [
      "\n",
      " | Global Training Round : 288 |\n",
      "\n"
     ]
    },
    {
     "name": "stderr",
     "output_type": "stream",
     "text": [
      "03/06 10:24:58 AM |  \n",
      "Avg Training Stats after 288 global rounds:\n",
      "INFO:gal: \n",
      "Avg Training Stats after 288 global rounds:\n",
      "03/06 10:24:58 AM | Training Loss : 2.312092169523239\n",
      "INFO:gal:Training Loss : 2.312092169523239\n",
      "03/06 10:24:58 AM | Train Accuracy: 28.28% \n",
      "\n",
      "INFO:gal:Train Accuracy: 28.28% \n",
      "\n",
      " 29%|████████████████████▋                                                   | 288/1000 [17:07:28<58:10:34, 294.15s/it]"
     ]
    },
    {
     "name": "stdout",
     "output_type": "stream",
     "text": [
      "\n",
      " | Global Training Round : 289 |\n",
      "\n"
     ]
    },
    {
     "name": "stderr",
     "output_type": "stream",
     "text": [
      "03/06 10:29:57 AM |  \n",
      "Avg Training Stats after 289 global rounds:\n",
      "INFO:gal: \n",
      "Avg Training Stats after 289 global rounds:\n",
      "03/06 10:29:57 AM | Training Loss : 2.3574612510204314\n",
      "INFO:gal:Training Loss : 2.3574612510204314\n",
      "03/06 10:29:57 AM | Train Accuracy: 28.09% \n",
      "\n",
      "INFO:gal:Train Accuracy: 28.09% \n",
      "\n",
      " 29%|████████████████████▊                                                   | 289/1000 [17:12:27<58:21:41, 295.50s/it]"
     ]
    },
    {
     "name": "stdout",
     "output_type": "stream",
     "text": [
      "\n",
      " | Global Training Round : 290 |\n",
      "\n"
     ]
    },
    {
     "name": "stderr",
     "output_type": "stream",
     "text": [
      "03/06 10:34:56 AM |  \n",
      "Avg Training Stats after 290 global rounds:\n",
      "INFO:gal: \n",
      "Avg Training Stats after 290 global rounds:\n",
      "03/06 10:34:56 AM | Training Loss : 2.4035956869125368\n",
      "INFO:gal:Training Loss : 2.4035956869125368\n",
      "03/06 10:34:56 AM | Train Accuracy: 28.93% \n",
      "\n",
      "INFO:gal:Train Accuracy: 28.93% \n",
      "\n",
      " 29%|████████████████████▉                                                   | 290/1000 [17:17:26<58:29:57, 296.62s/it]"
     ]
    },
    {
     "name": "stdout",
     "output_type": "stream",
     "text": [
      "\n",
      " | Global Training Round : 291 |\n",
      "\n"
     ]
    },
    {
     "name": "stderr",
     "output_type": "stream",
     "text": [
      "03/06 10:39:56 AM |  \n",
      "Avg Training Stats after 291 global rounds:\n",
      "INFO:gal: \n",
      "Avg Training Stats after 291 global rounds:\n",
      "03/06 10:39:56 AM | Training Loss : 2.3560264639854434\n",
      "INFO:gal:Training Loss : 2.3560264639854434\n",
      "03/06 10:39:56 AM | Train Accuracy: 27.89% \n",
      "\n",
      "INFO:gal:Train Accuracy: 27.89% \n",
      "\n",
      " 29%|████████████████████▉                                                   | 291/1000 [17:22:26<58:36:51, 297.62s/it]"
     ]
    },
    {
     "name": "stdout",
     "output_type": "stream",
     "text": [
      "\n",
      " | Global Training Round : 292 |\n",
      "\n"
     ]
    },
    {
     "name": "stderr",
     "output_type": "stream",
     "text": [
      "03/06 10:44:52 AM |  \n",
      "Avg Training Stats after 292 global rounds:\n",
      "INFO:gal: \n",
      "Avg Training Stats after 292 global rounds:\n",
      "03/06 10:44:52 AM | Training Loss : 2.412284467220307\n",
      "INFO:gal:Training Loss : 2.412284467220307\n",
      "03/06 10:44:52 AM | Train Accuracy: 27.49% \n",
      "\n",
      "INFO:gal:Train Accuracy: 27.49% \n",
      "\n",
      " 29%|█████████████████████                                                   | 292/1000 [17:27:22<58:25:53, 297.11s/it]"
     ]
    },
    {
     "name": "stdout",
     "output_type": "stream",
     "text": [
      "\n",
      " | Global Training Round : 293 |\n",
      "\n"
     ]
    },
    {
     "name": "stderr",
     "output_type": "stream",
     "text": [
      "03/06 10:49:51 AM |  \n",
      "Avg Training Stats after 293 global rounds:\n",
      "INFO:gal: \n",
      "Avg Training Stats after 293 global rounds:\n",
      "03/06 10:49:51 AM | Training Loss : 2.3825870144367225\n",
      "INFO:gal:Training Loss : 2.3825870144367225\n",
      "03/06 10:49:51 AM | Train Accuracy: 26.05% \n",
      "\n",
      "INFO:gal:Train Accuracy: 26.05% \n",
      "\n",
      " 29%|█████████████████████                                                   | 293/1000 [17:32:21<58:26:42, 297.60s/it]"
     ]
    },
    {
     "name": "stdout",
     "output_type": "stream",
     "text": [
      "\n",
      " | Global Training Round : 294 |\n",
      "\n"
     ]
    },
    {
     "name": "stderr",
     "output_type": "stream",
     "text": [
      "03/06 10:54:49 AM |  \n",
      "Avg Training Stats after 294 global rounds:\n",
      "INFO:gal: \n",
      "Avg Training Stats after 294 global rounds:\n",
      "03/06 10:54:49 AM | Training Loss : 2.3987536830902108\n",
      "INFO:gal:Training Loss : 2.3987536830902108\n",
      "03/06 10:54:49 AM | Train Accuracy: 27.39% \n",
      "\n",
      "INFO:gal:Train Accuracy: 27.39% \n",
      "\n",
      " 29%|█████████████████████▏                                                  | 294/1000 [17:37:19<58:25:32, 297.92s/it]"
     ]
    },
    {
     "name": "stdout",
     "output_type": "stream",
     "text": [
      "\n",
      " | Global Training Round : 295 |\n",
      "\n"
     ]
    },
    {
     "name": "stderr",
     "output_type": "stream",
     "text": [
      "03/06 11:00:02 AM |  \n",
      "Avg Training Stats after 295 global rounds:\n",
      "INFO:gal: \n",
      "Avg Training Stats after 295 global rounds:\n",
      "03/06 11:00:02 AM | Training Loss : 2.352722536802292\n",
      "INFO:gal:Training Loss : 2.352722536802292\n",
      "03/06 11:00:02 AM | Train Accuracy: 28.83% \n",
      "\n",
      "INFO:gal:Train Accuracy: 28.83% \n",
      "\n",
      " 30%|█████████████████████▏                                                  | 295/1000 [17:42:32<59:10:53, 302.20s/it]"
     ]
    },
    {
     "name": "stdout",
     "output_type": "stream",
     "text": [
      "\n",
      " | Global Training Round : 296 |\n",
      "\n"
     ]
    },
    {
     "name": "stderr",
     "output_type": "stream",
     "text": [
      "03/06 11:05:03 AM |  \n",
      "Avg Training Stats after 296 global rounds:\n",
      "INFO:gal: \n",
      "Avg Training Stats after 296 global rounds:\n",
      "03/06 11:05:03 AM | Training Loss : 2.3070342392921446\n",
      "INFO:gal:Training Loss : 2.3070342392921446\n",
      "03/06 11:05:03 AM | Train Accuracy: 29.01% \n",
      "\n",
      "INFO:gal:Train Accuracy: 29.01% \n",
      "\n",
      " 30%|█████████████████████▎                                                  | 296/1000 [17:47:33<59:02:22, 301.91s/it]"
     ]
    },
    {
     "name": "stdout",
     "output_type": "stream",
     "text": [
      "\n",
      " | Global Training Round : 297 |\n",
      "\n"
     ]
    },
    {
     "name": "stderr",
     "output_type": "stream",
     "text": [
      "03/06 11:10:07 AM |  \n",
      "Avg Training Stats after 297 global rounds:\n",
      "INFO:gal: \n",
      "Avg Training Stats after 297 global rounds:\n",
      "03/06 11:10:07 AM | Training Loss : 2.32515522313118\n",
      "INFO:gal:Training Loss : 2.32515522313118\n",
      "03/06 11:10:07 AM | Train Accuracy: 28.35% \n",
      "\n",
      "INFO:gal:Train Accuracy: 28.35% \n",
      "\n",
      " 30%|█████████████████████▍                                                  | 297/1000 [17:52:37<59:05:48, 302.63s/it]"
     ]
    },
    {
     "name": "stdout",
     "output_type": "stream",
     "text": [
      "\n",
      " | Global Training Round : 298 |\n",
      "\n"
     ]
    },
    {
     "name": "stderr",
     "output_type": "stream",
     "text": [
      "03/06 11:15:11 AM |  \n",
      "Avg Training Stats after 298 global rounds:\n",
      "INFO:gal: \n",
      "Avg Training Stats after 298 global rounds:\n",
      "03/06 11:15:11 AM | Training Loss : 2.4124124011993406\n",
      "INFO:gal:Training Loss : 2.4124124011993406\n",
      "03/06 11:15:11 AM | Train Accuracy: 27.49% \n",
      "\n",
      "INFO:gal:Train Accuracy: 27.49% \n",
      "\n",
      " 30%|█████████████████████▍                                                  | 298/1000 [17:57:41<59:06:14, 303.10s/it]"
     ]
    },
    {
     "name": "stdout",
     "output_type": "stream",
     "text": [
      "\n",
      " | Global Training Round : 299 |\n",
      "\n"
     ]
    },
    {
     "name": "stderr",
     "output_type": "stream",
     "text": [
      "03/06 11:20:16 AM |  \n",
      "Avg Training Stats after 299 global rounds:\n",
      "INFO:gal: \n",
      "Avg Training Stats after 299 global rounds:\n",
      "03/06 11:20:16 AM | Training Loss : 2.358553233623505\n",
      "INFO:gal:Training Loss : 2.358553233623505\n",
      "03/06 11:20:16 AM | Train Accuracy: 28.30% \n",
      "\n",
      "INFO:gal:Train Accuracy: 28.30% \n",
      "\n",
      " 30%|█████████████████████▌                                                  | 299/1000 [18:02:46<59:07:43, 303.66s/it]"
     ]
    },
    {
     "name": "stdout",
     "output_type": "stream",
     "text": [
      "\n",
      " | Global Training Round : 300 |\n",
      "\n"
     ]
    },
    {
     "name": "stderr",
     "output_type": "stream",
     "text": [
      "03/06 11:25:21 AM |  \n",
      "Avg Training Stats after 300 global rounds:\n",
      "INFO:gal: \n",
      "Avg Training Stats after 300 global rounds:\n",
      "03/06 11:25:21 AM | Training Loss : 2.306065443515778\n",
      "INFO:gal:Training Loss : 2.306065443515778\n",
      "03/06 11:25:21 AM | Train Accuracy: 27.79% \n",
      "\n",
      "INFO:gal:Train Accuracy: 27.79% \n",
      "\n",
      " 30%|█████████████████████▌                                                  | 300/1000 [18:07:51<59:04:55, 303.85s/it]"
     ]
    },
    {
     "name": "stdout",
     "output_type": "stream",
     "text": [
      "\n",
      " | Global Training Round : 301 |\n",
      "\n"
     ]
    },
    {
     "name": "stderr",
     "output_type": "stream",
     "text": [
      "03/06 11:30:32 AM |  \n",
      "Avg Training Stats after 301 global rounds:\n",
      "INFO:gal: \n",
      "Avg Training Stats after 301 global rounds:\n",
      "03/06 11:30:32 AM | Training Loss : 2.3292128500938407\n",
      "INFO:gal:Training Loss : 2.3292128500938407\n",
      "03/06 11:30:32 AM | Train Accuracy: 28.92% \n",
      "\n",
      "INFO:gal:Train Accuracy: 28.92% \n",
      "\n",
      " 30%|█████████████████████▋                                                  | 301/1000 [18:13:02<59:27:21, 306.21s/it]"
     ]
    },
    {
     "name": "stdout",
     "output_type": "stream",
     "text": [
      "\n",
      " | Global Training Round : 302 |\n",
      "\n"
     ]
    },
    {
     "name": "stderr",
     "output_type": "stream",
     "text": [
      "03/06 11:35:41 AM |  \n",
      "Avg Training Stats after 302 global rounds:\n",
      "INFO:gal: \n",
      "Avg Training Stats after 302 global rounds:\n",
      "03/06 11:35:41 AM | Training Loss : 2.35856737446785\n",
      "INFO:gal:Training Loss : 2.35856737446785\n",
      "03/06 11:35:41 AM | Train Accuracy: 28.82% \n",
      "\n",
      "INFO:gal:Train Accuracy: 28.82% \n",
      "\n",
      " 30%|█████████████████████▋                                                  | 302/1000 [18:18:11<59:31:15, 306.98s/it]"
     ]
    },
    {
     "name": "stdout",
     "output_type": "stream",
     "text": [
      "\n",
      " | Global Training Round : 303 |\n",
      "\n"
     ]
    },
    {
     "name": "stderr",
     "output_type": "stream",
     "text": [
      "03/06 11:40:47 AM |  \n",
      "Avg Training Stats after 303 global rounds:\n",
      "INFO:gal: \n",
      "Avg Training Stats after 303 global rounds:\n",
      "03/06 11:40:47 AM | Training Loss : 2.343996997594833\n",
      "INFO:gal:Training Loss : 2.343996997594833\n",
      "03/06 11:40:48 AM | Train Accuracy: 30.13% \n",
      "\n",
      "INFO:gal:Train Accuracy: 30.13% \n",
      "\n",
      " 30%|█████████████████████▊                                                  | 303/1000 [18:23:17<59:23:52, 306.79s/it]"
     ]
    },
    {
     "name": "stdout",
     "output_type": "stream",
     "text": [
      "\n",
      " | Global Training Round : 304 |\n",
      "\n"
     ]
    },
    {
     "name": "stderr",
     "output_type": "stream",
     "text": [
      "03/06 11:45:50 AM |  \n",
      "Avg Training Stats after 304 global rounds:\n",
      "INFO:gal: \n",
      "Avg Training Stats after 304 global rounds:\n",
      "03/06 11:45:50 AM | Training Loss : 2.3607011575698853\n",
      "INFO:gal:Training Loss : 2.3607011575698853\n",
      "03/06 11:45:50 AM | Train Accuracy: 30.10% \n",
      "\n",
      "INFO:gal:Train Accuracy: 30.10% \n",
      "\n",
      " 30%|█████████████████████▉                                                  | 304/1000 [18:28:20<59:04:48, 305.59s/it]"
     ]
    },
    {
     "name": "stdout",
     "output_type": "stream",
     "text": [
      "\n",
      " | Global Training Round : 305 |\n",
      "\n"
     ]
    },
    {
     "name": "stderr",
     "output_type": "stream",
     "text": [
      "03/06 11:50:56 AM |  \n",
      "Avg Training Stats after 305 global rounds:\n",
      "INFO:gal: \n",
      "Avg Training Stats after 305 global rounds:\n",
      "03/06 11:50:56 AM | Training Loss : 2.3669302024841308\n",
      "INFO:gal:Training Loss : 2.3669302024841308\n",
      "03/06 11:50:56 AM | Train Accuracy: 28.52% \n",
      "\n",
      "INFO:gal:Train Accuracy: 28.52% \n",
      "\n",
      " 30%|█████████████████████▉                                                  | 305/1000 [18:33:26<59:01:20, 305.73s/it]"
     ]
    },
    {
     "name": "stdout",
     "output_type": "stream",
     "text": [
      "\n",
      " | Global Training Round : 306 |\n",
      "\n"
     ]
    },
    {
     "name": "stderr",
     "output_type": "stream",
     "text": [
      "03/06 11:56:05 AM |  \n",
      "Avg Training Stats after 306 global rounds:\n",
      "INFO:gal: \n",
      "Avg Training Stats after 306 global rounds:\n",
      "03/06 11:56:05 AM | Training Loss : 2.4008335974216464\n",
      "INFO:gal:Training Loss : 2.4008335974216464\n",
      "03/06 11:56:05 AM | Train Accuracy: 28.67% \n",
      "\n",
      "INFO:gal:Train Accuracy: 28.67% \n",
      "\n",
      " 31%|██████████████████████                                                  | 306/1000 [18:38:35<59:05:16, 306.51s/it]"
     ]
    },
    {
     "name": "stdout",
     "output_type": "stream",
     "text": [
      "\n",
      " | Global Training Round : 307 |\n",
      "\n"
     ]
    },
    {
     "name": "stderr",
     "output_type": "stream",
     "text": [
      "03/06 12:01:15 PM |  \n",
      "Avg Training Stats after 307 global rounds:\n",
      "INFO:gal: \n",
      "Avg Training Stats after 307 global rounds:\n",
      "03/06 12:01:15 PM | Training Loss : 2.344587728261948\n",
      "INFO:gal:Training Loss : 2.344587728261948\n",
      "03/06 12:01:15 PM | Train Accuracy: 29.11% \n",
      "\n",
      "INFO:gal:Train Accuracy: 29.11% \n",
      "\n",
      " 31%|██████████████████████                                                  | 307/1000 [18:43:45<59:12:31, 307.58s/it]"
     ]
    },
    {
     "name": "stdout",
     "output_type": "stream",
     "text": [
      "\n",
      " | Global Training Round : 308 |\n",
      "\n"
     ]
    },
    {
     "name": "stderr",
     "output_type": "stream",
     "text": [
      "03/06 12:06:24 PM |  \n",
      "Avg Training Stats after 308 global rounds:\n",
      "INFO:gal: \n",
      "Avg Training Stats after 308 global rounds:\n",
      "03/06 12:06:24 PM | Training Loss : 2.335401525259018\n",
      "INFO:gal:Training Loss : 2.335401525259018\n",
      "03/06 12:06:24 PM | Train Accuracy: 27.57% \n",
      "\n",
      "INFO:gal:Train Accuracy: 27.57% \n",
      "\n",
      " 31%|██████████████████████▏                                                 | 308/1000 [18:48:54<59:12:56, 308.06s/it]"
     ]
    },
    {
     "name": "stdout",
     "output_type": "stream",
     "text": [
      "\n",
      " | Global Training Round : 309 |\n",
      "\n"
     ]
    },
    {
     "name": "stderr",
     "output_type": "stream",
     "text": [
      "03/06 12:11:38 PM |  \n",
      "Avg Training Stats after 309 global rounds:\n",
      "INFO:gal: \n",
      "Avg Training Stats after 309 global rounds:\n",
      "03/06 12:11:38 PM | Training Loss : 2.31441282081604\n",
      "INFO:gal:Training Loss : 2.31441282081604\n",
      "03/06 12:11:38 PM | Train Accuracy: 28.07% \n",
      "\n",
      "INFO:gal:Train Accuracy: 28.07% \n",
      "\n",
      " 31%|██████████████████████▏                                                 | 309/1000 [18:54:08<59:29:30, 309.94s/it]"
     ]
    },
    {
     "name": "stdout",
     "output_type": "stream",
     "text": [
      "\n",
      " | Global Training Round : 310 |\n",
      "\n"
     ]
    },
    {
     "name": "stderr",
     "output_type": "stream",
     "text": [
      "03/06 12:16:50 PM |  \n",
      "Avg Training Stats after 310 global rounds:\n",
      "INFO:gal: \n",
      "Avg Training Stats after 310 global rounds:\n",
      "03/06 12:16:50 PM | Training Loss : 2.4872353274822228\n",
      "INFO:gal:Training Loss : 2.4872353274822228\n",
      "03/06 12:16:50 PM | Train Accuracy: 26.69% \n",
      "\n",
      "INFO:gal:Train Accuracy: 26.69% \n",
      "\n",
      " 31%|██████████████████████▎                                                 | 310/1000 [18:59:20<59:29:09, 310.36s/it]"
     ]
    },
    {
     "name": "stdout",
     "output_type": "stream",
     "text": [
      "\n",
      " | Global Training Round : 311 |\n",
      "\n"
     ]
    },
    {
     "name": "stderr",
     "output_type": "stream",
     "text": [
      "03/06 12:22:13 PM |  \n",
      "Avg Training Stats after 311 global rounds:\n",
      "INFO:gal: \n",
      "Avg Training Stats after 311 global rounds:\n",
      "03/06 12:22:13 PM | Training Loss : 2.3843264837265012\n",
      "INFO:gal:Training Loss : 2.3843264837265012\n",
      "03/06 12:22:13 PM | Train Accuracy: 29.48% \n",
      "\n",
      "INFO:gal:Train Accuracy: 29.48% \n",
      "\n",
      " 31%|██████████████████████▍                                                 | 311/1000 [19:04:43<60:10:04, 314.37s/it]"
     ]
    },
    {
     "name": "stdout",
     "output_type": "stream",
     "text": [
      "\n",
      " | Global Training Round : 312 |\n",
      "\n"
     ]
    },
    {
     "name": "stderr",
     "output_type": "stream",
     "text": [
      "03/06 12:27:28 PM |  \n",
      "Avg Training Stats after 312 global rounds:\n",
      "INFO:gal: \n",
      "Avg Training Stats after 312 global rounds:\n",
      "03/06 12:27:28 PM | Training Loss : 2.3819953844547275\n",
      "INFO:gal:Training Loss : 2.3819953844547275\n",
      "03/06 12:27:28 PM | Train Accuracy: 28.85% \n",
      "\n",
      "INFO:gal:Train Accuracy: 28.85% \n",
      "\n",
      " 31%|██████████████████████▍                                                 | 312/1000 [19:09:58<60:05:29, 314.43s/it]"
     ]
    },
    {
     "name": "stdout",
     "output_type": "stream",
     "text": [
      "\n",
      " | Global Training Round : 313 |\n",
      "\n"
     ]
    },
    {
     "name": "stderr",
     "output_type": "stream",
     "text": [
      "03/06 12:32:43 PM |  \n",
      "Avg Training Stats after 313 global rounds:\n",
      "INFO:gal: \n",
      "Avg Training Stats after 313 global rounds:\n",
      "03/06 12:32:43 PM | Training Loss : 2.3507193610668184\n",
      "INFO:gal:Training Loss : 2.3507193610668184\n",
      "03/06 12:32:43 PM | Train Accuracy: 26.74% \n",
      "\n",
      "INFO:gal:Train Accuracy: 26.74% \n",
      "\n",
      " 31%|██████████████████████▌                                                 | 313/1000 [19:15:13<60:03:31, 314.72s/it]"
     ]
    },
    {
     "name": "stdout",
     "output_type": "stream",
     "text": [
      "\n",
      " | Global Training Round : 314 |\n",
      "\n"
     ]
    },
    {
     "name": "stderr",
     "output_type": "stream",
     "text": [
      "03/06 12:37:58 PM |  \n",
      "Avg Training Stats after 314 global rounds:\n",
      "INFO:gal: \n",
      "Avg Training Stats after 314 global rounds:\n",
      "03/06 12:37:58 PM | Training Loss : 2.361975467920303\n",
      "INFO:gal:Training Loss : 2.361975467920303\n",
      "03/06 12:37:58 PM | Train Accuracy: 27.29% \n",
      "\n",
      "INFO:gal:Train Accuracy: 27.29% \n",
      "\n",
      " 31%|██████████████████████▌                                                 | 314/1000 [19:20:28<59:56:52, 314.60s/it]"
     ]
    },
    {
     "name": "stdout",
     "output_type": "stream",
     "text": [
      "\n",
      " | Global Training Round : 315 |\n",
      "\n"
     ]
    },
    {
     "name": "stderr",
     "output_type": "stream",
     "text": [
      "03/06 12:43:11 PM |  \n",
      "Avg Training Stats after 315 global rounds:\n",
      "INFO:gal: \n",
      "Avg Training Stats after 315 global rounds:\n",
      "03/06 12:43:11 PM | Training Loss : 2.329683026790619\n",
      "INFO:gal:Training Loss : 2.329683026790619\n",
      "03/06 12:43:11 PM | Train Accuracy: 28.55% \n",
      "\n",
      "INFO:gal:Train Accuracy: 28.55% \n",
      "\n",
      " 32%|██████████████████████▋                                                 | 315/1000 [19:25:41<59:47:25, 314.23s/it]"
     ]
    },
    {
     "name": "stdout",
     "output_type": "stream",
     "text": [
      "\n",
      " | Global Training Round : 316 |\n",
      "\n"
     ]
    },
    {
     "name": "stderr",
     "output_type": "stream",
     "text": [
      "03/06 12:48:25 PM |  \n",
      "Avg Training Stats after 316 global rounds:\n",
      "INFO:gal: \n",
      "Avg Training Stats after 316 global rounds:\n",
      "03/06 12:48:25 PM | Training Loss : 2.3158583111763\n",
      "INFO:gal:Training Loss : 2.3158583111763\n",
      "03/06 12:48:25 PM | Train Accuracy: 28.81% \n",
      "\n",
      "INFO:gal:Train Accuracy: 28.81% \n",
      "\n",
      " 32%|██████████████████████▊                                                 | 316/1000 [19:30:55<59:40:24, 314.07s/it]"
     ]
    },
    {
     "name": "stdout",
     "output_type": "stream",
     "text": [
      "\n",
      " | Global Training Round : 317 |\n",
      "\n"
     ]
    },
    {
     "name": "stderr",
     "output_type": "stream",
     "text": [
      "03/06 12:53:42 PM |  \n",
      "Avg Training Stats after 317 global rounds:\n",
      "INFO:gal: \n",
      "Avg Training Stats after 317 global rounds:\n",
      "03/06 12:53:42 PM | Training Loss : 2.28124321436882\n",
      "INFO:gal:Training Loss : 2.28124321436882\n",
      "03/06 12:53:42 PM | Train Accuracy: 29.72% \n",
      "\n",
      "INFO:gal:Train Accuracy: 29.72% \n",
      "\n",
      " 32%|██████████████████████▊                                                 | 317/1000 [19:36:12<59:45:33, 314.98s/it]"
     ]
    },
    {
     "name": "stdout",
     "output_type": "stream",
     "text": [
      "\n",
      " | Global Training Round : 318 |\n",
      "\n"
     ]
    },
    {
     "name": "stderr",
     "output_type": "stream",
     "text": [
      "03/06 12:59:01 PM |  \n",
      "Avg Training Stats after 318 global rounds:\n",
      "INFO:gal: \n",
      "Avg Training Stats after 318 global rounds:\n",
      "03/06 12:59:01 PM | Training Loss : 2.3222887995243076\n",
      "INFO:gal:Training Loss : 2.3222887995243076\n",
      "03/06 12:59:01 PM | Train Accuracy: 28.00% \n",
      "\n",
      "INFO:gal:Train Accuracy: 28.00% \n",
      "\n",
      " 32%|██████████████████████▉                                                 | 318/1000 [19:41:31<59:54:18, 316.22s/it]"
     ]
    },
    {
     "name": "stdout",
     "output_type": "stream",
     "text": [
      "\n",
      " | Global Training Round : 319 |\n",
      "\n"
     ]
    },
    {
     "name": "stderr",
     "output_type": "stream",
     "text": [
      "03/06 01:04:24 PM |  \n",
      "Avg Training Stats after 319 global rounds:\n",
      "INFO:gal: \n",
      "Avg Training Stats after 319 global rounds:\n",
      "03/06 01:04:24 PM | Training Loss : 2.3461045489311227\n",
      "INFO:gal:Training Loss : 2.3461045489311227\n",
      "03/06 01:04:24 PM | Train Accuracy: 31.13% \n",
      "\n",
      "INFO:gal:Train Accuracy: 31.13% \n",
      "\n",
      " 32%|██████████████████████▉                                                 | 319/1000 [19:46:54<60:14:13, 318.43s/it]"
     ]
    },
    {
     "name": "stdout",
     "output_type": "stream",
     "text": [
      "\n",
      " | Global Training Round : 320 |\n",
      "\n"
     ]
    },
    {
     "name": "stderr",
     "output_type": "stream",
     "text": [
      "03/06 01:09:55 PM |  \n",
      "Avg Training Stats after 320 global rounds:\n",
      "INFO:gal: \n",
      "Avg Training Stats after 320 global rounds:\n",
      "03/06 01:09:55 PM | Training Loss : 2.3355390856266016\n",
      "INFO:gal:Training Loss : 2.3355390856266016\n",
      "03/06 01:09:55 PM | Train Accuracy: 29.67% \n",
      "\n",
      "INFO:gal:Train Accuracy: 29.67% \n",
      "\n",
      " 32%|███████████████████████                                                 | 320/1000 [19:52:25<60:49:12, 321.99s/it]"
     ]
    },
    {
     "name": "stdout",
     "output_type": "stream",
     "text": [
      "\n",
      " | Global Training Round : 321 |\n",
      "\n"
     ]
    },
    {
     "name": "stderr",
     "output_type": "stream",
     "text": [
      "03/06 01:15:12 PM |  \n",
      "Avg Training Stats after 321 global rounds:\n",
      "INFO:gal: \n",
      "Avg Training Stats after 321 global rounds:\n",
      "03/06 01:15:12 PM | Training Loss : 2.3671897094249728\n",
      "INFO:gal:Training Loss : 2.3671897094249728\n",
      "03/06 01:15:13 PM | Train Accuracy: 28.41% \n",
      "\n",
      "INFO:gal:Train Accuracy: 28.41% \n",
      "\n",
      " 32%|███████████████████████                                                 | 321/1000 [19:57:42<60:29:20, 320.71s/it]"
     ]
    },
    {
     "name": "stdout",
     "output_type": "stream",
     "text": [
      "\n",
      " | Global Training Round : 322 |\n",
      "\n"
     ]
    },
    {
     "name": "stderr",
     "output_type": "stream",
     "text": [
      "03/06 01:20:35 PM |  \n",
      "Avg Training Stats after 322 global rounds:\n",
      "INFO:gal: \n",
      "Avg Training Stats after 322 global rounds:\n",
      "03/06 01:20:35 PM | Training Loss : 2.32740105354786\n",
      "INFO:gal:Training Loss : 2.32740105354786\n",
      "03/06 01:20:35 PM | Train Accuracy: 30.02% \n",
      "\n",
      "INFO:gal:Train Accuracy: 30.02% \n",
      "\n",
      " 32%|███████████████████████▏                                                | 322/1000 [20:03:05<60:29:36, 321.20s/it]"
     ]
    },
    {
     "name": "stdout",
     "output_type": "stream",
     "text": [
      "\n",
      " | Global Training Round : 323 |\n",
      "\n"
     ]
    },
    {
     "name": "stderr",
     "output_type": "stream",
     "text": [
      "03/06 01:25:57 PM |  \n",
      "Avg Training Stats after 323 global rounds:\n",
      "INFO:gal: \n",
      "Avg Training Stats after 323 global rounds:\n",
      "03/06 01:25:57 PM | Training Loss : 2.37115198969841\n",
      "INFO:gal:Training Loss : 2.37115198969841\n",
      "03/06 01:25:57 PM | Train Accuracy: 30.59% \n",
      "\n",
      "INFO:gal:Train Accuracy: 30.59% \n",
      "\n",
      " 32%|███████████████████████▎                                                | 323/1000 [20:08:27<60:28:27, 321.58s/it]"
     ]
    },
    {
     "name": "stdout",
     "output_type": "stream",
     "text": [
      "\n",
      " | Global Training Round : 324 |\n",
      "\n"
     ]
    },
    {
     "name": "stderr",
     "output_type": "stream",
     "text": [
      "03/06 01:31:18 PM |  \n",
      "Avg Training Stats after 324 global rounds:\n",
      "INFO:gal: \n",
      "Avg Training Stats after 324 global rounds:\n",
      "03/06 01:31:18 PM | Training Loss : 2.335794535398484\n",
      "INFO:gal:Training Loss : 2.335794535398484\n",
      "03/06 01:31:18 PM | Train Accuracy: 28.88% \n",
      "\n",
      "INFO:gal:Train Accuracy: 28.88% \n",
      "\n",
      " 32%|███████████████████████▎                                                | 324/1000 [20:13:48<60:18:51, 321.20s/it]"
     ]
    },
    {
     "name": "stdout",
     "output_type": "stream",
     "text": [
      "\n",
      " | Global Training Round : 325 |\n",
      "\n"
     ]
    },
    {
     "name": "stderr",
     "output_type": "stream",
     "text": [
      "03/06 01:36:40 PM |  \n",
      "Avg Training Stats after 325 global rounds:\n",
      "INFO:gal: \n",
      "Avg Training Stats after 325 global rounds:\n",
      "03/06 01:36:40 PM | Training Loss : 2.3166898753643035\n",
      "INFO:gal:Training Loss : 2.3166898753643035\n",
      "03/06 01:36:40 PM | Train Accuracy: 29.92% \n",
      "\n",
      "INFO:gal:Train Accuracy: 29.92% \n",
      "\n",
      " 32%|███████████████████████▍                                                | 325/1000 [20:19:10<60:18:36, 321.65s/it]"
     ]
    },
    {
     "name": "stdout",
     "output_type": "stream",
     "text": [
      "\n",
      " | Global Training Round : 326 |\n",
      "\n"
     ]
    },
    {
     "name": "stderr",
     "output_type": "stream",
     "text": [
      "03/06 01:42:10 PM |  \n",
      "Avg Training Stats after 326 global rounds:\n",
      "INFO:gal: \n",
      "Avg Training Stats after 326 global rounds:\n",
      "03/06 01:42:10 PM | Training Loss : 2.390549952507019\n",
      "INFO:gal:Training Loss : 2.390549952507019\n",
      "03/06 01:42:10 PM | Train Accuracy: 29.60% \n",
      "\n",
      "INFO:gal:Train Accuracy: 29.60% \n",
      "\n",
      " 33%|███████████████████████▍                                                | 326/1000 [20:24:40<60:39:32, 324.00s/it]"
     ]
    },
    {
     "name": "stdout",
     "output_type": "stream",
     "text": [
      "\n",
      " | Global Training Round : 327 |\n",
      "\n"
     ]
    },
    {
     "name": "stderr",
     "output_type": "stream",
     "text": [
      "03/06 01:47:35 PM |  \n",
      "Avg Training Stats after 327 global rounds:\n",
      "INFO:gal: \n",
      "Avg Training Stats after 327 global rounds:\n",
      "03/06 01:47:35 PM | Training Loss : 2.3314534406661984\n",
      "INFO:gal:Training Loss : 2.3314534406661984\n",
      "03/06 01:47:35 PM | Train Accuracy: 29.00% \n",
      "\n",
      "INFO:gal:Train Accuracy: 29.00% \n",
      "\n",
      " 33%|███████████████████████▌                                                | 327/1000 [20:30:05<60:39:36, 324.48s/it]"
     ]
    },
    {
     "name": "stdout",
     "output_type": "stream",
     "text": [
      "\n",
      " | Global Training Round : 328 |\n",
      "\n"
     ]
    },
    {
     "name": "stderr",
     "output_type": "stream",
     "text": [
      "03/06 01:53:02 PM |  \n",
      "Avg Training Stats after 328 global rounds:\n",
      "INFO:gal: \n",
      "Avg Training Stats after 328 global rounds:\n",
      "03/06 01:53:02 PM | Training Loss : 2.361007556915283\n",
      "INFO:gal:Training Loss : 2.361007556915283\n",
      "03/06 01:53:02 PM | Train Accuracy: 28.62% \n",
      "\n",
      "INFO:gal:Train Accuracy: 28.62% \n",
      "\n",
      " 33%|███████████████████████▌                                                | 328/1000 [20:35:32<60:42:46, 325.25s/it]"
     ]
    },
    {
     "name": "stdout",
     "output_type": "stream",
     "text": [
      "\n",
      " | Global Training Round : 329 |\n",
      "\n"
     ]
    },
    {
     "name": "stderr",
     "output_type": "stream",
     "text": [
      "03/06 01:58:39 PM |  \n",
      "Avg Training Stats after 329 global rounds:\n",
      "INFO:gal: \n",
      "Avg Training Stats after 329 global rounds:\n",
      "03/06 01:58:39 PM | Training Loss : 2.286968584537506\n",
      "INFO:gal:Training Loss : 2.286968584537506\n",
      "03/06 01:58:39 PM | Train Accuracy: 30.65% \n",
      "\n",
      "INFO:gal:Train Accuracy: 30.65% \n",
      "\n",
      " 33%|███████████████████████▋                                                | 329/1000 [20:41:09<61:15:32, 328.66s/it]"
     ]
    },
    {
     "name": "stdout",
     "output_type": "stream",
     "text": [
      "\n",
      " | Global Training Round : 330 |\n",
      "\n"
     ]
    },
    {
     "name": "stderr",
     "output_type": "stream",
     "text": [
      "03/06 02:04:04 PM |  \n",
      "Avg Training Stats after 330 global rounds:\n",
      "INFO:gal: \n",
      "Avg Training Stats after 330 global rounds:\n",
      "03/06 02:04:04 PM | Training Loss : 2.4046929893493654\n",
      "INFO:gal:Training Loss : 2.4046929893493654\n",
      "03/06 02:04:04 PM | Train Accuracy: 29.10% \n",
      "\n",
      "INFO:gal:Train Accuracy: 29.10% \n",
      "\n",
      " 33%|███████████████████████▊                                                | 330/1000 [20:46:34<60:58:04, 327.59s/it]"
     ]
    },
    {
     "name": "stdout",
     "output_type": "stream",
     "text": [
      "\n",
      " | Global Training Round : 331 |\n",
      "\n"
     ]
    },
    {
     "name": "stderr",
     "output_type": "stream",
     "text": [
      "03/06 02:09:32 PM |  \n",
      "Avg Training Stats after 331 global rounds:\n",
      "INFO:gal: \n",
      "Avg Training Stats after 331 global rounds:\n",
      "03/06 02:09:32 PM | Training Loss : 2.2791987709999075\n",
      "INFO:gal:Training Loss : 2.2791987709999075\n",
      "03/06 02:09:32 PM | Train Accuracy: 29.62% \n",
      "\n",
      "INFO:gal:Train Accuracy: 29.62% \n",
      "\n",
      " 33%|███████████████████████▊                                                | 331/1000 [20:52:02<60:52:16, 327.56s/it]"
     ]
    },
    {
     "name": "stdout",
     "output_type": "stream",
     "text": [
      "\n",
      " | Global Training Round : 332 |\n",
      "\n"
     ]
    },
    {
     "name": "stderr",
     "output_type": "stream",
     "text": [
      "03/06 02:14:58 PM |  \n",
      "Avg Training Stats after 332 global rounds:\n",
      "INFO:gal: \n",
      "Avg Training Stats after 332 global rounds:\n",
      "03/06 02:14:58 PM | Training Loss : 2.2997608428001413\n",
      "INFO:gal:Training Loss : 2.2997608428001413\n",
      "03/06 02:14:58 PM | Train Accuracy: 28.78% \n",
      "\n",
      "INFO:gal:Train Accuracy: 28.78% \n",
      "\n",
      " 33%|███████████████████████▉                                                | 332/1000 [20:57:28<60:43:20, 327.25s/it]"
     ]
    },
    {
     "name": "stdout",
     "output_type": "stream",
     "text": [
      "\n",
      " | Global Training Round : 333 |\n",
      "\n"
     ]
    },
    {
     "name": "stderr",
     "output_type": "stream",
     "text": [
      "03/06 02:20:27 PM |  \n",
      "Avg Training Stats after 333 global rounds:\n",
      "INFO:gal: \n",
      "Avg Training Stats after 333 global rounds:\n",
      "03/06 02:20:27 PM | Training Loss : 2.261514709472656\n",
      "INFO:gal:Training Loss : 2.261514709472656\n",
      "03/06 02:20:28 PM | Train Accuracy: 28.71% \n",
      "\n",
      "INFO:gal:Train Accuracy: 28.71% \n",
      "\n",
      " 33%|███████████████████████▉                                                | 333/1000 [21:02:58<60:45:00, 327.89s/it]"
     ]
    },
    {
     "name": "stdout",
     "output_type": "stream",
     "text": [
      "\n",
      " | Global Training Round : 334 |\n",
      "\n"
     ]
    },
    {
     "name": "stderr",
     "output_type": "stream",
     "text": [
      "03/06 02:25:58 PM |  \n",
      "Avg Training Stats after 334 global rounds:\n",
      "INFO:gal: \n",
      "Avg Training Stats after 334 global rounds:\n",
      "03/06 02:25:58 PM | Training Loss : 2.3418569893836976\n",
      "INFO:gal:Training Loss : 2.3418569893836976\n",
      "03/06 02:25:58 PM | Train Accuracy: 27.37% \n",
      "\n",
      "INFO:gal:Train Accuracy: 27.37% \n",
      "\n",
      " 33%|████████████████████████                                                | 334/1000 [21:08:28<60:48:27, 328.69s/it]"
     ]
    },
    {
     "name": "stdout",
     "output_type": "stream",
     "text": [
      "\n",
      " | Global Training Round : 335 |\n",
      "\n"
     ]
    },
    {
     "name": "stderr",
     "output_type": "stream",
     "text": [
      "03/06 02:31:31 PM |  \n",
      "Avg Training Stats after 335 global rounds:\n",
      "INFO:gal: \n",
      "Avg Training Stats after 335 global rounds:\n",
      "03/06 02:31:31 PM | Training Loss : 2.408350222826005\n",
      "INFO:gal:Training Loss : 2.408350222826005\n",
      "03/06 02:31:31 PM | Train Accuracy: 27.88% \n",
      "\n",
      "INFO:gal:Train Accuracy: 27.88% \n",
      "\n",
      " 34%|████████████████████████                                                | 335/1000 [21:14:01<60:56:45, 329.93s/it]"
     ]
    },
    {
     "name": "stdout",
     "output_type": "stream",
     "text": [
      "\n",
      " | Global Training Round : 336 |\n",
      "\n"
     ]
    },
    {
     "name": "stderr",
     "output_type": "stream",
     "text": [
      "03/06 02:37:05 PM |  \n",
      "Avg Training Stats after 336 global rounds:\n",
      "INFO:gal: \n",
      "Avg Training Stats after 336 global rounds:\n",
      "03/06 02:37:05 PM | Training Loss : 2.432658321380616\n",
      "INFO:gal:Training Loss : 2.432658321380616\n",
      "03/06 02:37:05 PM | Train Accuracy: 28.82% \n",
      "\n",
      "INFO:gal:Train Accuracy: 28.82% \n",
      "\n",
      " 34%|████████████████████████▏                                               | 336/1000 [21:19:35<61:05:16, 331.20s/it]"
     ]
    },
    {
     "name": "stdout",
     "output_type": "stream",
     "text": [
      "\n",
      " | Global Training Round : 337 |\n",
      "\n"
     ]
    },
    {
     "name": "stderr",
     "output_type": "stream",
     "text": [
      "03/06 02:42:50 PM |  \n",
      "Avg Training Stats after 337 global rounds:\n",
      "INFO:gal: \n",
      "Avg Training Stats after 337 global rounds:\n",
      "03/06 02:42:50 PM | Training Loss : 2.3982831730842586\n",
      "INFO:gal:Training Loss : 2.3982831730842586\n",
      "03/06 02:42:50 PM | Train Accuracy: 28.22% \n",
      "\n",
      "INFO:gal:Train Accuracy: 28.22% \n",
      "\n",
      " 34%|████████████████████████▎                                               | 337/1000 [21:25:20<61:46:05, 335.39s/it]"
     ]
    },
    {
     "name": "stdout",
     "output_type": "stream",
     "text": [
      "\n",
      " | Global Training Round : 338 |\n",
      "\n"
     ]
    },
    {
     "name": "stderr",
     "output_type": "stream",
     "text": [
      "03/06 02:48:38 PM |  \n",
      "Avg Training Stats after 338 global rounds:\n",
      "INFO:gal: \n",
      "Avg Training Stats after 338 global rounds:\n",
      "03/06 02:48:38 PM | Training Loss : 2.3831233465671535\n",
      "INFO:gal:Training Loss : 2.3831233465671535\n",
      "03/06 02:48:38 PM | Train Accuracy: 27.57% \n",
      "\n",
      "INFO:gal:Train Accuracy: 27.57% \n",
      "\n",
      " 34%|████████████████████████▎                                               | 338/1000 [21:31:08<62:20:37, 339.03s/it]"
     ]
    },
    {
     "name": "stdout",
     "output_type": "stream",
     "text": [
      "\n",
      " | Global Training Round : 339 |\n",
      "\n"
     ]
    },
    {
     "name": "stderr",
     "output_type": "stream",
     "text": [
      "03/06 02:54:18 PM |  \n",
      "Avg Training Stats after 339 global rounds:\n",
      "INFO:gal: \n",
      "Avg Training Stats after 339 global rounds:\n",
      "03/06 02:54:18 PM | Training Loss : 2.3877348306179043\n",
      "INFO:gal:Training Loss : 2.3877348306179043\n",
      "03/06 02:54:18 PM | Train Accuracy: 29.22% \n",
      "\n",
      "INFO:gal:Train Accuracy: 29.22% \n",
      "\n",
      " 34%|████████████████████████▍                                               | 339/1000 [21:36:48<62:18:06, 339.31s/it]"
     ]
    },
    {
     "name": "stdout",
     "output_type": "stream",
     "text": [
      "\n",
      " | Global Training Round : 340 |\n",
      "\n"
     ]
    },
    {
     "name": "stderr",
     "output_type": "stream",
     "text": [
      "03/06 02:59:56 PM |  \n",
      "Avg Training Stats after 340 global rounds:\n",
      "INFO:gal: \n",
      "Avg Training Stats after 340 global rounds:\n",
      "03/06 02:59:56 PM | Training Loss : 2.3197750291824337\n",
      "INFO:gal:Training Loss : 2.3197750291824337\n",
      "03/06 02:59:56 PM | Train Accuracy: 29.40% \n",
      "\n",
      "INFO:gal:Train Accuracy: 29.40% \n",
      "\n",
      " 34%|████████████████████████▍                                               | 340/1000 [21:42:26<62:08:44, 338.98s/it]"
     ]
    },
    {
     "name": "stdout",
     "output_type": "stream",
     "text": [
      "\n",
      " | Global Training Round : 341 |\n",
      "\n"
     ]
    },
    {
     "name": "stderr",
     "output_type": "stream",
     "text": [
      "03/06 03:05:34 PM |  \n",
      "Avg Training Stats after 341 global rounds:\n",
      "INFO:gal: \n",
      "Avg Training Stats after 341 global rounds:\n",
      "03/06 03:05:34 PM | Training Loss : 2.3230795972347265\n",
      "INFO:gal:Training Loss : 2.3230795972347265\n",
      "03/06 03:05:34 PM | Train Accuracy: 28.87% \n",
      "\n",
      "INFO:gal:Train Accuracy: 28.87% \n",
      "\n",
      " 34%|████████████████████████▌                                               | 341/1000 [21:48:04<61:58:33, 338.56s/it]"
     ]
    },
    {
     "name": "stdout",
     "output_type": "stream",
     "text": [
      "\n",
      " | Global Training Round : 342 |\n",
      "\n"
     ]
    },
    {
     "name": "stderr",
     "output_type": "stream",
     "text": [
      "03/06 03:11:13 PM |  \n",
      "Avg Training Stats after 342 global rounds:\n",
      "INFO:gal: \n",
      "Avg Training Stats after 342 global rounds:\n",
      "03/06 03:11:13 PM | Training Loss : 2.292423475980759\n",
      "INFO:gal:Training Loss : 2.292423475980759\n",
      "03/06 03:11:13 PM | Train Accuracy: 29.54% \n",
      "\n",
      "INFO:gal:Train Accuracy: 29.54% \n",
      "\n",
      " 34%|████████████████████████▌                                               | 342/1000 [21:53:43<61:55:42, 338.82s/it]"
     ]
    },
    {
     "name": "stdout",
     "output_type": "stream",
     "text": [
      "\n",
      " | Global Training Round : 343 |\n",
      "\n"
     ]
    },
    {
     "name": "stderr",
     "output_type": "stream",
     "text": [
      "03/06 03:17:09 PM |  \n",
      "Avg Training Stats after 343 global rounds:\n",
      "INFO:gal: \n",
      "Avg Training Stats after 343 global rounds:\n",
      "03/06 03:17:09 PM | Training Loss : 2.2836735091209412\n",
      "INFO:gal:Training Loss : 2.2836735091209412\n",
      "03/06 03:17:09 PM | Train Accuracy: 29.88% \n",
      "\n",
      "INFO:gal:Train Accuracy: 29.88% \n",
      "\n",
      " 34%|████████████████████████▋                                               | 343/1000 [21:59:39<62:47:32, 344.07s/it]"
     ]
    },
    {
     "name": "stdout",
     "output_type": "stream",
     "text": [
      "\n",
      " | Global Training Round : 344 |\n",
      "\n"
     ]
    },
    {
     "name": "stderr",
     "output_type": "stream",
     "text": [
      "03/06 03:22:48 PM |  \n",
      "Avg Training Stats after 344 global rounds:\n",
      "INFO:gal: \n",
      "Avg Training Stats after 344 global rounds:\n",
      "03/06 03:22:48 PM | Training Loss : 2.2489702434539796\n",
      "INFO:gal:Training Loss : 2.2489702434539796\n",
      "03/06 03:22:48 PM | Train Accuracy: 29.31% \n",
      "\n",
      "INFO:gal:Train Accuracy: 29.31% \n",
      "\n",
      " 34%|████████████████████████▊                                               | 344/1000 [22:05:18<62:25:23, 342.57s/it]"
     ]
    },
    {
     "name": "stdout",
     "output_type": "stream",
     "text": [
      "\n",
      " | Global Training Round : 345 |\n",
      "\n"
     ]
    },
    {
     "name": "stderr",
     "output_type": "stream",
     "text": [
      "03/06 03:28:28 PM |  \n",
      "Avg Training Stats after 345 global rounds:\n",
      "INFO:gal: \n",
      "Avg Training Stats after 345 global rounds:\n",
      "03/06 03:28:28 PM | Training Loss : 2.2293502314090725\n",
      "INFO:gal:Training Loss : 2.2293502314090725\n",
      "03/06 03:28:28 PM | Train Accuracy: 30.44% \n",
      "\n",
      "INFO:gal:Train Accuracy: 30.44% \n",
      "\n",
      " 34%|████████████████████████▊                                               | 345/1000 [22:10:58<62:11:31, 341.82s/it]"
     ]
    },
    {
     "name": "stdout",
     "output_type": "stream",
     "text": [
      "\n",
      " | Global Training Round : 346 |\n",
      "\n"
     ]
    },
    {
     "name": "stderr",
     "output_type": "stream",
     "text": [
      "03/06 03:34:18 PM |  \n",
      "Avg Training Stats after 346 global rounds:\n",
      "INFO:gal: \n",
      "Avg Training Stats after 346 global rounds:\n",
      "03/06 03:34:18 PM | Training Loss : 2.2825405499935147\n",
      "INFO:gal:Training Loss : 2.2825405499935147\n",
      "03/06 03:34:18 PM | Train Accuracy: 28.25% \n",
      "\n",
      "INFO:gal:Train Accuracy: 28.25% \n",
      "\n",
      " 35%|████████████████████████▉                                               | 346/1000 [22:16:48<62:30:08, 344.05s/it]"
     ]
    },
    {
     "name": "stdout",
     "output_type": "stream",
     "text": [
      "\n",
      " | Global Training Round : 347 |\n",
      "\n"
     ]
    },
    {
     "name": "stderr",
     "output_type": "stream",
     "text": [
      "03/06 03:40:06 PM |  \n",
      "Avg Training Stats after 347 global rounds:\n",
      "INFO:gal: \n",
      "Avg Training Stats after 347 global rounds:\n",
      "03/06 03:40:06 PM | Training Loss : 2.2680510017871858\n",
      "INFO:gal:Training Loss : 2.2680510017871858\n",
      "03/06 03:40:06 PM | Train Accuracy: 30.51% \n",
      "\n",
      "INFO:gal:Train Accuracy: 30.51% \n",
      "\n",
      " 35%|████████████████████████▉                                               | 347/1000 [22:22:36<62:39:24, 345.43s/it]"
     ]
    },
    {
     "name": "stdout",
     "output_type": "stream",
     "text": [
      "\n",
      " | Global Training Round : 348 |\n",
      "\n"
     ]
    },
    {
     "name": "stderr",
     "output_type": "stream",
     "text": [
      "03/06 03:45:53 PM |  \n",
      "Avg Training Stats after 348 global rounds:\n",
      "INFO:gal: \n",
      "Avg Training Stats after 348 global rounds:\n",
      "03/06 03:45:53 PM | Training Loss : 2.2844635243415836\n",
      "INFO:gal:Training Loss : 2.2844635243415836\n",
      "03/06 03:45:53 PM | Train Accuracy: 29.41% \n",
      "\n",
      "INFO:gal:Train Accuracy: 29.41% \n",
      "\n",
      " 35%|█████████████████████████                                               | 348/1000 [22:28:23<62:38:31, 345.88s/it]"
     ]
    },
    {
     "name": "stdout",
     "output_type": "stream",
     "text": [
      "\n",
      " | Global Training Round : 349 |\n",
      "\n"
     ]
    },
    {
     "name": "stderr",
     "output_type": "stream",
     "text": [
      "03/06 03:51:41 PM |  \n",
      "Avg Training Stats after 349 global rounds:\n",
      "INFO:gal: \n",
      "Avg Training Stats after 349 global rounds:\n",
      "03/06 03:51:41 PM | Training Loss : 2.3517462797164916\n",
      "INFO:gal:Training Loss : 2.3517462797164916\n",
      "03/06 03:51:41 PM | Train Accuracy: 29.59% \n",
      "\n",
      "INFO:gal:Train Accuracy: 29.59% \n",
      "\n",
      " 35%|█████████████████████████▏                                              | 349/1000 [22:34:11<62:37:32, 346.32s/it]"
     ]
    },
    {
     "name": "stdout",
     "output_type": "stream",
     "text": [
      "\n",
      " | Global Training Round : 350 |\n",
      "\n"
     ]
    },
    {
     "name": "stderr",
     "output_type": "stream",
     "text": [
      "03/06 03:57:55 PM |  \n",
      "Avg Training Stats after 350 global rounds:\n",
      "INFO:gal: \n",
      "Avg Training Stats after 350 global rounds:\n",
      "03/06 03:57:55 PM | Training Loss : 2.3122345633506782\n",
      "INFO:gal:Training Loss : 2.3122345633506782\n",
      "03/06 03:57:55 PM | Train Accuracy: 28.45% \n",
      "\n",
      "INFO:gal:Train Accuracy: 28.45% \n",
      "\n",
      " 35%|█████████████████████████▏                                              | 350/1000 [22:40:25<64:03:20, 354.77s/it]"
     ]
    },
    {
     "name": "stdout",
     "output_type": "stream",
     "text": [
      "\n",
      " | Global Training Round : 351 |\n",
      "\n"
     ]
    },
    {
     "name": "stderr",
     "output_type": "stream",
     "text": [
      "03/06 04:04:06 PM |  \n",
      "Avg Training Stats after 351 global rounds:\n",
      "INFO:gal: \n",
      "Avg Training Stats after 351 global rounds:\n",
      "03/06 04:04:06 PM | Training Loss : 2.3069044690132143\n",
      "INFO:gal:Training Loss : 2.3069044690132143\n",
      "03/06 04:04:06 PM | Train Accuracy: 27.68% \n",
      "\n",
      "INFO:gal:Train Accuracy: 27.68% \n",
      "\n",
      " 35%|█████████████████████████▎                                              | 351/1000 [22:46:36<64:50:11, 359.65s/it]"
     ]
    },
    {
     "name": "stdout",
     "output_type": "stream",
     "text": [
      "\n",
      " | Global Training Round : 352 |\n",
      "\n"
     ]
    },
    {
     "name": "stderr",
     "output_type": "stream",
     "text": [
      "03/06 04:09:54 PM |  \n",
      "Avg Training Stats after 352 global rounds:\n",
      "INFO:gal: \n",
      "Avg Training Stats after 352 global rounds:\n",
      "03/06 04:09:54 PM | Training Loss : 2.430564544200897\n",
      "INFO:gal:Training Loss : 2.430564544200897\n",
      "03/06 04:09:54 PM | Train Accuracy: 28.54% \n",
      "\n",
      "INFO:gal:Train Accuracy: 28.54% \n",
      "\n",
      " 35%|█████████████████████████▎                                              | 352/1000 [22:52:24<64:05:14, 356.04s/it]"
     ]
    },
    {
     "name": "stdout",
     "output_type": "stream",
     "text": [
      "\n",
      " | Global Training Round : 353 |\n",
      "\n"
     ]
    },
    {
     "name": "stderr",
     "output_type": "stream",
     "text": [
      "03/06 04:15:40 PM |  \n",
      "Avg Training Stats after 353 global rounds:\n",
      "INFO:gal: \n",
      "Avg Training Stats after 353 global rounds:\n",
      "03/06 04:15:40 PM | Training Loss : 2.291973701000214\n",
      "INFO:gal:Training Loss : 2.291973701000214\n",
      "03/06 04:15:40 PM | Train Accuracy: 29.23% \n",
      "\n",
      "INFO:gal:Train Accuracy: 29.23% \n",
      "\n",
      " 35%|█████████████████████████▍                                              | 353/1000 [22:58:10<63:27:39, 353.11s/it]"
     ]
    },
    {
     "name": "stdout",
     "output_type": "stream",
     "text": [
      "\n",
      " | Global Training Round : 354 |\n",
      "\n"
     ]
    },
    {
     "name": "stderr",
     "output_type": "stream",
     "text": [
      "03/06 04:21:29 PM |  \n",
      "Avg Training Stats after 354 global rounds:\n",
      "INFO:gal: \n",
      "Avg Training Stats after 354 global rounds:\n",
      "03/06 04:21:29 PM | Training Loss : 2.396343782901764\n",
      "INFO:gal:Training Loss : 2.396343782901764\n",
      "03/06 04:21:29 PM | Train Accuracy: 27.62% \n",
      "\n",
      "INFO:gal:Train Accuracy: 27.62% \n",
      "\n",
      " 35%|█████████████████████████▍                                              | 354/1000 [23:03:59<63:10:00, 352.01s/it]"
     ]
    },
    {
     "name": "stdout",
     "output_type": "stream",
     "text": [
      "\n",
      " | Global Training Round : 355 |\n",
      "\n"
     ]
    },
    {
     "name": "stderr",
     "output_type": "stream",
     "text": [
      "03/06 04:27:17 PM |  \n",
      "Avg Training Stats after 355 global rounds:\n",
      "INFO:gal: \n",
      "Avg Training Stats after 355 global rounds:\n",
      "03/06 04:27:17 PM | Training Loss : 2.29746629691124\n",
      "INFO:gal:Training Loss : 2.29746629691124\n",
      "03/06 04:27:17 PM | Train Accuracy: 29.17% \n",
      "\n",
      "INFO:gal:Train Accuracy: 29.17% \n",
      "\n",
      " 36%|█████████████████████████▌                                              | 355/1000 [23:09:47<62:49:49, 350.68s/it]"
     ]
    },
    {
     "name": "stdout",
     "output_type": "stream",
     "text": [
      "\n",
      " | Global Training Round : 356 |\n",
      "\n"
     ]
    },
    {
     "name": "stderr",
     "output_type": "stream",
     "text": [
      "03/06 04:33:09 PM |  \n",
      "Avg Training Stats after 356 global rounds:\n",
      "INFO:gal: \n",
      "Avg Training Stats after 356 global rounds:\n",
      "03/06 04:33:09 PM | Training Loss : 2.318107467651367\n",
      "INFO:gal:Training Loss : 2.318107467651367\n",
      "03/06 04:33:09 PM | Train Accuracy: 28.32% \n",
      "\n",
      "INFO:gal:Train Accuracy: 28.32% \n",
      "\n",
      " 36%|█████████████████████████▋                                              | 356/1000 [23:15:39<62:48:35, 351.11s/it]"
     ]
    },
    {
     "name": "stdout",
     "output_type": "stream",
     "text": [
      "\n",
      " | Global Training Round : 357 |\n",
      "\n"
     ]
    },
    {
     "name": "stderr",
     "output_type": "stream",
     "text": [
      "03/06 04:39:03 PM |  \n",
      "Avg Training Stats after 357 global rounds:\n",
      "INFO:gal: \n",
      "Avg Training Stats after 357 global rounds:\n",
      "03/06 04:39:03 PM | Training Loss : 2.286653809070587\n",
      "INFO:gal:Training Loss : 2.286653809070587\n",
      "03/06 04:39:03 PM | Train Accuracy: 29.84% \n",
      "\n",
      "INFO:gal:Train Accuracy: 29.84% \n",
      "\n",
      " 36%|█████████████████████████▋                                              | 357/1000 [23:21:33<62:51:44, 351.95s/it]"
     ]
    },
    {
     "name": "stdout",
     "output_type": "stream",
     "text": [
      "\n",
      " | Global Training Round : 358 |\n",
      "\n"
     ]
    },
    {
     "name": "stderr",
     "output_type": "stream",
     "text": [
      "03/06 04:44:54 PM |  \n",
      "Avg Training Stats after 358 global rounds:\n",
      "INFO:gal: \n",
      "Avg Training Stats after 358 global rounds:\n",
      "03/06 04:44:54 PM | Training Loss : 2.3031678225994114\n",
      "INFO:gal:Training Loss : 2.3031678225994114\n",
      "03/06 04:44:54 PM | Train Accuracy: 29.59% \n",
      "\n",
      "INFO:gal:Train Accuracy: 29.59% \n",
      "\n",
      " 36%|█████████████████████████▊                                              | 358/1000 [23:27:24<62:44:09, 351.79s/it]"
     ]
    },
    {
     "name": "stdout",
     "output_type": "stream",
     "text": [
      "\n",
      " | Global Training Round : 359 |\n",
      "\n"
     ]
    },
    {
     "name": "stderr",
     "output_type": "stream",
     "text": [
      "03/06 04:50:52 PM |  \n",
      "Avg Training Stats after 359 global rounds:\n",
      "INFO:gal: \n",
      "Avg Training Stats after 359 global rounds:\n",
      "03/06 04:50:52 PM | Training Loss : 2.3358041236400595\n",
      "INFO:gal:Training Loss : 2.3358041236400595\n",
      "03/06 04:50:52 PM | Train Accuracy: 30.45% \n",
      "\n",
      "INFO:gal:Train Accuracy: 30.45% \n",
      "\n",
      " 36%|█████████████████████████▊                                              | 359/1000 [23:33:22<62:57:29, 353.59s/it]"
     ]
    },
    {
     "name": "stdout",
     "output_type": "stream",
     "text": [
      "\n",
      " | Global Training Round : 360 |\n",
      "\n"
     ]
    },
    {
     "name": "stderr",
     "output_type": "stream",
     "text": [
      "03/06 04:56:46 PM |  \n",
      "Avg Training Stats after 360 global rounds:\n",
      "INFO:gal: \n",
      "Avg Training Stats after 360 global rounds:\n",
      "03/06 04:56:47 PM | Training Loss : 2.3277693586349484\n",
      "INFO:gal:Training Loss : 2.3277693586349484\n",
      "03/06 04:56:47 PM | Train Accuracy: 30.66% \n",
      "\n",
      "INFO:gal:Train Accuracy: 30.66% \n",
      "\n",
      " 36%|█████████████████████████▉                                              | 360/1000 [23:39:17<62:53:59, 353.81s/it]"
     ]
    },
    {
     "name": "stdout",
     "output_type": "stream",
     "text": [
      "\n",
      " | Global Training Round : 361 |\n",
      "\n"
     ]
    },
    {
     "name": "stderr",
     "output_type": "stream",
     "text": [
      "03/06 05:02:54 PM |  \n",
      "Avg Training Stats after 361 global rounds:\n",
      "INFO:gal: \n",
      "Avg Training Stats after 361 global rounds:\n",
      "03/06 05:02:54 PM | Training Loss : 2.323482920885087\n",
      "INFO:gal:Training Loss : 2.323482920885087\n",
      "03/06 05:02:54 PM | Train Accuracy: 30.00% \n",
      "\n",
      "INFO:gal:Train Accuracy: 30.00% \n",
      "\n",
      " 36%|█████████████████████████▉                                              | 361/1000 [23:45:24<63:30:47, 357.82s/it]"
     ]
    },
    {
     "name": "stdout",
     "output_type": "stream",
     "text": [
      "\n",
      " | Global Training Round : 362 |\n",
      "\n"
     ]
    },
    {
     "name": "stderr",
     "output_type": "stream",
     "text": [
      "03/06 05:08:49 PM |  \n",
      "Avg Training Stats after 362 global rounds:\n",
      "INFO:gal: \n",
      "Avg Training Stats after 362 global rounds:\n",
      "03/06 05:08:49 PM | Training Loss : 2.307128955364227\n",
      "INFO:gal:Training Loss : 2.307128955364227\n",
      "03/06 05:08:49 PM | Train Accuracy: 30.20% \n",
      "\n",
      "INFO:gal:Train Accuracy: 30.20% \n",
      "\n",
      " 36%|██████████████████████████                                              | 362/1000 [23:51:19<63:18:06, 357.19s/it]"
     ]
    },
    {
     "name": "stdout",
     "output_type": "stream",
     "text": [
      "\n",
      " | Global Training Round : 363 |\n",
      "\n"
     ]
    },
    {
     "name": "stderr",
     "output_type": "stream",
     "text": [
      "03/06 05:14:47 PM |  \n",
      "Avg Training Stats after 363 global rounds:\n",
      "INFO:gal: \n",
      "Avg Training Stats after 363 global rounds:\n",
      "03/06 05:14:47 PM | Training Loss : 2.282858118057251\n",
      "INFO:gal:Training Loss : 2.282858118057251\n",
      "03/06 05:14:47 PM | Train Accuracy: 30.97% \n",
      "\n",
      "INFO:gal:Train Accuracy: 30.97% \n",
      "\n",
      " 36%|██████████████████████████▏                                             | 363/1000 [23:57:17<63:13:36, 357.32s/it]"
     ]
    },
    {
     "name": "stdout",
     "output_type": "stream",
     "text": [
      "\n",
      " | Global Training Round : 364 |\n",
      "\n"
     ]
    },
    {
     "name": "stderr",
     "output_type": "stream",
     "text": [
      "03/06 05:20:51 PM |  \n",
      "Avg Training Stats after 364 global rounds:\n",
      "INFO:gal: \n",
      "Avg Training Stats after 364 global rounds:\n",
      "03/06 05:20:51 PM | Training Loss : 2.280224822998046\n",
      "INFO:gal:Training Loss : 2.280224822998046\n",
      "03/06 05:20:51 PM | Train Accuracy: 28.81% \n",
      "\n",
      "INFO:gal:Train Accuracy: 28.81% \n",
      "\n",
      " 36%|██████████████████████████▏                                             | 364/1000 [24:03:21<63:28:20, 359.28s/it]"
     ]
    },
    {
     "name": "stdout",
     "output_type": "stream",
     "text": [
      "\n",
      " | Global Training Round : 365 |\n",
      "\n"
     ]
    },
    {
     "name": "stderr",
     "output_type": "stream",
     "text": [
      "03/06 05:26:59 PM |  \n",
      "Avg Training Stats after 365 global rounds:\n",
      "INFO:gal: \n",
      "Avg Training Stats after 365 global rounds:\n",
      "03/06 05:26:59 PM | Training Loss : 2.264311063051224\n",
      "INFO:gal:Training Loss : 2.264311063051224\n",
      "03/06 05:26:59 PM | Train Accuracy: 29.50% \n",
      "\n",
      "INFO:gal:Train Accuracy: 29.50% \n",
      "\n",
      " 36%|██████████████████████████▎                                             | 365/1000 [24:09:29<63:50:45, 361.96s/it]"
     ]
    },
    {
     "name": "stdout",
     "output_type": "stream",
     "text": [
      "\n",
      " | Global Training Round : 366 |\n",
      "\n"
     ]
    },
    {
     "name": "stderr",
     "output_type": "stream",
     "text": [
      "03/06 05:33:09 PM |  \n",
      "Avg Training Stats after 366 global rounds:\n",
      "INFO:gal: \n",
      "Avg Training Stats after 366 global rounds:\n",
      "03/06 05:33:09 PM | Training Loss : 2.3132178316116336\n",
      "INFO:gal:Training Loss : 2.3132178316116336\n",
      "03/06 05:33:09 PM | Train Accuracy: 30.23% \n",
      "\n",
      "INFO:gal:Train Accuracy: 30.23% \n",
      "\n",
      " 37%|██████████████████████████▎                                             | 366/1000 [24:15:39<64:10:04, 364.36s/it]"
     ]
    },
    {
     "name": "stdout",
     "output_type": "stream",
     "text": [
      "\n",
      " | Global Training Round : 367 |\n",
      "\n"
     ]
    },
    {
     "name": "stderr",
     "output_type": "stream",
     "text": [
      "03/06 05:39:13 PM |  \n",
      "Avg Training Stats after 367 global rounds:\n",
      "INFO:gal: \n",
      "Avg Training Stats after 367 global rounds:\n",
      "03/06 05:39:13 PM | Training Loss : 2.2788419804573063\n",
      "INFO:gal:Training Loss : 2.2788419804573063\n",
      "03/06 05:39:13 PM | Train Accuracy: 30.22% \n",
      "\n",
      "INFO:gal:Train Accuracy: 30.22% \n",
      "\n",
      " 37%|██████████████████████████▍                                             | 367/1000 [24:21:43<64:03:47, 364.34s/it]"
     ]
    },
    {
     "name": "stdout",
     "output_type": "stream",
     "text": [
      "\n",
      " | Global Training Round : 368 |\n",
      "\n"
     ]
    },
    {
     "name": "stderr",
     "output_type": "stream",
     "text": [
      "03/06 05:45:19 PM |  \n",
      "Avg Training Stats after 368 global rounds:\n",
      "INFO:gal: \n",
      "Avg Training Stats after 368 global rounds:\n",
      "03/06 05:45:19 PM | Training Loss : 2.2065198366641994\n",
      "INFO:gal:Training Loss : 2.2065198366641994\n",
      "03/06 05:45:19 PM | Train Accuracy: 29.79% \n",
      "\n",
      "INFO:gal:Train Accuracy: 29.79% \n",
      "\n",
      " 37%|██████████████████████████▍                                             | 368/1000 [24:27:49<64:01:15, 364.68s/it]"
     ]
    },
    {
     "name": "stdout",
     "output_type": "stream",
     "text": [
      "\n",
      " | Global Training Round : 369 |\n",
      "\n"
     ]
    },
    {
     "name": "stderr",
     "output_type": "stream",
     "text": [
      "03/06 05:51:22 PM |  \n",
      "Avg Training Stats after 369 global rounds:\n",
      "INFO:gal: \n",
      "Avg Training Stats after 369 global rounds:\n",
      "03/06 05:51:22 PM | Training Loss : 2.258105367422104\n",
      "INFO:gal:Training Loss : 2.258105367422104\n",
      "03/06 05:51:22 PM | Train Accuracy: 30.50% \n",
      "\n",
      "INFO:gal:Train Accuracy: 30.50% \n",
      "\n",
      " 37%|██████████████████████████▌                                             | 369/1000 [24:33:52<63:50:54, 364.27s/it]"
     ]
    },
    {
     "name": "stdout",
     "output_type": "stream",
     "text": [
      "\n",
      " | Global Training Round : 370 |\n",
      "\n"
     ]
    },
    {
     "name": "stderr",
     "output_type": "stream",
     "text": [
      "03/06 05:57:33 PM |  \n",
      "Avg Training Stats after 370 global rounds:\n",
      "INFO:gal: \n",
      "Avg Training Stats after 370 global rounds:\n",
      "03/06 05:57:33 PM | Training Loss : 2.2229307610988616\n",
      "INFO:gal:Training Loss : 2.2229307610988616\n",
      "03/06 05:57:33 PM | Train Accuracy: 30.25% \n",
      "\n",
      "INFO:gal:Train Accuracy: 30.25% \n",
      "\n",
      " 37%|██████████████████████████▋                                             | 370/1000 [24:40:03<64:05:38, 366.25s/it]"
     ]
    },
    {
     "name": "stdout",
     "output_type": "stream",
     "text": [
      "\n",
      " | Global Training Round : 371 |\n",
      "\n"
     ]
    },
    {
     "name": "stderr",
     "output_type": "stream",
     "text": [
      "03/06 06:03:38 PM |  \n",
      "Avg Training Stats after 371 global rounds:\n",
      "INFO:gal: \n",
      "Avg Training Stats after 371 global rounds:\n",
      "03/06 06:03:38 PM | Training Loss : 2.267616061687469\n",
      "INFO:gal:Training Loss : 2.267616061687469\n",
      "03/06 06:03:38 PM | Train Accuracy: 28.01% \n",
      "\n",
      "INFO:gal:Train Accuracy: 28.01% \n",
      "\n",
      " 37%|██████████████████████████▋                                             | 371/1000 [24:46:08<63:56:21, 365.95s/it]"
     ]
    },
    {
     "name": "stdout",
     "output_type": "stream",
     "text": [
      "\n",
      " | Global Training Round : 372 |\n",
      "\n"
     ]
    },
    {
     "name": "stderr",
     "output_type": "stream",
     "text": [
      "03/06 06:09:45 PM |  \n",
      "Avg Training Stats after 372 global rounds:\n",
      "INFO:gal: \n",
      "Avg Training Stats after 372 global rounds:\n",
      "03/06 06:09:45 PM | Training Loss : 2.2658085603713998\n",
      "INFO:gal:Training Loss : 2.2658085603713998\n",
      "03/06 06:09:45 PM | Train Accuracy: 30.22% \n",
      "\n",
      "INFO:gal:Train Accuracy: 30.22% \n",
      "\n",
      " 37%|██████████████████████████▊                                             | 372/1000 [24:52:15<63:51:14, 366.04s/it]"
     ]
    },
    {
     "name": "stdout",
     "output_type": "stream",
     "text": [
      "\n",
      " | Global Training Round : 373 |\n",
      "\n"
     ]
    },
    {
     "name": "stderr",
     "output_type": "stream",
     "text": [
      "03/06 06:15:54 PM |  \n",
      "Avg Training Stats after 373 global rounds:\n",
      "INFO:gal: \n",
      "Avg Training Stats after 373 global rounds:\n",
      "03/06 06:15:54 PM | Training Loss : 2.384031952619553\n",
      "INFO:gal:Training Loss : 2.384031952619553\n",
      "03/06 06:15:54 PM | Train Accuracy: 28.47% \n",
      "\n",
      "INFO:gal:Train Accuracy: 28.47% \n",
      "\n",
      " 37%|██████████████████████████▊                                             | 373/1000 [24:58:24<63:56:10, 367.10s/it]"
     ]
    },
    {
     "name": "stdout",
     "output_type": "stream",
     "text": [
      "\n",
      " | Global Training Round : 374 |\n",
      "\n"
     ]
    },
    {
     "name": "stderr",
     "output_type": "stream",
     "text": [
      "03/06 06:22:08 PM |  \n",
      "Avg Training Stats after 374 global rounds:\n",
      "INFO:gal: \n",
      "Avg Training Stats after 374 global rounds:\n",
      "03/06 06:22:08 PM | Training Loss : 2.2682577939033504\n",
      "INFO:gal:Training Loss : 2.2682577939033504\n",
      "03/06 06:22:08 PM | Train Accuracy: 28.82% \n",
      "\n",
      "INFO:gal:Train Accuracy: 28.82% \n",
      "\n",
      " 37%|██████████████████████████▉                                             | 374/1000 [25:04:38<64:10:36, 369.07s/it]"
     ]
    },
    {
     "name": "stdout",
     "output_type": "stream",
     "text": [
      "\n",
      " | Global Training Round : 375 |\n",
      "\n"
     ]
    },
    {
     "name": "stderr",
     "output_type": "stream",
     "text": [
      "03/06 06:28:18 PM |  \n",
      "Avg Training Stats after 375 global rounds:\n",
      "INFO:gal: \n",
      "Avg Training Stats after 375 global rounds:\n",
      "03/06 06:28:18 PM | Training Loss : 2.2844361968040467\n",
      "INFO:gal:Training Loss : 2.2844361968040467\n",
      "03/06 06:28:18 PM | Train Accuracy: 28.94% \n",
      "\n",
      "INFO:gal:Train Accuracy: 28.94% \n",
      "\n",
      " 38%|███████████████████████████                                             | 375/1000 [25:10:48<64:07:31, 369.36s/it]"
     ]
    },
    {
     "name": "stdout",
     "output_type": "stream",
     "text": [
      "\n",
      " | Global Training Round : 376 |\n",
      "\n"
     ]
    },
    {
     "name": "stderr",
     "output_type": "stream",
     "text": [
      "03/06 06:34:30 PM |  \n",
      "Avg Training Stats after 376 global rounds:\n",
      "INFO:gal: \n",
      "Avg Training Stats after 376 global rounds:\n",
      "03/06 06:34:30 PM | Training Loss : 2.340486578941345\n",
      "INFO:gal:Training Loss : 2.340486578941345\n",
      "03/06 06:34:30 PM | Train Accuracy: 29.18% \n",
      "\n",
      "INFO:gal:Train Accuracy: 29.18% \n",
      "\n",
      " 38%|███████████████████████████                                             | 376/1000 [25:17:00<64:11:13, 370.31s/it]"
     ]
    },
    {
     "name": "stdout",
     "output_type": "stream",
     "text": [
      "\n",
      " | Global Training Round : 377 |\n",
      "\n"
     ]
    },
    {
     "name": "stderr",
     "output_type": "stream",
     "text": [
      "03/06 06:40:49 PM |  \n",
      "Avg Training Stats after 377 global rounds:\n",
      "INFO:gal: \n",
      "Avg Training Stats after 377 global rounds:\n",
      "03/06 06:40:49 PM | Training Loss : 2.2764767570495605\n",
      "INFO:gal:Training Loss : 2.2764767570495605\n",
      "03/06 06:40:49 PM | Train Accuracy: 28.32% \n",
      "\n",
      "INFO:gal:Train Accuracy: 28.32% \n",
      "\n",
      " 38%|███████████████████████████▏                                            | 377/1000 [25:23:19<64:30:02, 372.72s/it]"
     ]
    },
    {
     "name": "stdout",
     "output_type": "stream",
     "text": [
      "\n",
      " | Global Training Round : 378 |\n",
      "\n"
     ]
    },
    {
     "name": "stderr",
     "output_type": "stream",
     "text": [
      "03/06 06:47:01 PM |  \n",
      "Avg Training Stats after 378 global rounds:\n",
      "INFO:gal: \n",
      "Avg Training Stats after 378 global rounds:\n",
      "03/06 06:47:01 PM | Training Loss : 2.328925264120102\n",
      "INFO:gal:Training Loss : 2.328925264120102\n",
      "03/06 06:47:01 PM | Train Accuracy: 28.89% \n",
      "\n",
      "INFO:gal:Train Accuracy: 28.89% \n",
      "\n",
      " 38%|███████████████████████████▏                                            | 378/1000 [25:29:31<64:22:17, 372.57s/it]"
     ]
    },
    {
     "name": "stdout",
     "output_type": "stream",
     "text": [
      "\n",
      " | Global Training Round : 379 |\n",
      "\n"
     ]
    },
    {
     "name": "stderr",
     "output_type": "stream",
     "text": [
      "03/06 06:53:21 PM |  \n",
      "Avg Training Stats after 379 global rounds:\n",
      "INFO:gal: \n",
      "Avg Training Stats after 379 global rounds:\n",
      "03/06 06:53:21 PM | Training Loss : 2.357334863901138\n",
      "INFO:gal:Training Loss : 2.357334863901138\n",
      "03/06 06:53:21 PM | Train Accuracy: 29.79% \n",
      "\n",
      "INFO:gal:Train Accuracy: 29.79% \n",
      "\n",
      " 38%|███████████████████████████▎                                            | 379/1000 [25:35:51<64:37:58, 374.68s/it]"
     ]
    },
    {
     "name": "stdout",
     "output_type": "stream",
     "text": [
      "\n",
      " | Global Training Round : 380 |\n",
      "\n"
     ]
    },
    {
     "name": "stderr",
     "output_type": "stream",
     "text": [
      "03/06 06:59:36 PM |  \n",
      "Avg Training Stats after 380 global rounds:\n",
      "INFO:gal: \n",
      "Avg Training Stats after 380 global rounds:\n",
      "03/06 06:59:36 PM | Training Loss : 2.3117282979488376\n",
      "INFO:gal:Training Loss : 2.3117282979488376\n",
      "03/06 06:59:36 PM | Train Accuracy: 30.29% \n",
      "\n",
      "INFO:gal:Train Accuracy: 30.29% \n",
      "\n",
      " 38%|███████████████████████████▎                                            | 380/1000 [25:42:06<64:34:11, 374.92s/it]"
     ]
    },
    {
     "name": "stdout",
     "output_type": "stream",
     "text": [
      "\n",
      " | Global Training Round : 381 |\n",
      "\n"
     ]
    },
    {
     "name": "stderr",
     "output_type": "stream",
     "text": [
      "03/06 07:05:52 PM |  \n",
      "Avg Training Stats after 381 global rounds:\n",
      "INFO:gal: \n",
      "Avg Training Stats after 381 global rounds:\n",
      "03/06 07:05:52 PM | Training Loss : 2.3360433118343344\n",
      "INFO:gal:Training Loss : 2.3360433118343344\n",
      "03/06 07:05:52 PM | Train Accuracy: 29.11% \n",
      "\n",
      "INFO:gal:Train Accuracy: 29.11% \n",
      "\n",
      " 38%|███████████████████████████▍                                            | 381/1000 [25:48:22<64:30:31, 375.17s/it]"
     ]
    },
    {
     "name": "stdout",
     "output_type": "stream",
     "text": [
      "\n",
      " | Global Training Round : 382 |\n",
      "\n"
     ]
    },
    {
     "name": "stderr",
     "output_type": "stream",
     "text": [
      "03/06 07:12:15 PM |  \n",
      "Avg Training Stats after 382 global rounds:\n",
      "INFO:gal: \n",
      "Avg Training Stats after 382 global rounds:\n",
      "03/06 07:12:15 PM | Training Loss : 2.1729366672039028\n",
      "INFO:gal:Training Loss : 2.1729366672039028\n",
      "03/06 07:12:15 PM | Train Accuracy: 29.73% \n",
      "\n",
      "INFO:gal:Train Accuracy: 29.73% \n",
      "\n",
      " 38%|███████████████████████████▌                                            | 382/1000 [25:54:45<64:49:56, 377.66s/it]"
     ]
    },
    {
     "name": "stdout",
     "output_type": "stream",
     "text": [
      "\n",
      " | Global Training Round : 383 |\n",
      "\n"
     ]
    },
    {
     "name": "stderr",
     "output_type": "stream",
     "text": [
      "03/06 07:18:30 PM |  \n",
      "Avg Training Stats after 383 global rounds:\n",
      "INFO:gal: \n",
      "Avg Training Stats after 383 global rounds:\n",
      "03/06 07:18:30 PM | Training Loss : 2.30765469288826\n",
      "INFO:gal:Training Loss : 2.30765469288826\n",
      "03/06 07:18:30 PM | Train Accuracy: 29.55% \n",
      "\n",
      "INFO:gal:Train Accuracy: 29.55% \n",
      "\n",
      " 38%|███████████████████████████▌                                            | 383/1000 [26:01:00<64:36:01, 376.92s/it]"
     ]
    },
    {
     "name": "stdout",
     "output_type": "stream",
     "text": [
      "\n",
      " | Global Training Round : 384 |\n",
      "\n"
     ]
    },
    {
     "name": "stderr",
     "output_type": "stream",
     "text": [
      "03/06 07:24:51 PM |  \n",
      "Avg Training Stats after 384 global rounds:\n",
      "INFO:gal: \n",
      "Avg Training Stats after 384 global rounds:\n",
      "03/06 07:24:51 PM | Training Loss : 2.2796870977878574\n",
      "INFO:gal:Training Loss : 2.2796870977878574\n",
      "03/06 07:24:51 PM | Train Accuracy: 28.26% \n",
      "\n",
      "INFO:gal:Train Accuracy: 28.26% \n",
      "\n",
      " 38%|███████████████████████████▋                                            | 384/1000 [26:07:21<64:41:49, 378.10s/it]"
     ]
    },
    {
     "name": "stdout",
     "output_type": "stream",
     "text": [
      "\n",
      " | Global Training Round : 385 |\n",
      "\n"
     ]
    },
    {
     "name": "stderr",
     "output_type": "stream",
     "text": [
      "03/06 07:31:16 PM |  \n",
      "Avg Training Stats after 385 global rounds:\n",
      "INFO:gal: \n",
      "Avg Training Stats after 385 global rounds:\n",
      "03/06 07:31:16 PM | Training Loss : 2.289657890796662\n",
      "INFO:gal:Training Loss : 2.289657890796662\n",
      "03/06 07:31:16 PM | Train Accuracy: 29.60% \n",
      "\n",
      "INFO:gal:Train Accuracy: 29.60% \n",
      "\n",
      " 38%|███████████████████████████▋                                            | 385/1000 [26:13:46<64:54:54, 379.99s/it]"
     ]
    },
    {
     "name": "stdout",
     "output_type": "stream",
     "text": [
      "\n",
      " | Global Training Round : 386 |\n",
      "\n"
     ]
    },
    {
     "name": "stderr",
     "output_type": "stream",
     "text": [
      "03/06 07:37:43 PM |  \n",
      "Avg Training Stats after 386 global rounds:\n",
      "INFO:gal: \n",
      "Avg Training Stats after 386 global rounds:\n",
      "03/06 07:37:43 PM | Training Loss : 2.3304900908470154\n",
      "INFO:gal:Training Loss : 2.3304900908470154\n",
      "03/06 07:37:43 PM | Train Accuracy: 28.39% \n",
      "\n",
      "INFO:gal:Train Accuracy: 28.39% \n",
      "\n",
      " 39%|███████████████████████████▊                                            | 386/1000 [26:20:13<65:11:09, 382.20s/it]"
     ]
    },
    {
     "name": "stdout",
     "output_type": "stream",
     "text": [
      "\n",
      " | Global Training Round : 387 |\n",
      "\n"
     ]
    },
    {
     "name": "stderr",
     "output_type": "stream",
     "text": [
      "03/06 07:44:03 PM |  \n",
      "Avg Training Stats after 387 global rounds:\n",
      "INFO:gal: \n",
      "Avg Training Stats after 387 global rounds:\n",
      "03/06 07:44:03 PM | Training Loss : 2.1831474952697754\n",
      "INFO:gal:Training Loss : 2.1831474952697754\n",
      "03/06 07:44:03 PM | Train Accuracy: 27.26% \n",
      "\n",
      "INFO:gal:Train Accuracy: 27.26% \n",
      "\n",
      " 39%|███████████████████████████▊                                            | 387/1000 [26:26:33<64:57:09, 381.45s/it]"
     ]
    },
    {
     "name": "stdout",
     "output_type": "stream",
     "text": [
      "\n",
      " | Global Training Round : 388 |\n",
      "\n"
     ]
    },
    {
     "name": "stderr",
     "output_type": "stream",
     "text": [
      "03/06 07:50:26 PM |  \n",
      "Avg Training Stats after 388 global rounds:\n",
      "INFO:gal: \n",
      "Avg Training Stats after 388 global rounds:\n",
      "03/06 07:50:26 PM | Training Loss : 2.236402853965759\n",
      "INFO:gal:Training Loss : 2.236402853965759\n",
      "03/06 07:50:26 PM | Train Accuracy: 28.79% \n",
      "\n",
      "INFO:gal:Train Accuracy: 28.79% \n",
      "\n",
      " 39%|███████████████████████████▉                                            | 388/1000 [26:32:56<64:57:40, 382.13s/it]"
     ]
    },
    {
     "name": "stdout",
     "output_type": "stream",
     "text": [
      "\n",
      " | Global Training Round : 389 |\n",
      "\n"
     ]
    },
    {
     "name": "stderr",
     "output_type": "stream",
     "text": [
      "03/06 07:56:50 PM |  \n",
      "Avg Training Stats after 389 global rounds:\n",
      "INFO:gal: \n",
      "Avg Training Stats after 389 global rounds:\n",
      "03/06 07:56:50 PM | Training Loss : 2.392540388584137\n",
      "INFO:gal:Training Loss : 2.392540388584137\n",
      "03/06 07:56:50 PM | Train Accuracy: 29.01% \n",
      "\n",
      "INFO:gal:Train Accuracy: 29.01% \n",
      "\n",
      " 39%|████████████████████████████                                            | 389/1000 [26:39:20<64:54:22, 382.43s/it]"
     ]
    },
    {
     "name": "stdout",
     "output_type": "stream",
     "text": [
      "\n",
      " | Global Training Round : 390 |\n",
      "\n"
     ]
    },
    {
     "name": "stderr",
     "output_type": "stream",
     "text": [
      "03/06 08:03:22 PM |  \n",
      "Avg Training Stats after 390 global rounds:\n",
      "INFO:gal: \n",
      "Avg Training Stats after 390 global rounds:\n",
      "03/06 08:03:22 PM | Training Loss : 2.2870807700157174\n",
      "INFO:gal:Training Loss : 2.2870807700157174\n",
      "03/06 08:03:22 PM | Train Accuracy: 29.19% \n",
      "\n",
      "INFO:gal:Train Accuracy: 29.19% \n",
      "\n",
      " 39%|████████████████████████████                                            | 390/1000 [26:45:52<65:18:57, 385.47s/it]"
     ]
    },
    {
     "name": "stdout",
     "output_type": "stream",
     "text": [
      "\n",
      " | Global Training Round : 391 |\n",
      "\n"
     ]
    },
    {
     "name": "stderr",
     "output_type": "stream",
     "text": [
      "03/06 08:09:56 PM |  \n",
      "Avg Training Stats after 391 global rounds:\n",
      "INFO:gal: \n",
      "Avg Training Stats after 391 global rounds:\n",
      "03/06 08:09:56 PM | Training Loss : 2.3658030881881715\n",
      "INFO:gal:Training Loss : 2.3658030881881715\n",
      "03/06 08:09:56 PM | Train Accuracy: 29.00% \n",
      "\n",
      "INFO:gal:Train Accuracy: 29.00% \n",
      "\n",
      " 39%|████████████████████████████▏                                           | 391/1000 [26:52:26<65:36:53, 387.87s/it]"
     ]
    },
    {
     "name": "stdout",
     "output_type": "stream",
     "text": [
      "\n",
      " | Global Training Round : 392 |\n",
      "\n"
     ]
    },
    {
     "name": "stderr",
     "output_type": "stream",
     "text": [
      "03/06 08:16:22 PM |  \n",
      "Avg Training Stats after 392 global rounds:\n",
      "INFO:gal: \n",
      "Avg Training Stats after 392 global rounds:\n",
      "03/06 08:16:22 PM | Training Loss : 2.281084553718567\n",
      "INFO:gal:Training Loss : 2.281084553718567\n",
      "03/06 08:16:22 PM | Train Accuracy: 29.61% \n",
      "\n",
      "INFO:gal:Train Accuracy: 29.61% \n",
      "\n",
      " 39%|████████████████████████████▏                                           | 392/1000 [26:58:52<65:26:58, 387.53s/it]"
     ]
    },
    {
     "name": "stdout",
     "output_type": "stream",
     "text": [
      "\n",
      " | Global Training Round : 393 |\n",
      "\n"
     ]
    },
    {
     "name": "stderr",
     "output_type": "stream",
     "text": [
      "03/06 08:22:50 PM |  \n",
      "Avg Training Stats after 393 global rounds:\n",
      "INFO:gal: \n",
      "Avg Training Stats after 393 global rounds:\n",
      "03/06 08:22:50 PM | Training Loss : 2.282184026241303\n",
      "INFO:gal:Training Loss : 2.282184026241303\n",
      "03/06 08:22:50 PM | Train Accuracy: 29.37% \n",
      "\n",
      "INFO:gal:Train Accuracy: 29.37% \n",
      "\n",
      " 39%|████████████████████████████▎                                           | 393/1000 [27:05:20<65:22:01, 387.68s/it]"
     ]
    },
    {
     "name": "stdout",
     "output_type": "stream",
     "text": [
      "\n",
      " | Global Training Round : 394 |\n",
      "\n"
     ]
    },
    {
     "name": "stderr",
     "output_type": "stream",
     "text": [
      "03/06 08:29:27 PM |  \n",
      "Avg Training Stats after 394 global rounds:\n",
      "INFO:gal: \n",
      "Avg Training Stats after 394 global rounds:\n",
      "03/06 08:29:27 PM | Training Loss : 2.3223661947250362\n",
      "INFO:gal:Training Loss : 2.3223661947250362\n",
      "03/06 08:29:27 PM | Train Accuracy: 29.64% \n",
      "\n",
      "INFO:gal:Train Accuracy: 29.64% \n",
      "\n",
      " 39%|████████████████████████████▎                                           | 394/1000 [27:11:57<65:41:58, 390.30s/it]"
     ]
    },
    {
     "name": "stdout",
     "output_type": "stream",
     "text": [
      "\n",
      " | Global Training Round : 395 |\n",
      "\n"
     ]
    },
    {
     "name": "stderr",
     "output_type": "stream",
     "text": [
      "03/06 08:35:57 PM |  \n",
      "Avg Training Stats after 395 global rounds:\n",
      "INFO:gal: \n",
      "Avg Training Stats after 395 global rounds:\n",
      "03/06 08:35:57 PM | Training Loss : 2.238841566562653\n",
      "INFO:gal:Training Loss : 2.238841566562653\n",
      "03/06 08:35:57 PM | Train Accuracy: 30.04% \n",
      "\n",
      "INFO:gal:Train Accuracy: 30.04% \n",
      "\n",
      " 40%|████████████████████████████▍                                           | 395/1000 [27:18:27<65:36:07, 390.36s/it]"
     ]
    },
    {
     "name": "stdout",
     "output_type": "stream",
     "text": [
      "\n",
      " | Global Training Round : 396 |\n",
      "\n"
     ]
    },
    {
     "name": "stderr",
     "output_type": "stream",
     "text": [
      "03/06 08:42:33 PM |  \n",
      "Avg Training Stats after 396 global rounds:\n",
      "INFO:gal: \n",
      "Avg Training Stats after 396 global rounds:\n",
      "03/06 08:42:33 PM | Training Loss : 2.2356657223701477\n",
      "INFO:gal:Training Loss : 2.2356657223701477\n",
      "03/06 08:42:33 PM | Train Accuracy: 30.33% \n",
      "\n",
      "INFO:gal:Train Accuracy: 30.33% \n",
      "\n",
      " 40%|████████████████████████████▌                                           | 396/1000 [27:25:03<65:46:32, 392.04s/it]"
     ]
    },
    {
     "name": "stdout",
     "output_type": "stream",
     "text": [
      "\n",
      " | Global Training Round : 397 |\n",
      "\n"
     ]
    },
    {
     "name": "stderr",
     "output_type": "stream",
     "text": [
      "03/06 08:49:01 PM |  \n",
      "Avg Training Stats after 397 global rounds:\n",
      "INFO:gal: \n",
      "Avg Training Stats after 397 global rounds:\n",
      "03/06 08:49:01 PM | Training Loss : 2.232261648893356\n",
      "INFO:gal:Training Loss : 2.232261648893356\n",
      "03/06 08:49:01 PM | Train Accuracy: 29.19% \n",
      "\n",
      "INFO:gal:Train Accuracy: 29.19% \n",
      "\n",
      " 40%|████████████████████████████▌                                           | 397/1000 [27:31:31<65:26:21, 390.68s/it]"
     ]
    },
    {
     "name": "stdout",
     "output_type": "stream",
     "text": [
      "\n",
      " | Global Training Round : 398 |\n",
      "\n"
     ]
    },
    {
     "name": "stderr",
     "output_type": "stream",
     "text": [
      "03/06 08:55:36 PM |  \n",
      "Avg Training Stats after 398 global rounds:\n",
      "INFO:gal: \n",
      "Avg Training Stats after 398 global rounds:\n",
      "03/06 08:55:36 PM | Training Loss : 2.2101537141799934\n",
      "INFO:gal:Training Loss : 2.2101537141799934\n",
      "03/06 08:55:36 PM | Train Accuracy: 28.94% \n",
      "\n",
      "INFO:gal:Train Accuracy: 28.94% \n",
      "\n",
      " 40%|████████████████████████████▋                                           | 398/1000 [27:38:06<65:33:24, 392.03s/it]"
     ]
    },
    {
     "name": "stdout",
     "output_type": "stream",
     "text": [
      "\n",
      " | Global Training Round : 399 |\n",
      "\n"
     ]
    },
    {
     "name": "stderr",
     "output_type": "stream",
     "text": [
      "03/06 09:02:16 PM |  \n",
      "Avg Training Stats after 399 global rounds:\n",
      "INFO:gal: \n",
      "Avg Training Stats after 399 global rounds:\n",
      "03/06 09:02:16 PM | Training Loss : 2.3240109913349154\n",
      "INFO:gal:Training Loss : 2.3240109913349154\n",
      "03/06 09:02:16 PM | Train Accuracy: 29.93% \n",
      "\n",
      "INFO:gal:Train Accuracy: 29.93% \n",
      "\n",
      " 40%|████████████████████████████▋                                           | 399/1000 [27:44:46<65:52:13, 394.56s/it]"
     ]
    },
    {
     "name": "stdout",
     "output_type": "stream",
     "text": [
      "\n",
      " | Global Training Round : 400 |\n",
      "\n"
     ]
    },
    {
     "name": "stderr",
     "output_type": "stream",
     "text": [
      "03/06 09:08:54 PM |  \n",
      "Avg Training Stats after 400 global rounds:\n",
      "INFO:gal: \n",
      "Avg Training Stats after 400 global rounds:\n",
      "03/06 09:08:54 PM | Training Loss : 2.3115888550281523\n",
      "INFO:gal:Training Loss : 2.3115888550281523\n",
      "03/06 09:08:54 PM | Train Accuracy: 29.35% \n",
      "\n",
      "INFO:gal:Train Accuracy: 29.35% \n",
      "\n",
      " 40%|████████████████████████████▊                                           | 400/1000 [27:51:24<65:54:02, 395.40s/it]"
     ]
    },
    {
     "name": "stdout",
     "output_type": "stream",
     "text": [
      "\n",
      " | Global Training Round : 401 |\n",
      "\n"
     ]
    },
    {
     "name": "stderr",
     "output_type": "stream",
     "text": [
      "03/06 09:15:37 PM |  \n",
      "Avg Training Stats after 401 global rounds:\n",
      "INFO:gal: \n",
      "Avg Training Stats after 401 global rounds:\n",
      "03/06 09:15:37 PM | Training Loss : 2.229294574022293\n",
      "INFO:gal:Training Loss : 2.229294574022293\n",
      "03/06 09:15:37 PM | Train Accuracy: 29.30% \n",
      "\n",
      "INFO:gal:Train Accuracy: 29.30% \n",
      "\n",
      " 40%|████████████████████████████▊                                           | 401/1000 [27:58:07<66:09:52, 397.65s/it]"
     ]
    },
    {
     "name": "stdout",
     "output_type": "stream",
     "text": [
      "\n",
      " | Global Training Round : 402 |\n",
      "\n"
     ]
    },
    {
     "name": "stderr",
     "output_type": "stream",
     "text": [
      "03/06 09:22:19 PM |  \n",
      "Avg Training Stats after 402 global rounds:\n",
      "INFO:gal: \n",
      "Avg Training Stats after 402 global rounds:\n",
      "03/06 09:22:19 PM | Training Loss : 2.264505105018616\n",
      "INFO:gal:Training Loss : 2.264505105018616\n",
      "03/06 09:22:19 PM | Train Accuracy: 30.36% \n",
      "\n",
      "INFO:gal:Train Accuracy: 30.36% \n",
      "\n",
      " 40%|████████████████████████████▉                                           | 402/1000 [28:04:49<66:15:57, 398.93s/it]"
     ]
    },
    {
     "name": "stdout",
     "output_type": "stream",
     "text": [
      "\n",
      " | Global Training Round : 403 |\n",
      "\n"
     ]
    },
    {
     "name": "stderr",
     "output_type": "stream",
     "text": [
      "03/06 09:28:52 PM |  \n",
      "Avg Training Stats after 403 global rounds:\n",
      "INFO:gal: \n",
      "Avg Training Stats after 403 global rounds:\n",
      "03/06 09:28:52 PM | Training Loss : 2.3344584348201756\n",
      "INFO:gal:Training Loss : 2.3344584348201756\n",
      "03/06 09:28:53 PM | Train Accuracy: 29.75% \n",
      "\n",
      "INFO:gal:Train Accuracy: 29.75% \n",
      "\n",
      " 40%|█████████████████████████████                                           | 403/1000 [28:11:23<65:54:28, 397.43s/it]"
     ]
    },
    {
     "name": "stdout",
     "output_type": "stream",
     "text": [
      "\n",
      " | Global Training Round : 404 |\n",
      "\n"
     ]
    },
    {
     "name": "stderr",
     "output_type": "stream",
     "text": [
      "03/06 09:35:35 PM |  \n",
      "Avg Training Stats after 404 global rounds:\n",
      "INFO:gal: \n",
      "Avg Training Stats after 404 global rounds:\n",
      "03/06 09:35:35 PM | Training Loss : 2.3282964282035827\n",
      "INFO:gal:Training Loss : 2.3282964282035827\n",
      "03/06 09:35:35 PM | Train Accuracy: 29.65% \n",
      "\n",
      "INFO:gal:Train Accuracy: 29.65% \n",
      "\n",
      " 40%|█████████████████████████████                                           | 404/1000 [28:18:05<66:03:06, 398.97s/it]"
     ]
    },
    {
     "name": "stdout",
     "output_type": "stream",
     "text": [
      "\n",
      " | Global Training Round : 405 |\n",
      "\n"
     ]
    },
    {
     "name": "stderr",
     "output_type": "stream",
     "text": [
      "03/06 09:42:18 PM |  \n",
      "Avg Training Stats after 405 global rounds:\n",
      "INFO:gal: \n",
      "Avg Training Stats after 405 global rounds:\n",
      "03/06 09:42:18 PM | Training Loss : 2.370970701932907\n",
      "INFO:gal:Training Loss : 2.370970701932907\n",
      "03/06 09:42:18 PM | Train Accuracy: 30.38% \n",
      "\n",
      "INFO:gal:Train Accuracy: 30.38% \n",
      "\n",
      " 40%|█████████████████████████████▏                                          | 405/1000 [28:24:48<66:08:55, 400.23s/it]"
     ]
    },
    {
     "name": "stdout",
     "output_type": "stream",
     "text": [
      "\n",
      " | Global Training Round : 406 |\n",
      "\n"
     ]
    },
    {
     "name": "stderr",
     "output_type": "stream",
     "text": [
      "03/06 09:49:01 PM |  \n",
      "Avg Training Stats after 406 global rounds:\n",
      "INFO:gal: \n",
      "Avg Training Stats after 406 global rounds:\n",
      "03/06 09:49:01 PM | Training Loss : 2.191609911680222\n",
      "INFO:gal:Training Loss : 2.191609911680222\n",
      "03/06 09:49:01 PM | Train Accuracy: 27.86% \n",
      "\n",
      "INFO:gal:Train Accuracy: 27.86% \n",
      "\n",
      " 41%|█████████████████████████████▏                                          | 406/1000 [28:31:31<66:09:43, 400.98s/it]"
     ]
    },
    {
     "name": "stdout",
     "output_type": "stream",
     "text": [
      "\n",
      " | Global Training Round : 407 |\n",
      "\n"
     ]
    },
    {
     "name": "stderr",
     "output_type": "stream",
     "text": [
      "03/06 09:55:48 PM |  \n",
      "Avg Training Stats after 407 global rounds:\n",
      "INFO:gal: \n",
      "Avg Training Stats after 407 global rounds:\n",
      "03/06 09:55:48 PM | Training Loss : 2.3241932604312896\n",
      "INFO:gal:Training Loss : 2.3241932604312896\n",
      "03/06 09:55:48 PM | Train Accuracy: 27.31% \n",
      "\n",
      "INFO:gal:Train Accuracy: 27.31% \n",
      "\n",
      " 41%|█████████████████████████████▎                                          | 407/1000 [28:38:18<66:21:18, 402.83s/it]"
     ]
    },
    {
     "name": "stdout",
     "output_type": "stream",
     "text": [
      "\n",
      " | Global Training Round : 408 |\n",
      "\n"
     ]
    },
    {
     "name": "stderr",
     "output_type": "stream",
     "text": [
      "03/06 10:02:37 PM |  \n",
      "Avg Training Stats after 408 global rounds:\n",
      "INFO:gal: \n",
      "Avg Training Stats after 408 global rounds:\n",
      "03/06 10:02:37 PM | Training Loss : 2.3851475825309754\n",
      "INFO:gal:Training Loss : 2.3851475825309754\n",
      "03/06 10:02:37 PM | Train Accuracy: 30.26% \n",
      "\n",
      "INFO:gal:Train Accuracy: 30.26% \n",
      "\n",
      " 41%|█████████████████████████████▍                                          | 408/1000 [28:45:07<66:33:02, 404.70s/it]"
     ]
    },
    {
     "name": "stdout",
     "output_type": "stream",
     "text": [
      "\n",
      " | Global Training Round : 409 |\n",
      "\n"
     ]
    },
    {
     "name": "stderr",
     "output_type": "stream",
     "text": [
      "03/06 10:09:27 PM |  \n",
      "Avg Training Stats after 409 global rounds:\n",
      "INFO:gal: \n",
      "Avg Training Stats after 409 global rounds:\n",
      "03/06 10:09:27 PM | Training Loss : 2.3378419065475464\n",
      "INFO:gal:Training Loss : 2.3378419065475464\n",
      "03/06 10:09:27 PM | Train Accuracy: 31.41% \n",
      "\n",
      "INFO:gal:Train Accuracy: 31.41% \n",
      "\n",
      " 41%|█████████████████████████████▍                                          | 409/1000 [28:51:57<66:40:26, 406.14s/it]"
     ]
    },
    {
     "name": "stdout",
     "output_type": "stream",
     "text": [
      "\n",
      " | Global Training Round : 410 |\n",
      "\n"
     ]
    },
    {
     "name": "stderr",
     "output_type": "stream",
     "text": [
      "03/06 10:16:16 PM |  \n",
      "Avg Training Stats after 410 global rounds:\n",
      "INFO:gal: \n",
      "Avg Training Stats after 410 global rounds:\n",
      "03/06 10:16:16 PM | Training Loss : 2.248034194707871\n",
      "INFO:gal:Training Loss : 2.248034194707871\n",
      "03/06 10:16:16 PM | Train Accuracy: 30.90% \n",
      "\n",
      "INFO:gal:Train Accuracy: 30.90% \n",
      "\n",
      " 41%|█████████████████████████████▌                                          | 410/1000 [28:58:46<66:43:25, 407.13s/it]"
     ]
    },
    {
     "name": "stdout",
     "output_type": "stream",
     "text": [
      "\n",
      " | Global Training Round : 411 |\n",
      "\n"
     ]
    },
    {
     "name": "stderr",
     "output_type": "stream",
     "text": [
      "03/06 10:23:09 PM |  \n",
      "Avg Training Stats after 411 global rounds:\n",
      "INFO:gal: \n",
      "Avg Training Stats after 411 global rounds:\n",
      "03/06 10:23:09 PM | Training Loss : 2.265773106098176\n",
      "INFO:gal:Training Loss : 2.265773106098176\n",
      "03/06 10:23:09 PM | Train Accuracy: 31.36% \n",
      "\n",
      "INFO:gal:Train Accuracy: 31.36% \n",
      "\n",
      " 41%|█████████████████████████████▌                                          | 411/1000 [29:05:39<66:52:47, 408.77s/it]"
     ]
    },
    {
     "name": "stdout",
     "output_type": "stream",
     "text": [
      "\n",
      " | Global Training Round : 412 |\n",
      "\n"
     ]
    },
    {
     "name": "stderr",
     "output_type": "stream",
     "text": [
      "03/06 10:30:04 PM |  \n",
      "Avg Training Stats after 412 global rounds:\n",
      "INFO:gal: \n",
      "Avg Training Stats after 412 global rounds:\n",
      "03/06 10:30:04 PM | Training Loss : 2.2927695858478545\n",
      "INFO:gal:Training Loss : 2.2927695858478545\n",
      "03/06 10:30:04 PM | Train Accuracy: 29.88% \n",
      "\n",
      "INFO:gal:Train Accuracy: 29.88% \n",
      "\n",
      " 41%|█████████████████████████████▋                                          | 412/1000 [29:12:34<67:04:08, 410.63s/it]"
     ]
    },
    {
     "name": "stdout",
     "output_type": "stream",
     "text": [
      "\n",
      " | Global Training Round : 413 |\n",
      "\n"
     ]
    },
    {
     "name": "stderr",
     "output_type": "stream",
     "text": [
      "03/06 10:37:00 PM |  \n",
      "Avg Training Stats after 413 global rounds:\n",
      "INFO:gal: \n",
      "Avg Training Stats after 413 global rounds:\n",
      "03/06 10:37:00 PM | Training Loss : 2.3022185630798337\n",
      "INFO:gal:Training Loss : 2.3022185630798337\n",
      "03/06 10:37:00 PM | Train Accuracy: 32.68% \n",
      "\n",
      "INFO:gal:Train Accuracy: 32.68% \n",
      "\n",
      " 41%|█████████████████████████████▋                                          | 413/1000 [29:19:30<67:13:38, 412.30s/it]"
     ]
    },
    {
     "name": "stdout",
     "output_type": "stream",
     "text": [
      "\n",
      " | Global Training Round : 414 |\n",
      "\n"
     ]
    },
    {
     "name": "stderr",
     "output_type": "stream",
     "text": [
      "03/06 10:43:58 PM |  \n",
      "Avg Training Stats after 414 global rounds:\n",
      "INFO:gal: \n",
      "Avg Training Stats after 414 global rounds:\n",
      "03/06 10:43:58 PM | Training Loss : 2.2508574461936943\n",
      "INFO:gal:Training Loss : 2.2508574461936943\n",
      "03/06 10:43:58 PM | Train Accuracy: 31.08% \n",
      "\n",
      "INFO:gal:Train Accuracy: 31.08% \n",
      "\n",
      " 41%|█████████████████████████████▊                                          | 414/1000 [29:26:28<67:24:00, 414.06s/it]"
     ]
    },
    {
     "name": "stdout",
     "output_type": "stream",
     "text": [
      "\n",
      " | Global Training Round : 415 |\n",
      "\n"
     ]
    },
    {
     "name": "stderr",
     "output_type": "stream",
     "text": [
      "03/06 10:50:52 PM |  \n",
      "Avg Training Stats after 415 global rounds:\n",
      "INFO:gal: \n",
      "Avg Training Stats after 415 global rounds:\n",
      "03/06 10:50:52 PM | Training Loss : 2.257558464050293\n",
      "INFO:gal:Training Loss : 2.257558464050293\n",
      "03/06 10:50:52 PM | Train Accuracy: 30.88% \n",
      "\n",
      "INFO:gal:Train Accuracy: 30.88% \n",
      "\n",
      " 42%|█████████████████████████████▉                                          | 415/1000 [29:33:22<67:16:52, 414.04s/it]"
     ]
    },
    {
     "name": "stdout",
     "output_type": "stream",
     "text": [
      "\n",
      " | Global Training Round : 416 |\n",
      "\n"
     ]
    },
    {
     "name": "stderr",
     "output_type": "stream",
     "text": [
      "03/06 10:57:41 PM |  \n",
      "Avg Training Stats after 416 global rounds:\n",
      "INFO:gal: \n",
      "Avg Training Stats after 416 global rounds:\n",
      "03/06 10:57:41 PM | Training Loss : 2.1896137096881865\n",
      "INFO:gal:Training Loss : 2.1896137096881865\n",
      "03/06 10:57:41 PM | Train Accuracy: 29.59% \n",
      "\n",
      "INFO:gal:Train Accuracy: 29.59% \n",
      "\n",
      " 42%|█████████████████████████████▉                                          | 416/1000 [29:40:11<66:55:15, 412.53s/it]"
     ]
    },
    {
     "name": "stdout",
     "output_type": "stream",
     "text": [
      "\n",
      " | Global Training Round : 417 |\n",
      "\n"
     ]
    },
    {
     "name": "stderr",
     "output_type": "stream",
     "text": [
      "03/06 11:04:34 PM |  \n",
      "Avg Training Stats after 417 global rounds:\n",
      "INFO:gal: \n",
      "Avg Training Stats after 417 global rounds:\n",
      "03/06 11:04:34 PM | Training Loss : 2.2204666352272038\n",
      "INFO:gal:Training Loss : 2.2204666352272038\n",
      "03/06 11:04:34 PM | Train Accuracy: 29.08% \n",
      "\n",
      "INFO:gal:Train Accuracy: 29.08% \n",
      "\n",
      " 42%|██████████████████████████████                                          | 417/1000 [29:47:04<66:50:26, 412.74s/it]"
     ]
    },
    {
     "name": "stdout",
     "output_type": "stream",
     "text": [
      "\n",
      " | Global Training Round : 418 |\n",
      "\n"
     ]
    },
    {
     "name": "stderr",
     "output_type": "stream",
     "text": [
      "03/06 11:11:34 PM |  \n",
      "Avg Training Stats after 418 global rounds:\n",
      "INFO:gal: \n",
      "Avg Training Stats after 418 global rounds:\n",
      "03/06 11:11:34 PM | Training Loss : 2.2670660028457648\n",
      "INFO:gal:Training Loss : 2.2670660028457648\n",
      "03/06 11:11:34 PM | Train Accuracy: 29.60% \n",
      "\n",
      "INFO:gal:Train Accuracy: 29.60% \n",
      "\n",
      " 42%|██████████████████████████████                                          | 418/1000 [29:54:04<67:03:35, 414.80s/it]"
     ]
    },
    {
     "name": "stdout",
     "output_type": "stream",
     "text": [
      "\n",
      " | Global Training Round : 419 |\n",
      "\n"
     ]
    },
    {
     "name": "stderr",
     "output_type": "stream",
     "text": [
      "03/06 11:18:29 PM |  \n",
      "Avg Training Stats after 419 global rounds:\n",
      "INFO:gal: \n",
      "Avg Training Stats after 419 global rounds:\n",
      "03/06 11:18:29 PM | Training Loss : 2.277039577960968\n",
      "INFO:gal:Training Loss : 2.277039577960968\n",
      "03/06 11:18:29 PM | Train Accuracy: 29.04% \n",
      "\n",
      "INFO:gal:Train Accuracy: 29.04% \n",
      "\n",
      " 42%|██████████████████████████████▏                                         | 419/1000 [30:00:59<66:56:12, 414.75s/it]"
     ]
    },
    {
     "name": "stdout",
     "output_type": "stream",
     "text": [
      "\n",
      " | Global Training Round : 420 |\n",
      "\n"
     ]
    },
    {
     "name": "stderr",
     "output_type": "stream",
     "text": [
      "03/06 11:25:25 PM |  \n",
      "Avg Training Stats after 420 global rounds:\n",
      "INFO:gal: \n",
      "Avg Training Stats after 420 global rounds:\n",
      "03/06 11:25:25 PM | Training Loss : 2.2664823446273803\n",
      "INFO:gal:Training Loss : 2.2664823446273803\n",
      "03/06 11:25:25 PM | Train Accuracy: 30.59% \n",
      "\n",
      "INFO:gal:Train Accuracy: 30.59% \n",
      "\n",
      " 42%|██████████████████████████████▏                                         | 420/1000 [30:07:55<66:53:55, 415.23s/it]"
     ]
    },
    {
     "name": "stdout",
     "output_type": "stream",
     "text": [
      "\n",
      " | Global Training Round : 421 |\n",
      "\n"
     ]
    },
    {
     "name": "stderr",
     "output_type": "stream",
     "text": [
      "03/06 11:32:21 PM |  \n",
      "Avg Training Stats after 421 global rounds:\n",
      "INFO:gal: \n",
      "Avg Training Stats after 421 global rounds:\n",
      "03/06 11:32:21 PM | Training Loss : 2.3013029961586\n",
      "INFO:gal:Training Loss : 2.3013029961586\n",
      "03/06 11:32:21 PM | Train Accuracy: 28.34% \n",
      "\n",
      "INFO:gal:Train Accuracy: 28.34% \n",
      "\n",
      " 42%|██████████████████████████████▎                                         | 421/1000 [30:14:51<66:49:49, 415.53s/it]"
     ]
    },
    {
     "name": "stdout",
     "output_type": "stream",
     "text": [
      "\n",
      " | Global Training Round : 422 |\n",
      "\n"
     ]
    },
    {
     "name": "stderr",
     "output_type": "stream",
     "text": [
      "03/06 11:39:23 PM |  \n",
      "Avg Training Stats after 422 global rounds:\n",
      "INFO:gal: \n",
      "Avg Training Stats after 422 global rounds:\n",
      "03/06 11:39:23 PM | Training Loss : 2.3180029919147493\n",
      "INFO:gal:Training Loss : 2.3180029919147493\n",
      "03/06 11:39:23 PM | Train Accuracy: 29.02% \n",
      "\n",
      "INFO:gal:Train Accuracy: 29.02% \n",
      "\n",
      " 42%|██████████████████████████████▍                                         | 422/1000 [30:21:53<67:02:36, 417.57s/it]"
     ]
    },
    {
     "name": "stdout",
     "output_type": "stream",
     "text": [
      "\n",
      " | Global Training Round : 423 |\n",
      "\n"
     ]
    },
    {
     "name": "stderr",
     "output_type": "stream",
     "text": [
      "03/06 11:46:31 PM |  \n",
      "Avg Training Stats after 423 global rounds:\n",
      "INFO:gal: \n",
      "Avg Training Stats after 423 global rounds:\n",
      "03/06 11:46:31 PM | Training Loss : 2.2910982644557953\n",
      "INFO:gal:Training Loss : 2.2910982644557953\n",
      "03/06 11:46:31 PM | Train Accuracy: 31.51% \n",
      "\n",
      "INFO:gal:Train Accuracy: 31.51% \n",
      "\n",
      " 42%|██████████████████████████████▍                                         | 423/1000 [30:29:02<67:25:57, 420.72s/it]"
     ]
    },
    {
     "name": "stdout",
     "output_type": "stream",
     "text": [
      "\n",
      " | Global Training Round : 424 |\n",
      "\n"
     ]
    },
    {
     "name": "stderr",
     "output_type": "stream",
     "text": [
      "03/06 11:53:32 PM |  \n",
      "Avg Training Stats after 424 global rounds:\n",
      "INFO:gal: \n",
      "Avg Training Stats after 424 global rounds:\n",
      "03/06 11:53:32 PM | Training Loss : 2.233531292438507\n",
      "INFO:gal:Training Loss : 2.233531292438507\n",
      "03/06 11:53:32 PM | Train Accuracy: 28.15% \n",
      "\n",
      "INFO:gal:Train Accuracy: 28.15% \n",
      "\n",
      " 42%|██████████████████████████████▌                                         | 424/1000 [30:36:02<67:19:12, 420.75s/it]"
     ]
    },
    {
     "name": "stdout",
     "output_type": "stream",
     "text": [
      "\n",
      " | Global Training Round : 425 |\n",
      "\n"
     ]
    },
    {
     "name": "stderr",
     "output_type": "stream",
     "text": [
      "03/07 12:00:41 AM |  \n",
      "Avg Training Stats after 425 global rounds:\n",
      "INFO:gal: \n",
      "Avg Training Stats after 425 global rounds:\n",
      "03/07 12:00:41 AM | Training Loss : 2.2435044500827788\n",
      "INFO:gal:Training Loss : 2.2435044500827788\n",
      "03/07 12:00:41 AM | Train Accuracy: 29.90% \n",
      "\n",
      "INFO:gal:Train Accuracy: 29.90% \n",
      "\n",
      " 42%|██████████████████████████████▌                                         | 425/1000 [30:43:11<67:33:56, 423.02s/it]"
     ]
    },
    {
     "name": "stdout",
     "output_type": "stream",
     "text": [
      "\n",
      " | Global Training Round : 426 |\n",
      "\n"
     ]
    },
    {
     "name": "stderr",
     "output_type": "stream",
     "text": [
      "03/07 12:07:44 AM |  \n",
      "Avg Training Stats after 426 global rounds:\n",
      "INFO:gal: \n",
      "Avg Training Stats after 426 global rounds:\n",
      "03/07 12:07:44 AM | Training Loss : 2.250623063802719\n",
      "INFO:gal:Training Loss : 2.250623063802719\n",
      "03/07 12:07:44 AM | Train Accuracy: 27.62% \n",
      "\n",
      "INFO:gal:Train Accuracy: 27.62% \n",
      "\n",
      " 43%|██████████████████████████████▋                                         | 426/1000 [30:50:14<67:29:04, 423.25s/it]"
     ]
    },
    {
     "name": "stdout",
     "output_type": "stream",
     "text": [
      "\n",
      " | Global Training Round : 427 |\n",
      "\n"
     ]
    },
    {
     "name": "stderr",
     "output_type": "stream",
     "text": [
      "03/07 12:14:53 AM |  \n",
      "Avg Training Stats after 427 global rounds:\n",
      "INFO:gal: \n",
      "Avg Training Stats after 427 global rounds:\n",
      "03/07 12:14:53 AM | Training Loss : 2.3266514375209812\n",
      "INFO:gal:Training Loss : 2.3266514375209812\n",
      "03/07 12:14:53 AM | Train Accuracy: 30.14% \n",
      "\n",
      "INFO:gal:Train Accuracy: 30.14% \n",
      "\n",
      " 43%|██████████████████████████████▋                                         | 427/1000 [30:57:23<67:36:38, 424.78s/it]"
     ]
    },
    {
     "name": "stdout",
     "output_type": "stream",
     "text": [
      "\n",
      " | Global Training Round : 428 |\n",
      "\n"
     ]
    },
    {
     "name": "stderr",
     "output_type": "stream",
     "text": [
      "03/07 12:22:23 AM |  \n",
      "Avg Training Stats after 428 global rounds:\n",
      "INFO:gal: \n",
      "Avg Training Stats after 428 global rounds:\n",
      "03/07 12:22:23 AM | Training Loss : 2.2768913307189944\n",
      "INFO:gal:Training Loss : 2.2768913307189944\n",
      "03/07 12:22:23 AM | Train Accuracy: 29.60% \n",
      "\n",
      "INFO:gal:Train Accuracy: 29.60% \n",
      "\n",
      " 43%|██████████████████████████████▊                                         | 428/1000 [31:04:53<68:42:05, 432.39s/it]"
     ]
    },
    {
     "name": "stdout",
     "output_type": "stream",
     "text": [
      "\n",
      " | Global Training Round : 429 |\n",
      "\n"
     ]
    },
    {
     "name": "stderr",
     "output_type": "stream",
     "text": [
      "03/07 12:29:29 AM |  \n",
      "Avg Training Stats after 429 global rounds:\n",
      "INFO:gal: \n",
      "Avg Training Stats after 429 global rounds:\n",
      "03/07 12:29:29 AM | Training Loss : 2.3030354452133173\n",
      "INFO:gal:Training Loss : 2.3030354452133173\n",
      "03/07 12:29:29 AM | Train Accuracy: 29.63% \n",
      "\n",
      "INFO:gal:Train Accuracy: 29.63% \n",
      "\n",
      " 43%|██████████████████████████████▉                                         | 429/1000 [31:11:59<68:17:59, 430.61s/it]"
     ]
    },
    {
     "name": "stdout",
     "output_type": "stream",
     "text": [
      "\n",
      " | Global Training Round : 430 |\n",
      "\n"
     ]
    },
    {
     "name": "stderr",
     "output_type": "stream",
     "text": [
      "03/07 12:36:36 AM |  \n",
      "Avg Training Stats after 430 global rounds:\n",
      "INFO:gal: \n",
      "Avg Training Stats after 430 global rounds:\n",
      "03/07 12:36:36 AM | Training Loss : 2.3257312369346623\n",
      "INFO:gal:Training Loss : 2.3257312369346623\n",
      "03/07 12:36:36 AM | Train Accuracy: 29.68% \n",
      "\n",
      "INFO:gal:Train Accuracy: 29.68% \n",
      "\n",
      " 43%|██████████████████████████████▉                                         | 430/1000 [31:19:06<67:58:48, 429.35s/it]"
     ]
    },
    {
     "name": "stdout",
     "output_type": "stream",
     "text": [
      "\n",
      " | Global Training Round : 431 |\n",
      "\n"
     ]
    },
    {
     "name": "stderr",
     "output_type": "stream",
     "text": [
      "03/07 12:43:44 AM |  \n",
      "Avg Training Stats after 431 global rounds:\n",
      "INFO:gal: \n",
      "Avg Training Stats after 431 global rounds:\n",
      "03/07 12:43:44 AM | Training Loss : 2.287141694545746\n",
      "INFO:gal:Training Loss : 2.287141694545746\n",
      "03/07 12:43:44 AM | Train Accuracy: 31.48% \n",
      "\n",
      "INFO:gal:Train Accuracy: 31.48% \n",
      "\n",
      " 43%|███████████████████████████████                                         | 431/1000 [31:26:14<67:48:53, 429.06s/it]"
     ]
    },
    {
     "name": "stdout",
     "output_type": "stream",
     "text": [
      "\n",
      " | Global Training Round : 432 |\n",
      "\n"
     ]
    },
    {
     "name": "stderr",
     "output_type": "stream",
     "text": [
      "03/07 12:50:51 AM |  \n",
      "Avg Training Stats after 432 global rounds:\n",
      "INFO:gal: \n",
      "Avg Training Stats after 432 global rounds:\n",
      "03/07 12:50:51 AM | Training Loss : 2.3656518578529364\n",
      "INFO:gal:Training Loss : 2.3656518578529364\n",
      "03/07 12:50:51 AM | Train Accuracy: 29.62% \n",
      "\n",
      "INFO:gal:Train Accuracy: 29.62% \n",
      "\n",
      " 43%|███████████████████████████████                                         | 432/1000 [31:33:21<67:34:59, 428.34s/it]"
     ]
    },
    {
     "name": "stdout",
     "output_type": "stream",
     "text": [
      "\n",
      " | Global Training Round : 433 |\n",
      "\n"
     ]
    },
    {
     "name": "stderr",
     "output_type": "stream",
     "text": [
      "03/07 12:58:01 AM |  \n",
      "Avg Training Stats after 433 global rounds:\n",
      "INFO:gal: \n",
      "Avg Training Stats after 433 global rounds:\n",
      "03/07 12:58:01 AM | Training Loss : 2.261682864665985\n",
      "INFO:gal:Training Loss : 2.261682864665985\n",
      "03/07 12:58:01 AM | Train Accuracy: 30.29% \n",
      "\n",
      "INFO:gal:Train Accuracy: 30.29% \n",
      "\n",
      " 43%|███████████████████████████████▏                                        | 433/1000 [31:40:31<67:32:01, 428.78s/it]"
     ]
    },
    {
     "name": "stdout",
     "output_type": "stream",
     "text": [
      "\n",
      " | Global Training Round : 434 |\n",
      "\n"
     ]
    },
    {
     "name": "stderr",
     "output_type": "stream",
     "text": [
      "03/07 01:05:14 AM |  \n",
      "Avg Training Stats after 434 global rounds:\n",
      "INFO:gal: \n",
      "Avg Training Stats after 434 global rounds:\n",
      "03/07 01:05:14 AM | Training Loss : 2.2076796548366544\n",
      "INFO:gal:Training Loss : 2.2076796548366544\n",
      "03/07 01:05:14 AM | Train Accuracy: 32.17% \n",
      "\n",
      "INFO:gal:Train Accuracy: 32.17% \n",
      "\n",
      " 43%|███████████████████████████████▏                                        | 434/1000 [31:47:45<67:39:15, 430.31s/it]"
     ]
    },
    {
     "name": "stdout",
     "output_type": "stream",
     "text": [
      "\n",
      " | Global Training Round : 435 |\n",
      "\n"
     ]
    },
    {
     "name": "stderr",
     "output_type": "stream",
     "text": [
      "03/07 01:12:44 AM |  \n",
      "Avg Training Stats after 435 global rounds:\n",
      "INFO:gal: \n",
      "Avg Training Stats after 435 global rounds:\n",
      "03/07 01:12:44 AM | Training Loss : 2.2070269913673406\n",
      "INFO:gal:Training Loss : 2.2070269913673406\n",
      "03/07 01:12:44 AM | Train Accuracy: 32.40% \n",
      "\n",
      "INFO:gal:Train Accuracy: 32.40% \n",
      "\n",
      " 44%|███████████████████████████████▎                                        | 435/1000 [31:55:14<68:27:00, 436.14s/it]"
     ]
    },
    {
     "name": "stdout",
     "output_type": "stream",
     "text": [
      "\n",
      " | Global Training Round : 436 |\n",
      "\n"
     ]
    },
    {
     "name": "stderr",
     "output_type": "stream",
     "text": [
      "03/07 01:20:02 AM |  \n",
      "Avg Training Stats after 436 global rounds:\n",
      "INFO:gal: \n",
      "Avg Training Stats after 436 global rounds:\n",
      "03/07 01:20:02 AM | Training Loss : 2.2438000822067266\n",
      "INFO:gal:Training Loss : 2.2438000822067266\n",
      "03/07 01:20:02 AM | Train Accuracy: 31.66% \n",
      "\n",
      "INFO:gal:Train Accuracy: 31.66% \n",
      "\n",
      " 44%|███████████████████████████████▍                                        | 436/1000 [32:02:32<68:23:08, 436.50s/it]"
     ]
    },
    {
     "name": "stdout",
     "output_type": "stream",
     "text": [
      "\n",
      " | Global Training Round : 437 |\n",
      "\n"
     ]
    },
    {
     "name": "stderr",
     "output_type": "stream",
     "text": [
      "03/07 01:27:19 AM |  \n",
      "Avg Training Stats after 437 global rounds:\n",
      "INFO:gal: \n",
      "Avg Training Stats after 437 global rounds:\n",
      "03/07 01:27:19 AM | Training Loss : 2.2801700997352596\n",
      "INFO:gal:Training Loss : 2.2801700997352596\n",
      "03/07 01:27:19 AM | Train Accuracy: 30.02% \n",
      "\n",
      "INFO:gal:Train Accuracy: 30.02% \n",
      "\n",
      " 44%|███████████████████████████████▍                                        | 437/1000 [32:09:49<68:17:45, 436.71s/it]"
     ]
    },
    {
     "name": "stdout",
     "output_type": "stream",
     "text": [
      "\n",
      " | Global Training Round : 438 |\n",
      "\n"
     ]
    },
    {
     "name": "stderr",
     "output_type": "stream",
     "text": [
      "03/07 01:34:31 AM |  \n",
      "Avg Training Stats after 438 global rounds:\n",
      "INFO:gal: \n",
      "Avg Training Stats after 438 global rounds:\n",
      "03/07 01:34:31 AM | Training Loss : 2.2456502511501326\n",
      "INFO:gal:Training Loss : 2.2456502511501326\n",
      "03/07 01:34:31 AM | Train Accuracy: 29.14% \n",
      "\n",
      "INFO:gal:Train Accuracy: 29.14% \n",
      "\n",
      " 44%|███████████████████████████████▌                                        | 438/1000 [32:17:01<67:57:27, 435.31s/it]"
     ]
    },
    {
     "name": "stdout",
     "output_type": "stream",
     "text": [
      "\n",
      " | Global Training Round : 439 |\n",
      "\n"
     ]
    },
    {
     "name": "stderr",
     "output_type": "stream",
     "text": [
      "03/07 01:41:48 AM |  \n",
      "Avg Training Stats after 439 global rounds:\n",
      "INFO:gal: \n",
      "Avg Training Stats after 439 global rounds:\n",
      "03/07 01:41:49 AM | Training Loss : 2.279022359848023\n",
      "INFO:gal:Training Loss : 2.279022359848023\n",
      "03/07 01:41:49 AM | Train Accuracy: 29.96% \n",
      "\n",
      "INFO:gal:Train Accuracy: 29.96% \n",
      "\n",
      " 44%|███████████████████████████████▌                                        | 439/1000 [32:24:19<67:56:47, 436.02s/it]"
     ]
    },
    {
     "name": "stdout",
     "output_type": "stream",
     "text": [
      "\n",
      " | Global Training Round : 440 |\n",
      "\n"
     ]
    },
    {
     "name": "stderr",
     "output_type": "stream",
     "text": [
      "03/07 01:49:11 AM |  \n",
      "Avg Training Stats after 440 global rounds:\n",
      "INFO:gal: \n",
      "Avg Training Stats after 440 global rounds:\n",
      "03/07 01:49:11 AM | Training Loss : 2.326626516819\n",
      "INFO:gal:Training Loss : 2.326626516819\n",
      "03/07 01:49:11 AM | Train Accuracy: 29.71% \n",
      "\n",
      "INFO:gal:Train Accuracy: 29.71% \n",
      "\n",
      " 44%|███████████████████████████████▋                                        | 440/1000 [32:31:41<68:06:30, 437.84s/it]"
     ]
    },
    {
     "name": "stdout",
     "output_type": "stream",
     "text": [
      "\n",
      " | Global Training Round : 441 |\n",
      "\n"
     ]
    },
    {
     "name": "stderr",
     "output_type": "stream",
     "text": [
      "03/07 01:56:36 AM |  \n",
      "Avg Training Stats after 441 global rounds:\n",
      "INFO:gal: \n",
      "Avg Training Stats after 441 global rounds:\n",
      "03/07 01:56:36 AM | Training Loss : 2.2465100090503687\n",
      "INFO:gal:Training Loss : 2.2465100090503687\n",
      "03/07 01:56:36 AM | Train Accuracy: 30.87% \n",
      "\n",
      "INFO:gal:Train Accuracy: 30.87% \n",
      "\n",
      " 44%|███████████████████████████████▊                                        | 441/1000 [32:39:06<68:19:26, 440.01s/it]"
     ]
    },
    {
     "name": "stdout",
     "output_type": "stream",
     "text": [
      "\n",
      " | Global Training Round : 442 |\n",
      "\n"
     ]
    },
    {
     "name": "stderr",
     "output_type": "stream",
     "text": [
      "03/07 02:04:00 AM |  \n",
      "Avg Training Stats after 442 global rounds:\n",
      "INFO:gal: \n",
      "Avg Training Stats after 442 global rounds:\n",
      "03/07 02:04:00 AM | Training Loss : 2.153073691129685\n",
      "INFO:gal:Training Loss : 2.153073691129685\n",
      "03/07 02:04:00 AM | Train Accuracy: 30.36% \n",
      "\n",
      "INFO:gal:Train Accuracy: 30.36% \n",
      "\n",
      " 44%|███████████████████████████████▊                                        | 442/1000 [32:46:30<68:24:30, 441.34s/it]"
     ]
    },
    {
     "name": "stdout",
     "output_type": "stream",
     "text": [
      "\n",
      " | Global Training Round : 443 |\n",
      "\n"
     ]
    },
    {
     "name": "stderr",
     "output_type": "stream",
     "text": [
      "03/07 02:11:30 AM |  \n",
      "Avg Training Stats after 443 global rounds:\n",
      "INFO:gal: \n",
      "Avg Training Stats after 443 global rounds:\n",
      "03/07 02:11:30 AM | Training Loss : 2.2640292503833774\n",
      "INFO:gal:Training Loss : 2.2640292503833774\n",
      "03/07 02:11:30 AM | Train Accuracy: 31.20% \n",
      "\n",
      "INFO:gal:Train Accuracy: 31.20% \n",
      "\n",
      " 44%|███████████████████████████████▉                                        | 443/1000 [32:54:00<68:42:06, 444.03s/it]"
     ]
    },
    {
     "name": "stdout",
     "output_type": "stream",
     "text": [
      "\n",
      " | Global Training Round : 444 |\n",
      "\n"
     ]
    },
    {
     "name": "stderr",
     "output_type": "stream",
     "text": [
      "03/07 02:19:04 AM |  \n",
      "Avg Training Stats after 444 global rounds:\n",
      "INFO:gal: \n",
      "Avg Training Stats after 444 global rounds:\n",
      "03/07 02:19:04 AM | Training Loss : 2.20091406416893\n",
      "INFO:gal:Training Loss : 2.20091406416893\n",
      "03/07 02:19:04 AM | Train Accuracy: 31.88% \n",
      "\n",
      "INFO:gal:Train Accuracy: 31.88% \n",
      "\n",
      " 44%|███████████████████████████████▉                                        | 444/1000 [33:01:34<69:01:07, 446.88s/it]"
     ]
    },
    {
     "name": "stdout",
     "output_type": "stream",
     "text": [
      "\n",
      " | Global Training Round : 445 |\n",
      "\n"
     ]
    },
    {
     "name": "stderr",
     "output_type": "stream",
     "text": [
      "03/07 02:26:28 AM |  \n",
      "Avg Training Stats after 445 global rounds:\n",
      "INFO:gal: \n",
      "Avg Training Stats after 445 global rounds:\n",
      "03/07 02:26:28 AM | Training Loss : 2.2405520248413087\n",
      "INFO:gal:Training Loss : 2.2405520248413087\n",
      "03/07 02:26:28 AM | Train Accuracy: 28.14% \n",
      "\n",
      "INFO:gal:Train Accuracy: 28.14% \n",
      "\n",
      " 44%|████████████████████████████████                                        | 445/1000 [33:08:58<68:45:06, 445.96s/it]"
     ]
    },
    {
     "name": "stdout",
     "output_type": "stream",
     "text": [
      "\n",
      " | Global Training Round : 446 |\n",
      "\n"
     ]
    },
    {
     "name": "stderr",
     "output_type": "stream",
     "text": [
      "03/07 02:34:01 AM |  \n",
      "Avg Training Stats after 446 global rounds:\n",
      "INFO:gal: \n",
      "Avg Training Stats after 446 global rounds:\n",
      "03/07 02:34:01 AM | Training Loss : 2.2116423552036286\n",
      "INFO:gal:Training Loss : 2.2116423552036286\n",
      "03/07 02:34:01 AM | Train Accuracy: 28.08% \n",
      "\n",
      "INFO:gal:Train Accuracy: 28.08% \n",
      "\n",
      " 45%|████████████████████████████████                                        | 446/1000 [33:16:31<68:56:44, 448.02s/it]"
     ]
    },
    {
     "name": "stdout",
     "output_type": "stream",
     "text": [
      "\n",
      " | Global Training Round : 447 |\n",
      "\n"
     ]
    },
    {
     "name": "stderr",
     "output_type": "stream",
     "text": [
      "03/07 02:41:29 AM |  \n",
      "Avg Training Stats after 447 global rounds:\n",
      "INFO:gal: \n",
      "Avg Training Stats after 447 global rounds:\n",
      "03/07 02:41:29 AM | Training Loss : 2.323783987760544\n",
      "INFO:gal:Training Loss : 2.323783987760544\n",
      "03/07 02:41:30 AM | Train Accuracy: 31.46% \n",
      "\n",
      "INFO:gal:Train Accuracy: 31.46% \n",
      "\n",
      " 45%|████████████████████████████████▏                                       | 447/1000 [33:23:59<68:51:35, 448.27s/it]"
     ]
    },
    {
     "name": "stdout",
     "output_type": "stream",
     "text": [
      "\n",
      " | Global Training Round : 448 |\n",
      "\n"
     ]
    },
    {
     "name": "stderr",
     "output_type": "stream",
     "text": [
      "03/07 02:48:59 AM |  \n",
      "Avg Training Stats after 448 global rounds:\n",
      "INFO:gal: \n",
      "Avg Training Stats after 448 global rounds:\n",
      "03/07 02:48:59 AM | Training Loss : 2.207326593875885\n",
      "INFO:gal:Training Loss : 2.207326593875885\n",
      "03/07 02:48:59 AM | Train Accuracy: 30.86% \n",
      "\n",
      "INFO:gal:Train Accuracy: 30.86% \n",
      "\n",
      " 45%|████████████████████████████████▎                                       | 448/1000 [33:31:29<68:46:52, 448.57s/it]"
     ]
    },
    {
     "name": "stdout",
     "output_type": "stream",
     "text": [
      "\n",
      " | Global Training Round : 449 |\n",
      "\n"
     ]
    },
    {
     "name": "stderr",
     "output_type": "stream",
     "text": [
      "03/07 02:56:32 AM |  \n",
      "Avg Training Stats after 449 global rounds:\n",
      "INFO:gal: \n",
      "Avg Training Stats after 449 global rounds:\n",
      "03/07 02:56:32 AM | Training Loss : 2.195652583837509\n",
      "INFO:gal:Training Loss : 2.195652583837509\n",
      "03/07 02:56:32 AM | Train Accuracy: 29.85% \n",
      "\n",
      "INFO:gal:Train Accuracy: 29.85% \n",
      "\n",
      " 45%|████████████████████████████████▎                                       | 449/1000 [33:39:02<68:52:28, 450.00s/it]"
     ]
    },
    {
     "name": "stdout",
     "output_type": "stream",
     "text": [
      "\n",
      " | Global Training Round : 450 |\n",
      "\n"
     ]
    },
    {
     "name": "stderr",
     "output_type": "stream",
     "text": [
      "03/07 03:04:03 AM |  \n",
      "Avg Training Stats after 450 global rounds:\n",
      "INFO:gal: \n",
      "Avg Training Stats after 450 global rounds:\n",
      "03/07 03:04:03 AM | Training Loss : 2.157898383617401\n",
      "INFO:gal:Training Loss : 2.157898383617401\n",
      "03/07 03:04:03 AM | Train Accuracy: 30.72% \n",
      "\n",
      "INFO:gal:Train Accuracy: 30.72% \n",
      "\n",
      " 45%|████████████████████████████████▍                                       | 450/1000 [33:46:33<68:48:01, 450.33s/it]"
     ]
    },
    {
     "name": "stdout",
     "output_type": "stream",
     "text": [
      "\n",
      " | Global Training Round : 451 |\n",
      "\n"
     ]
    },
    {
     "name": "stderr",
     "output_type": "stream",
     "text": [
      "03/07 03:11:48 AM |  \n",
      "Avg Training Stats after 451 global rounds:\n",
      "INFO:gal: \n",
      "Avg Training Stats after 451 global rounds:\n",
      "03/07 03:11:49 AM | Training Loss : 2.2750603263378144\n",
      "INFO:gal:Training Loss : 2.2750603263378144\n",
      "03/07 03:11:49 AM | Train Accuracy: 28.36% \n",
      "\n",
      "INFO:gal:Train Accuracy: 28.36% \n",
      "\n",
      " 45%|████████████████████████████████▍                                       | 451/1000 [33:54:19<69:21:58, 454.86s/it]"
     ]
    },
    {
     "name": "stdout",
     "output_type": "stream",
     "text": [
      "\n",
      " | Global Training Round : 452 |\n",
      "\n"
     ]
    },
    {
     "name": "stderr",
     "output_type": "stream",
     "text": [
      "03/07 03:19:34 AM |  \n",
      "Avg Training Stats after 452 global rounds:\n",
      "INFO:gal: \n",
      "Avg Training Stats after 452 global rounds:\n",
      "03/07 03:19:34 AM | Training Loss : 2.388903813362121\n",
      "INFO:gal:Training Loss : 2.388903813362121\n",
      "03/07 03:19:34 AM | Train Accuracy: 29.11% \n",
      "\n",
      "INFO:gal:Train Accuracy: 29.11% \n",
      "\n",
      " 45%|████████████████████████████████▌                                       | 452/1000 [34:02:04<69:41:54, 457.87s/it]"
     ]
    },
    {
     "name": "stdout",
     "output_type": "stream",
     "text": [
      "\n",
      " | Global Training Round : 453 |\n",
      "\n"
     ]
    },
    {
     "name": "stderr",
     "output_type": "stream",
     "text": [
      "03/07 03:27:11 AM |  \n",
      "Avg Training Stats after 453 global rounds:\n",
      "INFO:gal: \n",
      "Avg Training Stats after 453 global rounds:\n",
      "03/07 03:27:11 AM | Training Loss : 2.3021274061203\n",
      "INFO:gal:Training Loss : 2.3021274061203\n",
      "03/07 03:27:11 AM | Train Accuracy: 31.34% \n",
      "\n",
      "INFO:gal:Train Accuracy: 31.34% \n",
      "\n",
      " 45%|████████████████████████████████▌                                       | 453/1000 [34:09:41<69:33:30, 457.79s/it]"
     ]
    },
    {
     "name": "stdout",
     "output_type": "stream",
     "text": [
      "\n",
      " | Global Training Round : 454 |\n",
      "\n"
     ]
    },
    {
     "name": "stderr",
     "output_type": "stream",
     "text": [
      "03/07 03:34:50 AM |  \n",
      "Avg Training Stats after 454 global rounds:\n",
      "INFO:gal: \n",
      "Avg Training Stats after 454 global rounds:\n",
      "03/07 03:34:50 AM | Training Loss : 2.3195514552593233\n",
      "INFO:gal:Training Loss : 2.3195514552593233\n",
      "03/07 03:34:50 AM | Train Accuracy: 29.70% \n",
      "\n",
      "INFO:gal:Train Accuracy: 29.70% \n",
      "\n",
      " 45%|████████████████████████████████▋                                       | 454/1000 [34:17:20<69:29:01, 458.13s/it]"
     ]
    },
    {
     "name": "stdout",
     "output_type": "stream",
     "text": [
      "\n",
      " | Global Training Round : 455 |\n",
      "\n"
     ]
    },
    {
     "name": "stderr",
     "output_type": "stream",
     "text": [
      "03/07 03:42:40 AM |  \n",
      "Avg Training Stats after 455 global rounds:\n",
      "INFO:gal: \n",
      "Avg Training Stats after 455 global rounds:\n",
      "03/07 03:42:40 AM | Training Loss : 2.2034462592601782\n",
      "INFO:gal:Training Loss : 2.2034462592601782\n",
      "03/07 03:42:40 AM | Train Accuracy: 30.08% \n",
      "\n",
      "INFO:gal:Train Accuracy: 30.08% \n",
      "\n",
      " 46%|████████████████████████████████▊                                       | 455/1000 [34:25:10<69:53:37, 461.68s/it]"
     ]
    },
    {
     "name": "stdout",
     "output_type": "stream",
     "text": [
      "\n",
      " | Global Training Round : 456 |\n",
      "\n"
     ]
    },
    {
     "name": "stderr",
     "output_type": "stream",
     "text": [
      "03/07 03:50:22 AM |  \n",
      "Avg Training Stats after 456 global rounds:\n",
      "INFO:gal: \n",
      "Avg Training Stats after 456 global rounds:\n",
      "03/07 03:50:22 AM | Training Loss : 2.275586854457856\n",
      "INFO:gal:Training Loss : 2.275586854457856\n",
      "03/07 03:50:23 AM | Train Accuracy: 31.43% \n",
      "\n",
      "INFO:gal:Train Accuracy: 31.43% \n",
      "\n",
      " 46%|████████████████████████████████▊                                       | 456/1000 [34:32:53<69:48:11, 461.93s/it]"
     ]
    },
    {
     "name": "stdout",
     "output_type": "stream",
     "text": [
      "\n",
      " | Global Training Round : 457 |\n",
      "\n"
     ]
    },
    {
     "name": "stderr",
     "output_type": "stream",
     "text": [
      "03/07 03:58:16 AM |  \n",
      "Avg Training Stats after 457 global rounds:\n",
      "INFO:gal: \n",
      "Avg Training Stats after 457 global rounds:\n",
      "03/07 03:58:16 AM | Training Loss : 2.25370861029625\n",
      "INFO:gal:Training Loss : 2.25370861029625\n",
      "03/07 03:58:17 AM | Train Accuracy: 30.72% \n",
      "\n",
      "INFO:gal:Train Accuracy: 30.72% \n",
      "\n",
      " 46%|████████████████████████████████▉                                       | 457/1000 [34:40:47<70:13:18, 465.56s/it]"
     ]
    },
    {
     "name": "stdout",
     "output_type": "stream",
     "text": [
      "\n",
      " | Global Training Round : 458 |\n",
      "\n"
     ]
    },
    {
     "name": "stderr",
     "output_type": "stream",
     "text": [
      "03/07 04:05:51 AM |  \n",
      "Avg Training Stats after 458 global rounds:\n",
      "INFO:gal: \n",
      "Avg Training Stats after 458 global rounds:\n",
      "03/07 04:05:51 AM | Training Loss : 2.0908707764148713\n",
      "INFO:gal:Training Loss : 2.0908707764148713\n",
      "03/07 04:05:52 AM | Train Accuracy: 30.57% \n",
      "\n",
      "INFO:gal:Train Accuracy: 30.57% \n",
      "\n",
      " 46%|████████████████████████████████▉                                       | 458/1000 [34:48:21<69:36:42, 462.37s/it]"
     ]
    },
    {
     "name": "stdout",
     "output_type": "stream",
     "text": [
      "\n",
      " | Global Training Round : 459 |\n",
      "\n"
     ]
    },
    {
     "name": "stderr",
     "output_type": "stream",
     "text": [
      "03/07 04:13:32 AM |  \n",
      "Avg Training Stats after 459 global rounds:\n",
      "INFO:gal: \n",
      "Avg Training Stats after 459 global rounds:\n",
      "03/07 04:13:32 AM | Training Loss : 2.229083039045334\n",
      "INFO:gal:Training Loss : 2.229083039045334\n",
      "03/07 04:13:32 AM | Train Accuracy: 30.84% \n",
      "\n",
      "INFO:gal:Train Accuracy: 30.84% \n",
      "\n",
      " 46%|█████████████████████████████████                                       | 459/1000 [34:56:02<69:24:13, 461.84s/it]"
     ]
    },
    {
     "name": "stdout",
     "output_type": "stream",
     "text": [
      "\n",
      " | Global Training Round : 460 |\n",
      "\n"
     ]
    },
    {
     "name": "stderr",
     "output_type": "stream",
     "text": [
      "03/07 04:21:17 AM |  \n",
      "Avg Training Stats after 460 global rounds:\n",
      "INFO:gal: \n",
      "Avg Training Stats after 460 global rounds:\n",
      "03/07 04:21:17 AM | Training Loss : 2.2046079216003416\n",
      "INFO:gal:Training Loss : 2.2046079216003416\n",
      "03/07 04:21:17 AM | Train Accuracy: 30.15% \n",
      "\n",
      "INFO:gal:Train Accuracy: 30.15% \n",
      "\n",
      " 46%|█████████████████████████████████                                       | 460/1000 [35:03:47<69:25:10, 462.80s/it]"
     ]
    },
    {
     "name": "stdout",
     "output_type": "stream",
     "text": [
      "\n",
      " | Global Training Round : 461 |\n",
      "\n"
     ]
    },
    {
     "name": "stderr",
     "output_type": "stream",
     "text": [
      "03/07 04:29:02 AM |  \n",
      "Avg Training Stats after 461 global rounds:\n",
      "INFO:gal: \n",
      "Avg Training Stats after 461 global rounds:\n",
      "03/07 04:29:02 AM | Training Loss : 2.2352998001575477\n",
      "INFO:gal:Training Loss : 2.2352998001575477\n",
      "03/07 04:29:02 AM | Train Accuracy: 30.76% \n",
      "\n",
      "INFO:gal:Train Accuracy: 30.76% \n",
      "\n",
      " 46%|█████████████████████████████████▏                                      | 461/1000 [35:11:32<69:22:56, 463.41s/it]"
     ]
    },
    {
     "name": "stdout",
     "output_type": "stream",
     "text": [
      "\n",
      " | Global Training Round : 462 |\n",
      "\n"
     ]
    },
    {
     "name": "stderr",
     "output_type": "stream",
     "text": [
      "03/07 04:36:45 AM |  \n",
      "Avg Training Stats after 462 global rounds:\n",
      "INFO:gal: \n",
      "Avg Training Stats after 462 global rounds:\n",
      "03/07 04:36:45 AM | Training Loss : 2.22351248049736\n",
      "INFO:gal:Training Loss : 2.22351248049736\n",
      "03/07 04:36:45 AM | Train Accuracy: 30.92% \n",
      "\n",
      "INFO:gal:Train Accuracy: 30.92% \n",
      "\n",
      " 46%|█████████████████████████████████▎                                      | 462/1000 [35:19:15<69:15:27, 463.43s/it]"
     ]
    },
    {
     "name": "stdout",
     "output_type": "stream",
     "text": [
      "\n",
      " | Global Training Round : 463 |\n",
      "\n"
     ]
    },
    {
     "name": "stderr",
     "output_type": "stream",
     "text": [
      "03/07 04:44:33 AM |  \n",
      "Avg Training Stats after 463 global rounds:\n",
      "INFO:gal: \n",
      "Avg Training Stats after 463 global rounds:\n",
      "03/07 04:44:33 AM | Training Loss : 2.1483803968429562\n",
      "INFO:gal:Training Loss : 2.1483803968429562\n",
      "03/07 04:44:33 AM | Train Accuracy: 28.82% \n",
      "\n",
      "INFO:gal:Train Accuracy: 28.82% \n",
      "\n",
      " 46%|█████████████████████████████████▎                                      | 463/1000 [35:27:03<69:18:42, 464.66s/it]"
     ]
    },
    {
     "name": "stdout",
     "output_type": "stream",
     "text": [
      "\n",
      " | Global Training Round : 464 |\n",
      "\n"
     ]
    },
    {
     "name": "stderr",
     "output_type": "stream",
     "text": [
      "03/07 04:52:14 AM |  \n",
      "Avg Training Stats after 464 global rounds:\n",
      "INFO:gal: \n",
      "Avg Training Stats after 464 global rounds:\n",
      "03/07 04:52:14 AM | Training Loss : 2.1858594424724576\n",
      "INFO:gal:Training Loss : 2.1858594424724576\n",
      "03/07 04:52:14 AM | Train Accuracy: 33.29% \n",
      "\n",
      "INFO:gal:Train Accuracy: 33.29% \n",
      "\n",
      " 46%|█████████████████████████████████▍                                      | 464/1000 [35:34:44<69:00:10, 463.45s/it]"
     ]
    },
    {
     "name": "stdout",
     "output_type": "stream",
     "text": [
      "\n",
      " | Global Training Round : 465 |\n",
      "\n"
     ]
    },
    {
     "name": "stderr",
     "output_type": "stream",
     "text": [
      "03/07 05:00:02 AM |  \n",
      "Avg Training Stats after 465 global rounds:\n",
      "INFO:gal: \n",
      "Avg Training Stats after 465 global rounds:\n",
      "03/07 05:00:02 AM | Training Loss : 2.24887157702446\n",
      "INFO:gal:Training Loss : 2.24887157702446\n",
      "03/07 05:00:02 AM | Train Accuracy: 30.27% \n",
      "\n",
      "INFO:gal:Train Accuracy: 30.27% \n",
      "\n",
      " 46%|█████████████████████████████████▍                                      | 465/1000 [35:42:32<69:05:29, 464.91s/it]"
     ]
    },
    {
     "name": "stdout",
     "output_type": "stream",
     "text": [
      "\n",
      " | Global Training Round : 466 |\n",
      "\n"
     ]
    },
    {
     "name": "stderr",
     "output_type": "stream",
     "text": [
      "03/07 05:07:50 AM |  \n",
      "Avg Training Stats after 466 global rounds:\n",
      "INFO:gal: \n",
      "Avg Training Stats after 466 global rounds:\n",
      "03/07 05:07:50 AM | Training Loss : 2.217440561532975\n",
      "INFO:gal:Training Loss : 2.217440561532975\n",
      "03/07 05:07:50 AM | Train Accuracy: 31.91% \n",
      "\n",
      "INFO:gal:Train Accuracy: 31.91% \n",
      "\n",
      " 47%|█████████████████████████████████▌                                      | 466/1000 [35:50:20<69:05:30, 465.79s/it]"
     ]
    },
    {
     "name": "stdout",
     "output_type": "stream",
     "text": [
      "\n",
      " | Global Training Round : 467 |\n",
      "\n"
     ]
    },
    {
     "name": "stderr",
     "output_type": "stream",
     "text": [
      "03/07 05:15:41 AM |  \n",
      "Avg Training Stats after 467 global rounds:\n",
      "INFO:gal: \n",
      "Avg Training Stats after 467 global rounds:\n",
      "03/07 05:15:41 AM | Training Loss : 2.268868965387344\n",
      "INFO:gal:Training Loss : 2.268868965387344\n",
      "03/07 05:15:41 AM | Train Accuracy: 31.00% \n",
      "\n",
      "INFO:gal:Train Accuracy: 31.00% \n",
      "\n",
      " 47%|█████████████████████████████████▌                                      | 467/1000 [35:58:11<69:12:39, 467.47s/it]"
     ]
    },
    {
     "name": "stdout",
     "output_type": "stream",
     "text": [
      "\n",
      " | Global Training Round : 468 |\n",
      "\n"
     ]
    },
    {
     "name": "stderr",
     "output_type": "stream",
     "text": [
      "03/07 05:23:39 AM |  \n",
      "Avg Training Stats after 468 global rounds:\n",
      "INFO:gal: \n",
      "Avg Training Stats after 468 global rounds:\n",
      "03/07 05:23:40 AM | Training Loss : 2.1972025122642513\n",
      "INFO:gal:Training Loss : 2.1972025122642513\n",
      "03/07 05:23:40 AM | Train Accuracy: 31.22% \n",
      "\n",
      "INFO:gal:Train Accuracy: 31.22% \n",
      "\n",
      " 47%|█████████████████████████████████▋                                      | 468/1000 [36:06:10<69:34:19, 470.79s/it]"
     ]
    },
    {
     "name": "stdout",
     "output_type": "stream",
     "text": [
      "\n",
      " | Global Training Round : 469 |\n",
      "\n"
     ]
    },
    {
     "name": "stderr",
     "output_type": "stream",
     "text": [
      "03/07 05:31:38 AM |  \n",
      "Avg Training Stats after 469 global rounds:\n",
      "INFO:gal: \n",
      "Avg Training Stats after 469 global rounds:\n",
      "03/07 05:31:38 AM | Training Loss : 2.304410508155823\n",
      "INFO:gal:Training Loss : 2.304410508155823\n",
      "03/07 05:31:38 AM | Train Accuracy: 31.99% \n",
      "\n",
      "INFO:gal:Train Accuracy: 31.99% \n",
      "\n",
      " 47%|█████████████████████████████████▊                                      | 469/1000 [36:14:08<69:46:30, 473.05s/it]"
     ]
    },
    {
     "name": "stdout",
     "output_type": "stream",
     "text": [
      "\n",
      " | Global Training Round : 470 |\n",
      "\n"
     ]
    },
    {
     "name": "stderr",
     "output_type": "stream",
     "text": [
      "03/07 05:39:31 AM |  \n",
      "Avg Training Stats after 470 global rounds:\n",
      "INFO:gal: \n",
      "Avg Training Stats after 470 global rounds:\n",
      "03/07 05:39:31 AM | Training Loss : 2.2101495933532727\n",
      "INFO:gal:Training Loss : 2.2101495933532727\n",
      "03/07 05:39:31 AM | Train Accuracy: 33.21% \n",
      "\n",
      "INFO:gal:Train Accuracy: 33.21% \n",
      "\n",
      " 47%|█████████████████████████████████▊                                      | 470/1000 [36:22:01<69:39:25, 473.14s/it]"
     ]
    },
    {
     "name": "stdout",
     "output_type": "stream",
     "text": [
      "\n",
      " | Global Training Round : 471 |\n",
      "\n"
     ]
    },
    {
     "name": "stderr",
     "output_type": "stream",
     "text": [
      "03/07 05:47:22 AM |  \n",
      "Avg Training Stats after 471 global rounds:\n",
      "INFO:gal: \n",
      "Avg Training Stats after 471 global rounds:\n",
      "03/07 05:47:22 AM | Training Loss : 2.199052801609039\n",
      "INFO:gal:Training Loss : 2.199052801609039\n",
      "03/07 05:47:22 AM | Train Accuracy: 31.63% \n",
      "\n",
      "INFO:gal:Train Accuracy: 31.63% \n",
      "\n",
      " 47%|█████████████████████████████████▉                                      | 471/1000 [36:29:52<69:24:01, 472.29s/it]"
     ]
    },
    {
     "name": "stdout",
     "output_type": "stream",
     "text": [
      "\n",
      " | Global Training Round : 472 |\n",
      "\n"
     ]
    },
    {
     "name": "stderr",
     "output_type": "stream",
     "text": [
      "03/07 05:55:24 AM |  \n",
      "Avg Training Stats after 472 global rounds:\n",
      "INFO:gal: \n",
      "Avg Training Stats after 472 global rounds:\n",
      "03/07 05:55:24 AM | Training Loss : 2.178646965265274\n",
      "INFO:gal:Training Loss : 2.178646965265274\n",
      "03/07 05:55:24 AM | Train Accuracy: 32.30% \n",
      "\n",
      "INFO:gal:Train Accuracy: 32.30% \n",
      "\n",
      " 47%|█████████████████████████████████▉                                      | 472/1000 [36:37:54<69:42:24, 475.27s/it]"
     ]
    },
    {
     "name": "stdout",
     "output_type": "stream",
     "text": [
      "\n",
      " | Global Training Round : 473 |\n",
      "\n"
     ]
    },
    {
     "name": "stderr",
     "output_type": "stream",
     "text": [
      "03/07 06:03:14 AM |  \n",
      "Avg Training Stats after 473 global rounds:\n",
      "INFO:gal: \n",
      "Avg Training Stats after 473 global rounds:\n",
      "03/07 06:03:14 AM | Training Loss : 2.223550919532775\n",
      "INFO:gal:Training Loss : 2.223550919532775\n",
      "03/07 06:03:14 AM | Train Accuracy: 32.32% \n",
      "\n",
      "INFO:gal:Train Accuracy: 32.32% \n",
      "\n",
      " 47%|██████████████████████████████████                                      | 473/1000 [36:45:44<69:20:50, 473.72s/it]"
     ]
    },
    {
     "name": "stdout",
     "output_type": "stream",
     "text": [
      "\n",
      " | Global Training Round : 474 |\n",
      "\n"
     ]
    },
    {
     "name": "stderr",
     "output_type": "stream",
     "text": [
      "03/07 06:11:13 AM |  \n",
      "Avg Training Stats after 474 global rounds:\n",
      "INFO:gal: \n",
      "Avg Training Stats after 474 global rounds:\n",
      "03/07 06:11:13 AM | Training Loss : 2.204396893024445\n",
      "INFO:gal:Training Loss : 2.204396893024445\n",
      "03/07 06:11:13 AM | Train Accuracy: 31.17% \n",
      "\n",
      "INFO:gal:Train Accuracy: 31.17% \n",
      "\n",
      " 47%|██████████████████████████████████▏                                     | 474/1000 [36:53:43<69:27:53, 475.43s/it]"
     ]
    },
    {
     "name": "stdout",
     "output_type": "stream",
     "text": [
      "\n",
      " | Global Training Round : 475 |\n",
      "\n"
     ]
    },
    {
     "name": "stderr",
     "output_type": "stream",
     "text": [
      "03/07 06:19:26 AM |  \n",
      "Avg Training Stats after 475 global rounds:\n",
      "INFO:gal: \n",
      "Avg Training Stats after 475 global rounds:\n",
      "03/07 06:19:26 AM | Training Loss : 2.2277035479545595\n",
      "INFO:gal:Training Loss : 2.2277035479545595\n",
      "03/07 06:19:26 AM | Train Accuracy: 31.48% \n",
      "\n",
      "INFO:gal:Train Accuracy: 31.48% \n",
      "\n",
      " 48%|██████████████████████████████████▏                                     | 475/1000 [37:01:56<70:05:15, 480.60s/it]"
     ]
    },
    {
     "name": "stdout",
     "output_type": "stream",
     "text": [
      "\n",
      " | Global Training Round : 476 |\n",
      "\n"
     ]
    },
    {
     "name": "stderr",
     "output_type": "stream",
     "text": [
      "03/07 06:27:31 AM |  \n",
      "Avg Training Stats after 476 global rounds:\n",
      "INFO:gal: \n",
      "Avg Training Stats after 476 global rounds:\n",
      "03/07 06:27:31 AM | Training Loss : 2.2928854110240935\n",
      "INFO:gal:Training Loss : 2.2928854110240935\n",
      "03/07 06:27:31 AM | Train Accuracy: 29.73% \n",
      "\n",
      "INFO:gal:Train Accuracy: 29.73% \n",
      "\n",
      " 48%|██████████████████████████████████▎                                     | 476/1000 [37:10:01<70:07:54, 481.82s/it]"
     ]
    },
    {
     "name": "stdout",
     "output_type": "stream",
     "text": [
      "\n",
      " | Global Training Round : 477 |\n",
      "\n"
     ]
    },
    {
     "name": "stderr",
     "output_type": "stream",
     "text": [
      "03/07 06:35:34 AM |  \n",
      "Avg Training Stats after 477 global rounds:\n",
      "INFO:gal: \n",
      "Avg Training Stats after 477 global rounds:\n",
      "03/07 06:35:34 AM | Training Loss : 2.294018639087677\n",
      "INFO:gal:Training Loss : 2.294018639087677\n",
      "03/07 06:35:34 AM | Train Accuracy: 31.91% \n",
      "\n",
      "INFO:gal:Train Accuracy: 31.91% \n",
      "\n",
      " 48%|██████████████████████████████████▎                                     | 477/1000 [37:18:04<70:03:56, 482.29s/it]"
     ]
    },
    {
     "name": "stdout",
     "output_type": "stream",
     "text": [
      "\n",
      " | Global Training Round : 478 |\n",
      "\n"
     ]
    },
    {
     "name": "stderr",
     "output_type": "stream",
     "text": [
      "03/07 06:43:46 AM |  \n",
      "Avg Training Stats after 478 global rounds:\n",
      "INFO:gal: \n",
      "Avg Training Stats after 478 global rounds:\n",
      "03/07 06:43:46 AM | Training Loss : 2.240886575937271\n",
      "INFO:gal:Training Loss : 2.240886575937271\n",
      "03/07 06:43:46 AM | Train Accuracy: 29.82% \n",
      "\n",
      "INFO:gal:Train Accuracy: 29.82% \n",
      "\n",
      " 48%|██████████████████████████████████▍                                     | 478/1000 [37:26:17<70:22:23, 485.33s/it]"
     ]
    },
    {
     "name": "stdout",
     "output_type": "stream",
     "text": [
      "\n",
      " | Global Training Round : 479 |\n",
      "\n"
     ]
    },
    {
     "name": "stderr",
     "output_type": "stream",
     "text": [
      "03/07 06:51:52 AM |  \n",
      "Avg Training Stats after 479 global rounds:\n",
      "INFO:gal: \n",
      "Avg Training Stats after 479 global rounds:\n",
      "03/07 06:51:52 AM | Training Loss : 2.230154579877854\n",
      "INFO:gal:Training Loss : 2.230154579877854\n",
      "03/07 06:51:52 AM | Train Accuracy: 31.13% \n",
      "\n",
      "INFO:gal:Train Accuracy: 31.13% \n",
      "\n",
      " 48%|██████████████████████████████████▍                                     | 479/1000 [37:34:22<70:14:02, 485.30s/it]"
     ]
    },
    {
     "name": "stdout",
     "output_type": "stream",
     "text": [
      "\n",
      " | Global Training Round : 480 |\n",
      "\n"
     ]
    },
    {
     "name": "stderr",
     "output_type": "stream",
     "text": [
      "03/07 06:59:52 AM |  \n",
      "Avg Training Stats after 480 global rounds:\n",
      "INFO:gal: \n",
      "Avg Training Stats after 480 global rounds:\n",
      "03/07 06:59:52 AM | Training Loss : 2.195967128992081\n",
      "INFO:gal:Training Loss : 2.195967128992081\n",
      "03/07 06:59:52 AM | Train Accuracy: 31.03% \n",
      "\n",
      "INFO:gal:Train Accuracy: 31.03% \n",
      "\n",
      " 48%|██████████████████████████████████▌                                     | 480/1000 [37:42:22<69:53:32, 483.87s/it]"
     ]
    },
    {
     "name": "stdout",
     "output_type": "stream",
     "text": [
      "\n",
      " | Global Training Round : 481 |\n",
      "\n"
     ]
    },
    {
     "name": "stderr",
     "output_type": "stream",
     "text": [
      "03/07 07:07:57 AM |  \n",
      "Avg Training Stats after 481 global rounds:\n",
      "INFO:gal: \n",
      "Avg Training Stats after 481 global rounds:\n",
      "03/07 07:07:57 AM | Training Loss : 2.2454988114833836\n",
      "INFO:gal:Training Loss : 2.2454988114833836\n",
      "03/07 07:07:57 AM | Train Accuracy: 30.23% \n",
      "\n",
      "INFO:gal:Train Accuracy: 30.23% \n",
      "\n",
      " 48%|██████████████████████████████████▋                                     | 481/1000 [37:50:27<69:47:05, 484.06s/it]"
     ]
    },
    {
     "name": "stdout",
     "output_type": "stream",
     "text": [
      "\n",
      " | Global Training Round : 482 |\n",
      "\n"
     ]
    },
    {
     "name": "stderr",
     "output_type": "stream",
     "text": [
      "03/07 07:16:15 AM |  \n",
      "Avg Training Stats after 482 global rounds:\n",
      "INFO:gal: \n",
      "Avg Training Stats after 482 global rounds:\n",
      "03/07 07:16:15 AM | Training Loss : 2.3204050245285037\n",
      "INFO:gal:Training Loss : 2.3204050245285037\n",
      "03/07 07:16:15 AM | Train Accuracy: 30.51% \n",
      "\n",
      "INFO:gal:Train Accuracy: 30.51% \n",
      "\n",
      " 48%|██████████████████████████████████▋                                     | 482/1000 [37:58:45<70:15:55, 488.33s/it]"
     ]
    },
    {
     "name": "stdout",
     "output_type": "stream",
     "text": [
      "\n",
      " | Global Training Round : 483 |\n",
      "\n"
     ]
    },
    {
     "name": "stderr",
     "output_type": "stream",
     "text": [
      "03/07 07:24:39 AM |  \n",
      "Avg Training Stats after 483 global rounds:\n",
      "INFO:gal: \n",
      "Avg Training Stats after 483 global rounds:\n",
      "03/07 07:24:39 AM | Training Loss : 2.229844212293625\n",
      "INFO:gal:Training Loss : 2.229844212293625\n",
      "03/07 07:24:39 AM | Train Accuracy: 30.68% \n",
      "\n",
      "INFO:gal:Train Accuracy: 30.68% \n",
      "\n",
      " 48%|██████████████████████████████████▊                                     | 483/1000 [38:07:09<70:48:31, 493.06s/it]"
     ]
    },
    {
     "name": "stdout",
     "output_type": "stream",
     "text": [
      "\n",
      " | Global Training Round : 484 |\n",
      "\n"
     ]
    },
    {
     "name": "stderr",
     "output_type": "stream",
     "text": [
      "03/07 07:32:43 AM |  \n",
      "Avg Training Stats after 484 global rounds:\n",
      "INFO:gal: \n",
      "Avg Training Stats after 484 global rounds:\n",
      "03/07 07:32:43 AM | Training Loss : 2.4175333759784694\n",
      "INFO:gal:Training Loss : 2.4175333759784694\n",
      "03/07 07:32:43 AM | Train Accuracy: 28.51% \n",
      "\n",
      "INFO:gal:Train Accuracy: 28.51% \n",
      "\n",
      " 48%|██████████████████████████████████▊                                     | 484/1000 [38:15:13<70:16:40, 490.31s/it]"
     ]
    },
    {
     "name": "stdout",
     "output_type": "stream",
     "text": [
      "\n",
      " | Global Training Round : 485 |\n",
      "\n"
     ]
    },
    {
     "name": "stderr",
     "output_type": "stream",
     "text": [
      "03/07 07:40:52 AM |  \n",
      "Avg Training Stats after 485 global rounds:\n",
      "INFO:gal: \n",
      "Avg Training Stats after 485 global rounds:\n",
      "03/07 07:40:52 AM | Training Loss : 2.2486627950668336\n",
      "INFO:gal:Training Loss : 2.2486627950668336\n",
      "03/07 07:40:52 AM | Train Accuracy: 30.24% \n",
      "\n",
      "INFO:gal:Train Accuracy: 30.24% \n",
      "\n",
      " 48%|██████████████████████████████████▉                                     | 485/1000 [38:23:22<70:05:17, 489.94s/it]"
     ]
    },
    {
     "name": "stdout",
     "output_type": "stream",
     "text": [
      "\n",
      " | Global Training Round : 486 |\n",
      "\n"
     ]
    },
    {
     "name": "stderr",
     "output_type": "stream",
     "text": [
      "03/07 07:49:11 AM |  \n",
      "Avg Training Stats after 486 global rounds:\n",
      "INFO:gal: \n",
      "Avg Training Stats after 486 global rounds:\n",
      "03/07 07:49:11 AM | Training Loss : 2.3803585369586946\n",
      "INFO:gal:Training Loss : 2.3803585369586946\n",
      "03/07 07:49:11 AM | Train Accuracy: 29.43% \n",
      "\n",
      "INFO:gal:Train Accuracy: 29.43% \n",
      "\n",
      " 49%|██████████████████████████████████▉                                     | 486/1000 [38:31:41<70:20:29, 492.67s/it]"
     ]
    },
    {
     "name": "stdout",
     "output_type": "stream",
     "text": [
      "\n",
      " | Global Training Round : 487 |\n",
      "\n"
     ]
    },
    {
     "name": "stderr",
     "output_type": "stream",
     "text": [
      "03/07 07:57:23 AM |  \n",
      "Avg Training Stats after 487 global rounds:\n",
      "INFO:gal: \n",
      "Avg Training Stats after 487 global rounds:\n",
      "03/07 07:57:23 AM | Training Loss : 2.2633605592250823\n",
      "INFO:gal:Training Loss : 2.2633605592250823\n",
      "03/07 07:57:23 AM | Train Accuracy: 31.36% \n",
      "\n",
      "INFO:gal:Train Accuracy: 31.36% \n",
      "\n",
      " 49%|███████████████████████████████████                                     | 487/1000 [38:39:53<70:10:10, 492.42s/it]"
     ]
    },
    {
     "name": "stdout",
     "output_type": "stream",
     "text": [
      "\n",
      " | Global Training Round : 488 |\n",
      "\n"
     ]
    },
    {
     "name": "stderr",
     "output_type": "stream",
     "text": [
      "03/07 08:05:36 AM |  \n",
      "Avg Training Stats after 488 global rounds:\n",
      "INFO:gal: \n",
      "Avg Training Stats after 488 global rounds:\n",
      "03/07 08:05:36 AM | Training Loss : 2.323086052894592\n",
      "INFO:gal:Training Loss : 2.323086052894592\n",
      "03/07 08:05:36 AM | Train Accuracy: 30.48% \n",
      "\n",
      "INFO:gal:Train Accuracy: 30.48% \n",
      "\n",
      " 49%|███████████████████████████████████▏                                    | 488/1000 [38:48:06<70:02:40, 492.50s/it]"
     ]
    },
    {
     "name": "stdout",
     "output_type": "stream",
     "text": [
      "\n",
      " | Global Training Round : 489 |\n",
      "\n"
     ]
    },
    {
     "name": "stderr",
     "output_type": "stream",
     "text": [
      "03/07 08:13:46 AM |  \n",
      "Avg Training Stats after 489 global rounds:\n",
      "INFO:gal: \n",
      "Avg Training Stats after 489 global rounds:\n",
      "03/07 08:13:46 AM | Training Loss : 2.242381894826889\n",
      "INFO:gal:Training Loss : 2.242381894826889\n",
      "03/07 08:13:46 AM | Train Accuracy: 32.10% \n",
      "\n",
      "INFO:gal:Train Accuracy: 32.10% \n",
      "\n",
      " 49%|███████████████████████████████████▏                                    | 489/1000 [38:56:16<69:49:54, 491.97s/it]"
     ]
    },
    {
     "name": "stdout",
     "output_type": "stream",
     "text": [
      "\n",
      " | Global Training Round : 490 |\n",
      "\n"
     ]
    },
    {
     "name": "stderr",
     "output_type": "stream",
     "text": [
      "03/07 08:22:05 AM |  \n",
      "Avg Training Stats after 490 global rounds:\n",
      "INFO:gal: \n",
      "Avg Training Stats after 490 global rounds:\n",
      "03/07 08:22:05 AM | Training Loss : 2.279139191627502\n",
      "INFO:gal:Training Loss : 2.279139191627502\n",
      "03/07 08:22:05 AM | Train Accuracy: 30.98% \n",
      "\n",
      "INFO:gal:Train Accuracy: 30.98% \n",
      "\n",
      " 49%|███████████████████████████████████▎                                    | 490/1000 [39:04:35<69:58:12, 493.91s/it]"
     ]
    },
    {
     "name": "stdout",
     "output_type": "stream",
     "text": [
      "\n",
      " | Global Training Round : 491 |\n",
      "\n"
     ]
    },
    {
     "name": "stderr",
     "output_type": "stream",
     "text": [
      "03/07 08:30:36 AM |  \n",
      "Avg Training Stats after 491 global rounds:\n",
      "INFO:gal: \n",
      "Avg Training Stats after 491 global rounds:\n",
      "03/07 08:30:36 AM | Training Loss : 2.298800565719604\n",
      "INFO:gal:Training Loss : 2.298800565719604\n",
      "03/07 08:30:36 AM | Train Accuracy: 31.08% \n",
      "\n",
      "INFO:gal:Train Accuracy: 31.08% \n",
      "\n",
      " 49%|███████████████████████████████████▎                                    | 491/1000 [39:13:06<70:34:34, 499.16s/it]"
     ]
    },
    {
     "name": "stdout",
     "output_type": "stream",
     "text": [
      "\n",
      " | Global Training Round : 492 |\n",
      "\n"
     ]
    },
    {
     "name": "stderr",
     "output_type": "stream",
     "text": [
      "03/07 08:38:57 AM |  \n",
      "Avg Training Stats after 492 global rounds:\n",
      "INFO:gal: \n",
      "Avg Training Stats after 492 global rounds:\n",
      "03/07 08:38:57 AM | Training Loss : 2.3431624207496644\n",
      "INFO:gal:Training Loss : 2.3431624207496644\n",
      "03/07 08:38:57 AM | Train Accuracy: 30.01% \n",
      "\n",
      "INFO:gal:Train Accuracy: 30.01% \n",
      "\n",
      " 49%|███████████████████████████████████▍                                    | 492/1000 [39:21:27<70:29:42, 499.57s/it]"
     ]
    },
    {
     "name": "stdout",
     "output_type": "stream",
     "text": [
      "\n",
      " | Global Training Round : 493 |\n",
      "\n"
     ]
    },
    {
     "name": "stderr",
     "output_type": "stream",
     "text": [
      "03/07 08:47:19 AM |  \n",
      "Avg Training Stats after 493 global rounds:\n",
      "INFO:gal: \n",
      "Avg Training Stats after 493 global rounds:\n",
      "03/07 08:47:19 AM | Training Loss : 2.2743009414672857\n",
      "INFO:gal:Training Loss : 2.2743009414672857\n",
      "03/07 08:47:19 AM | Train Accuracy: 31.31% \n",
      "\n",
      "INFO:gal:Train Accuracy: 31.31% \n",
      "\n",
      " 49%|███████████████████████████████████▍                                    | 493/1000 [39:29:49<70:28:56, 500.47s/it]"
     ]
    },
    {
     "name": "stdout",
     "output_type": "stream",
     "text": [
      "\n",
      " | Global Training Round : 494 |\n",
      "\n"
     ]
    },
    {
     "name": "stderr",
     "output_type": "stream",
     "text": [
      "03/07 08:55:41 AM |  \n",
      "Avg Training Stats after 494 global rounds:\n",
      "INFO:gal: \n",
      "Avg Training Stats after 494 global rounds:\n",
      "03/07 08:55:41 AM | Training Loss : 2.352301873445511\n",
      "INFO:gal:Training Loss : 2.352301873445511\n",
      "03/07 08:55:41 AM | Train Accuracy: 30.47% \n",
      "\n",
      "INFO:gal:Train Accuracy: 30.47% \n",
      "\n",
      " 49%|███████████████████████████████████▌                                    | 494/1000 [39:38:11<70:24:09, 500.89s/it]"
     ]
    },
    {
     "name": "stdout",
     "output_type": "stream",
     "text": [
      "\n",
      " | Global Training Round : 495 |\n",
      "\n"
     ]
    },
    {
     "name": "stderr",
     "output_type": "stream",
     "text": [
      "03/07 09:04:13 AM |  \n",
      "Avg Training Stats after 495 global rounds:\n",
      "INFO:gal: \n",
      "Avg Training Stats after 495 global rounds:\n",
      "03/07 09:04:13 AM | Training Loss : 2.2537223975658414\n",
      "INFO:gal:Training Loss : 2.2537223975658414\n",
      "03/07 09:04:13 AM | Train Accuracy: 29.29% \n",
      "\n",
      "INFO:gal:Train Accuracy: 29.29% \n",
      "\n",
      " 50%|███████████████████████████████████▋                                    | 495/1000 [39:46:43<70:42:25, 504.05s/it]"
     ]
    },
    {
     "name": "stdout",
     "output_type": "stream",
     "text": [
      "\n",
      " | Global Training Round : 496 |\n",
      "\n"
     ]
    },
    {
     "name": "stderr",
     "output_type": "stream",
     "text": [
      "03/07 09:12:43 AM |  \n",
      "Avg Training Stats after 496 global rounds:\n",
      "INFO:gal: \n",
      "Avg Training Stats after 496 global rounds:\n",
      "03/07 09:12:43 AM | Training Loss : 2.3045618894100186\n",
      "INFO:gal:Training Loss : 2.3045618894100186\n",
      "03/07 09:12:43 AM | Train Accuracy: 30.63% \n",
      "\n",
      "INFO:gal:Train Accuracy: 30.63% \n",
      "\n",
      " 50%|███████████████████████████████████▋                                    | 496/1000 [39:55:13<70:49:57, 505.95s/it]"
     ]
    },
    {
     "name": "stdout",
     "output_type": "stream",
     "text": [
      "\n",
      " | Global Training Round : 497 |\n",
      "\n"
     ]
    },
    {
     "name": "stderr",
     "output_type": "stream",
     "text": [
      "03/07 09:21:24 AM |  \n",
      "Avg Training Stats after 497 global rounds:\n",
      "INFO:gal: \n",
      "Avg Training Stats after 497 global rounds:\n",
      "03/07 09:21:24 AM | Training Loss : 2.3039456295967105\n",
      "INFO:gal:Training Loss : 2.3039456295967105\n",
      "03/07 09:21:24 AM | Train Accuracy: 32.80% \n",
      "\n",
      "INFO:gal:Train Accuracy: 32.80% \n",
      "\n",
      " 50%|███████████████████████████████████▊                                    | 497/1000 [40:03:54<71:18:27, 510.35s/it]"
     ]
    },
    {
     "name": "stdout",
     "output_type": "stream",
     "text": [
      "\n",
      " | Global Training Round : 498 |\n",
      "\n"
     ]
    },
    {
     "name": "stderr",
     "output_type": "stream",
     "text": [
      "03/07 09:30:00 AM |  \n",
      "Avg Training Stats after 498 global rounds:\n",
      "INFO:gal: \n",
      "Avg Training Stats after 498 global rounds:\n",
      "03/07 09:30:00 AM | Training Loss : 2.2803072042465216\n",
      "INFO:gal:Training Loss : 2.2803072042465216\n",
      "03/07 09:30:00 AM | Train Accuracy: 31.66% \n",
      "\n",
      "INFO:gal:Train Accuracy: 31.66% \n",
      "\n",
      " 50%|███████████████████████████████████▊                                    | 498/1000 [40:12:30<71:24:17, 512.07s/it]"
     ]
    },
    {
     "name": "stdout",
     "output_type": "stream",
     "text": [
      "\n",
      " | Global Training Round : 499 |\n",
      "\n"
     ]
    },
    {
     "name": "stderr",
     "output_type": "stream",
     "text": [
      "03/07 09:38:27 AM |  \n",
      "Avg Training Stats after 499 global rounds:\n",
      "INFO:gal: \n",
      "Avg Training Stats after 499 global rounds:\n",
      "03/07 09:38:27 AM | Training Loss : 2.2640623548030856\n",
      "INFO:gal:Training Loss : 2.2640623548030856\n",
      "03/07 09:38:27 AM | Train Accuracy: 31.93% \n",
      "\n",
      "INFO:gal:Train Accuracy: 31.93% \n",
      "\n",
      " 50%|███████████████████████████████████▉                                    | 499/1000 [40:20:57<71:03:03, 510.55s/it]"
     ]
    },
    {
     "name": "stdout",
     "output_type": "stream",
     "text": [
      "\n",
      " | Global Training Round : 500 |\n",
      "\n"
     ]
    },
    {
     "name": "stderr",
     "output_type": "stream",
     "text": [
      "03/07 09:46:59 AM |  \n",
      "Avg Training Stats after 500 global rounds:\n",
      "INFO:gal: \n",
      "Avg Training Stats after 500 global rounds:\n",
      "03/07 09:46:59 AM | Training Loss : 2.3179385287761685\n",
      "INFO:gal:Training Loss : 2.3179385287761685\n",
      "03/07 09:46:59 AM | Train Accuracy: 31.82% \n",
      "\n",
      "INFO:gal:Train Accuracy: 31.82% \n",
      "\n",
      " 50%|████████████████████████████████████                                    | 500/1000 [40:29:29<70:59:21, 511.12s/it]"
     ]
    },
    {
     "name": "stdout",
     "output_type": "stream",
     "text": [
      "\n",
      " | Global Training Round : 501 |\n",
      "\n"
     ]
    },
    {
     "name": "stderr",
     "output_type": "stream",
     "text": [
      "03/07 09:55:27 AM |  \n",
      "Avg Training Stats after 501 global rounds:\n",
      "INFO:gal: \n",
      "Avg Training Stats after 501 global rounds:\n",
      "03/07 09:55:27 AM | Training Loss : 2.1878964347839354\n",
      "INFO:gal:Training Loss : 2.1878964347839354\n",
      "03/07 09:55:27 AM | Train Accuracy: 30.34% \n",
      "\n",
      "INFO:gal:Train Accuracy: 30.34% \n",
      "\n",
      " 50%|████████████████████████████████████                                    | 501/1000 [40:37:57<70:43:10, 510.20s/it]"
     ]
    },
    {
     "name": "stdout",
     "output_type": "stream",
     "text": [
      "\n",
      " | Global Training Round : 502 |\n",
      "\n"
     ]
    },
    {
     "name": "stderr",
     "output_type": "stream",
     "text": [
      "03/07 10:04:04 AM |  \n",
      "Avg Training Stats after 502 global rounds:\n",
      "INFO:gal: \n",
      "Avg Training Stats after 502 global rounds:\n",
      "03/07 10:04:04 AM | Training Loss : 2.2577746407985684\n",
      "INFO:gal:Training Loss : 2.2577746407985684\n",
      "03/07 10:04:04 AM | Train Accuracy: 30.78% \n",
      "\n",
      "INFO:gal:Train Accuracy: 30.78% \n",
      "\n",
      " 50%|████████████████████████████████████▏                                   | 502/1000 [40:46:34<70:50:12, 512.07s/it]"
     ]
    },
    {
     "name": "stdout",
     "output_type": "stream",
     "text": [
      "\n",
      " | Global Training Round : 503 |\n",
      "\n"
     ]
    },
    {
     "name": "stderr",
     "output_type": "stream",
     "text": [
      "03/07 10:12:43 AM |  \n",
      "Avg Training Stats after 503 global rounds:\n",
      "INFO:gal: \n",
      "Avg Training Stats after 503 global rounds:\n",
      "03/07 10:12:43 AM | Training Loss : 2.297267433166504\n",
      "INFO:gal:Training Loss : 2.297267433166504\n",
      "03/07 10:12:43 AM | Train Accuracy: 30.97% \n",
      "\n",
      "INFO:gal:Train Accuracy: 30.97% \n",
      "\n",
      " 50%|████████████████████████████████████▏                                   | 503/1000 [40:55:13<70:58:54, 514.15s/it]"
     ]
    },
    {
     "name": "stdout",
     "output_type": "stream",
     "text": [
      "\n",
      " | Global Training Round : 504 |\n",
      "\n"
     ]
    },
    {
     "name": "stderr",
     "output_type": "stream",
     "text": [
      "03/07 10:21:33 AM |  \n",
      "Avg Training Stats after 504 global rounds:\n",
      "INFO:gal: \n",
      "Avg Training Stats after 504 global rounds:\n",
      "03/07 10:21:33 AM | Training Loss : 2.2458536150455477\n",
      "INFO:gal:Training Loss : 2.2458536150455477\n",
      "03/07 10:21:33 AM | Train Accuracy: 31.80% \n",
      "\n",
      "INFO:gal:Train Accuracy: 31.80% \n",
      "\n",
      " 50%|████████████████████████████████████▎                                   | 504/1000 [41:04:03<71:29:35, 518.90s/it]"
     ]
    },
    {
     "name": "stdout",
     "output_type": "stream",
     "text": [
      "\n",
      " | Global Training Round : 505 |\n",
      "\n"
     ]
    },
    {
     "name": "stderr",
     "output_type": "stream",
     "text": [
      "03/07 10:30:04 AM |  \n",
      "Avg Training Stats after 505 global rounds:\n",
      "INFO:gal: \n",
      "Avg Training Stats after 505 global rounds:\n",
      "03/07 10:30:04 AM | Training Loss : 2.259539799928665\n",
      "INFO:gal:Training Loss : 2.259539799928665\n",
      "03/07 10:30:04 AM | Train Accuracy: 30.44% \n",
      "\n",
      "INFO:gal:Train Accuracy: 30.44% \n",
      "\n",
      " 50%|████████████████████████████████████▎                                   | 505/1000 [41:12:34<71:03:20, 516.77s/it]"
     ]
    },
    {
     "name": "stdout",
     "output_type": "stream",
     "text": [
      "\n",
      " | Global Training Round : 506 |\n",
      "\n"
     ]
    },
    {
     "name": "stderr",
     "output_type": "stream",
     "text": [
      "03/07 10:38:42 AM |  \n",
      "Avg Training Stats after 506 global rounds:\n",
      "INFO:gal: \n",
      "Avg Training Stats after 506 global rounds:\n",
      "03/07 10:38:42 AM | Training Loss : 2.2946431879997253\n",
      "INFO:gal:Training Loss : 2.2946431879997253\n",
      "03/07 10:38:42 AM | Train Accuracy: 30.45% \n",
      "\n",
      "INFO:gal:Train Accuracy: 30.45% \n",
      "\n",
      " 51%|████████████████████████████████████▍                                   | 506/1000 [41:21:12<70:57:13, 517.07s/it]"
     ]
    },
    {
     "name": "stdout",
     "output_type": "stream",
     "text": [
      "\n",
      " | Global Training Round : 507 |\n",
      "\n"
     ]
    },
    {
     "name": "stderr",
     "output_type": "stream",
     "text": [
      "03/07 10:47:28 AM |  \n",
      "Avg Training Stats after 507 global rounds:\n",
      "INFO:gal: \n",
      "Avg Training Stats after 507 global rounds:\n",
      "03/07 10:47:28 AM | Training Loss : 2.3716300802230834\n",
      "INFO:gal:Training Loss : 2.3716300802230834\n",
      "03/07 10:47:28 AM | Train Accuracy: 31.09% \n",
      "\n",
      "INFO:gal:Train Accuracy: 31.09% \n",
      "\n",
      " 51%|████████████████████████████████████▌                                   | 507/1000 [41:29:58<71:09:13, 519.58s/it]"
     ]
    },
    {
     "name": "stdout",
     "output_type": "stream",
     "text": [
      "\n",
      " | Global Training Round : 508 |\n",
      "\n"
     ]
    },
    {
     "name": "stderr",
     "output_type": "stream",
     "text": [
      "03/07 10:56:09 AM |  \n",
      "Avg Training Stats after 508 global rounds:\n",
      "INFO:gal: \n",
      "Avg Training Stats after 508 global rounds:\n",
      "03/07 10:56:09 AM | Training Loss : 2.243447476387024\n",
      "INFO:gal:Training Loss : 2.243447476387024\n",
      "03/07 10:56:09 AM | Train Accuracy: 29.81% \n",
      "\n",
      "INFO:gal:Train Accuracy: 29.81% \n",
      "\n",
      " 51%|████████████████████████████████████▌                                   | 508/1000 [41:38:39<71:05:43, 520.21s/it]"
     ]
    },
    {
     "name": "stdout",
     "output_type": "stream",
     "text": [
      "\n",
      " | Global Training Round : 509 |\n",
      "\n"
     ]
    },
    {
     "name": "stderr",
     "output_type": "stream",
     "text": [
      "03/07 11:04:55 AM |  \n",
      "Avg Training Stats after 509 global rounds:\n",
      "INFO:gal: \n",
      "Avg Training Stats after 509 global rounds:\n",
      "03/07 11:04:55 AM | Training Loss : 2.274725250720978\n",
      "INFO:gal:Training Loss : 2.274725250720978\n",
      "03/07 11:04:56 AM | Train Accuracy: 28.06% \n",
      "\n",
      "INFO:gal:Train Accuracy: 28.06% \n",
      "\n",
      " 51%|████████████████████████████████████▋                                   | 509/1000 [41:47:26<71:11:33, 521.98s/it]"
     ]
    },
    {
     "name": "stdout",
     "output_type": "stream",
     "text": [
      "\n",
      " | Global Training Round : 510 |\n",
      "\n"
     ]
    },
    {
     "name": "stderr",
     "output_type": "stream",
     "text": [
      "03/07 11:13:41 AM |  \n",
      "Avg Training Stats after 510 global rounds:\n",
      "INFO:gal: \n",
      "Avg Training Stats after 510 global rounds:\n",
      "03/07 11:13:41 AM | Training Loss : 2.326450856924057\n",
      "INFO:gal:Training Loss : 2.326450856924057\n",
      "03/07 11:13:41 AM | Train Accuracy: 28.79% \n",
      "\n",
      "INFO:gal:Train Accuracy: 28.79% \n",
      "\n",
      " 51%|████████████████████████████████████▋                                   | 510/1000 [41:56:11<71:11:52, 523.09s/it]"
     ]
    },
    {
     "name": "stdout",
     "output_type": "stream",
     "text": [
      "\n",
      " | Global Training Round : 511 |\n",
      "\n"
     ]
    },
    {
     "name": "stderr",
     "output_type": "stream",
     "text": [
      "03/07 11:22:40 AM |  \n",
      "Avg Training Stats after 511 global rounds:\n",
      "INFO:gal: \n",
      "Avg Training Stats after 511 global rounds:\n",
      "03/07 11:22:40 AM | Training Loss : 2.278534886598587\n",
      "INFO:gal:Training Loss : 2.278534886598587\n",
      "03/07 11:22:40 AM | Train Accuracy: 30.63% \n",
      "\n",
      "INFO:gal:Train Accuracy: 30.63% \n",
      "\n",
      " 51%|████████████████████████████████████▊                                   | 511/1000 [42:05:10<71:42:20, 527.89s/it]"
     ]
    },
    {
     "name": "stdout",
     "output_type": "stream",
     "text": [
      "\n",
      " | Global Training Round : 512 |\n",
      "\n"
     ]
    },
    {
     "name": "stderr",
     "output_type": "stream",
     "text": [
      "03/07 11:31:27 AM |  \n",
      "Avg Training Stats after 512 global rounds:\n",
      "INFO:gal: \n",
      "Avg Training Stats after 512 global rounds:\n",
      "03/07 11:31:27 AM | Training Loss : 2.295840209722519\n",
      "INFO:gal:Training Loss : 2.295840209722519\n",
      "03/07 11:31:27 AM | Train Accuracy: 31.89% \n",
      "\n",
      "INFO:gal:Train Accuracy: 31.89% \n",
      "\n",
      " 51%|████████████████████████████████████▊                                   | 512/1000 [42:13:57<71:30:38, 527.54s/it]"
     ]
    },
    {
     "name": "stdout",
     "output_type": "stream",
     "text": [
      "\n",
      " | Global Training Round : 513 |\n",
      "\n"
     ]
    },
    {
     "name": "stderr",
     "output_type": "stream",
     "text": [
      "03/07 11:40:20 AM |  \n",
      "Avg Training Stats after 513 global rounds:\n",
      "INFO:gal: \n",
      "Avg Training Stats after 513 global rounds:\n",
      "03/07 11:40:20 AM | Training Loss : 2.1862224745750427\n",
      "INFO:gal:Training Loss : 2.1862224745750427\n",
      "03/07 11:40:20 AM | Train Accuracy: 30.63% \n",
      "\n",
      "INFO:gal:Train Accuracy: 30.63% \n",
      "\n",
      " 51%|████████████████████████████████████▉                                   | 513/1000 [42:22:50<71:35:20, 529.20s/it]"
     ]
    },
    {
     "name": "stdout",
     "output_type": "stream",
     "text": [
      "\n",
      " | Global Training Round : 514 |\n",
      "\n"
     ]
    },
    {
     "name": "stderr",
     "output_type": "stream",
     "text": [
      "03/07 11:49:12 AM |  \n",
      "Avg Training Stats after 514 global rounds:\n",
      "INFO:gal: \n",
      "Avg Training Stats after 514 global rounds:\n",
      "03/07 11:49:12 AM | Training Loss : 2.239234936475754\n",
      "INFO:gal:Training Loss : 2.239234936475754\n",
      "03/07 11:49:12 AM | Train Accuracy: 32.25% \n",
      "\n",
      "INFO:gal:Train Accuracy: 32.25% \n",
      "\n",
      " 51%|█████████████████████████████████████                                   | 514/1000 [42:31:42<71:33:03, 530.01s/it]"
     ]
    },
    {
     "name": "stdout",
     "output_type": "stream",
     "text": [
      "\n",
      " | Global Training Round : 515 |\n",
      "\n"
     ]
    },
    {
     "name": "stderr",
     "output_type": "stream",
     "text": [
      "03/07 11:58:11 AM |  \n",
      "Avg Training Stats after 515 global rounds:\n",
      "INFO:gal: \n",
      "Avg Training Stats after 515 global rounds:\n",
      "03/07 11:58:11 AM | Training Loss : 2.235742792606354\n",
      "INFO:gal:Training Loss : 2.235742792606354\n",
      "03/07 11:58:11 AM | Train Accuracy: 29.42% \n",
      "\n",
      "INFO:gal:Train Accuracy: 29.42% \n",
      "\n",
      " 52%|█████████████████████████████████████                                   | 515/1000 [42:40:41<71:46:48, 532.80s/it]"
     ]
    },
    {
     "name": "stdout",
     "output_type": "stream",
     "text": [
      "\n",
      " | Global Training Round : 516 |\n",
      "\n"
     ]
    },
    {
     "name": "stderr",
     "output_type": "stream",
     "text": [
      "03/07 12:07:08 PM |  \n",
      "Avg Training Stats after 516 global rounds:\n",
      "INFO:gal: \n",
      "Avg Training Stats after 516 global rounds:\n",
      "03/07 12:07:08 PM | Training Loss : 2.2516147656440735\n",
      "INFO:gal:Training Loss : 2.2516147656440735\n",
      "03/07 12:07:08 PM | Train Accuracy: 31.08% \n",
      "\n",
      "INFO:gal:Train Accuracy: 31.08% \n",
      "\n",
      " 52%|█████████████████████████████████████▏                                  | 516/1000 [42:49:38<71:48:15, 534.08s/it]"
     ]
    },
    {
     "name": "stdout",
     "output_type": "stream",
     "text": [
      "\n",
      " | Global Training Round : 517 |\n",
      "\n"
     ]
    },
    {
     "name": "stderr",
     "output_type": "stream",
     "text": [
      "03/07 12:16:03 PM |  \n",
      "Avg Training Stats after 517 global rounds:\n",
      "INFO:gal: \n",
      "Avg Training Stats after 517 global rounds:\n",
      "03/07 12:16:04 PM | Training Loss : 2.2684766981601707\n",
      "INFO:gal:Training Loss : 2.2684766981601707\n",
      "03/07 12:16:04 PM | Train Accuracy: 32.19% \n",
      "\n",
      "INFO:gal:Train Accuracy: 32.19% \n",
      "\n",
      " 52%|█████████████████████████████████████▏                                  | 517/1000 [42:58:34<71:42:13, 534.44s/it]"
     ]
    },
    {
     "name": "stdout",
     "output_type": "stream",
     "text": [
      "\n",
      " | Global Training Round : 518 |\n",
      "\n"
     ]
    },
    {
     "name": "stderr",
     "output_type": "stream",
     "text": [
      "03/07 12:25:04 PM |  \n",
      "Avg Training Stats after 518 global rounds:\n",
      "INFO:gal: \n",
      "Avg Training Stats after 518 global rounds:\n",
      "03/07 12:25:04 PM | Training Loss : 2.311791745901108\n",
      "INFO:gal:Training Loss : 2.311791745901108\n",
      "03/07 12:25:04 PM | Train Accuracy: 31.73% \n",
      "\n",
      "INFO:gal:Train Accuracy: 31.73% \n",
      "\n",
      " 52%|█████████████████████████████████████▎                                  | 518/1000 [43:07:34<71:46:54, 536.13s/it]"
     ]
    },
    {
     "name": "stdout",
     "output_type": "stream",
     "text": [
      "\n",
      " | Global Training Round : 519 |\n",
      "\n"
     ]
    },
    {
     "name": "stderr",
     "output_type": "stream",
     "text": [
      "03/07 12:34:02 PM |  \n",
      "Avg Training Stats after 519 global rounds:\n",
      "INFO:gal: \n",
      "Avg Training Stats after 519 global rounds:\n",
      "03/07 12:34:02 PM | Training Loss : 2.207020028829574\n",
      "INFO:gal:Training Loss : 2.207020028829574\n",
      "03/07 12:34:03 PM | Train Accuracy: 31.61% \n",
      "\n",
      "INFO:gal:Train Accuracy: 31.61% \n",
      "\n",
      " 52%|█████████████████████████████████████▎                                  | 519/1000 [43:16:33<71:44:39, 536.96s/it]"
     ]
    },
    {
     "name": "stdout",
     "output_type": "stream",
     "text": [
      "\n",
      " | Global Training Round : 520 |\n",
      "\n"
     ]
    },
    {
     "name": "stderr",
     "output_type": "stream",
     "text": [
      "03/07 12:43:04 PM |  \n",
      "Avg Training Stats after 520 global rounds:\n",
      "INFO:gal: \n",
      "Avg Training Stats after 520 global rounds:\n",
      "03/07 12:43:05 PM | Training Loss : 2.245104212999344\n",
      "INFO:gal:Training Loss : 2.245104212999344\n",
      "03/07 12:43:05 PM | Train Accuracy: 31.90% \n",
      "\n",
      "INFO:gal:Train Accuracy: 31.90% \n",
      "\n",
      " 52%|█████████████████████████████████████▍                                  | 520/1000 [43:25:35<71:48:42, 538.59s/it]"
     ]
    },
    {
     "name": "stdout",
     "output_type": "stream",
     "text": [
      "\n",
      " | Global Training Round : 521 |\n",
      "\n"
     ]
    },
    {
     "name": "stderr",
     "output_type": "stream",
     "text": [
      "03/07 12:52:25 PM |  \n",
      "Avg Training Stats after 521 global rounds:\n",
      "INFO:gal: \n",
      "Avg Training Stats after 521 global rounds:\n",
      "03/07 12:52:25 PM | Training Loss : 2.2928691046237937\n",
      "INFO:gal:Training Loss : 2.2928691046237937\n",
      "03/07 12:52:25 PM | Train Accuracy: 30.39% \n",
      "\n",
      "INFO:gal:Train Accuracy: 30.39% \n",
      "\n",
      " 52%|█████████████████████████████████████▌                                  | 521/1000 [43:34:56<72:32:19, 545.18s/it]"
     ]
    },
    {
     "name": "stdout",
     "output_type": "stream",
     "text": [
      "\n",
      " | Global Training Round : 522 |\n",
      "\n"
     ]
    },
    {
     "name": "stderr",
     "output_type": "stream",
     "text": [
      "03/07 01:02:12 PM |  \n",
      "Avg Training Stats after 522 global rounds:\n",
      "INFO:gal: \n",
      "Avg Training Stats after 522 global rounds:\n",
      "03/07 01:02:12 PM | Training Loss : 2.262744652032852\n",
      "INFO:gal:Training Loss : 2.262744652032852\n",
      "03/07 01:02:12 PM | Train Accuracy: 29.72% \n",
      "\n",
      "INFO:gal:Train Accuracy: 29.72% \n",
      "\n",
      " 52%|█████████████████████████████████████▌                                  | 522/1000 [43:44:42<74:02:51, 557.68s/it]"
     ]
    },
    {
     "name": "stdout",
     "output_type": "stream",
     "text": [
      "\n",
      " | Global Training Round : 523 |\n",
      "\n"
     ]
    },
    {
     "name": "stderr",
     "output_type": "stream",
     "text": [
      "03/07 01:11:18 PM |  \n",
      "Avg Training Stats after 523 global rounds:\n",
      "INFO:gal: \n",
      "Avg Training Stats after 523 global rounds:\n",
      "03/07 01:11:18 PM | Training Loss : 2.2328412477970123\n",
      "INFO:gal:Training Loss : 2.2328412477970123\n",
      "03/07 01:11:18 PM | Train Accuracy: 30.39% \n",
      "\n",
      "INFO:gal:Train Accuracy: 30.39% \n",
      "\n",
      " 52%|█████████████████████████████████████▋                                  | 523/1000 [43:53:48<73:24:16, 554.00s/it]"
     ]
    },
    {
     "name": "stdout",
     "output_type": "stream",
     "text": [
      "\n",
      " | Global Training Round : 524 |\n",
      "\n"
     ]
    },
    {
     "name": "stderr",
     "output_type": "stream",
     "text": [
      "03/07 01:20:21 PM |  \n",
      "Avg Training Stats after 524 global rounds:\n",
      "INFO:gal: \n",
      "Avg Training Stats after 524 global rounds:\n",
      "03/07 01:20:21 PM | Training Loss : 2.2885202143192287\n",
      "INFO:gal:Training Loss : 2.2885202143192287\n",
      "03/07 01:20:21 PM | Train Accuracy: 28.47% \n",
      "\n",
      "INFO:gal:Train Accuracy: 28.47% \n",
      "\n",
      " 52%|█████████████████████████████████████▋                                  | 524/1000 [44:02:51<72:49:51, 550.82s/it]"
     ]
    },
    {
     "name": "stdout",
     "output_type": "stream",
     "text": [
      "\n",
      " | Global Training Round : 525 |\n",
      "\n"
     ]
    },
    {
     "name": "stderr",
     "output_type": "stream",
     "text": [
      "03/07 01:29:36 PM |  \n",
      "Avg Training Stats after 525 global rounds:\n",
      "INFO:gal: \n",
      "Avg Training Stats after 525 global rounds:\n",
      "03/07 01:29:36 PM | Training Loss : 2.2538533465862276\n",
      "INFO:gal:Training Loss : 2.2538533465862276\n",
      "03/07 01:29:36 PM | Train Accuracy: 29.96% \n",
      "\n",
      "INFO:gal:Train Accuracy: 29.96% \n",
      "\n",
      " 52%|█████████████████████████████████████▊                                  | 525/1000 [44:12:06<72:49:53, 551.99s/it]"
     ]
    },
    {
     "name": "stdout",
     "output_type": "stream",
     "text": [
      "\n",
      " | Global Training Round : 526 |\n",
      "\n"
     ]
    },
    {
     "name": "stderr",
     "output_type": "stream",
     "text": [
      "03/07 01:38:46 PM |  \n",
      "Avg Training Stats after 526 global rounds:\n",
      "INFO:gal: \n",
      "Avg Training Stats after 526 global rounds:\n",
      "03/07 01:38:46 PM | Training Loss : 2.307681823492051\n",
      "INFO:gal:Training Loss : 2.307681823492051\n",
      "03/07 01:38:46 PM | Train Accuracy: 28.67% \n",
      "\n",
      "INFO:gal:Train Accuracy: 28.67% \n",
      "\n",
      " 53%|█████████████████████████████████████▊                                  | 526/1000 [44:21:16<72:36:55, 551.51s/it]"
     ]
    },
    {
     "name": "stdout",
     "output_type": "stream",
     "text": [
      "\n",
      " | Global Training Round : 527 |\n",
      "\n"
     ]
    },
    {
     "name": "stderr",
     "output_type": "stream",
     "text": [
      "03/07 01:47:49 PM |  \n",
      "Avg Training Stats after 527 global rounds:\n",
      "INFO:gal: \n",
      "Avg Training Stats after 527 global rounds:\n",
      "03/07 01:47:50 PM | Training Loss : 2.316723046302795\n",
      "INFO:gal:Training Loss : 2.316723046302795\n",
      "03/07 01:47:50 PM | Train Accuracy: 30.30% \n",
      "\n",
      "INFO:gal:Train Accuracy: 30.30% \n",
      "\n",
      " 53%|█████████████████████████████████████▉                                  | 527/1000 [44:30:20<72:08:21, 549.05s/it]"
     ]
    },
    {
     "name": "stdout",
     "output_type": "stream",
     "text": [
      "\n",
      " | Global Training Round : 528 |\n",
      "\n"
     ]
    },
    {
     "name": "stderr",
     "output_type": "stream",
     "text": [
      "03/07 01:57:01 PM |  \n",
      "Avg Training Stats after 528 global rounds:\n",
      "INFO:gal: \n",
      "Avg Training Stats after 528 global rounds:\n",
      "03/07 01:57:01 PM | Training Loss : 2.302608310699462\n",
      "INFO:gal:Training Loss : 2.302608310699462\n",
      "03/07 01:57:02 PM | Train Accuracy: 31.19% \n",
      "\n",
      "INFO:gal:Train Accuracy: 31.19% \n",
      "\n",
      " 53%|██████████████████████████████████████                                  | 528/1000 [44:39:32<72:06:08, 549.93s/it]"
     ]
    },
    {
     "name": "stdout",
     "output_type": "stream",
     "text": [
      "\n",
      " | Global Training Round : 529 |\n",
      "\n"
     ]
    },
    {
     "name": "stderr",
     "output_type": "stream",
     "text": [
      "03/07 02:06:20 PM |  \n",
      "Avg Training Stats after 529 global rounds:\n",
      "INFO:gal: \n",
      "Avg Training Stats after 529 global rounds:\n",
      "03/07 02:06:20 PM | Training Loss : 2.3464433698654172\n",
      "INFO:gal:Training Loss : 2.3464433698654172\n",
      "03/07 02:06:21 PM | Train Accuracy: 30.28% \n",
      "\n",
      "INFO:gal:Train Accuracy: 30.28% \n",
      "\n",
      " 53%|██████████████████████████████████████                                  | 529/1000 [44:48:51<72:18:20, 552.65s/it]"
     ]
    },
    {
     "name": "stdout",
     "output_type": "stream",
     "text": [
      "\n",
      " | Global Training Round : 530 |\n",
      "\n"
     ]
    },
    {
     "name": "stderr",
     "output_type": "stream",
     "text": [
      "03/07 02:15:38 PM |  \n",
      "Avg Training Stats after 530 global rounds:\n",
      "INFO:gal: \n",
      "Avg Training Stats after 530 global rounds:\n",
      "03/07 02:15:38 PM | Training Loss : 2.270944920778275\n",
      "INFO:gal:Training Loss : 2.270944920778275\n",
      "03/07 02:15:38 PM | Train Accuracy: 31.02% \n",
      "\n",
      "INFO:gal:Train Accuracy: 31.02% \n",
      "\n",
      " 53%|██████████████████████████████████████▏                                 | 530/1000 [44:58:08<72:19:29, 553.98s/it]"
     ]
    },
    {
     "name": "stdout",
     "output_type": "stream",
     "text": [
      "\n",
      " | Global Training Round : 531 |\n",
      "\n"
     ]
    },
    {
     "name": "stderr",
     "output_type": "stream",
     "text": [
      "03/07 02:24:46 PM |  \n",
      "Avg Training Stats after 531 global rounds:\n",
      "INFO:gal: \n",
      "Avg Training Stats after 531 global rounds:\n",
      "03/07 02:24:47 PM | Training Loss : 2.3062984156608577\n",
      "INFO:gal:Training Loss : 2.3062984156608577\n",
      "03/07 02:24:47 PM | Train Accuracy: 31.16% \n",
      "\n",
      "INFO:gal:Train Accuracy: 31.16% \n",
      "\n",
      " 53%|██████████████████████████████████████▏                                 | 531/1000 [45:07:17<71:58:29, 552.47s/it]"
     ]
    },
    {
     "name": "stdout",
     "output_type": "stream",
     "text": [
      "\n",
      " | Global Training Round : 532 |\n",
      "\n"
     ]
    },
    {
     "name": "stderr",
     "output_type": "stream",
     "text": [
      "03/07 02:34:08 PM |  \n",
      "Avg Training Stats after 532 global rounds:\n",
      "INFO:gal: \n",
      "Avg Training Stats after 532 global rounds:\n",
      "03/07 02:34:08 PM | Training Loss : 2.229202801704406\n",
      "INFO:gal:Training Loss : 2.229202801704406\n",
      "03/07 02:34:08 PM | Train Accuracy: 30.08% \n",
      "\n",
      "INFO:gal:Train Accuracy: 30.08% \n",
      "\n",
      " 53%|██████████████████████████████████████▎                                 | 532/1000 [45:16:38<72:09:30, 555.07s/it]"
     ]
    },
    {
     "name": "stdout",
     "output_type": "stream",
     "text": [
      "\n",
      " | Global Training Round : 533 |\n",
      "\n"
     ]
    },
    {
     "name": "stderr",
     "output_type": "stream",
     "text": [
      "03/07 02:43:30 PM |  \n",
      "Avg Training Stats after 533 global rounds:\n",
      "INFO:gal: \n",
      "Avg Training Stats after 533 global rounds:\n",
      "03/07 02:43:30 PM | Training Loss : 2.250187750339508\n",
      "INFO:gal:Training Loss : 2.250187750339508\n",
      "03/07 02:43:30 PM | Train Accuracy: 32.50% \n",
      "\n",
      "INFO:gal:Train Accuracy: 32.50% \n",
      "\n",
      " 53%|██████████████████████████████████████▍                                 | 533/1000 [45:26:01<72:18:18, 557.38s/it]"
     ]
    },
    {
     "name": "stdout",
     "output_type": "stream",
     "text": [
      "\n",
      " | Global Training Round : 534 |\n",
      "\n"
     ]
    },
    {
     "name": "stderr",
     "output_type": "stream",
     "text": [
      "03/07 02:52:54 PM |  \n",
      "Avg Training Stats after 534 global rounds:\n",
      "INFO:gal: \n",
      "Avg Training Stats after 534 global rounds:\n",
      "03/07 02:52:54 PM | Training Loss : 2.2729609398841863\n",
      "INFO:gal:Training Loss : 2.2729609398841863\n",
      "03/07 02:52:54 PM | Train Accuracy: 28.75% \n",
      "\n",
      "INFO:gal:Train Accuracy: 28.75% \n",
      "\n",
      " 53%|██████████████████████████████████████▍                                 | 534/1000 [45:35:24<72:23:09, 559.21s/it]"
     ]
    },
    {
     "name": "stdout",
     "output_type": "stream",
     "text": [
      "\n",
      " | Global Training Round : 535 |\n",
      "\n"
     ]
    },
    {
     "name": "stderr",
     "output_type": "stream",
     "text": [
      "03/07 03:02:12 PM |  \n",
      "Avg Training Stats after 535 global rounds:\n",
      "INFO:gal: \n",
      "Avg Training Stats after 535 global rounds:\n",
      "03/07 03:02:12 PM | Training Loss : 2.351453194618225\n",
      "INFO:gal:Training Loss : 2.351453194618225\n",
      "03/07 03:02:12 PM | Train Accuracy: 32.92% \n",
      "\n",
      "INFO:gal:Train Accuracy: 32.92% \n",
      "\n",
      " 54%|██████████████████████████████████████▌                                 | 535/1000 [45:44:42<72:11:35, 558.91s/it]"
     ]
    },
    {
     "name": "stdout",
     "output_type": "stream",
     "text": [
      "\n",
      " | Global Training Round : 536 |\n",
      "\n"
     ]
    },
    {
     "name": "stderr",
     "output_type": "stream",
     "text": [
      "03/07 03:11:38 PM |  \n",
      "Avg Training Stats after 536 global rounds:\n",
      "INFO:gal: \n",
      "Avg Training Stats after 536 global rounds:\n",
      "03/07 03:11:38 PM | Training Loss : 2.273830711364746\n",
      "INFO:gal:Training Loss : 2.273830711364746\n",
      "03/07 03:11:38 PM | Train Accuracy: 29.14% \n",
      "\n",
      "INFO:gal:Train Accuracy: 29.14% \n",
      "\n",
      " 54%|██████████████████████████████████████▌                                 | 536/1000 [45:54:08<72:17:56, 560.94s/it]"
     ]
    },
    {
     "name": "stdout",
     "output_type": "stream",
     "text": [
      "\n",
      " | Global Training Round : 537 |\n",
      "\n"
     ]
    },
    {
     "name": "stderr",
     "output_type": "stream",
     "text": [
      "03/07 03:20:55 PM |  \n",
      "Avg Training Stats after 537 global rounds:\n",
      "INFO:gal: \n",
      "Avg Training Stats after 537 global rounds:\n",
      "03/07 03:20:55 PM | Training Loss : 2.3049824333190916\n",
      "INFO:gal:Training Loss : 2.3049824333190916\n",
      "03/07 03:20:55 PM | Train Accuracy: 31.42% \n",
      "\n",
      "INFO:gal:Train Accuracy: 31.42% \n",
      "\n",
      " 54%|██████████████████████████████████████▋                                 | 537/1000 [46:03:25<72:00:47, 559.93s/it]"
     ]
    },
    {
     "name": "stdout",
     "output_type": "stream",
     "text": [
      "\n",
      " | Global Training Round : 538 |\n",
      "\n"
     ]
    },
    {
     "name": "stderr",
     "output_type": "stream",
     "text": [
      "03/07 03:30:21 PM |  \n",
      "Avg Training Stats after 538 global rounds:\n",
      "INFO:gal: \n",
      "Avg Training Stats after 538 global rounds:\n",
      "03/07 03:30:21 PM | Training Loss : 2.324837603569031\n",
      "INFO:gal:Training Loss : 2.324837603569031\n",
      "03/07 03:30:21 PM | Train Accuracy: 30.99% \n",
      "\n",
      "INFO:gal:Train Accuracy: 30.99% \n",
      "\n",
      " 54%|██████████████████████████████████████▋                                 | 538/1000 [46:12:51<72:03:50, 561.54s/it]"
     ]
    },
    {
     "name": "stdout",
     "output_type": "stream",
     "text": [
      "\n",
      " | Global Training Round : 539 |\n",
      "\n"
     ]
    },
    {
     "name": "stderr",
     "output_type": "stream",
     "text": [
      "03/07 03:39:51 PM |  \n",
      "Avg Training Stats after 539 global rounds:\n",
      "INFO:gal: \n",
      "Avg Training Stats after 539 global rounds:\n",
      "03/07 03:39:51 PM | Training Loss : 2.237733256578446\n",
      "INFO:gal:Training Loss : 2.237733256578446\n",
      "03/07 03:39:51 PM | Train Accuracy: 31.17% \n",
      "\n",
      "INFO:gal:Train Accuracy: 31.17% \n",
      "\n",
      " 54%|██████████████████████████████████████▊                                 | 539/1000 [46:22:21<72:14:01, 564.08s/it]"
     ]
    },
    {
     "name": "stdout",
     "output_type": "stream",
     "text": [
      "\n",
      " | Global Training Round : 540 |\n",
      "\n"
     ]
    },
    {
     "name": "stderr",
     "output_type": "stream",
     "text": [
      "03/07 03:49:23 PM |  \n",
      "Avg Training Stats after 540 global rounds:\n",
      "INFO:gal: \n",
      "Avg Training Stats after 540 global rounds:\n",
      "03/07 03:49:23 PM | Training Loss : 2.283562165498733\n",
      "INFO:gal:Training Loss : 2.283562165498733\n",
      "03/07 03:49:23 PM | Train Accuracy: 28.61% \n",
      "\n",
      "INFO:gal:Train Accuracy: 28.61% \n",
      "\n",
      " 54%|██████████████████████████████████████▉                                 | 540/1000 [46:31:53<72:23:38, 566.56s/it]"
     ]
    },
    {
     "name": "stdout",
     "output_type": "stream",
     "text": [
      "\n",
      " | Global Training Round : 541 |\n",
      "\n"
     ]
    },
    {
     "name": "stderr",
     "output_type": "stream",
     "text": [
      "03/07 03:58:53 PM |  \n",
      "Avg Training Stats after 541 global rounds:\n",
      "INFO:gal: \n",
      "Avg Training Stats after 541 global rounds:\n",
      "03/07 03:58:53 PM | Training Loss : 2.2629993741512293\n",
      "INFO:gal:Training Loss : 2.2629993741512293\n",
      "03/07 03:58:53 PM | Train Accuracy: 30.69% \n",
      "\n",
      "INFO:gal:Train Accuracy: 30.69% \n",
      "\n",
      " 54%|██████████████████████████████████████▉                                 | 541/1000 [46:41:23<72:22:17, 567.62s/it]"
     ]
    },
    {
     "name": "stdout",
     "output_type": "stream",
     "text": [
      "\n",
      " | Global Training Round : 542 |\n",
      "\n"
     ]
    },
    {
     "name": "stderr",
     "output_type": "stream",
     "text": [
      "03/07 04:08:32 PM |  \n",
      "Avg Training Stats after 542 global rounds:\n",
      "INFO:gal: \n",
      "Avg Training Stats after 542 global rounds:\n",
      "03/07 04:08:32 PM | Training Loss : 2.299444290161133\n",
      "INFO:gal:Training Loss : 2.299444290161133\n",
      "03/07 04:08:32 PM | Train Accuracy: 31.42% \n",
      "\n",
      "INFO:gal:Train Accuracy: 31.42% \n",
      "\n",
      " 54%|███████████████████████████████████████                                 | 542/1000 [46:51:02<72:37:57, 570.91s/it]"
     ]
    },
    {
     "name": "stdout",
     "output_type": "stream",
     "text": [
      "\n",
      " | Global Training Round : 543 |\n",
      "\n"
     ]
    },
    {
     "name": "stderr",
     "output_type": "stream",
     "text": [
      "03/07 04:18:07 PM |  \n",
      "Avg Training Stats after 543 global rounds:\n",
      "INFO:gal: \n",
      "Avg Training Stats after 543 global rounds:\n",
      "03/07 04:18:07 PM | Training Loss : 2.2240175225734715\n",
      "INFO:gal:Training Loss : 2.2240175225734715\n",
      "03/07 04:18:08 PM | Train Accuracy: 32.31% \n",
      "\n",
      "INFO:gal:Train Accuracy: 32.31% \n",
      "\n",
      " 54%|███████████████████████████████████████                                 | 543/1000 [47:00:38<72:39:36, 572.38s/it]"
     ]
    },
    {
     "name": "stdout",
     "output_type": "stream",
     "text": [
      "\n",
      " | Global Training Round : 544 |\n",
      "\n"
     ]
    },
    {
     "name": "stderr",
     "output_type": "stream",
     "text": [
      "03/07 04:27:35 PM |  \n",
      "Avg Training Stats after 544 global rounds:\n",
      "INFO:gal: \n",
      "Avg Training Stats after 544 global rounds:\n",
      "03/07 04:27:35 PM | Training Loss : 2.255230942726136\n",
      "INFO:gal:Training Loss : 2.255230942726136\n",
      "03/07 04:27:35 PM | Train Accuracy: 32.22% \n",
      "\n",
      "INFO:gal:Train Accuracy: 32.22% \n",
      "\n",
      " 54%|███████████████████████████████████████▏                                | 544/1000 [47:10:05<72:19:15, 570.95s/it]"
     ]
    },
    {
     "name": "stdout",
     "output_type": "stream",
     "text": [
      "\n",
      " | Global Training Round : 545 |\n",
      "\n"
     ]
    },
    {
     "name": "stderr",
     "output_type": "stream",
     "text": [
      "03/07 04:37:15 PM |  \n",
      "Avg Training Stats after 545 global rounds:\n",
      "INFO:gal: \n",
      "Avg Training Stats after 545 global rounds:\n",
      "03/07 04:37:15 PM | Training Loss : 2.231577743768692\n",
      "INFO:gal:Training Loss : 2.231577743768692\n",
      "03/07 04:37:15 PM | Train Accuracy: 30.33% \n",
      "\n",
      "INFO:gal:Train Accuracy: 30.33% \n",
      "\n",
      " 55%|███████████████████████████████████████▏                                | 545/1000 [47:19:45<72:29:24, 573.55s/it]"
     ]
    },
    {
     "name": "stdout",
     "output_type": "stream",
     "text": [
      "\n",
      " | Global Training Round : 546 |\n",
      "\n"
     ]
    },
    {
     "name": "stderr",
     "output_type": "stream",
     "text": [
      "03/07 04:46:55 PM |  \n",
      "Avg Training Stats after 546 global rounds:\n",
      "INFO:gal: \n",
      "Avg Training Stats after 546 global rounds:\n",
      "03/07 04:46:55 PM | Training Loss : 2.173066293478012\n",
      "INFO:gal:Training Loss : 2.173066293478012\n",
      "03/07 04:46:55 PM | Train Accuracy: 31.05% \n",
      "\n",
      "INFO:gal:Train Accuracy: 31.05% \n",
      "\n",
      " 55%|███████████████████████████████████████▎                                | 546/1000 [47:29:25<72:34:46, 575.52s/it]"
     ]
    },
    {
     "name": "stdout",
     "output_type": "stream",
     "text": [
      "\n",
      " | Global Training Round : 547 |\n",
      "\n"
     ]
    },
    {
     "name": "stderr",
     "output_type": "stream",
     "text": [
      "03/07 04:56:31 PM |  \n",
      "Avg Training Stats after 547 global rounds:\n",
      "INFO:gal: \n",
      "Avg Training Stats after 547 global rounds:\n",
      "03/07 04:56:31 PM | Training Loss : 2.248712941646575\n",
      "INFO:gal:Training Loss : 2.248712941646575\n",
      "03/07 04:56:31 PM | Train Accuracy: 30.77% \n",
      "\n",
      "INFO:gal:Train Accuracy: 30.77% \n",
      "\n",
      " 55%|███████████████████████████████████████▍                                | 547/1000 [47:39:01<72:26:21, 575.68s/it]"
     ]
    },
    {
     "name": "stdout",
     "output_type": "stream",
     "text": [
      "\n",
      " | Global Training Round : 548 |\n",
      "\n"
     ]
    },
    {
     "name": "stderr",
     "output_type": "stream",
     "text": [
      "03/07 05:06:06 PM |  \n",
      "Avg Training Stats after 548 global rounds:\n",
      "INFO:gal: \n",
      "Avg Training Stats after 548 global rounds:\n",
      "03/07 05:06:07 PM | Training Loss : 2.2570679186582563\n",
      "INFO:gal:Training Loss : 2.2570679186582563\n",
      "03/07 05:06:07 PM | Train Accuracy: 31.15% \n",
      "\n",
      "INFO:gal:Train Accuracy: 31.15% \n",
      "\n",
      " 55%|███████████████████████████████████████▍                                | 548/1000 [47:48:37<72:16:40, 575.67s/it]"
     ]
    },
    {
     "name": "stdout",
     "output_type": "stream",
     "text": [
      "\n",
      " | Global Training Round : 549 |\n",
      "\n"
     ]
    },
    {
     "name": "stderr",
     "output_type": "stream",
     "text": [
      "03/07 05:15:45 PM |  \n",
      "Avg Training Stats after 549 global rounds:\n",
      "INFO:gal: \n",
      "Avg Training Stats after 549 global rounds:\n",
      "03/07 05:15:45 PM | Training Loss : 2.1436337881088257\n",
      "INFO:gal:Training Loss : 2.1436337881088257\n",
      "03/07 05:15:45 PM | Train Accuracy: 30.54% \n",
      "\n",
      "INFO:gal:Train Accuracy: 30.54% \n",
      "\n",
      " 55%|███████████████████████████████████████▌                                | 549/1000 [47:58:15<72:13:11, 576.48s/it]"
     ]
    },
    {
     "name": "stdout",
     "output_type": "stream",
     "text": [
      "\n",
      " | Global Training Round : 550 |\n",
      "\n"
     ]
    },
    {
     "name": "stderr",
     "output_type": "stream",
     "text": [
      "03/07 05:25:37 PM |  \n",
      "Avg Training Stats after 550 global rounds:\n",
      "INFO:gal: \n",
      "Avg Training Stats after 550 global rounds:\n",
      "03/07 05:25:37 PM | Training Loss : 2.2683400521278387\n",
      "INFO:gal:Training Loss : 2.2683400521278387\n",
      "03/07 05:25:37 PM | Train Accuracy: 31.04% \n",
      "\n",
      "INFO:gal:Train Accuracy: 31.04% \n",
      "\n",
      " 55%|███████████████████████████████████████▌                                | 550/1000 [48:08:07<72:38:31, 581.14s/it]"
     ]
    },
    {
     "name": "stdout",
     "output_type": "stream",
     "text": [
      "\n",
      " | Global Training Round : 551 |\n",
      "\n"
     ]
    },
    {
     "name": "stderr",
     "output_type": "stream",
     "text": [
      "03/07 05:35:17 PM |  \n",
      "Avg Training Stats after 551 global rounds:\n",
      "INFO:gal: \n",
      "Avg Training Stats after 551 global rounds:\n",
      "03/07 05:35:17 PM | Training Loss : 2.266195270061493\n",
      "INFO:gal:Training Loss : 2.266195270061493\n",
      "03/07 05:35:17 PM | Train Accuracy: 30.81% \n",
      "\n",
      "INFO:gal:Train Accuracy: 30.81% \n",
      "\n",
      " 55%|███████████████████████████████████████▋                                | 551/1000 [48:17:47<72:27:03, 580.90s/it]"
     ]
    },
    {
     "name": "stdout",
     "output_type": "stream",
     "text": [
      "\n",
      " | Global Training Round : 552 |\n",
      "\n"
     ]
    },
    {
     "name": "stderr",
     "output_type": "stream",
     "text": [
      "03/07 05:45:00 PM |  \n",
      "Avg Training Stats after 552 global rounds:\n",
      "INFO:gal: \n",
      "Avg Training Stats after 552 global rounds:\n",
      "03/07 05:45:00 PM | Training Loss : 2.2750652930736535\n",
      "INFO:gal:Training Loss : 2.2750652930736535\n",
      "03/07 05:45:01 PM | Train Accuracy: 30.72% \n",
      "\n",
      "INFO:gal:Train Accuracy: 30.72% \n",
      "\n",
      " 55%|███████████████████████████████████████▋                                | 552/1000 [48:27:31<72:22:28, 581.58s/it]"
     ]
    },
    {
     "name": "stdout",
     "output_type": "stream",
     "text": [
      "\n",
      " | Global Training Round : 553 |\n",
      "\n"
     ]
    },
    {
     "name": "stderr",
     "output_type": "stream",
     "text": [
      "03/07 05:54:54 PM |  \n",
      "Avg Training Stats after 553 global rounds:\n",
      "INFO:gal: \n",
      "Avg Training Stats after 553 global rounds:\n",
      "03/07 05:54:54 PM | Training Loss : 2.322030215024948\n",
      "INFO:gal:Training Loss : 2.322030215024948\n",
      "03/07 05:54:54 PM | Train Accuracy: 30.62% \n",
      "\n",
      "INFO:gal:Train Accuracy: 30.62% \n",
      "\n",
      " 55%|███████████████████████████████████████▊                                | 553/1000 [48:37:24<72:39:53, 585.22s/it]"
     ]
    },
    {
     "name": "stdout",
     "output_type": "stream",
     "text": [
      "\n",
      " | Global Training Round : 554 |\n",
      "\n"
     ]
    },
    {
     "name": "stderr",
     "output_type": "stream",
     "text": [
      "03/07 06:04:37 PM |  \n",
      "Avg Training Stats after 554 global rounds:\n",
      "INFO:gal: \n",
      "Avg Training Stats after 554 global rounds:\n",
      "03/07 06:04:37 PM | Training Loss : 2.356297575950623\n",
      "INFO:gal:Training Loss : 2.356297575950623\n",
      "03/07 06:04:37 PM | Train Accuracy: 31.21% \n",
      "\n",
      "INFO:gal:Train Accuracy: 31.21% \n",
      "\n",
      " 55%|███████████████████████████████████████▉                                | 554/1000 [48:47:07<72:24:52, 584.51s/it]"
     ]
    },
    {
     "name": "stdout",
     "output_type": "stream",
     "text": [
      "\n",
      " | Global Training Round : 555 |\n",
      "\n"
     ]
    },
    {
     "name": "stderr",
     "output_type": "stream",
     "text": [
      "03/07 06:14:31 PM |  \n",
      "Avg Training Stats after 555 global rounds:\n",
      "INFO:gal: \n",
      "Avg Training Stats after 555 global rounds:\n",
      "03/07 06:14:31 PM | Training Loss : 2.225783394813538\n",
      "INFO:gal:Training Loss : 2.225783394813538\n",
      "03/07 06:14:31 PM | Train Accuracy: 31.94% \n",
      "\n",
      "INFO:gal:Train Accuracy: 31.94% \n",
      "\n",
      " 56%|███████████████████████████████████████▉                                | 555/1000 [48:57:01<72:35:39, 587.28s/it]"
     ]
    },
    {
     "name": "stdout",
     "output_type": "stream",
     "text": [
      "\n",
      " | Global Training Round : 556 |\n",
      "\n"
     ]
    },
    {
     "name": "stderr",
     "output_type": "stream",
     "text": [
      "03/07 06:24:13 PM |  \n",
      "Avg Training Stats after 556 global rounds:\n",
      "INFO:gal: \n",
      "Avg Training Stats after 556 global rounds:\n",
      "03/07 06:24:13 PM | Training Loss : 2.2459650387763976\n",
      "INFO:gal:Training Loss : 2.2459650387763976\n",
      "03/07 06:24:13 PM | Train Accuracy: 30.31% \n",
      "\n",
      "INFO:gal:Train Accuracy: 30.31% \n",
      "\n",
      " 56%|████████████████████████████████████████                                | 556/1000 [49:06:43<72:15:24, 585.87s/it]"
     ]
    },
    {
     "name": "stdout",
     "output_type": "stream",
     "text": [
      "\n",
      " | Global Training Round : 557 |\n",
      "\n"
     ]
    },
    {
     "name": "stderr",
     "output_type": "stream",
     "text": [
      "03/07 06:34:02 PM |  \n",
      "Avg Training Stats after 557 global rounds:\n",
      "INFO:gal: \n",
      "Avg Training Stats after 557 global rounds:\n",
      "03/07 06:34:02 PM | Training Loss : 2.263314856529236\n",
      "INFO:gal:Training Loss : 2.263314856529236\n",
      "03/07 06:34:02 PM | Train Accuracy: 31.50% \n",
      "\n",
      "INFO:gal:Train Accuracy: 31.50% \n",
      "\n",
      " 56%|████████████████████████████████████████                                | 557/1000 [49:16:32<72:10:57, 586.59s/it]"
     ]
    },
    {
     "name": "stdout",
     "output_type": "stream",
     "text": [
      "\n",
      " | Global Training Round : 558 |\n",
      "\n"
     ]
    },
    {
     "name": "stderr",
     "output_type": "stream",
     "text": [
      "03/07 06:43:51 PM |  \n",
      "Avg Training Stats after 558 global rounds:\n",
      "INFO:gal: \n",
      "Avg Training Stats after 558 global rounds:\n",
      "03/07 06:43:51 PM | Training Loss : 2.2816970162391668\n",
      "INFO:gal:Training Loss : 2.2816970162391668\n",
      "03/07 06:43:52 PM | Train Accuracy: 31.62% \n",
      "\n",
      "INFO:gal:Train Accuracy: 31.62% \n",
      "\n",
      " 56%|████████████████████████████████████████▏                               | 558/1000 [49:26:22<72:08:25, 587.57s/it]"
     ]
    },
    {
     "name": "stdout",
     "output_type": "stream",
     "text": [
      "\n",
      " | Global Training Round : 559 |\n",
      "\n"
     ]
    },
    {
     "name": "stderr",
     "output_type": "stream",
     "text": [
      "03/07 06:54:09 PM |  \n",
      "Avg Training Stats after 559 global rounds:\n",
      "INFO:gal: \n",
      "Avg Training Stats after 559 global rounds:\n",
      "03/07 06:54:09 PM | Training Loss : 2.2329296801090246\n",
      "INFO:gal:Training Loss : 2.2329296801090246\n",
      "03/07 06:54:09 PM | Train Accuracy: 33.30% \n",
      "\n",
      "INFO:gal:Train Accuracy: 33.30% \n",
      "\n",
      " 56%|████████████████████████████████████████▏                               | 559/1000 [49:36:39<73:03:54, 596.45s/it]"
     ]
    },
    {
     "name": "stdout",
     "output_type": "stream",
     "text": [
      "\n",
      " | Global Training Round : 560 |\n",
      "\n"
     ]
    },
    {
     "name": "stderr",
     "output_type": "stream",
     "text": [
      "03/07 07:06:53 PM |  \n",
      "Avg Training Stats after 560 global rounds:\n",
      "INFO:gal: \n",
      "Avg Training Stats after 560 global rounds:\n",
      "03/07 07:06:53 PM | Training Loss : 2.2147067651748653\n",
      "INFO:gal:Training Loss : 2.2147067651748653\n",
      "03/07 07:06:53 PM | Train Accuracy: 31.01% \n",
      "\n",
      "INFO:gal:Train Accuracy: 31.01% \n",
      "\n",
      " 56%|████████████████████████████████████████▎                               | 560/1000 [49:49:23<79:04:14, 646.94s/it]"
     ]
    },
    {
     "name": "stdout",
     "output_type": "stream",
     "text": [
      "\n",
      " | Global Training Round : 561 |\n",
      "\n"
     ]
    },
    {
     "name": "stderr",
     "output_type": "stream",
     "text": [
      "03/07 07:17:57 PM |  \n",
      "Avg Training Stats after 561 global rounds:\n",
      "INFO:gal: \n",
      "Avg Training Stats after 561 global rounds:\n",
      "03/07 07:17:57 PM | Training Loss : 2.2167338778972625\n",
      "INFO:gal:Training Loss : 2.2167338778972625\n",
      "03/07 07:17:57 PM | Train Accuracy: 31.47% \n",
      "\n",
      "INFO:gal:Train Accuracy: 31.47% \n",
      "\n",
      " 56%|████████████████████████████████████████▍                               | 561/1000 [50:00:27<79:29:39, 651.89s/it]"
     ]
    },
    {
     "name": "stdout",
     "output_type": "stream",
     "text": [
      "\n",
      " | Global Training Round : 562 |\n",
      "\n"
     ]
    },
    {
     "name": "stderr",
     "output_type": "stream",
     "text": [
      "03/07 07:29:00 PM |  \n",
      "Avg Training Stats after 562 global rounds:\n",
      "INFO:gal: \n",
      "Avg Training Stats after 562 global rounds:\n",
      "03/07 07:29:00 PM | Training Loss : 2.2140712895393366\n",
      "INFO:gal:Training Loss : 2.2140712895393366\n",
      "03/07 07:29:00 PM | Train Accuracy: 28.76% \n",
      "\n",
      "INFO:gal:Train Accuracy: 28.76% \n",
      "\n",
      " 56%|████████████████████████████████████████▍                               | 562/1000 [50:11:30<79:44:07, 655.36s/it]"
     ]
    },
    {
     "name": "stdout",
     "output_type": "stream",
     "text": [
      "\n",
      " | Global Training Round : 563 |\n",
      "\n"
     ]
    },
    {
     "name": "stderr",
     "output_type": "stream",
     "text": [
      "03/07 07:40:54 PM |  \n",
      "Avg Training Stats after 563 global rounds:\n",
      "INFO:gal: \n",
      "Avg Training Stats after 563 global rounds:\n",
      "03/07 07:40:54 PM | Training Loss : 2.320630351066589\n",
      "INFO:gal:Training Loss : 2.320630351066589\n",
      "03/07 07:40:54 PM | Train Accuracy: 31.50% \n",
      "\n",
      "INFO:gal:Train Accuracy: 31.50% \n",
      "\n",
      " 56%|████████████████████████████████████████▌                               | 563/1000 [50:23:24<81:41:00, 672.91s/it]"
     ]
    },
    {
     "name": "stdout",
     "output_type": "stream",
     "text": [
      "\n",
      " | Global Training Round : 564 |\n",
      "\n"
     ]
    },
    {
     "name": "stderr",
     "output_type": "stream",
     "text": [
      "03/07 07:53:38 PM |  \n",
      "Avg Training Stats after 564 global rounds:\n",
      "INFO:gal: \n",
      "Avg Training Stats after 564 global rounds:\n",
      "03/07 07:53:38 PM | Training Loss : 2.3186497163772586\n",
      "INFO:gal:Training Loss : 2.3186497163772586\n",
      "03/07 07:53:38 PM | Train Accuracy: 31.37% \n",
      "\n",
      "INFO:gal:Train Accuracy: 31.37% \n",
      "\n",
      " 56%|████████████████████████████████████████▌                               | 564/1000 [50:36:09<84:49:05, 700.33s/it]"
     ]
    },
    {
     "name": "stdout",
     "output_type": "stream",
     "text": [
      "\n",
      " | Global Training Round : 565 |\n",
      "\n"
     ]
    },
    {
     "name": "stderr",
     "output_type": "stream",
     "text": [
      "03/07 08:04:43 PM |  \n",
      "Avg Training Stats after 565 global rounds:\n",
      "INFO:gal: \n",
      "Avg Training Stats after 565 global rounds:\n",
      "03/07 08:04:43 PM | Training Loss : 2.2096846041679385\n",
      "INFO:gal:Training Loss : 2.2096846041679385\n",
      "03/07 08:04:43 PM | Train Accuracy: 30.10% \n",
      "\n",
      "INFO:gal:Train Accuracy: 30.10% \n",
      "\n",
      " 56%|████████████████████████████████████████▋                               | 565/1000 [50:47:13<83:19:26, 689.58s/it]"
     ]
    },
    {
     "name": "stdout",
     "output_type": "stream",
     "text": [
      "\n",
      " | Global Training Round : 566 |\n",
      "\n"
     ]
    },
    {
     "name": "stderr",
     "output_type": "stream",
     "text": [
      "03/07 08:16:35 PM |  \n",
      "Avg Training Stats after 566 global rounds:\n",
      "INFO:gal: \n",
      "Avg Training Stats after 566 global rounds:\n",
      "03/07 08:16:35 PM | Training Loss : 2.316972214221954\n",
      "INFO:gal:Training Loss : 2.316972214221954\n",
      "03/07 08:16:35 PM | Train Accuracy: 29.17% \n",
      "\n",
      "INFO:gal:Train Accuracy: 29.17% \n",
      "\n",
      " 57%|████████████████████████████████████████▊                               | 566/1000 [50:59:05<83:57:32, 696.43s/it]"
     ]
    },
    {
     "name": "stdout",
     "output_type": "stream",
     "text": [
      "\n",
      " | Global Training Round : 567 |\n",
      "\n"
     ]
    },
    {
     "name": "stderr",
     "output_type": "stream",
     "text": [
      "03/07 08:28:58 PM |  \n",
      "Avg Training Stats after 567 global rounds:\n",
      "INFO:gal: \n",
      "Avg Training Stats after 567 global rounds:\n",
      "03/07 08:28:58 PM | Training Loss : 2.309002773761749\n",
      "INFO:gal:Training Loss : 2.309002773761749\n",
      "03/07 08:28:58 PM | Train Accuracy: 31.17% \n",
      "\n",
      "INFO:gal:Train Accuracy: 31.17% \n",
      "\n",
      " 57%|████████████████████████████████████████▊                               | 567/1000 [51:11:28<85:26:38, 710.39s/it]"
     ]
    },
    {
     "name": "stdout",
     "output_type": "stream",
     "text": [
      "\n",
      " | Global Training Round : 568 |\n",
      "\n"
     ]
    },
    {
     "name": "stderr",
     "output_type": "stream",
     "text": [
      "03/07 08:42:24 PM |  \n",
      "Avg Training Stats after 568 global rounds:\n",
      "INFO:gal: \n",
      "Avg Training Stats after 568 global rounds:\n",
      "03/07 08:42:24 PM | Training Loss : 2.2768953571319575\n",
      "INFO:gal:Training Loss : 2.2768953571319575\n",
      "03/07 08:42:24 PM | Train Accuracy: 29.35% \n",
      "\n",
      "INFO:gal:Train Accuracy: 29.35% \n",
      "\n",
      " 57%|████████████████████████████████████████▉                               | 568/1000 [51:24:54<88:40:19, 738.93s/it]"
     ]
    },
    {
     "name": "stdout",
     "output_type": "stream",
     "text": [
      "\n",
      " | Global Training Round : 569 |\n",
      "\n"
     ]
    },
    {
     "name": "stderr",
     "output_type": "stream",
     "text": [
      "03/07 08:54:48 PM |  \n",
      "Avg Training Stats after 569 global rounds:\n",
      "INFO:gal: \n",
      "Avg Training Stats after 569 global rounds:\n",
      "03/07 08:54:48 PM | Training Loss : 2.35318550992012\n",
      "INFO:gal:Training Loss : 2.35318550992012\n",
      "03/07 08:54:48 PM | Train Accuracy: 30.71% \n",
      "\n",
      "INFO:gal:Train Accuracy: 30.71% \n",
      "\n",
      " 57%|████████████████████████████████████████▉                               | 569/1000 [51:37:18<88:38:58, 740.46s/it]"
     ]
    },
    {
     "name": "stdout",
     "output_type": "stream",
     "text": [
      "\n",
      " | Global Training Round : 570 |\n",
      "\n"
     ]
    },
    {
     "name": "stderr",
     "output_type": "stream",
     "text": [
      " 57%|████████████████████████████████████████▉                               | 569/1000 [51:44:59<39:11:56, 327.42s/it]\n"
     ]
    },
    {
     "ename": "KeyboardInterrupt",
     "evalue": "",
     "output_type": "error",
     "traceback": [
      "\u001b[1;31m---------------------------------------------------------------------------\u001b[0m",
      "\u001b[1;31mKeyboardInterrupt\u001b[0m                         Traceback (most recent call last)",
      "\u001b[1;32m<ipython-input-2-6094a4ab58a9>\u001b[0m in \u001b[0;36m<module>\u001b[1;34m\u001b[0m\n\u001b[0;32m     26\u001b[0m })\n\u001b[0;32m     27\u001b[0m \u001b[1;33m\u001b[0m\u001b[0m\n\u001b[1;32m---> 28\u001b[1;33m \u001b[0mtrain_loss\u001b[0m\u001b[1;33m,\u001b[0m \u001b[0mval_acc_list\u001b[0m\u001b[1;33m,\u001b[0m \u001b[0mbatch_loss_list\u001b[0m\u001b[1;33m,\u001b[0m \u001b[0mconv_grad_list\u001b[0m\u001b[1;33m,\u001b[0m \u001b[0mfc_grad_list\u001b[0m\u001b[1;33m,\u001b[0m \u001b[0mtotal_grad_list\u001b[0m\u001b[1;33m=\u001b[0m \u001b[0mmain_test\u001b[0m\u001b[1;33m(\u001b[0m\u001b[0margs\u001b[0m\u001b[1;33m)\u001b[0m\u001b[1;33m\u001b[0m\u001b[1;33m\u001b[0m\u001b[0m\n\u001b[0m",
      "\u001b[1;32m~\\PycharmProjects\\Federated-Learning-PyTorch\\src\\test.py\u001b[0m in \u001b[0;36mmain_test\u001b[1;34m(args)\u001b[0m\n\u001b[0;32m    153\u001b[0m             \u001b[0mclient_models\u001b[0m\u001b[1;33m[\u001b[0m\u001b[0midx\u001b[0m\u001b[1;33m]\u001b[0m\u001b[1;33m.\u001b[0m\u001b[0mtrain\u001b[0m\u001b[1;33m(\u001b[0m\u001b[1;33m)\u001b[0m\u001b[1;33m\u001b[0m\u001b[1;33m\u001b[0m\u001b[0m\n\u001b[0;32m    154\u001b[0m             \u001b[0mlocal_model\u001b[0m \u001b[1;33m=\u001b[0m \u001b[0mLocalUpdate\u001b[0m\u001b[1;33m(\u001b[0m\u001b[0margs\u001b[0m\u001b[1;33m=\u001b[0m\u001b[0margs\u001b[0m\u001b[1;33m,\u001b[0m \u001b[0mlogger\u001b[0m\u001b[1;33m=\u001b[0m\u001b[0mlogger\u001b[0m\u001b[1;33m,\u001b[0m \u001b[0mtrain_loader\u001b[0m\u001b[1;33m=\u001b[0m\u001b[0mclient_loader_dict\u001b[0m\u001b[1;33m[\u001b[0m\u001b[0midx\u001b[0m\u001b[1;33m]\u001b[0m\u001b[1;33m)\u001b[0m\u001b[1;33m\u001b[0m\u001b[1;33m\u001b[0m\u001b[0m\n\u001b[1;32m--> 155\u001b[1;33m             w, loss, batch_loss, conv_grad, fc_grad, total_gard_norm = local_model.update_weights(\n\u001b[0m\u001b[0;32m    156\u001b[0m                 model=client_models[idx], global_round=epoch, idx_user=idx)\n\u001b[0;32m    157\u001b[0m             \u001b[0mlocal_weights\u001b[0m\u001b[1;33m.\u001b[0m\u001b[0mappend\u001b[0m\u001b[1;33m(\u001b[0m\u001b[0mcopy\u001b[0m\u001b[1;33m.\u001b[0m\u001b[0mdeepcopy\u001b[0m\u001b[1;33m(\u001b[0m\u001b[0mw\u001b[0m\u001b[1;33m)\u001b[0m\u001b[1;33m)\u001b[0m\u001b[1;33m\u001b[0m\u001b[1;33m\u001b[0m\u001b[0m\n",
      "\u001b[1;32m~\\PycharmProjects\\Federated-Learning-PyTorch\\src\\update.py\u001b[0m in \u001b[0;36mupdate_weights\u001b[1;34m(self, model, global_round, idx_user)\u001b[0m\n\u001b[0;32m     78\u001b[0m \u001b[1;33m\u001b[0m\u001b[0m\n\u001b[0;32m     79\u001b[0m                 \u001b[0mloss\u001b[0m\u001b[1;33m.\u001b[0m\u001b[0mbackward\u001b[0m\u001b[1;33m(\u001b[0m\u001b[1;33m)\u001b[0m\u001b[1;33m\u001b[0m\u001b[1;33m\u001b[0m\u001b[0m\n\u001b[1;32m---> 80\u001b[1;33m \u001b[1;33m\u001b[0m\u001b[0m\n\u001b[0m\u001b[0;32m     81\u001b[0m                 \u001b[1;31m# gradient 확인용 - how does BN\u001b[0m\u001b[1;33m\u001b[0m\u001b[1;33m\u001b[0m\u001b[1;33m\u001b[0m\u001b[0m\n\u001b[0;32m     82\u001b[0m                 \"\"\"\n",
      "\u001b[1;32mc:\\users\\seongwoong kim\\.conda\\envs\\pytorch_37\\lib\\site-packages\\torch\\tensor.py\u001b[0m in \u001b[0;36mbackward\u001b[1;34m(self, gradient, retain_graph, create_graph)\u001b[0m\n\u001b[0;32m    219\u001b[0m                 \u001b[0mretain_graph\u001b[0m\u001b[1;33m=\u001b[0m\u001b[0mretain_graph\u001b[0m\u001b[1;33m,\u001b[0m\u001b[1;33m\u001b[0m\u001b[1;33m\u001b[0m\u001b[0m\n\u001b[0;32m    220\u001b[0m                 create_graph=create_graph)\n\u001b[1;32m--> 221\u001b[1;33m         \u001b[0mtorch\u001b[0m\u001b[1;33m.\u001b[0m\u001b[0mautograd\u001b[0m\u001b[1;33m.\u001b[0m\u001b[0mbackward\u001b[0m\u001b[1;33m(\u001b[0m\u001b[0mself\u001b[0m\u001b[1;33m,\u001b[0m \u001b[0mgradient\u001b[0m\u001b[1;33m,\u001b[0m \u001b[0mretain_graph\u001b[0m\u001b[1;33m,\u001b[0m \u001b[0mcreate_graph\u001b[0m\u001b[1;33m)\u001b[0m\u001b[1;33m\u001b[0m\u001b[1;33m\u001b[0m\u001b[0m\n\u001b[0m\u001b[0;32m    222\u001b[0m \u001b[1;33m\u001b[0m\u001b[0m\n\u001b[0;32m    223\u001b[0m     \u001b[1;32mdef\u001b[0m \u001b[0mregister_hook\u001b[0m\u001b[1;33m(\u001b[0m\u001b[0mself\u001b[0m\u001b[1;33m,\u001b[0m \u001b[0mhook\u001b[0m\u001b[1;33m)\u001b[0m\u001b[1;33m:\u001b[0m\u001b[1;33m\u001b[0m\u001b[1;33m\u001b[0m\u001b[0m\n",
      "\u001b[1;32mc:\\users\\seongwoong kim\\.conda\\envs\\pytorch_37\\lib\\site-packages\\torch\\autograd\\__init__.py\u001b[0m in \u001b[0;36mbackward\u001b[1;34m(tensors, grad_tensors, retain_graph, create_graph, grad_variables)\u001b[0m\n\u001b[0;32m    130\u001b[0m     Variable._execution_engine.run_backward(\n\u001b[0;32m    131\u001b[0m         \u001b[0mtensors\u001b[0m\u001b[1;33m,\u001b[0m \u001b[0mgrad_tensors_\u001b[0m\u001b[1;33m,\u001b[0m \u001b[0mretain_graph\u001b[0m\u001b[1;33m,\u001b[0m \u001b[0mcreate_graph\u001b[0m\u001b[1;33m,\u001b[0m\u001b[1;33m\u001b[0m\u001b[1;33m\u001b[0m\u001b[0m\n\u001b[1;32m--> 132\u001b[1;33m         allow_unreachable=True)  # allow_unreachable flag\n\u001b[0m\u001b[0;32m    133\u001b[0m \u001b[1;33m\u001b[0m\u001b[0m\n\u001b[0;32m    134\u001b[0m \u001b[1;33m\u001b[0m\u001b[0m\n",
      "\u001b[1;31mKeyboardInterrupt\u001b[0m: "
     ]
    }
   ],
   "source": [
    "args = easydict.EasyDict({\n",
    "    \"model\": 'resnet18_ws',\n",
    "    'dataset': 'cifar100',\n",
    "    'gpu': 0,\n",
    "    'iid': 2,\n",
    "    'epochs': 1000,\n",
    "    'optimizer': 'clip',\n",
    "    'seed': 0,\n",
    "    'norm': 'group_norm',\n",
    "    'num_users': 500,\n",
    "    'frac': 0.1,\n",
    "    'local_ep': 1,\n",
    "    'local_bs': 20,\n",
    "    'lr': 1,\n",
    "    'momentum': 0.9,\n",
    "    'kernel_num': 9,\n",
    "    'kernel_sizes': '3,4,5',\n",
    "    'num_channnels': '1',\n",
    "    'num_filters': 32,\n",
    "    'max_pool': 'True',\n",
    "    'num_classes': 100,\n",
    "    'unequal': 0,\n",
    "    'stopping_rounds': 10,\n",
    "    'verbose': 0,\n",
    "    'hold_normalize':0\n",
    "})\n",
    "\n",
    "train_loss, val_acc_list, batch_loss_list, conv_grad_list, fc_grad_list, total_grad_list= main_test(args)"
   ]
  }
 ],
 "metadata": {
  "kernelspec": {
   "display_name": "Python 3",
   "language": "python",
   "name": "python3"
  },
  "language_info": {
   "codemirror_mode": {
    "name": "ipython",
    "version": 3
   },
   "file_extension": ".py",
   "mimetype": "text/x-python",
   "name": "python",
   "nbconvert_exporter": "python",
   "pygments_lexer": "ipython3",
   "version": "3.7.9"
  }
 },
 "nbformat": 4,
 "nbformat_minor": 5
}
